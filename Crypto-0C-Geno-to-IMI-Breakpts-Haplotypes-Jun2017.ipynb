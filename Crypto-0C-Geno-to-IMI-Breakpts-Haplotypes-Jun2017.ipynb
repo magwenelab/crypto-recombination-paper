{
 "cells": [
  {
   "cell_type": "markdown",
   "metadata": {},
   "source": [
    "# From Genotype data to IMI, Breakpts, and Haplotypes"
   ]
  },
  {
   "cell_type": "markdown",
   "metadata": {},
   "source": [
    "###### From Genotype data calculate for each sample, the intermarker interval (IMI), find genotype changes or break points (breakpts), and construct haplotypes. Then filter this data to generate new genotype data for each sample and visualize the effect of our filter. "
   ]
  },
  {
   "cell_type": "markdown",
   "metadata": {},
   "source": [
    "#### Import needed moduals"
   ]
  },
  {
   "cell_type": "code",
   "execution_count": 1,
   "metadata": {
    "collapsed": true
   },
   "outputs": [],
   "source": [
    "import numpy as np\n",
    "import pandas as pd\n",
    "import scipy.stats as ss\n",
    "import cryptofxns\n",
    "import os\n",
    "from matplotlib import pyplot as plt\n",
    "%matplotlib inline"
   ]
  },
  {
   "cell_type": "markdown",
   "metadata": {},
   "source": [
    "## Set local variables "
   ]
  },
  {
   "cell_type": "code",
   "execution_count": 2,
   "metadata": {
    "collapsed": true
   },
   "outputs": [],
   "source": [
    "mod = .1;s = 0;ymod = 1;yla = -.5;ylb = 1.5;\n",
    "xlim0 = -100000;xlim1 = 500000;xdi = 4.0;\n",
    "k1 = 6000;Method = 'min'\n",
    "alvl =.3;centcolor='red';snpcolor='black';"
   ]
  },
  {
   "cell_type": "markdown",
   "metadata": {},
   "source": [
    "### Load Genotype files, centromere locations, and chromosome length"
   ]
  },
  {
   "cell_type": "code",
   "execution_count": 3,
   "metadata": {
    "collapsed": true
   },
   "outputs": [],
   "source": [
    "genodf = cryptofxns.geno_df;genodf.shape\n",
    "centromere = cryptofxns.load_centrom_locs()\n",
    "clens = cryptofxns.chromosome_lengths\n",
    "tc = cryptofxns.thecol"
   ]
  },
  {
   "cell_type": "markdown",
   "metadata": {},
   "source": [
    "### Find Chromosome and gather samples"
   ]
  },
  {
   "cell_type": "code",
   "execution_count": 6,
   "metadata": {},
   "outputs": [
    {
     "data": {
      "text/plain": [
       "97"
      ]
     },
     "execution_count": 6,
     "metadata": {},
     "output_type": "execute_result"
    }
   ],
   "source": [
    "chrlist = np.unique(genodf.Chrom).tolist()\n",
    "segs_parents = genodf.columns.tolist()[tc:];\n",
    "segs_drop = cryptofxns.geno_remove;\n",
    "segs = [s for s in segs_parents if s not in segs_drop]\n",
    "len(segs)"
   ]
  },
  {
   "cell_type": "code",
   "execution_count": 7,
   "metadata": {},
   "outputs": [
    {
     "data": {
      "text/plain": [
       "108"
      ]
     },
     "execution_count": 7,
     "metadata": {},
     "output_type": "execute_result"
    }
   ],
   "source": [
    "len(segs_parents)"
   ]
  },
  {
   "cell_type": "code",
   "execution_count": 8,
   "metadata": {},
   "outputs": [
    {
     "data": {
      "text/plain": [
       "['SS-A837',\n",
       " 'SS-B307',\n",
       " 'SS-B308',\n",
       " 'SS-B310',\n",
       " 'SS-B311',\n",
       " 'SS-B312',\n",
       " 'SS-B313',\n",
       " 'SS-B314',\n",
       " 'SS-B315',\n",
       " 'SS-B316',\n",
       " 'SS-B317',\n",
       " 'SS-B350',\n",
       " 'SS-B354',\n",
       " 'SS-B356',\n",
       " 'SS-B357',\n",
       " 'SS-B358',\n",
       " 'SS-B360',\n",
       " 'SS-B364',\n",
       " 'SS-B366',\n",
       " 'SS-B368',\n",
       " 'SS-B369',\n",
       " 'SS-B373',\n",
       " 'SS-B374',\n",
       " 'SS-B377',\n",
       " 'SS-B378',\n",
       " 'SS-B379',\n",
       " 'SS-B382',\n",
       " 'SS-B383',\n",
       " 'SS-B385',\n",
       " 'SS-B387',\n",
       " 'SS-B395',\n",
       " 'SS-B396',\n",
       " 'SS-B397',\n",
       " 'SS-B399',\n",
       " 'SS-B407',\n",
       " 'SS-B410',\n",
       " 'SS-B411',\n",
       " 'SS-B553',\n",
       " 'SS-B560',\n",
       " 'SS-B563',\n",
       " 'SS-B564',\n",
       " 'SS-B565',\n",
       " 'SS-B569',\n",
       " 'SS-B570',\n",
       " 'SS-B574',\n",
       " 'SS-B575',\n",
       " 'SS-B579',\n",
       " 'SS-B580',\n",
       " 'SS-B584',\n",
       " 'SS-B585',\n",
       " 'SS-B586',\n",
       " 'SS-B587',\n",
       " 'SS-B588',\n",
       " 'SS-B589',\n",
       " 'SS-B591',\n",
       " 'SS-B593',\n",
       " 'SS-B594',\n",
       " 'SS-B598',\n",
       " 'SS-B599',\n",
       " 'SS-B600',\n",
       " 'SS-B605',\n",
       " 'SS-B606',\n",
       " 'SS-B611',\n",
       " 'SS-B621',\n",
       " 'SS-B869_cor',\n",
       " 'SS-B872_cor',\n",
       " 'SS-B873_cor',\n",
       " 'SS-B874_cor',\n",
       " 'SS-B876',\n",
       " 'SS-B879',\n",
       " 'SS-B880',\n",
       " 'SS-B885',\n",
       " 'SS-B886_cor',\n",
       " 'SS-B887_cor',\n",
       " 'SS-B890_cor',\n",
       " 'SS-B892_cor',\n",
       " 'SS-B896_cor',\n",
       " 'SS-B898_cor',\n",
       " 'SS-B901_cor',\n",
       " 'SS-B905',\n",
       " 'SS-B906_cor',\n",
       " 'SS-B908_cor',\n",
       " 'SS-B926',\n",
       " 'SS-B927',\n",
       " 'SS-B929',\n",
       " 'SS-B930',\n",
       " 'SS-B952',\n",
       " 'SS-B956',\n",
       " 'SS-B960_cor',\n",
       " 'SS-B961_cor',\n",
       " 'SS-B996',\n",
       " 'SS-B997',\n",
       " 'SS-B998',\n",
       " 'SS-C001',\n",
       " 'SS-C026_cor',\n",
       " 'SS-C029_cor',\n",
       " 'SS-C031_cor',\n",
       " 'SS-C033',\n",
       " 'SS-C036',\n",
       " 'SS-C039',\n",
       " 'SS-C242',\n",
       " 'SS-C271',\n",
       " 'SS-C272',\n",
       " 'SS-C273',\n",
       " 'SS-C290',\n",
       " 'SS-C291',\n",
       " 'XL280',\n",
       " 'XL280a']"
      ]
     },
     "execution_count": 8,
     "metadata": {},
     "output_type": "execute_result"
    }
   ],
   "source": [
    "segs_parents"
   ]
  },
  {
   "cell_type": "code",
   "execution_count": 7,
   "metadata": {},
   "outputs": [
    {
     "data": {
      "text/plain": [
       "['SS-B377',\n",
       " 'SS-B385',\n",
       " 'SS-B410',\n",
       " 'SS-B411',\n",
       " 'SS-B560',\n",
       " 'SS-B395',\n",
       " 'SS-B594',\n",
       " 'SS-C273',\n",
       " 'SS-B879',\n",
       " 'SS-B885',\n",
       " 'SS-B593']"
      ]
     },
     "execution_count": 7,
     "metadata": {},
     "output_type": "execute_result"
    }
   ],
   "source": [
    "segs_drop"
   ]
  },
  {
   "cell_type": "code",
   "execution_count": 6,
   "metadata": {},
   "outputs": [
    {
     "data": {
      "text/plain": [
       "['SS-A837',\n",
       " 'SS-B307',\n",
       " 'SS-B308',\n",
       " 'SS-B310',\n",
       " 'SS-B311',\n",
       " 'SS-B312',\n",
       " 'SS-B313',\n",
       " 'SS-B314',\n",
       " 'SS-B315',\n",
       " 'SS-B316',\n",
       " 'SS-B317',\n",
       " 'SS-B350',\n",
       " 'SS-B354',\n",
       " 'SS-B356',\n",
       " 'SS-B357',\n",
       " 'SS-B358',\n",
       " 'SS-B360',\n",
       " 'SS-B364',\n",
       " 'SS-B366',\n",
       " 'SS-B368',\n",
       " 'SS-B369',\n",
       " 'SS-B373',\n",
       " 'SS-B374',\n",
       " 'SS-B377',\n",
       " 'SS-B378',\n",
       " 'SS-B379',\n",
       " 'SS-B382',\n",
       " 'SS-B383',\n",
       " 'SS-B385',\n",
       " 'SS-B387',\n",
       " 'SS-B395',\n",
       " 'SS-B396',\n",
       " 'SS-B397',\n",
       " 'SS-B399',\n",
       " 'SS-B407',\n",
       " 'SS-B410',\n",
       " 'SS-B411',\n",
       " 'SS-B553',\n",
       " 'SS-B560',\n",
       " 'SS-B563',\n",
       " 'SS-B564',\n",
       " 'SS-B565',\n",
       " 'SS-B569',\n",
       " 'SS-B570',\n",
       " 'SS-B574',\n",
       " 'SS-B575',\n",
       " 'SS-B579',\n",
       " 'SS-B580',\n",
       " 'SS-B584',\n",
       " 'SS-B585',\n",
       " 'SS-B586',\n",
       " 'SS-B587',\n",
       " 'SS-B588',\n",
       " 'SS-B589',\n",
       " 'SS-B591',\n",
       " 'SS-B593',\n",
       " 'SS-B594',\n",
       " 'SS-B598',\n",
       " 'SS-B599',\n",
       " 'SS-B600',\n",
       " 'SS-B605',\n",
       " 'SS-B606',\n",
       " 'SS-B611',\n",
       " 'SS-B621',\n",
       " 'SS-B869_cor',\n",
       " 'SS-B872_cor',\n",
       " 'SS-B873_cor',\n",
       " 'SS-B874_cor',\n",
       " 'SS-B876',\n",
       " 'SS-B879',\n",
       " 'SS-B880',\n",
       " 'SS-B885',\n",
       " 'SS-B886_cor',\n",
       " 'SS-B887_cor',\n",
       " 'SS-B890_cor',\n",
       " 'SS-B892_cor',\n",
       " 'SS-B896_cor',\n",
       " 'SS-B898_cor',\n",
       " 'SS-B901_cor',\n",
       " 'SS-B905',\n",
       " 'SS-B906_cor',\n",
       " 'SS-B908_cor',\n",
       " 'SS-B926',\n",
       " 'SS-B927',\n",
       " 'SS-B929',\n",
       " 'SS-B930',\n",
       " 'SS-B952',\n",
       " 'SS-B956',\n",
       " 'SS-B960_cor',\n",
       " 'SS-B961_cor',\n",
       " 'SS-B996',\n",
       " 'SS-B997',\n",
       " 'SS-B998',\n",
       " 'SS-C001',\n",
       " 'SS-C026_cor',\n",
       " 'SS-C029_cor',\n",
       " 'SS-C031_cor',\n",
       " 'SS-C033',\n",
       " 'SS-C036',\n",
       " 'SS-C039',\n",
       " 'SS-C242',\n",
       " 'SS-C271',\n",
       " 'SS-C272',\n",
       " 'SS-C273',\n",
       " 'SS-C290',\n",
       " 'SS-C291',\n",
       " 'XL280',\n",
       " 'XL280a']"
      ]
     },
     "execution_count": 6,
     "metadata": {},
     "output_type": "execute_result"
    }
   ],
   "source": [
    "segs_parents"
   ]
  },
  {
   "cell_type": "code",
   "execution_count": 5,
   "metadata": {
    "collapsed": true
   },
   "outputs": [],
   "source": [
    "segs = segs_drop"
   ]
  },
  {
   "cell_type": "code",
   "execution_count": 6,
   "metadata": {},
   "outputs": [
    {
     "data": {
      "text/plain": [
       "['SS-B377',\n",
       " 'SS-B385',\n",
       " 'SS-B410',\n",
       " 'SS-B411',\n",
       " 'SS-B560',\n",
       " 'SS-B395',\n",
       " 'SS-B594',\n",
       " 'SS-C273',\n",
       " 'SS-B879',\n",
       " 'SS-B885',\n",
       " 'SS-B593']"
      ]
     },
     "execution_count": 6,
     "metadata": {},
     "output_type": "execute_result"
    }
   ],
   "source": [
    "segs"
   ]
  },
  {
   "cell_type": "markdown",
   "metadata": {},
   "source": [
    "## PATCH!!! April 3rd"
   ]
  },
  {
   "cell_type": "markdown",
   "metadata": {},
   "source": [
    "### Set folder paths"
   ]
  },
  {
   "cell_type": "code",
   "execution_count": 7,
   "metadata": {},
   "outputs": [
    {
     "data": {
      "text/plain": [
       "['../FILES/CHR1/IMI/',\n",
       " '../FILES/CHR1/BPS/',\n",
       " '../FILES/CHR1/HAP/',\n",
       " '../FILES/CHR1/FGT/',\n",
       " '../FILES/CHR1/FIG/']"
      ]
     },
     "execution_count": 7,
     "metadata": {},
     "output_type": "execute_result"
    }
   ],
   "source": [
    "folders = ['IMI/','BPS/','HAP/','FGT/','FIG/']\n",
    "\n",
    "CHRPATHS = ['../FILES/CHR' + str(i) +'/' for i in range(1,len(clens)+1)];CHRPATHS[0]\n",
    "\n",
    "FILECHRPATHS = [ [chp + f for f in folders] for chp in CHRPATHS];FILECHRPATHS[0][:]"
   ]
  },
  {
   "cell_type": "markdown",
   "metadata": {},
   "source": [
    "#### Make directory"
   ]
  },
  {
   "cell_type": "code",
   "execution_count": 8,
   "metadata": {
    "collapsed": true
   },
   "outputs": [],
   "source": [
    "for c in range(len(clens)):\n",
    "    for directory in FILECHRPATHS[c]:\n",
    "        for seg in segs:\n",
    "            director = directory+seg\n",
    "            if not os.path.exists(director):\n",
    "                os.makedirs(director)"
   ]
  },
  {
   "cell_type": "code",
   "execution_count": 9,
   "metadata": {},
   "outputs": [
    {
     "data": {
      "text/plain": [
       "'../FILES/CHR14/FIG/SS-B593'"
      ]
     },
     "execution_count": 9,
     "metadata": {},
     "output_type": "execute_result"
    }
   ],
   "source": [
    "director"
   ]
  },
  {
   "cell_type": "markdown",
   "metadata": {},
   "source": [
    "## Calculate IMI, Recombination Breakpts, and Haplotypes"
   ]
  },
  {
   "cell_type": "markdown",
   "metadata": {},
   "source": [
    "### Patch May 15th"
   ]
  },
  {
   "cell_type": "code",
   "execution_count": 10,
   "metadata": {},
   "outputs": [
    {
     "data": {
      "text/plain": [
       "(96337, 112)"
      ]
     },
     "execution_count": 10,
     "metadata": {},
     "output_type": "execute_result"
    }
   ],
   "source": [
    "genodf.shape"
   ]
  },
  {
   "cell_type": "code",
   "execution_count": 11,
   "metadata": {},
   "outputs": [
    {
     "data": {
      "text/plain": [
       "(96337, 15)"
      ]
     },
     "execution_count": 11,
     "metadata": {},
     "output_type": "execute_result"
    }
   ],
   "source": [
    "genodf = genodf[genodf.columns.tolist()[:tc]+segs]#.dropna(how='any',axis=0);\n",
    "genodf.shape"
   ]
  },
  {
   "cell_type": "code",
   "execution_count": 13,
   "metadata": {},
   "outputs": [
    {
     "data": {
      "text/plain": [
       "<matplotlib.figure.Figure at 0x1179fe210>"
      ]
     },
     "metadata": {},
     "output_type": "display_data"
    }
   ],
   "source": [
    "for ch,chrom in enumerate(chrlist):\n",
    "    clen = clens[ch]; \n",
    "    geno_ch = genodf[genodf.Chrom==chrom]\n",
    "    for s,seg in enumerate(segs):\n",
    "        sub = geno_ch[['Pos',seg]].dropna(axis=0,how='any').reset_index(drop=True); ## Drop empty markers\n",
    "        if len(sub[seg]) == 0:\n",
    "            continue\n",
    "        else:\n",
    "            #print sub\n",
    "            subpos = sub.Pos.tolist();\n",
    "            subgt = sub[seg].tolist();\n",
    "        ## make IMI dataframe \n",
    "            subimi = pd.DataFrame();\n",
    "            subimi['v'] = subpos[:-1];\n",
    "            subimi['w'] = subpos[1:];\n",
    "            subimi['X'] = abs(np.array(subgt[:-1]) - np.array(subgt[1:]));\n",
    "            subimi['M'] = [np.mean((subimi.w[i],subimi.v[i])) for i in subimi.index.tolist()]; ## Midpoint Method\n",
    "            subimi.to_csv(FILECHRPATHS[ch][0] +  seg + '/' + seg + '-IMI' + '.csv',\n",
    "                      index=False);\n",
    "        \n",
    "        ## Find break pts dataframe. \n",
    "            bp = subimi[subimi.X != 0].dropna(axis=0,how='any');\n",
    "            bp.to_csv(FILECHRPATHS[ch][1]+ seg + '/' + seg  + '-breakpt' + '.csv',\n",
    "                  index=False);\n",
    "        \n",
    "        ## Make haplotype dataframe. \n",
    "            hapdf = cryptofxns.haplotypes(subimi,clen,method=Method);\n",
    "            hapdf['genotype'] = [ss.mode(sub[seg][(sub.Pos >= hapdf.v[i]) & \n",
    "                                              (sub.Pos <= hapdf.w[i])])[0].tolist()[0] \n",
    "                             for i in hapdf.index.tolist()]\n",
    "            hapdf.to_csv(FILECHRPATHS[ch][2] +  seg + '/' + seg +'-'+ Method +'-haplotype' +'-k%s'%0+ '.csv',\n",
    "                     index=False);\n",
    "        \n",
    "        ## Filter Haplotype dataframe. \n",
    "            hap = cryptofxns.haplotype_filter(hapdf,k1);\n",
    "            hap.to_csv(FILECHRPATHS[ch][2]+ seg + '/' + seg +'-'+ Method +'-haplotype' +'-k%s'%k1+ '.csv',\n",
    "                   index=False);\n",
    "        \n",
    "        ## Generate filtered chromosomal positions and genotypes\n",
    "            tempnewpos = [[pos for pos in subpos if pos <= hap.w[i] and \n",
    "                       pos >= hap.v[i]] for i in hap.index.tolist()]\n",
    "            newgt = np.concatenate([[hap.genotype[K] for p in tempnewpos[K]] \n",
    "                                for K in hap.index.tolist()]);\n",
    "            newpos = np.concatenate(tempnewpos);assert len(newgt) == len(newpos);\n",
    "        \n",
    "        ## Save the filtered genotype data\n",
    "            newseg = pd.DataFrame(columns=['Pos',seg]);\n",
    "            newseg.Pos = newpos;newseg[seg] = newgt;\n",
    "            newseg.to_csv(FILECHRPATHS[ch][3]+ seg + '/' + seg +'-'+ Method + '-Geno' + '-k%s'%k1+ '.csv',\n",
    "                     index=False)\n",
    "        \n",
    "        ## Vizualize Haplotypes\n",
    "            plt.plot(subpos,np.array(subgt)*mod,'.',color=snpcolor,alpha=alvl);\n",
    "            plt.plot(newpos,newgt*mod + ymod,'.',color=snpcolor,alpha=alvl);\n",
    "            plt.annotate('Raw: %s'%len(hapdf),xy=(clen+(xlim1/xdi),0));\n",
    "            plt.annotate('Filterd: %s'%len(hap),xy=(clen+(xlim1/xdi),ymod));\n",
    "            plt.broken_barh([(centromere[0][chrom],\n",
    "                          centromere[1][chrom]-centromere[0][chrom])],(ymod,mod),\n",
    "                        facecolors=centcolor,alpha =alvl);\n",
    "            plt.broken_barh([(centromere[0][chrom],\n",
    "                          centromere[1][chrom]-centromere[0][chrom])],(0,mod),\n",
    "                        facecolors=centcolor,alpha =alvl);\n",
    "            plt.ylim(yla,ylb);\n",
    "            plt.xlim(xlim0,clen+xlim1);\n",
    "            plt.title(seg + ' ' +chrom+'-haplotype ' + '\\nMethod: '+ Method +'\\nk1: ' + '%s'%k1);\n",
    "            plt.xlabel('Chromosomal Coordinates');\n",
    "            plt.ylabel('Genotype');\n",
    "            cur_axes = plt.gca();\n",
    "            cur_axes.axes.get_yaxis().set_visible(False);\n",
    "            plt.tight_layout();\n",
    "            plt.savefig(FILECHRPATHS[ch][4] + seg + '/'+ seg + '-' +chrom+'-hap-'+ Method +'-k1-%s'%k1+'.jpeg');\n",
    "            plt.clf();"
   ]
  },
  {
   "cell_type": "markdown",
   "metadata": {},
   "source": [
    "## Make haplotypes for other filter sizes"
   ]
  },
  {
   "cell_type": "code",
   "execution_count": null,
   "metadata": {
    "collapsed": true
   },
   "outputs": [],
   "source": [
    "K = np.arange(1000,11500,500).tolist()"
   ]
  },
  {
   "cell_type": "code",
   "execution_count": null,
   "metadata": {
    "collapsed": true
   },
   "outputs": [],
   "source": [
    "for ch,chrom in enumerate(chrlist):\n",
    "    clen = clens[ch];\n",
    "    geno_ch = genodf[genodf.Chrom==chrom]\n",
    "    for s,seg in enumerate(segs):\n",
    "        sub = geno_ch[['Pos',seg]].dropna(axis=0,how='any').reset_index(drop=True); ## Drop empty markers\n",
    "        subpos = sub.Pos.tolist();\n",
    "        subgt = sub[seg].tolist();\n",
    "        if len(subgt) == 0:\n",
    "            continue\n",
    "        ## Bring in imi dataframe\n",
    "        subimi = pd.read_csv(FILECHRPATHS[ch][0] +  seg + '/' + seg + '-IMI' + '.csv')\n",
    "        ## For each filter size, make haplotype dataframe. \n",
    "        hapdf = cryptofxns.haplotypes(subimi,clen,method=Method);\n",
    "        hapdf['genotype'] = [ss.mode(sub[seg][(sub.Pos >= hapdf.v[i]) & \n",
    "                                              (sub.Pos <= hapdf.w[i])])[0].tolist()[0] \n",
    "                             for i in hapdf.index.tolist()]\n",
    "        ## Filter Haplotype dataframe. \n",
    "        for k1 in K:\n",
    "            hap = cryptofxns.haplotype_filter(hapdf,k1);\n",
    "            hap.to_csv(FILECHRPATHS[ch][2]+ seg + '/' + seg +'-'+ Method +'-haplotype' +'-k%s'%k1+ '.csv',\n",
    "                   index=False);    "
   ]
  },
  {
   "cell_type": "code",
   "execution_count": null,
   "metadata": {
    "collapsed": true
   },
   "outputs": [],
   "source": []
  }
 ],
 "metadata": {
  "anaconda-cloud": {},
  "kernelspec": {
   "display_name": "Python 2",
   "language": "python",
   "name": "python2"
  },
  "language_info": {
   "codemirror_mode": {
    "name": "ipython",
    "version": 2
   },
   "file_extension": ".py",
   "mimetype": "text/x-python",
   "name": "python",
   "nbconvert_exporter": "python",
   "pygments_lexer": "ipython2",
   "version": "2.7.14"
  }
 },
 "nbformat": 4,
 "nbformat_minor": 1
}

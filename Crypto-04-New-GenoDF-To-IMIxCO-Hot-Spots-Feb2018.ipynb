{
 "cells": [
  {
   "cell_type": "markdown",
   "metadata": {},
   "source": [
    "#### Load needed modules"
   ]
  },
  {
   "cell_type": "code",
   "execution_count": 1,
   "metadata": {},
   "outputs": [
    {
     "ename": "FileNotFoundError",
     "evalue": "[Errno 2] No such file or directory: '../FILES/GenotoFiltGeno2016-04-07.csv'",
     "output_type": "error",
     "traceback": [
      "\u001b[0;31m---------------------------------------------------------------------------\u001b[0m",
      "\u001b[0;31mFileNotFoundError\u001b[0m                         Traceback (most recent call last)",
      "\u001b[0;32m<ipython-input-1-1fd3785dc2c6>\u001b[0m in \u001b[0;36m<module>\u001b[0;34m\u001b[0m\n\u001b[1;32m      2\u001b[0m \u001b[0;32mimport\u001b[0m \u001b[0mpandas\u001b[0m \u001b[0;32mas\u001b[0m \u001b[0mpd\u001b[0m\u001b[0;34m\u001b[0m\u001b[0;34m\u001b[0m\u001b[0m\n\u001b[1;32m      3\u001b[0m \u001b[0;32mimport\u001b[0m \u001b[0mscipy\u001b[0m\u001b[0;34m.\u001b[0m\u001b[0mstats\u001b[0m \u001b[0;32mas\u001b[0m \u001b[0mss\u001b[0m\u001b[0;34m\u001b[0m\u001b[0;34m\u001b[0m\u001b[0m\n\u001b[0;32m----> 4\u001b[0;31m \u001b[0;32mimport\u001b[0m \u001b[0mcryptofxns\u001b[0m\u001b[0;34m\u001b[0m\u001b[0;34m\u001b[0m\u001b[0m\n\u001b[0m\u001b[1;32m      5\u001b[0m \u001b[0;32mfrom\u001b[0m \u001b[0mmatplotlib\u001b[0m \u001b[0;32mimport\u001b[0m \u001b[0mpyplot\u001b[0m \u001b[0;32mas\u001b[0m \u001b[0mplt\u001b[0m\u001b[0;34m\u001b[0m\u001b[0;34m\u001b[0m\u001b[0m\n\u001b[1;32m      6\u001b[0m \u001b[0mget_ipython\u001b[0m\u001b[0;34m(\u001b[0m\u001b[0;34m)\u001b[0m\u001b[0;34m.\u001b[0m\u001b[0mrun_line_magic\u001b[0m\u001b[0;34m(\u001b[0m\u001b[0;34m'matplotlib'\u001b[0m\u001b[0;34m,\u001b[0m \u001b[0;34m'inline'\u001b[0m\u001b[0;34m)\u001b[0m\u001b[0;34m\u001b[0m\u001b[0;34m\u001b[0m\u001b[0m\n",
      "\u001b[0;32m~/crypto-recombination-paper/cryptofxns.py\u001b[0m in \u001b[0;36m<module>\u001b[0;34m\u001b[0m\n\u001b[1;32m     18\u001b[0m \u001b[0;34m\u001b[0m\u001b[0m\n\u001b[1;32m     19\u001b[0m \u001b[0;31m## The current (Jan 22, 2016) genotype file.\u001b[0m\u001b[0;34m\u001b[0m\u001b[0;34m\u001b[0m\u001b[0;34m\u001b[0m\u001b[0m\n\u001b[0;32m---> 20\u001b[0;31m \u001b[0mgeno_df\u001b[0m \u001b[0;34m=\u001b[0m \u001b[0mpd\u001b[0m\u001b[0;34m.\u001b[0m\u001b[0mread_csv\u001b[0m\u001b[0;34m(\u001b[0m\u001b[0mFILEPATHgf\u001b[0m\u001b[0;34m,\u001b[0m\u001b[0mskiprows\u001b[0m\u001b[0;34m=\u001b[0m\u001b[0;36m0\u001b[0m\u001b[0;34m,\u001b[0m\u001b[0mheader\u001b[0m\u001b[0;34m=\u001b[0m\u001b[0;36m1\u001b[0m\u001b[0;34m)\u001b[0m\u001b[0;34m;\u001b[0m\u001b[0;34m\u001b[0m\u001b[0;34m\u001b[0m\u001b[0m\n\u001b[0m\u001b[1;32m     21\u001b[0m \u001b[0;34m\u001b[0m\u001b[0m\n\u001b[1;32m     22\u001b[0m \u001b[0;31m## remove following samples that aren't in the genotype data\u001b[0m\u001b[0;34m\u001b[0m\u001b[0;34m\u001b[0m\u001b[0;34m\u001b[0m\u001b[0m\n",
      "\u001b[0;32m~/anaconda3/lib/python3.7/site-packages/pandas/io/parsers.py\u001b[0m in \u001b[0;36mread_csv\u001b[0;34m(filepath_or_buffer, sep, delimiter, header, names, index_col, usecols, squeeze, prefix, mangle_dupe_cols, dtype, engine, converters, true_values, false_values, skipinitialspace, skiprows, skipfooter, nrows, na_values, keep_default_na, na_filter, verbose, skip_blank_lines, parse_dates, infer_datetime_format, keep_date_col, date_parser, dayfirst, cache_dates, iterator, chunksize, compression, thousands, decimal, lineterminator, quotechar, quoting, doublequote, escapechar, comment, encoding, dialect, error_bad_lines, warn_bad_lines, delim_whitespace, low_memory, memory_map, float_precision)\u001b[0m\n\u001b[1;32m    684\u001b[0m     )\n\u001b[1;32m    685\u001b[0m \u001b[0;34m\u001b[0m\u001b[0m\n\u001b[0;32m--> 686\u001b[0;31m     \u001b[0;32mreturn\u001b[0m \u001b[0m_read\u001b[0m\u001b[0;34m(\u001b[0m\u001b[0mfilepath_or_buffer\u001b[0m\u001b[0;34m,\u001b[0m \u001b[0mkwds\u001b[0m\u001b[0;34m)\u001b[0m\u001b[0;34m\u001b[0m\u001b[0;34m\u001b[0m\u001b[0m\n\u001b[0m\u001b[1;32m    687\u001b[0m \u001b[0;34m\u001b[0m\u001b[0m\n\u001b[1;32m    688\u001b[0m \u001b[0;34m\u001b[0m\u001b[0m\n",
      "\u001b[0;32m~/anaconda3/lib/python3.7/site-packages/pandas/io/parsers.py\u001b[0m in \u001b[0;36m_read\u001b[0;34m(filepath_or_buffer, kwds)\u001b[0m\n\u001b[1;32m    450\u001b[0m \u001b[0;34m\u001b[0m\u001b[0m\n\u001b[1;32m    451\u001b[0m     \u001b[0;31m# Create the parser.\u001b[0m\u001b[0;34m\u001b[0m\u001b[0;34m\u001b[0m\u001b[0;34m\u001b[0m\u001b[0m\n\u001b[0;32m--> 452\u001b[0;31m     \u001b[0mparser\u001b[0m \u001b[0;34m=\u001b[0m \u001b[0mTextFileReader\u001b[0m\u001b[0;34m(\u001b[0m\u001b[0mfp_or_buf\u001b[0m\u001b[0;34m,\u001b[0m \u001b[0;34m**\u001b[0m\u001b[0mkwds\u001b[0m\u001b[0;34m)\u001b[0m\u001b[0;34m\u001b[0m\u001b[0;34m\u001b[0m\u001b[0m\n\u001b[0m\u001b[1;32m    453\u001b[0m \u001b[0;34m\u001b[0m\u001b[0m\n\u001b[1;32m    454\u001b[0m     \u001b[0;32mif\u001b[0m \u001b[0mchunksize\u001b[0m \u001b[0;32mor\u001b[0m \u001b[0miterator\u001b[0m\u001b[0;34m:\u001b[0m\u001b[0;34m\u001b[0m\u001b[0;34m\u001b[0m\u001b[0m\n",
      "\u001b[0;32m~/anaconda3/lib/python3.7/site-packages/pandas/io/parsers.py\u001b[0m in \u001b[0;36m__init__\u001b[0;34m(self, f, engine, **kwds)\u001b[0m\n\u001b[1;32m    934\u001b[0m             \u001b[0mself\u001b[0m\u001b[0;34m.\u001b[0m\u001b[0moptions\u001b[0m\u001b[0;34m[\u001b[0m\u001b[0;34m\"has_index_names\"\u001b[0m\u001b[0;34m]\u001b[0m \u001b[0;34m=\u001b[0m \u001b[0mkwds\u001b[0m\u001b[0;34m[\u001b[0m\u001b[0;34m\"has_index_names\"\u001b[0m\u001b[0;34m]\u001b[0m\u001b[0;34m\u001b[0m\u001b[0;34m\u001b[0m\u001b[0m\n\u001b[1;32m    935\u001b[0m \u001b[0;34m\u001b[0m\u001b[0m\n\u001b[0;32m--> 936\u001b[0;31m         \u001b[0mself\u001b[0m\u001b[0;34m.\u001b[0m\u001b[0m_make_engine\u001b[0m\u001b[0;34m(\u001b[0m\u001b[0mself\u001b[0m\u001b[0;34m.\u001b[0m\u001b[0mengine\u001b[0m\u001b[0;34m)\u001b[0m\u001b[0;34m\u001b[0m\u001b[0;34m\u001b[0m\u001b[0m\n\u001b[0m\u001b[1;32m    937\u001b[0m \u001b[0;34m\u001b[0m\u001b[0m\n\u001b[1;32m    938\u001b[0m     \u001b[0;32mdef\u001b[0m \u001b[0mclose\u001b[0m\u001b[0;34m(\u001b[0m\u001b[0mself\u001b[0m\u001b[0;34m)\u001b[0m\u001b[0;34m:\u001b[0m\u001b[0;34m\u001b[0m\u001b[0;34m\u001b[0m\u001b[0m\n",
      "\u001b[0;32m~/anaconda3/lib/python3.7/site-packages/pandas/io/parsers.py\u001b[0m in \u001b[0;36m_make_engine\u001b[0;34m(self, engine)\u001b[0m\n\u001b[1;32m   1166\u001b[0m     \u001b[0;32mdef\u001b[0m \u001b[0m_make_engine\u001b[0m\u001b[0;34m(\u001b[0m\u001b[0mself\u001b[0m\u001b[0;34m,\u001b[0m \u001b[0mengine\u001b[0m\u001b[0;34m=\u001b[0m\u001b[0;34m\"c\"\u001b[0m\u001b[0;34m)\u001b[0m\u001b[0;34m:\u001b[0m\u001b[0;34m\u001b[0m\u001b[0;34m\u001b[0m\u001b[0m\n\u001b[1;32m   1167\u001b[0m         \u001b[0;32mif\u001b[0m \u001b[0mengine\u001b[0m \u001b[0;34m==\u001b[0m \u001b[0;34m\"c\"\u001b[0m\u001b[0;34m:\u001b[0m\u001b[0;34m\u001b[0m\u001b[0;34m\u001b[0m\u001b[0m\n\u001b[0;32m-> 1168\u001b[0;31m             \u001b[0mself\u001b[0m\u001b[0;34m.\u001b[0m\u001b[0m_engine\u001b[0m \u001b[0;34m=\u001b[0m \u001b[0mCParserWrapper\u001b[0m\u001b[0;34m(\u001b[0m\u001b[0mself\u001b[0m\u001b[0;34m.\u001b[0m\u001b[0mf\u001b[0m\u001b[0;34m,\u001b[0m \u001b[0;34m**\u001b[0m\u001b[0mself\u001b[0m\u001b[0;34m.\u001b[0m\u001b[0moptions\u001b[0m\u001b[0;34m)\u001b[0m\u001b[0;34m\u001b[0m\u001b[0;34m\u001b[0m\u001b[0m\n\u001b[0m\u001b[1;32m   1169\u001b[0m         \u001b[0;32melse\u001b[0m\u001b[0;34m:\u001b[0m\u001b[0;34m\u001b[0m\u001b[0;34m\u001b[0m\u001b[0m\n\u001b[1;32m   1170\u001b[0m             \u001b[0;32mif\u001b[0m \u001b[0mengine\u001b[0m \u001b[0;34m==\u001b[0m \u001b[0;34m\"python\"\u001b[0m\u001b[0;34m:\u001b[0m\u001b[0;34m\u001b[0m\u001b[0;34m\u001b[0m\u001b[0m\n",
      "\u001b[0;32m~/anaconda3/lib/python3.7/site-packages/pandas/io/parsers.py\u001b[0m in \u001b[0;36m__init__\u001b[0;34m(self, src, **kwds)\u001b[0m\n\u001b[1;32m   1996\u001b[0m         \u001b[0mkwds\u001b[0m\u001b[0;34m[\u001b[0m\u001b[0;34m\"usecols\"\u001b[0m\u001b[0;34m]\u001b[0m \u001b[0;34m=\u001b[0m \u001b[0mself\u001b[0m\u001b[0;34m.\u001b[0m\u001b[0musecols\u001b[0m\u001b[0;34m\u001b[0m\u001b[0;34m\u001b[0m\u001b[0m\n\u001b[1;32m   1997\u001b[0m \u001b[0;34m\u001b[0m\u001b[0m\n\u001b[0;32m-> 1998\u001b[0;31m         \u001b[0mself\u001b[0m\u001b[0;34m.\u001b[0m\u001b[0m_reader\u001b[0m \u001b[0;34m=\u001b[0m \u001b[0mparsers\u001b[0m\u001b[0;34m.\u001b[0m\u001b[0mTextReader\u001b[0m\u001b[0;34m(\u001b[0m\u001b[0msrc\u001b[0m\u001b[0;34m,\u001b[0m \u001b[0;34m**\u001b[0m\u001b[0mkwds\u001b[0m\u001b[0;34m)\u001b[0m\u001b[0;34m\u001b[0m\u001b[0;34m\u001b[0m\u001b[0m\n\u001b[0m\u001b[1;32m   1999\u001b[0m         \u001b[0mself\u001b[0m\u001b[0;34m.\u001b[0m\u001b[0munnamed_cols\u001b[0m \u001b[0;34m=\u001b[0m \u001b[0mself\u001b[0m\u001b[0;34m.\u001b[0m\u001b[0m_reader\u001b[0m\u001b[0;34m.\u001b[0m\u001b[0munnamed_cols\u001b[0m\u001b[0;34m\u001b[0m\u001b[0;34m\u001b[0m\u001b[0m\n\u001b[1;32m   2000\u001b[0m \u001b[0;34m\u001b[0m\u001b[0m\n",
      "\u001b[0;32mpandas/_libs/parsers.pyx\u001b[0m in \u001b[0;36mpandas._libs.parsers.TextReader.__cinit__\u001b[0;34m()\u001b[0m\n",
      "\u001b[0;32mpandas/_libs/parsers.pyx\u001b[0m in \u001b[0;36mpandas._libs.parsers.TextReader._setup_parser_source\u001b[0;34m()\u001b[0m\n",
      "\u001b[0;31mFileNotFoundError\u001b[0m: [Errno 2] No such file or directory: '../FILES/GenotoFiltGeno2016-04-07.csv'"
     ]
    }
   ],
   "source": [
    "import numpy as np\n",
    "import pandas as pd\n",
    "import scipy.stats as ss\n",
    "import cryptofxns\n",
    "from matplotlib import pyplot as plt\n",
    "%matplotlib inline"
   ]
  },
  {
   "cell_type": "markdown",
   "metadata": {},
   "source": [
    "## Bring in Haplotype filtered genotype dataframe"
   ]
  },
  {
   "cell_type": "code",
   "execution_count": null,
   "metadata": {},
   "outputs": [],
   "source": [
    "#geno = pd.read_csv('../FILES/FiltGenotoHapFiltGeno2017-02-22.csv',index_col=0);\n",
    "file_end = 'min-Geno-k6000.csv'\n",
    "geno = pd.read_csv('../FILES/FiltGenotoHapFiltGeno-%s'%file_end)"
   ]
  },
  {
   "cell_type": "markdown",
   "metadata": {},
   "source": [
    "#### View geno dataframe"
   ]
  },
  {
   "cell_type": "code",
   "execution_count": 3,
   "metadata": {},
   "outputs": [
    {
     "data": {
      "text/html": [
       "<div>\n",
       "<style>\n",
       "    .dataframe thead tr:only-child th {\n",
       "        text-align: right;\n",
       "    }\n",
       "\n",
       "    .dataframe thead th {\n",
       "        text-align: left;\n",
       "    }\n",
       "\n",
       "    .dataframe tbody tr th {\n",
       "        vertical-align: top;\n",
       "    }\n",
       "</style>\n",
       "<table border=\"1\" class=\"dataframe\">\n",
       "  <thead>\n",
       "    <tr style=\"text-align: right;\">\n",
       "      <th></th>\n",
       "      <th>Alt</th>\n",
       "      <th>Chrom</th>\n",
       "      <th>Pos</th>\n",
       "      <th>Ref</th>\n",
       "      <th>SS-B307</th>\n",
       "      <th>SS-B308</th>\n",
       "      <th>SS-B310</th>\n",
       "      <th>SS-B311</th>\n",
       "      <th>SS-B312</th>\n",
       "      <th>SS-B313</th>\n",
       "      <th>...</th>\n",
       "      <th>SS-C029_Correction</th>\n",
       "      <th>SS-C031_Correction</th>\n",
       "      <th>SS-C033</th>\n",
       "      <th>SS-C036</th>\n",
       "      <th>SS-C039</th>\n",
       "      <th>SS-C242</th>\n",
       "      <th>SS-C271</th>\n",
       "      <th>SS-C272</th>\n",
       "      <th>SS-C290</th>\n",
       "      <th>SS-C291</th>\n",
       "    </tr>\n",
       "  </thead>\n",
       "  <tbody>\n",
       "    <tr>\n",
       "      <th>0</th>\n",
       "      <td>A</td>\n",
       "      <td>Chr01</td>\n",
       "      <td>5016.0</td>\n",
       "      <td>C</td>\n",
       "      <td>1</td>\n",
       "      <td>1</td>\n",
       "      <td>1</td>\n",
       "      <td>1</td>\n",
       "      <td>0</td>\n",
       "      <td>0</td>\n",
       "      <td>...</td>\n",
       "      <td>0</td>\n",
       "      <td>0</td>\n",
       "      <td>1</td>\n",
       "      <td>0</td>\n",
       "      <td>1</td>\n",
       "      <td>0</td>\n",
       "      <td>0</td>\n",
       "      <td>0</td>\n",
       "      <td>1</td>\n",
       "      <td>0</td>\n",
       "    </tr>\n",
       "    <tr>\n",
       "      <th>1</th>\n",
       "      <td>C</td>\n",
       "      <td>Chr01</td>\n",
       "      <td>5299.0</td>\n",
       "      <td>T</td>\n",
       "      <td>1</td>\n",
       "      <td>1</td>\n",
       "      <td>1</td>\n",
       "      <td>1</td>\n",
       "      <td>0</td>\n",
       "      <td>0</td>\n",
       "      <td>...</td>\n",
       "      <td>0</td>\n",
       "      <td>0</td>\n",
       "      <td>1</td>\n",
       "      <td>0</td>\n",
       "      <td>1</td>\n",
       "      <td>0</td>\n",
       "      <td>0</td>\n",
       "      <td>0</td>\n",
       "      <td>1</td>\n",
       "      <td>0</td>\n",
       "    </tr>\n",
       "    <tr>\n",
       "      <th>2</th>\n",
       "      <td>C</td>\n",
       "      <td>Chr01</td>\n",
       "      <td>5464.0</td>\n",
       "      <td>T</td>\n",
       "      <td>1</td>\n",
       "      <td>1</td>\n",
       "      <td>1</td>\n",
       "      <td>1</td>\n",
       "      <td>0</td>\n",
       "      <td>0</td>\n",
       "      <td>...</td>\n",
       "      <td>0</td>\n",
       "      <td>0</td>\n",
       "      <td>1</td>\n",
       "      <td>0</td>\n",
       "      <td>1</td>\n",
       "      <td>0</td>\n",
       "      <td>0</td>\n",
       "      <td>0</td>\n",
       "      <td>1</td>\n",
       "      <td>0</td>\n",
       "    </tr>\n",
       "    <tr>\n",
       "      <th>3</th>\n",
       "      <td>C</td>\n",
       "      <td>Chr01</td>\n",
       "      <td>6120.0</td>\n",
       "      <td>T</td>\n",
       "      <td>1</td>\n",
       "      <td>1</td>\n",
       "      <td>1</td>\n",
       "      <td>1</td>\n",
       "      <td>0</td>\n",
       "      <td>0</td>\n",
       "      <td>...</td>\n",
       "      <td>0</td>\n",
       "      <td>0</td>\n",
       "      <td>1</td>\n",
       "      <td>0</td>\n",
       "      <td>1</td>\n",
       "      <td>0</td>\n",
       "      <td>0</td>\n",
       "      <td>0</td>\n",
       "      <td>1</td>\n",
       "      <td>0</td>\n",
       "    </tr>\n",
       "    <tr>\n",
       "      <th>4</th>\n",
       "      <td>A</td>\n",
       "      <td>Chr01</td>\n",
       "      <td>6166.0</td>\n",
       "      <td>G</td>\n",
       "      <td>1</td>\n",
       "      <td>1</td>\n",
       "      <td>1</td>\n",
       "      <td>1</td>\n",
       "      <td>0</td>\n",
       "      <td>0</td>\n",
       "      <td>...</td>\n",
       "      <td>0</td>\n",
       "      <td>0</td>\n",
       "      <td>1</td>\n",
       "      <td>0</td>\n",
       "      <td>1</td>\n",
       "      <td>0</td>\n",
       "      <td>0</td>\n",
       "      <td>0</td>\n",
       "      <td>1</td>\n",
       "      <td>0</td>\n",
       "    </tr>\n",
       "  </tbody>\n",
       "</table>\n",
       "<p>5 rows × 98 columns</p>\n",
       "</div>"
      ],
      "text/plain": [
       "  Alt  Chrom     Pos Ref  SS-B307  SS-B308  SS-B310  SS-B311  SS-B312  \\\n",
       "0   A  Chr01  5016.0   C        1        1        1        1        0   \n",
       "1   C  Chr01  5299.0   T        1        1        1        1        0   \n",
       "2   C  Chr01  5464.0   T        1        1        1        1        0   \n",
       "3   C  Chr01  6120.0   T        1        1        1        1        0   \n",
       "4   A  Chr01  6166.0   G        1        1        1        1        0   \n",
       "\n",
       "   SS-B313   ...     SS-C029_Correction  SS-C031_Correction  SS-C033  SS-C036  \\\n",
       "0        0   ...                      0                   0        1        0   \n",
       "1        0   ...                      0                   0        1        0   \n",
       "2        0   ...                      0                   0        1        0   \n",
       "3        0   ...                      0                   0        1        0   \n",
       "4        0   ...                      0                   0        1        0   \n",
       "\n",
       "   SS-C039  SS-C242  SS-C271  SS-C272  SS-C290  SS-C291  \n",
       "0        1        0        0        0        1        0  \n",
       "1        1        0        0        0        1        0  \n",
       "2        1        0        0        0        1        0  \n",
       "3        1        0        0        0        1        0  \n",
       "4        1        0        0        0        1        0  \n",
       "\n",
       "[5 rows x 98 columns]"
      ]
     },
     "execution_count": 3,
     "metadata": {},
     "output_type": "execute_result"
    }
   ],
   "source": [
    "geno.head()"
   ]
  },
  {
   "cell_type": "markdown",
   "metadata": {},
   "source": [
    "#### Get the unique chromosome names"
   ]
  },
  {
   "cell_type": "code",
   "execution_count": 4,
   "metadata": {
    "collapsed": true
   },
   "outputs": [],
   "source": [
    "chrlist = np.unique(geno.Chrom.tolist());assert len(chrlist) == 14"
   ]
  },
  {
   "cell_type": "markdown",
   "metadata": {},
   "source": [
    "#### Load chromosome lengths"
   ]
  },
  {
   "cell_type": "code",
   "execution_count": 5,
   "metadata": {
    "collapsed": true
   },
   "outputs": [],
   "source": [
    "clens = cryptofxns.chromosome_lengths;assert len(clens) == len(chrlist)"
   ]
  },
  {
   "cell_type": "markdown",
   "metadata": {},
   "source": [
    "## Check that removed segregants are not being used in analysis"
   ]
  },
  {
   "cell_type": "markdown",
   "metadata": {},
   "source": [
    "###### Load in the list of segregants we want to remove b/c of reasons listed in cryptofxns.py"
   ]
  },
  {
   "cell_type": "code",
   "execution_count": 6,
   "metadata": {
    "scrolled": true
   },
   "outputs": [
    {
     "name": "stdout",
     "output_type": "stream",
     "text": [
      "['SS-B377', 'SS-B385', 'SS-B410', 'SS-B411', 'SS-B560', 'SS-B395', 'SS-B594', 'SS-C273', 'SS-B879', 'SS-B885', 'SS-B593']\n"
     ]
    }
   ],
   "source": [
    "seg_out = cryptofxns.geno_remove;print seg_out"
   ]
  },
  {
   "cell_type": "code",
   "execution_count": 7,
   "metadata": {
    "collapsed": true
   },
   "outputs": [],
   "source": [
    "tc = cryptofxns.thecol;\n",
    "segs = [seg for seg in geno.columns.tolist()[tc:] if seg not in seg_out]"
   ]
  },
  {
   "cell_type": "code",
   "execution_count": 8,
   "metadata": {},
   "outputs": [
    {
     "data": {
      "text/plain": [
       "94"
      ]
     },
     "execution_count": 8,
     "metadata": {},
     "output_type": "execute_result"
    }
   ],
   "source": [
    "len(segs)"
   ]
  },
  {
   "cell_type": "markdown",
   "metadata": {},
   "source": [
    "#### Load the list of segregants from the bi-sexual ( a X alpha ) cross.\n",
    "#### Seperate the progeny by cross type"
   ]
  },
  {
   "cell_type": "code",
   "execution_count": 9,
   "metadata": {},
   "outputs": [
    {
     "name": "stdout",
     "output_type": "stream",
     "text": [
      "42\n",
      "39\n",
      "55\n"
     ]
    }
   ],
   "source": [
    "seg_axalp = np.concatenate(cryptofxns.axalp);print len(seg_axalp)\n",
    "seg_bi = [seg for seg in segs if seg in seg_axalp];print len(seg_bi);\n",
    "seg_un = [seg for seg in segs if seg not in seg_axalp];print len(seg_un);\n",
    "assert len(seg_un) + len(seg_bi) == len(segs)"
   ]
  },
  {
   "cell_type": "code",
   "execution_count": 10,
   "metadata": {},
   "outputs": [
    {
     "data": {
      "text/plain": [
       "[['SS-B869_Correction',\n",
       "  'SS-B872_Correction',\n",
       "  'SS-B873_Correction',\n",
       "  'SS-B874_Correction'],\n",
       " ['SS-B876', 'SS-B880', 'SS-B879', 'SS-B885'],\n",
       " ['SS-B886_Correction', 'SS-B887_Correction'],\n",
       " ['SS-B890_Correction',\n",
       "  'SS-B896_Correction',\n",
       "  'SS-B898_Correction',\n",
       "  'SS-B892_Correction',\n",
       "  'SS-B901_Correction',\n",
       "  'SS-B905',\n",
       "  'SS-B906_Correction',\n",
       "  'SS-B908_Correction'],\n",
       " ['SS-B926', 'SS-B927', 'SS-B929', 'SS-B930'],\n",
       " ['SS-B952', 'SS-B956'],\n",
       " ['SS-B960_Correction', 'SS-B961_Correction'],\n",
       " ['SS-B996', 'SS-B997', 'SS-B998'],\n",
       " ['SS-C001'],\n",
       " ['SS-C026_Correction', 'SS-C029_Correction'],\n",
       " ['SS-C031_Correction'],\n",
       " ['SS-C033', 'SS-C036', 'SS-C039'],\n",
       " ['SS-C242'],\n",
       " ['SS-C271', 'SS-C272'],\n",
       " ['SS-C273'],\n",
       " ['SS-C290', 'SS-C291']]"
      ]
     },
     "execution_count": 10,
     "metadata": {},
     "output_type": "execute_result"
    }
   ],
   "source": [
    "reload(cryptofxns);\n",
    "cryptofxns.axalp"
   ]
  },
  {
   "cell_type": "code",
   "execution_count": 11,
   "metadata": {
    "collapsed": true
   },
   "outputs": [],
   "source": [
    "xBasidium = []\n",
    "for bas in cryptofxns.axalp:\n",
    "    Basidium_temp = []\n",
    "    for seg in bas:\n",
    "        if seg not in seg_out:\n",
    "            Basidium_temp.append(seg)\n",
    "    xBasidium.append(Basidium_temp)\n",
    "xBasidium = [bas for bas in xBasidium if len(bas)>0]"
   ]
  },
  {
   "cell_type": "code",
   "execution_count": 12,
   "metadata": {},
   "outputs": [
    {
     "data": {
      "text/plain": [
       "[['SS-B869_Correction',\n",
       "  'SS-B872_Correction',\n",
       "  'SS-B873_Correction',\n",
       "  'SS-B874_Correction'],\n",
       " ['SS-B876', 'SS-B880'],\n",
       " ['SS-B886_Correction', 'SS-B887_Correction'],\n",
       " ['SS-B890_Correction',\n",
       "  'SS-B896_Correction',\n",
       "  'SS-B898_Correction',\n",
       "  'SS-B892_Correction',\n",
       "  'SS-B901_Correction',\n",
       "  'SS-B905',\n",
       "  'SS-B906_Correction',\n",
       "  'SS-B908_Correction'],\n",
       " ['SS-B926', 'SS-B927', 'SS-B929', 'SS-B930'],\n",
       " ['SS-B952', 'SS-B956'],\n",
       " ['SS-B960_Correction', 'SS-B961_Correction'],\n",
       " ['SS-B996', 'SS-B997', 'SS-B998'],\n",
       " ['SS-C001'],\n",
       " ['SS-C026_Correction', 'SS-C029_Correction'],\n",
       " ['SS-C031_Correction'],\n",
       " ['SS-C033', 'SS-C036', 'SS-C039'],\n",
       " ['SS-C242'],\n",
       " ['SS-C271', 'SS-C272'],\n",
       " ['SS-C290', 'SS-C291']]"
      ]
     },
     "execution_count": 12,
     "metadata": {},
     "output_type": "execute_result"
    }
   ],
   "source": [
    "xBasidium"
   ]
  },
  {
   "cell_type": "code",
   "execution_count": 13,
   "metadata": {
    "collapsed": true
   },
   "outputs": [],
   "source": [
    "genof = geno[geno.columns.tolist()[:4] + seg_un + seg_bi]"
   ]
  },
  {
   "cell_type": "markdown",
   "metadata": {},
   "source": [
    "## Check that SNPs are dropped if they have < 100% call rate"
   ]
  },
  {
   "cell_type": "code",
   "execution_count": 14,
   "metadata": {
    "collapsed": true
   },
   "outputs": [],
   "source": [
    "genodf = genof.dropna(axis=0,how='any').reset_index(drop=True);"
   ]
  },
  {
   "cell_type": "code",
   "execution_count": 15,
   "metadata": {},
   "outputs": [
    {
     "data": {
      "text/plain": [
       "(86767, 98)"
      ]
     },
     "execution_count": 15,
     "metadata": {},
     "output_type": "execute_result"
    }
   ],
   "source": [
    "genodf.shape"
   ]
  },
  {
   "cell_type": "markdown",
   "metadata": {},
   "source": [
    "### Find SNP desert within chrom 7"
   ]
  },
  {
   "cell_type": "code",
   "execution_count": 16,
   "metadata": {
    "collapsed": true
   },
   "outputs": [],
   "source": [
    "chr_7_geno = genodf[genodf.Chrom=='Chr07'].copy()\n",
    "chr_7_geno.reset_index(drop=True,inplace=True)\n",
    "chr_7_values = chr_7_geno.Pos.values"
   ]
  },
  {
   "cell_type": "code",
   "execution_count": 17,
   "metadata": {
    "collapsed": true
   },
   "outputs": [],
   "source": [
    "chr_7_snp_dist = chr_7_values[1:] - chr_7_values[:-1];"
   ]
  },
  {
   "cell_type": "code",
   "execution_count": 18,
   "metadata": {},
   "outputs": [
    {
     "data": {
      "text/plain": [
       "4856"
      ]
     },
     "execution_count": 18,
     "metadata": {},
     "output_type": "execute_result"
    }
   ],
   "source": [
    "np.where(chr_7_snp_dist == np.max(chr_7_snp_dist))[0][0]"
   ]
  },
  {
   "cell_type": "code",
   "execution_count": 19,
   "metadata": {},
   "outputs": [
    {
     "name": "stderr",
     "output_type": "stream",
     "text": [
      "/Users/croth/anaconda2/lib/python2.7/site-packages/ipykernel_launcher.py:1: DeprecationWarning: \n",
      ".ix is deprecated. Please use\n",
      ".loc for label based indexing or\n",
      ".iloc for positional indexing\n",
      "\n",
      "See the documentation here:\n",
      "http://pandas.pydata.org/pandas-docs/stable/indexing.html#ix-indexer-is-deprecated\n",
      "  \"\"\"Entry point for launching an IPython kernel.\n"
     ]
    },
    {
     "data": {
      "text/html": [
       "<div>\n",
       "<style>\n",
       "    .dataframe thead tr:only-child th {\n",
       "        text-align: right;\n",
       "    }\n",
       "\n",
       "    .dataframe thead th {\n",
       "        text-align: left;\n",
       "    }\n",
       "\n",
       "    .dataframe tbody tr th {\n",
       "        vertical-align: top;\n",
       "    }\n",
       "</style>\n",
       "<table border=\"1\" class=\"dataframe\">\n",
       "  <thead>\n",
       "    <tr style=\"text-align: right;\">\n",
       "      <th></th>\n",
       "      <th>Alt</th>\n",
       "      <th>Chrom</th>\n",
       "      <th>Pos</th>\n",
       "      <th>Ref</th>\n",
       "      <th>SS-B307</th>\n",
       "      <th>SS-B308</th>\n",
       "      <th>SS-B310</th>\n",
       "      <th>SS-B311</th>\n",
       "      <th>SS-B312</th>\n",
       "      <th>SS-B313</th>\n",
       "      <th>...</th>\n",
       "      <th>SS-C029_Correction</th>\n",
       "      <th>SS-C031_Correction</th>\n",
       "      <th>SS-C033</th>\n",
       "      <th>SS-C036</th>\n",
       "      <th>SS-C039</th>\n",
       "      <th>SS-C242</th>\n",
       "      <th>SS-C271</th>\n",
       "      <th>SS-C272</th>\n",
       "      <th>SS-C290</th>\n",
       "      <th>SS-C291</th>\n",
       "    </tr>\n",
       "  </thead>\n",
       "  <tbody>\n",
       "    <tr>\n",
       "      <th>4855</th>\n",
       "      <td>G</td>\n",
       "      <td>Chr07</td>\n",
       "      <td>1048031.0</td>\n",
       "      <td>A</td>\n",
       "      <td>1</td>\n",
       "      <td>1</td>\n",
       "      <td>1</td>\n",
       "      <td>1</td>\n",
       "      <td>1</td>\n",
       "      <td>1</td>\n",
       "      <td>...</td>\n",
       "      <td>0</td>\n",
       "      <td>1</td>\n",
       "      <td>1</td>\n",
       "      <td>0</td>\n",
       "      <td>1</td>\n",
       "      <td>1</td>\n",
       "      <td>0</td>\n",
       "      <td>0</td>\n",
       "      <td>1</td>\n",
       "      <td>1</td>\n",
       "    </tr>\n",
       "    <tr>\n",
       "      <th>4856</th>\n",
       "      <td>T</td>\n",
       "      <td>Chr07</td>\n",
       "      <td>1048126.0</td>\n",
       "      <td>C</td>\n",
       "      <td>1</td>\n",
       "      <td>1</td>\n",
       "      <td>1</td>\n",
       "      <td>1</td>\n",
       "      <td>1</td>\n",
       "      <td>1</td>\n",
       "      <td>...</td>\n",
       "      <td>0</td>\n",
       "      <td>1</td>\n",
       "      <td>1</td>\n",
       "      <td>0</td>\n",
       "      <td>1</td>\n",
       "      <td>1</td>\n",
       "      <td>0</td>\n",
       "      <td>0</td>\n",
       "      <td>1</td>\n",
       "      <td>1</td>\n",
       "    </tr>\n",
       "    <tr>\n",
       "      <th>4857</th>\n",
       "      <td>C</td>\n",
       "      <td>Chr07</td>\n",
       "      <td>1101035.0</td>\n",
       "      <td>G</td>\n",
       "      <td>1</td>\n",
       "      <td>0</td>\n",
       "      <td>0</td>\n",
       "      <td>0</td>\n",
       "      <td>0</td>\n",
       "      <td>0</td>\n",
       "      <td>...</td>\n",
       "      <td>0</td>\n",
       "      <td>1</td>\n",
       "      <td>0</td>\n",
       "      <td>0</td>\n",
       "      <td>0</td>\n",
       "      <td>1</td>\n",
       "      <td>0</td>\n",
       "      <td>0</td>\n",
       "      <td>1</td>\n",
       "      <td>1</td>\n",
       "    </tr>\n",
       "    <tr>\n",
       "      <th>4858</th>\n",
       "      <td>A</td>\n",
       "      <td>Chr07</td>\n",
       "      <td>1101217.0</td>\n",
       "      <td>G</td>\n",
       "      <td>1</td>\n",
       "      <td>0</td>\n",
       "      <td>0</td>\n",
       "      <td>0</td>\n",
       "      <td>0</td>\n",
       "      <td>0</td>\n",
       "      <td>...</td>\n",
       "      <td>0</td>\n",
       "      <td>1</td>\n",
       "      <td>0</td>\n",
       "      <td>0</td>\n",
       "      <td>0</td>\n",
       "      <td>1</td>\n",
       "      <td>0</td>\n",
       "      <td>0</td>\n",
       "      <td>1</td>\n",
       "      <td>1</td>\n",
       "    </tr>\n",
       "  </tbody>\n",
       "</table>\n",
       "<p>4 rows × 98 columns</p>\n",
       "</div>"
      ],
      "text/plain": [
       "     Alt  Chrom        Pos Ref  SS-B307  SS-B308  SS-B310  SS-B311  SS-B312  \\\n",
       "4855   G  Chr07  1048031.0   A        1        1        1        1        1   \n",
       "4856   T  Chr07  1048126.0   C        1        1        1        1        1   \n",
       "4857   C  Chr07  1101035.0   G        1        0        0        0        0   \n",
       "4858   A  Chr07  1101217.0   G        1        0        0        0        0   \n",
       "\n",
       "      SS-B313   ...     SS-C029_Correction  SS-C031_Correction  SS-C033  \\\n",
       "4855        1   ...                      0                   1        1   \n",
       "4856        1   ...                      0                   1        1   \n",
       "4857        0   ...                      0                   1        0   \n",
       "4858        0   ...                      0                   1        0   \n",
       "\n",
       "      SS-C036  SS-C039  SS-C242  SS-C271  SS-C272  SS-C290  SS-C291  \n",
       "4855        0        1        1        0        0        1        1  \n",
       "4856        0        1        1        0        0        1        1  \n",
       "4857        0        0        1        0        0        1        1  \n",
       "4858        0        0        1        0        0        1        1  \n",
       "\n",
       "[4 rows x 98 columns]"
      ]
     },
     "execution_count": 19,
     "metadata": {},
     "output_type": "execute_result"
    }
   ],
   "source": [
    "chr_7_geno.ix[4856-1:4856+2,:]"
   ]
  },
  {
   "cell_type": "markdown",
   "metadata": {},
   "source": [
    "## Define the slope and intercept from our genome wideregression analysis"
   ]
  },
  {
   "cell_type": "markdown",
   "metadata": {},
   "source": [
    "### PATCH Sep 2107 Passion regression"
   ]
  },
  {
   "cell_type": "markdown",
   "metadata": {},
   "source": [
    "### This analysis was carried out in Crypto-2-GTC ... "
   ]
  },
  {
   "cell_type": "markdown",
   "metadata": {},
   "source": [
    "## Load in resutls"
   ]
  },
  {
   "cell_type": "code",
   "execution_count": 20,
   "metadata": {
    "collapsed": true
   },
   "outputs": [],
   "source": [
    "gw_res = pd.read_csv('../FILES/Crypto-Genome-wide-Analysis-results-min-haplotype-k6000.csv',index_col=0)"
   ]
  },
  {
   "cell_type": "code",
   "execution_count": 21,
   "metadata": {},
   "outputs": [
    {
     "data": {
      "text/html": [
       "<div>\n",
       "<style>\n",
       "    .dataframe thead tr:only-child th {\n",
       "        text-align: right;\n",
       "    }\n",
       "\n",
       "    .dataframe thead th {\n",
       "        text-align: left;\n",
       "    }\n",
       "\n",
       "    .dataframe tbody tr th {\n",
       "        vertical-align: top;\n",
       "    }\n",
       "</style>\n",
       "<table border=\"1\" class=\"dataframe\">\n",
       "  <thead>\n",
       "    <tr style=\"text-align: right;\">\n",
       "      <th></th>\n",
       "      <th>Intercept</th>\n",
       "      <th>Slope</th>\n",
       "      <th>cM</th>\n",
       "    </tr>\n",
       "  </thead>\n",
       "  <tbody>\n",
       "    <tr>\n",
       "      <th>Uni</th>\n",
       "      <td>0.533046</td>\n",
       "      <td>1.236400</td>\n",
       "      <td>8.087998</td>\n",
       "    </tr>\n",
       "    <tr>\n",
       "      <th>Bi</th>\n",
       "      <td>0.281819</td>\n",
       "      <td>1.934178</td>\n",
       "      <td>5.170154</td>\n",
       "    </tr>\n",
       "  </tbody>\n",
       "</table>\n",
       "</div>"
      ],
      "text/plain": [
       "     Intercept     Slope        cM\n",
       "Uni   0.533046  1.236400  8.087998\n",
       "Bi    0.281819  1.934178  5.170154"
      ]
     },
     "execution_count": 21,
     "metadata": {},
     "output_type": "execute_result"
    }
   ],
   "source": [
    "gw_res"
   ]
  },
  {
   "cell_type": "markdown",
   "metadata": {},
   "source": [
    "#### For the progeny from the uni-sexual reproduction"
   ]
  },
  {
   "cell_type": "code",
   "execution_count": 22,
   "metadata": {},
   "outputs": [
    {
     "name": "stdout",
     "output_type": "stream",
     "text": [
      "0.533046388943\n",
      "1.23639983684\n"
     ]
    }
   ],
   "source": [
    "aun = gw_res['Intercept']['Uni'];print aun\n",
    "bun = gw_res['Slope']['Uni'];print bun"
   ]
  },
  {
   "cell_type": "markdown",
   "metadata": {},
   "source": [
    "#### For the progeny from the bi-sexual reproduction"
   ]
  },
  {
   "cell_type": "code",
   "execution_count": 23,
   "metadata": {},
   "outputs": [
    {
     "name": "stdout",
     "output_type": "stream",
     "text": [
      "0.281818843717\n",
      "1.93417840436\n"
     ]
    }
   ],
   "source": [
    "abi = gw_res['Intercept']['Bi']; print abi\n",
    "bbi = gw_res['Slope']['Bi']; print bbi"
   ]
  },
  {
   "cell_type": "markdown",
   "metadata": {},
   "source": [
    "# Define Intercept and slope from bisexual cross since they have higher expected cross over"
   ]
  },
  {
   "cell_type": "code",
   "execution_count": 24,
   "metadata": {
    "collapsed": true
   },
   "outputs": [],
   "source": [
    "Intercept = 0.98\n",
    "UnS = 1.30\n",
    "BiS = 1.768"
   ]
  },
  {
   "cell_type": "markdown",
   "metadata": {},
   "source": [
    "## Find the breakpts and number of crossovers per IMI"
   ]
  },
  {
   "cell_type": "markdown",
   "metadata": {},
   "source": [
    "###### Per chromosome"
   ]
  },
  {
   "cell_type": "markdown",
   "metadata": {},
   "source": [
    "### Break up genotype dataframes by mode of reproduction "
   ]
  },
  {
   "cell_type": "code",
   "execution_count": 25,
   "metadata": {},
   "outputs": [
    {
     "name": "stdout",
     "output_type": "stream",
     "text": [
      "(86767, 43)\n",
      "(86767, 59)\n"
     ]
    }
   ],
   "source": [
    "genodfbi = genodf[genodf.columns.tolist()[:4]+seg_bi];print genodfbi.shape\n",
    "genodfun = genodf[genodf.columns.tolist()[:4]+seg_un];print genodfun.shape"
   ]
  },
  {
   "cell_type": "markdown",
   "metadata": {},
   "source": [
    "# IMI, Possion Recombination Analysis"
   ]
  },
  {
   "cell_type": "markdown",
   "metadata": {},
   "source": [
    "#### For all the progeny pooled"
   ]
  },
  {
   "cell_type": "code",
   "execution_count": 26,
   "metadata": {
    "collapsed": true
   },
   "outputs": [],
   "source": [
    "dfxtet = [genodf[genodf.columns.tolist()[:4]+basidium] for basidium in xBasidium]"
   ]
  },
  {
   "cell_type": "code",
   "execution_count": 27,
   "metadata": {},
   "outputs": [
    {
     "data": {
      "text/plain": [
       "15"
      ]
     },
     "execution_count": 27,
     "metadata": {},
     "output_type": "execute_result"
    }
   ],
   "source": [
    "len(dfxtet)"
   ]
  },
  {
   "cell_type": "code",
   "execution_count": 28,
   "metadata": {
    "collapsed": true
   },
   "outputs": [],
   "source": [
    "dfxtet.append(genodfun) ## Add the genotype df for the unisexually produced segregants"
   ]
  },
  {
   "cell_type": "code",
   "execution_count": 29,
   "metadata": {},
   "outputs": [
    {
     "data": {
      "text/plain": [
       "16"
      ]
     },
     "execution_count": 29,
     "metadata": {},
     "output_type": "execute_result"
    }
   ],
   "source": [
    "len(dfxtet)"
   ]
  },
  {
   "cell_type": "code",
   "execution_count": 30,
   "metadata": {
    "collapsed": true
   },
   "outputs": [],
   "source": [
    "hotIMIdfsXBasidium = [cryptofxns.IMIandCON(df) for df in dfxtet]\n",
    "hotIMIdfun = cryptofxns.IMIandCON(genodfun)#,aun,bun);\n",
    "hotIMIdfbi = cryptofxns.IMIandCON(genodfbi)#,abi,bbi);"
   ]
  },
  {
   "cell_type": "code",
   "execution_count": 31,
   "metadata": {},
   "outputs": [
    {
     "data": {
      "text/plain": [
       "86753"
      ]
     },
     "execution_count": 31,
     "metadata": {},
     "output_type": "execute_result"
    }
   ],
   "source": [
    "len(hotIMIdfsXBasidium[-1])"
   ]
  },
  {
   "cell_type": "code",
   "execution_count": 32,
   "metadata": {},
   "outputs": [
    {
     "data": {
      "text/plain": [
       "16"
      ]
     },
     "execution_count": 32,
     "metadata": {},
     "output_type": "execute_result"
    }
   ],
   "source": [
    "len(hotIMIdfsXBasidium)"
   ]
  },
  {
   "cell_type": "code",
   "execution_count": 33,
   "metadata": {
    "collapsed": true
   },
   "outputs": [],
   "source": [
    "hotIMIdf = hotIMIdfsXBasidium[-1].copy()"
   ]
  },
  {
   "cell_type": "code",
   "execution_count": 34,
   "metadata": {},
   "outputs": [
    {
     "data": {
      "text/plain": [
       "53540"
      ]
     },
     "execution_count": 34,
     "metadata": {},
     "output_type": "execute_result"
    }
   ],
   "source": [
    "hotIMIdf[(hotIMIdf.Chrom=='Chr07')&(hotIMIdf.XO>49)].index.tolist()[0] ## Remove genetic marker"
   ]
  },
  {
   "cell_type": "code",
   "execution_count": 35,
   "metadata": {},
   "outputs": [
    {
     "name": "stderr",
     "output_type": "stream",
     "text": [
      "/Users/croth/anaconda2/lib/python2.7/site-packages/ipykernel_launcher.py:1: DeprecationWarning: \n",
      ".ix is deprecated. Please use\n",
      ".loc for label based indexing or\n",
      ".iloc for positional indexing\n",
      "\n",
      "See the documentation here:\n",
      "http://pandas.pydata.org/pandas-docs/stable/indexing.html#ix-indexer-is-deprecated\n",
      "  \"\"\"Entry point for launching an IPython kernel.\n"
     ]
    }
   ],
   "source": [
    "hotIMIdf.ix[hotIMIdf[(hotIMIdf.Chrom=='Chr07')&(hotIMIdf.XO>49)].index.tolist()[0],'XO'] = 0"
   ]
  },
  {
   "cell_type": "code",
   "execution_count": 36,
   "metadata": {
    "collapsed": true
   },
   "outputs": [],
   "source": [
    "oldtemp = hotIMIdf.copy()"
   ]
  },
  {
   "cell_type": "code",
   "execution_count": 37,
   "metadata": {
    "collapsed": true
   },
   "outputs": [],
   "source": [
    "IMIdfindex = hotIMIdf.index.tolist()"
   ]
  },
  {
   "cell_type": "markdown",
   "metadata": {},
   "source": [
    "## For the basidiums, take unique crossover events "
   ]
  },
  {
   "cell_type": "code",
   "execution_count": 38,
   "metadata": {},
   "outputs": [
    {
     "name": "stderr",
     "output_type": "stream",
     "text": [
      "/Users/croth/anaconda2/lib/python2.7/site-packages/ipykernel_launcher.py:3: DeprecationWarning: \n",
      ".ix is deprecated. Please use\n",
      ".loc for label based indexing or\n",
      ".iloc for positional indexing\n",
      "\n",
      "See the documentation here:\n",
      "http://pandas.pydata.org/pandas-docs/stable/indexing.html#ix-indexer-is-deprecated\n",
      "  This is separate from the ipykernel package so we can avoid doing imports until\n"
     ]
    }
   ],
   "source": [
    "for df in hotIMIdfsXBasidium[:-1]:\n",
    "    for i in IMIdfindex:\n",
    "        if df.ix[i,'XO'] > 0:\n",
    "            hotIMIdf.ix[i,'XO'] = hotIMIdf.ix[i,'XO'] + 1"
   ]
  },
  {
   "cell_type": "markdown",
   "metadata": {},
   "source": [
    "### Check our work"
   ]
  },
  {
   "cell_type": "code",
   "execution_count": 39,
   "metadata": {},
   "outputs": [
    {
     "name": "stderr",
     "output_type": "stream",
     "text": [
      "/Users/croth/anaconda2/lib/python2.7/site-packages/ipykernel_launcher.py:2: DeprecationWarning: \n",
      ".ix is deprecated. Please use\n",
      ".loc for label based indexing or\n",
      ".iloc for positional indexing\n",
      "\n",
      "See the documentation here:\n",
      "http://pandas.pydata.org/pandas-docs/stable/indexing.html#ix-indexer-is-deprecated\n",
      "  \n"
     ]
    }
   ],
   "source": [
    "for i in IMIdfindex:\n",
    "    assert hotIMIdf.ix[i,'XO'] >= oldtemp.ix[i,'XO']"
   ]
  },
  {
   "cell_type": "code",
   "execution_count": 40,
   "metadata": {},
   "outputs": [
    {
     "data": {
      "image/png": "[encoded data removed]",
      "text/plain": [
       "<matplotlib.figure.Figure at 0x1a174b2450>"
      ]
     },
     "metadata": {},
     "output_type": "display_data"
    }
   ],
   "source": [
    "plt.plot(hotIMIdf[(hotIMIdf.Chrom=='Chr01')&(hotIMIdf.XO>0)].XO,'.');\n",
    "plt.plot(oldtemp[(oldtemp.Chrom=='Chr01')&(oldtemp.XO>0)].XO,'.');"
   ]
  },
  {
   "cell_type": "markdown",
   "metadata": {},
   "source": [
    "## Collapse dataframes into one"
   ]
  },
  {
   "cell_type": "code",
   "execution_count": 41,
   "metadata": {
    "collapsed": true
   },
   "outputs": [],
   "source": [
    "## Add the cross overs seperated via mating group\n",
    "hotIMIdf['uXO'] = hotIMIdfun['XO']\n",
    "hotIMIdf['bXO'] = hotIMIdfbi['XO']\n",
    "## Add positional vector\n",
    "hotIMIdf['Pos'] = [np.mean([hotIMIdf.W[i],hotIMIdf.V[i]]) for i in hotIMIdf.index.tolist()]\n",
    "hotIMIdf = hotIMIdf[hotIMIdf.IMI>1]"
   ]
  },
  {
   "cell_type": "code",
   "execution_count": 42,
   "metadata": {},
   "outputs": [
    {
     "data": {
      "text/html": [
       "<div>\n",
       "<style>\n",
       "    .dataframe thead tr:only-child th {\n",
       "        text-align: right;\n",
       "    }\n",
       "\n",
       "    .dataframe thead th {\n",
       "        text-align: left;\n",
       "    }\n",
       "\n",
       "    .dataframe tbody tr th {\n",
       "        vertical-align: top;\n",
       "    }\n",
       "</style>\n",
       "<table border=\"1\" class=\"dataframe\">\n",
       "  <thead>\n",
       "    <tr style=\"text-align: right;\">\n",
       "      <th></th>\n",
       "      <th>Chrom</th>\n",
       "      <th>W</th>\n",
       "      <th>V</th>\n",
       "      <th>IMI</th>\n",
       "      <th>XO</th>\n",
       "      <th>uXO</th>\n",
       "      <th>bXO</th>\n",
       "      <th>Pos</th>\n",
       "    </tr>\n",
       "  </thead>\n",
       "  <tbody>\n",
       "  </tbody>\n",
       "</table>\n",
       "</div>"
      ],
      "text/plain": [
       "Empty DataFrame\n",
       "Columns: [Chrom, W, V, IMI, XO, uXO, bXO, Pos]\n",
       "Index: []"
      ]
     },
     "execution_count": 42,
     "metadata": {},
     "output_type": "execute_result"
    }
   ],
   "source": [
    "hotIMIdf[hotIMIdf.IMI==0]"
   ]
  },
  {
   "cell_type": "code",
   "execution_count": 43,
   "metadata": {
    "collapsed": true
   },
   "outputs": [],
   "source": [
    "reload(cryptofxns);"
   ]
  },
  {
   "cell_type": "code",
   "execution_count": 44,
   "metadata": {},
   "outputs": [
    {
     "data": {
      "text/plain": [
       "82961"
      ]
     },
     "execution_count": 44,
     "metadata": {},
     "output_type": "execute_result"
    }
   ],
   "source": [
    "len(hotIMIdf[hotIMIdf.IMI>0])"
   ]
  },
  {
   "cell_type": "code",
   "execution_count": 45,
   "metadata": {},
   "outputs": [
    {
     "data": {
      "text/html": [
       "<div>\n",
       "<style>\n",
       "    .dataframe thead tr:only-child th {\n",
       "        text-align: right;\n",
       "    }\n",
       "\n",
       "    .dataframe thead th {\n",
       "        text-align: left;\n",
       "    }\n",
       "\n",
       "    .dataframe tbody tr th {\n",
       "        vertical-align: top;\n",
       "    }\n",
       "</style>\n",
       "<table border=\"1\" class=\"dataframe\">\n",
       "  <thead>\n",
       "    <tr style=\"text-align: right;\">\n",
       "      <th></th>\n",
       "      <th>Chrom</th>\n",
       "      <th>W</th>\n",
       "      <th>V</th>\n",
       "      <th>IMI</th>\n",
       "      <th>XO</th>\n",
       "      <th>uXO</th>\n",
       "      <th>bXO</th>\n",
       "      <th>Pos</th>\n",
       "    </tr>\n",
       "  </thead>\n",
       "  <tbody>\n",
       "  </tbody>\n",
       "</table>\n",
       "</div>"
      ],
      "text/plain": [
       "Empty DataFrame\n",
       "Columns: [Chrom, W, V, IMI, XO, uXO, bXO, Pos]\n",
       "Index: []"
      ]
     },
     "execution_count": 45,
     "metadata": {},
     "output_type": "execute_result"
    }
   ],
   "source": [
    "hotIMIdf[(hotIMIdf.IMI==1) & (hotIMIdf.XO > 0)]"
   ]
  },
  {
   "cell_type": "code",
   "execution_count": 46,
   "metadata": {
    "collapsed": true
   },
   "outputs": [],
   "source": [
    "hotIMIdf = hotIMIdf[hotIMIdf.IMI>0].reset_index(drop=True).copy()"
   ]
  },
  {
   "cell_type": "code",
   "execution_count": 47,
   "metadata": {},
   "outputs": [
    {
     "data": {
      "text/html": [
       "<div>\n",
       "<style>\n",
       "    .dataframe thead tr:only-child th {\n",
       "        text-align: right;\n",
       "    }\n",
       "\n",
       "    .dataframe thead th {\n",
       "        text-align: left;\n",
       "    }\n",
       "\n",
       "    .dataframe tbody tr th {\n",
       "        vertical-align: top;\n",
       "    }\n",
       "</style>\n",
       "<table border=\"1\" class=\"dataframe\">\n",
       "  <thead>\n",
       "    <tr style=\"text-align: right;\">\n",
       "      <th></th>\n",
       "      <th>0</th>\n",
       "      <th>1</th>\n",
       "    </tr>\n",
       "  </thead>\n",
       "  <tbody>\n",
       "    <tr>\n",
       "      <th>Chr10</th>\n",
       "      <td>802373</td>\n",
       "      <td>882178</td>\n",
       "    </tr>\n",
       "    <tr>\n",
       "      <th>Chr11</th>\n",
       "      <td>139615</td>\n",
       "      <td>178627</td>\n",
       "    </tr>\n",
       "    <tr>\n",
       "      <th>Chr12</th>\n",
       "      <td>129462</td>\n",
       "      <td>176276</td>\n",
       "    </tr>\n",
       "    <tr>\n",
       "      <th>Chr13</th>\n",
       "      <td>122411</td>\n",
       "      <td>182012</td>\n",
       "    </tr>\n",
       "    <tr>\n",
       "      <th>Chr14</th>\n",
       "      <td>568029</td>\n",
       "      <td>644419</td>\n",
       "    </tr>\n",
       "  </tbody>\n",
       "</table>\n",
       "</div>"
      ],
      "text/plain": [
       "            0       1\n",
       "Chr10  802373  882178\n",
       "Chr11  139615  178627\n",
       "Chr12  129462  176276\n",
       "Chr13  122411  182012\n",
       "Chr14  568029  644419"
      ]
     },
     "execution_count": 47,
     "metadata": {},
     "output_type": "execute_result"
    }
   ],
   "source": [
    "centromeredf = cryptofxns.load_centrom_locs();\n",
    "centromeredf.tail()"
   ]
  },
  {
   "cell_type": "code",
   "execution_count": 48,
   "metadata": {},
   "outputs": [
    {
     "data": {
      "text/html": [
       "<div>\n",
       "<style>\n",
       "    .dataframe thead tr:only-child th {\n",
       "        text-align: right;\n",
       "    }\n",
       "\n",
       "    .dataframe thead th {\n",
       "        text-align: left;\n",
       "    }\n",
       "\n",
       "    .dataframe tbody tr th {\n",
       "        vertical-align: top;\n",
       "    }\n",
       "</style>\n",
       "<table border=\"1\" class=\"dataframe\">\n",
       "  <thead>\n",
       "    <tr style=\"text-align: right;\">\n",
       "      <th></th>\n",
       "      <th>Chrom</th>\n",
       "      <th>W</th>\n",
       "      <th>V</th>\n",
       "      <th>IMI</th>\n",
       "      <th>XO</th>\n",
       "      <th>uXO</th>\n",
       "      <th>bXO</th>\n",
       "      <th>Pos</th>\n",
       "    </tr>\n",
       "  </thead>\n",
       "  <tbody>\n",
       "    <tr>\n",
       "      <th>72854</th>\n",
       "      <td>Chr12</td>\n",
       "      <td>129848.0</td>\n",
       "      <td>129909.0</td>\n",
       "      <td>60</td>\n",
       "      <td>1.0</td>\n",
       "      <td>1.0</td>\n",
       "      <td>0.0</td>\n",
       "      <td>129878.5</td>\n",
       "    </tr>\n",
       "  </tbody>\n",
       "</table>\n",
       "</div>"
      ],
      "text/plain": [
       "       Chrom         W         V  IMI   XO  uXO  bXO       Pos\n",
       "72854  Chr12  129848.0  129909.0   60  1.0  1.0  0.0  129878.5"
      ]
     },
     "execution_count": 48,
     "metadata": {},
     "output_type": "execute_result"
    }
   ],
   "source": [
    "hotIMIdf[(hotIMIdf.Chrom=='Chr12') &(hotIMIdf.W > 129462) & (hotIMIdf.V < 176276) & (hotIMIdf.XO > 0)]"
   ]
  },
  {
   "cell_type": "code",
   "execution_count": 49,
   "metadata": {},
   "outputs": [
    {
     "data": {
      "text/html": [
       "<div>\n",
       "<style>\n",
       "    .dataframe thead tr:only-child th {\n",
       "        text-align: right;\n",
       "    }\n",
       "\n",
       "    .dataframe thead th {\n",
       "        text-align: left;\n",
       "    }\n",
       "\n",
       "    .dataframe tbody tr th {\n",
       "        vertical-align: top;\n",
       "    }\n",
       "</style>\n",
       "<table border=\"1\" class=\"dataframe\">\n",
       "  <thead>\n",
       "    <tr style=\"text-align: right;\">\n",
       "      <th></th>\n",
       "      <th>Chrom</th>\n",
       "      <th>W</th>\n",
       "      <th>V</th>\n",
       "      <th>IMI</th>\n",
       "      <th>XO</th>\n",
       "      <th>uXO</th>\n",
       "      <th>bXO</th>\n",
       "      <th>Pos</th>\n",
       "    </tr>\n",
       "  </thead>\n",
       "  <tbody>\n",
       "    <tr>\n",
       "      <th>4633</th>\n",
       "      <td>Chr01</td>\n",
       "      <td>997193.0</td>\n",
       "      <td>997598.0</td>\n",
       "      <td>404</td>\n",
       "      <td>1.0</td>\n",
       "      <td>0.0</td>\n",
       "      <td>1.0</td>\n",
       "      <td>997395.5</td>\n",
       "    </tr>\n",
       "  </tbody>\n",
       "</table>\n",
       "</div>"
      ],
      "text/plain": [
       "      Chrom         W         V  IMI   XO  uXO  bXO       Pos\n",
       "4633  Chr01  997193.0  997598.0  404  1.0  0.0  1.0  997395.5"
      ]
     },
     "execution_count": 49,
     "metadata": {},
     "output_type": "execute_result"
    }
   ],
   "source": [
    "hotIMIdf[(hotIMIdf.Chrom=='Chr01') &(hotIMIdf.W > 937505) & (hotIMIdf.V < 998062) & (hotIMIdf.XO > 0)]"
   ]
  },
  {
   "cell_type": "code",
   "execution_count": 50,
   "metadata": {},
   "outputs": [
    {
     "name": "stdout",
     "output_type": "stream",
     "text": [
      "1.0\n",
      "0.0\n",
      "0.0\n",
      "0.0\n",
      "0.0\n",
      "0.0\n",
      "0.0\n",
      "0.0\n",
      "0.0\n",
      "0.0\n",
      "0.0\n",
      "1.0\n",
      "0.0\n",
      "0.0\n"
     ]
    }
   ],
   "source": [
    "for chrom in chrlist:\n",
    "    print hotIMIdf[(hotIMIdf.Chrom==chrom) & (hotIMIdf.W > centromeredf.T[chrom][0]) &\n",
    "                   (hotIMIdf.V < centromeredf.T[chrom][1]) ].XO.sum()"
   ]
  },
  {
   "cell_type": "code",
   "execution_count": 51,
   "metadata": {
    "collapsed": true
   },
   "outputs": [],
   "source": [
    "cent_drop_in = []\n",
    "for chrom in chrlist:\n",
    "    cent_drop_in.append(hotIMIdf[(hotIMIdf.Chrom==chrom) & (hotIMIdf.W > centromeredf.T[chrom][0]) &\n",
    "                   (hotIMIdf.V < centromeredf.T[chrom][1]) ].index.tolist())"
   ]
  },
  {
   "cell_type": "code",
   "execution_count": 52,
   "metadata": {
    "collapsed": true
   },
   "outputs": [],
   "source": [
    "assert len(np.unique(np.concatenate(cent_drop_in))) == len(np.concatenate(cent_drop_in))"
   ]
  },
  {
   "cell_type": "code",
   "execution_count": 53,
   "metadata": {
    "collapsed": true
   },
   "outputs": [],
   "source": [
    "cent_drop_in = np.concatenate(cent_drop_in)"
   ]
  },
  {
   "cell_type": "code",
   "execution_count": 54,
   "metadata": {
    "collapsed": true
   },
   "outputs": [],
   "source": [
    "hotIMIdf_centdrop = hotIMIdf.drop(cent_drop_in)"
   ]
  },
  {
   "cell_type": "code",
   "execution_count": 55,
   "metadata": {},
   "outputs": [
    {
     "data": {
      "text/plain": [
       "82961"
      ]
     },
     "execution_count": 55,
     "metadata": {},
     "output_type": "execute_result"
    }
   ],
   "source": [
    "len(hotIMIdf)"
   ]
  },
  {
   "cell_type": "code",
   "execution_count": 56,
   "metadata": {
    "collapsed": true
   },
   "outputs": [],
   "source": [
    "hotIMIdf_centdrop.reset_index(inplace=True,drop=True)"
   ]
  },
  {
   "cell_type": "code",
   "execution_count": 57,
   "metadata": {},
   "outputs": [
    {
     "data": {
      "text/plain": [
       "82132"
      ]
     },
     "execution_count": 57,
     "metadata": {},
     "output_type": "execute_result"
    }
   ],
   "source": [
    "len(hotIMIdf_centdrop)"
   ]
  },
  {
   "cell_type": "markdown",
   "metadata": {},
   "source": [
    "# Windowed Recombination Hot Spot Analysis"
   ]
  },
  {
   "cell_type": "code",
   "execution_count": 58,
   "metadata": {
    "collapsed": true
   },
   "outputs": [],
   "source": [
    "def poisson_test(X,MuXws,twosided=True,hotorcold=True,COmax=31,nsegs = 94,ws=7.5e4,Mb=1e6):\n",
    "    maxX = max(X)\n",
    "    if maxX > COmax:\n",
    "        COmax = maxX + 2\n",
    "    #MuXws = (a + (b/(Mb))*ws*nsegs)\n",
    "    Co_rang = np.arange(0,COmax);\n",
    "    Pvals = ss.poisson.pmf(Co_rang-1,MuXws);\n",
    "    #plt.plot(Co_rang,Pvals);\n",
    "    pval = [];\n",
    "    if twosided is True:\n",
    "        for x in X: ## Two sided test, looking for hot and cold spots. \n",
    "            if (x > -1) and (x < MuXws):\n",
    "                pval.append(ss.poisson.cdf(x,MuXws))##sum([ss.poisson.pmf(x+1,MuXws) for x in range(0,int(x+1))]))\n",
    "            elif (x > -1) and (x >= MuXws):\n",
    "                pval.append(ss.poisson.sf(x,MuXws))#sum([ss.poisson.pmf(x-1,MuXws) for x in range(int(x),int(COmax))]))\n",
    "            else:\n",
    "                pval.append(1)\n",
    "    else: ## One side test, searching for either just hot or just cold. \n",
    "        if hotorcold is True:\n",
    "            pval = [sum([ss.poisson.pmf(x-1,MuXws) for x in range(int(x),int(COmax))]) for x in X \n",
    "                    if x not in [np.nan]];\n",
    "        else:\n",
    "            pval = [sum([ss.poisson.pmf(x+1,MuXws) for x in range(0,int(x+1))]) for x in X if x not in [np.nan]];\n",
    "    return pval#,MuXws\n",
    "\n",
    "def bins_corrdinates(temp,centdf,clen,ws,lim=2.0):\n",
    "            ## constuct bins\n",
    "    midpt = round(clen/2.0) ## find mid point of chomosome\n",
    "    Vend = temp.V.max() ## Farthest marker to the right\n",
    "    Wsta = temp.W.min() ## Earliest marker from the left\n",
    "    rbin = [];rbin.append(midpt)\n",
    "    lbin = [];lbin.append(midpt)\n",
    "    while rbin[-1] < Vend -(ws/lim): ## Right\n",
    "        rbin.append(rbin[-1]+ws)\n",
    "    while lbin[-1] > Wsta + (ws/lim):## Left\n",
    "        lbin.append(lbin[-1]-ws)\n",
    "    bins_cor = sorted(lbin)[:-1] + rbin\n",
    "    cent_drop = [i for i in range(len(bins_cor)-1) if (bins_cor[i] >= centdf[0]) & (bins_cor[i+1] <= centdf[1])]\n",
    "    for i in cent_drop:\n",
    "        bins_cor.pop(i) \n",
    "    return bins_cor\n",
    "\n",
    "def bins_corrdinates2(temp,centdf,clen,ws,lim=2.0):\n",
    "    ## constuct bins from centromeres. \n",
    "    midpt = round(clen/2.0) ## find mid point of chomosome\n",
    "    Vend = temp.V.max() ## Farthest marker to the right\n",
    "    Wsta = temp.W.min() ## Earliest marker from the left\n",
    "    rbin = [centdf[1]];#rbin.append(midpt)\n",
    "    lbin = [centdf[0]];#lbin.append(midpt)\n",
    "    while rbin[-1] < Vend -(ws/lim): ## Right\n",
    "        rbin.append(rbin[-1]+ws)\n",
    "    while lbin[-1] > Wsta + (ws/lim):## Left\n",
    "        lbin.append(lbin[-1]-ws)\n",
    "    bins_cor = sorted(lbin)[:-1] + rbin\n",
    "    cent_drop = [i for i in range(len(bins_cor)-1) if (bins_cor[i] >= centdf[0]) & (bins_cor[i+1] <= centdf[1])]\n",
    "    for i in cent_drop:\n",
    "        bins_cor.pop(i) \n",
    "    return bins_cor\n",
    "    \n",
    "def bined_recomb(df,centromers,clens,ws,chrlist=None,XO='XO',verbose = False):\n",
    "    if chrlist is None:\n",
    "        chrlist = df.Chrom.unique().tolist()\n",
    "    chrom_COs = [];chrom_bins=[];\n",
    "    for ch,chrom in enumerate(chrlist):\n",
    "        temp = df[df.Chrom == chrom];\n",
    "        tempCOs = []#start = temp.W.min()\n",
    "        bins = bins_corrdinates2(temp,centromers.T[chrom],clens[ch],ws) ## calculate bins\n",
    "        for i in range(len(bins)-1):#while start+(ws/2.0) < temp.V.max():#clens[int(chrom[3:])-1]:\n",
    "            wintemp = temp[(temp.V > bins[i])&\n",
    "                           (temp.W < bins[i+1])]#wintemp = temp[(temp.V > start)&(temp.W < start + ws)];\n",
    "            if len(wintemp) > 1:#0:\n",
    "                tempCOs.append(int(wintemp[XO].sum()))   \n",
    "            else:\n",
    "                tempCOs.append(-1)\n",
    "                if verbose == True:\n",
    "                    print \"No markers\",chrom,ws#, start, start + ws\n",
    "                \n",
    "            #start = start + ws\n",
    "        chrom_COs.append(tempCOs)\n",
    "        chrom_bins.append(bins)\n",
    "    return chrom_COs,chrom_bins\n",
    "\n",
    "def HB(s,alpha):\n",
    "    n = len(s);\n",
    "    print n\n",
    "    bi = sorted(range(len(s)), key=lambda k: s[k]);\n",
    "    res = [];\n",
    "    for i,bix in enumerate(bi):\n",
    "        print bi\n",
    "        hb = float(alpha) / (n - i)\n",
    "        print s[bix]\n",
    "        print hb\n",
    "        if s[bix] < hb:\n",
    "            res.append(bix)\n",
    "        else:\n",
    "            print 'finished'\n",
    "            break\n",
    "    return res"
   ]
  },
  {
   "cell_type": "markdown",
   "metadata": {},
   "source": [
    "templ = bins_corrdinates(hotIMIdf[(hotIMIdf.Chrom=='Chr14')],clens[-1],41500)\n",
    "tempr = np.array(templ) + 41500"
   ]
  },
  {
   "cell_type": "markdown",
   "metadata": {},
   "source": [
    "len(templ)"
   ]
  },
  {
   "cell_type": "markdown",
   "metadata": {
    "collapsed": true
   },
   "source": [
    "cent_drop = [i for i in range(len(templ)-1) if (templ[i] >= 568029) & (templ[i+1] <= 644419)]"
   ]
  },
  {
   "cell_type": "markdown",
   "metadata": {
    "collapsed": true
   },
   "source": [
    "for i in cent_drop:\n",
    "    templ.pop(i) "
   ]
  },
  {
   "cell_type": "markdown",
   "metadata": {},
   "source": [
    "len(templ)"
   ]
  },
  {
   "cell_type": "code",
   "execution_count": 59,
   "metadata": {},
   "outputs": [
    {
     "data": {
      "text/plain": [
       "0.9999397307168428"
      ]
     },
     "execution_count": 59,
     "metadata": {},
     "output_type": "execute_result"
    }
   ],
   "source": [
    "len([a for a in hotIMIdf.IMI.tolist() if a < 53000]) / float(len(hotIMIdf.IMI.tolist()))"
   ]
  },
  {
   "cell_type": "code",
   "execution_count": 60,
   "metadata": {
    "collapsed": true
   },
   "outputs": [],
   "source": [
    "from statsmodels.sandbox.stats.multicomp import multipletests as mltptest\n",
    "## THE CONTROL OF THE FALSE DISCOVERY RATE IN MULTIPLE TESTING UNDER DEPENDENCY\n",
    "## By Yoav Benjamini and Daniel Yekutieli\n",
    "## The Annals of Statistics 2001, Vol. 29, No. 4, 1165–1188"
   ]
  },
  {
   "cell_type": "markdown",
   "metadata": {},
   "source": [
    "## Define Variables"
   ]
  },
  {
   "cell_type": "code",
   "execution_count": 61,
   "metadata": {
    "collapsed": true
   },
   "outputs": [],
   "source": [
    "Mb = 1000**2; ## A megabase\n",
    "nsegs = 94; ## Number of segregants\n",
    "al = 0.05/2; ## my alpha level\n",
    "#Ws = 52500 ## Window size determined previously"
   ]
  },
  {
   "cell_type": "markdown",
   "metadata": {},
   "source": [
    "## Define Windows"
   ]
  },
  {
   "cell_type": "code",
   "execution_count": 62,
   "metadata": {
    "collapsed": true
   },
   "outputs": [],
   "source": [
    "#acM = round(gw_res['cM']['Bi']*1000) ## A centiMorgan\n",
    "#Ws = acM*10 ## 10X a centimorgan\n",
    "delta_wss = 500\n",
    "wss_start = delta_wss\n",
    "wss_max = 100000 + delta_wss\n",
    "wss = sorted(list(np.arange(wss_start,wss_max,delta_wss)))#+[acM,Ws]) ## Windows "
   ]
  },
  {
   "cell_type": "markdown",
   "metadata": {
    "collapsed": true
   },
   "source": [
    "delta_wss = 250\n",
    "wss_start = 50000 \n",
    "wss_max = 60000 + delta_wss\n",
    "wss = sorted(list(np.arange(wss_start,wss_max,delta_wss)) + [51700,52500])"
   ]
  },
  {
   "cell_type": "markdown",
   "metadata": {},
   "source": [
    "## Explore the effect of window size on hot and cold spot detection"
   ]
  },
  {
   "cell_type": "markdown",
   "metadata": {},
   "source": [
    "wss_results = [];\n",
    "for ws in wss:\n",
    "    n = [];\n",
    "    #MuX = (abi + (bbi/(Mb))*ws*nsegs); ## The Poisson average using linear anova results \n",
    "    #MuX = Intercept + (BiS/Mb)*ws*nsegs ## using Poisson regression results\n",
    "    MuX = (1.3*(1.77**(float(Mb)/Mb))/1)*(float(ws)/Mb)*nsegs\n",
    "    print MuX,ws\n",
    "    wind_cos,wind_bins = bined_recomb(hotIMIdf,centromeredf,clens,ws=ws,verbose=False) \n",
    "    COMax = np.max(np.concatenate(wind_cos))\n",
    "    #wind_pval = [poisson_test(w,abi,bbi,COmax=COMax,ws=ws) for w in wind_cos]\n",
    "    wind_pval = [poisson_test(w,MuX,COmax=COMax,ws=ws) for w in wind_cos]\n",
    "    test = mltptest(np.concatenate(wind_pval),method='fdr_by',alpha=al)\n",
    "    for i,a in enumerate(test[0]):\n",
    "        if a == True:\n",
    "            if np.concatenate(wind_cos)[i] < MuX:\n",
    "                n.append(0)\n",
    "            else:\n",
    "                n.append(1)\n",
    "    wss_results.append(n);"
   ]
  },
  {
   "cell_type": "markdown",
   "metadata": {
    "collapsed": true
   },
   "source": [
    "Total_spots = []\n",
    "n_hot_spots = []\n",
    "n_col_spots = []\n",
    "for wss_ in wss_results:\n",
    "    Total_spots.append(len(wss_))\n",
    "    n_hot_spots.append(len([a for a in wss_ if a == 1]))\n",
    "    n_col_spots.append(len([b for b in wss_ if b == 0]))"
   ]
  },
  {
   "cell_type": "markdown",
   "metadata": {
    "collapsed": true
   },
   "source": [
    "mindifs = [abs(n_col_spots[i]- n_hot_spots[i]) for i,b in enumerate(n_col_spots)]\n",
    "minix = mindifs.index(np.min(mindifs))"
   ]
  },
  {
   "cell_type": "markdown",
   "metadata": {},
   "source": [
    "plt.plot(wss,n_hot_spots,'r.',alpha=0.5,label='Hot Spots');\n",
    "plt.plot(wss,n_col_spots,'b.',alpha=0.5,label='Cold Spots');\n",
    "plt.xlabel('Bin Size (bp)',fontsize='16');plt.legend();\n",
    "plt.ylabel('Number of Significant Bins',fontsize='16');\n",
    "plt.vlines(wss[minix],-10,n_col_spots[minix],linestyle='--',linewidth=.5);\n",
    "plt.ylim(-1,400);plt.tight_layout();\n",
    "#plt.savefig('../FIGS/Crypto-04-Simulation-on-binsize-HandC-Genome-Wide-%s-Feb2018.png'%wss[minix],dpi=1200,bbox_inches='tight')"
   ]
  },
  {
   "cell_type": "markdown",
   "metadata": {},
   "source": [
    "# Remove IMI in URA5 region"
   ]
  },
  {
   "cell_type": "code",
   "execution_count": 63,
   "metadata": {},
   "outputs": [
    {
     "name": "stdout",
     "output_type": "stream",
     "text": [
      "9\n",
      "False\n"
     ]
    }
   ],
   "source": [
    "uraWs = 5000\n",
    "reload(cryptofxns)\n",
    "A =  cryptofxns.ura5_start - uraWs\n",
    "B =  cryptofxns.ura5_end + uraWs\n",
    "NAT_chr7_region_in = hotIMIdf[(hotIMIdf.Chrom == 'Chr07') & (hotIMIdf.V > A) & (hotIMIdf.W < B)].index.tolist()\n",
    "print len(NAT_chr7_region_in)\n",
    "hotIMIdf.drop(NAT_chr7_region_in,inplace=True)\n",
    "print NAT_chr7_region_in[0] in hotIMIdf.index.tolist()"
   ]
  },
  {
   "cell_type": "code",
   "execution_count": 66,
   "metadata": {},
   "outputs": [
    {
     "name": "stdout",
     "output_type": "stream",
     "text": [
      "8.93809661103 41500\n"
     ]
    }
   ],
   "source": [
    "Ws = 41500#wss[minix]#32500#50000#51700#100000.0#51700\n",
    "bi_inter = 1.295915\n",
    "co_rate =  1.768042\n",
    "MuX = (bi_inter*(co_rate**(float(Mb)/Mb)))*(float(Ws)/Mb)*nsegs\n",
    "print MuX,Ws"
   ]
  },
  {
   "cell_type": "code",
   "execution_count": 67,
   "metadata": {},
   "outputs": [
    {
     "name": "stdout",
     "output_type": "stream",
     "text": [
      "No markers Chr05 41500\n"
     ]
    }
   ],
   "source": [
    "#MuX = (abi + (bbi/(Mb))*Ws*nsegs); ## The poisson average. \n",
    "wind_cos,wind_bins = bined_recomb(hotIMIdf,centromeredf,clens,Ws,verbose=True) \n",
    "COMax = np.max(np.concatenate(wind_cos))\n",
    "wind_pval = [poisson_test(w,MuX,COmax=COMax,ws=Ws) for w in wind_cos]\n",
    "test1 = mltptest(np.concatenate(wind_pval),method='fdr_by',alpha=al)"
   ]
  },
  {
   "cell_type": "code",
   "execution_count": 68,
   "metadata": {},
   "outputs": [
    {
     "data": {
      "text/plain": [
       "53"
      ]
     },
     "execution_count": 68,
     "metadata": {},
     "output_type": "execute_result"
    }
   ],
   "source": [
    "len(wind_cos[0])"
   ]
  },
  {
   "cell_type": "code",
   "execution_count": 69,
   "metadata": {},
   "outputs": [
    {
     "data": {
      "text/plain": [
       "84"
      ]
     },
     "execution_count": 69,
     "metadata": {},
     "output_type": "execute_result"
    }
   ],
   "source": [
    "len([a for a in test1[0] if a == True])"
   ]
  },
  {
   "cell_type": "code",
   "execution_count": 70,
   "metadata": {
    "collapsed": true
   },
   "outputs": [],
   "source": [
    "wind_pvals_lens = [len(wind_pval[i]) for i in range(14)]"
   ]
  },
  {
   "cell_type": "code",
   "execution_count": 71,
   "metadata": {},
   "outputs": [
    {
     "data": {
      "text/plain": [
       "[53, 38, 48, 41, 34, 33, 31, 25, 27, 24, 23, 20, 17, 16]"
      ]
     },
     "execution_count": 71,
     "metadata": {},
     "output_type": "execute_result"
    }
   ],
   "source": [
    "wind_pvals_lens"
   ]
  },
  {
   "cell_type": "code",
   "execution_count": 72,
   "metadata": {
    "collapsed": true
   },
   "outputs": [],
   "source": [
    "tempindex = [0]\n",
    "for i in range(14):\n",
    "    tempindex.append(tempindex[i] + wind_pvals_lens[i])"
   ]
  },
  {
   "cell_type": "code",
   "execution_count": 73,
   "metadata": {},
   "outputs": [
    {
     "data": {
      "text/plain": [
       "[0, 53, 91, 139, 180, 214, 247, 278, 303, 330, 354, 377, 397, 414, 430]"
      ]
     },
     "execution_count": 73,
     "metadata": {},
     "output_type": "execute_result"
    }
   ],
   "source": [
    "tempindex"
   ]
  },
  {
   "cell_type": "code",
   "execution_count": 74,
   "metadata": {
    "collapsed": true
   },
   "outputs": [],
   "source": [
    "new_test1_index = []\n",
    "for i in range(14):\n",
    "    new_test1_index.append(test1[0][tempindex[i]:tempindex[i+1]])"
   ]
  },
  {
   "cell_type": "code",
   "execution_count": 75,
   "metadata": {
    "collapsed": true
   },
   "outputs": [],
   "source": [
    "for i in range(14):\n",
    "    assert len(new_test1_index[i]) == len(wind_pval[i])"
   ]
  },
  {
   "cell_type": "code",
   "execution_count": 76,
   "metadata": {},
   "outputs": [
    {
     "data": {
      "image/png": "[encoded data removed]",
      "text/plain": [
       "<matplotlib.figure.Figure at 0x1a3b0b5610>"
      ]
     },
     "metadata": {},
     "output_type": "display_data"
    }
   ],
   "source": [
    "plt.hist(np.concatenate(wind_pval));"
   ]
  },
  {
   "cell_type": "code",
   "execution_count": 77,
   "metadata": {},
   "outputs": [
    {
     "data": {
      "text/plain": [
       "0.01368528643310065"
      ]
     },
     "execution_count": 77,
     "metadata": {},
     "output_type": "execute_result"
    }
   ],
   "source": [
    "max(test1[1][test1[0]])"
   ]
  },
  {
   "cell_type": "code",
   "execution_count": 78,
   "metadata": {
    "collapsed": true
   },
   "outputs": [],
   "source": [
    "centromere = cryptofxns.load_centrom_locs();\n",
    "## MAT locus\n",
    "mats = 1529240\n",
    "matst = 1661861\n",
    "signiflist = ['Chr01','Chr02','Chr04','Chr05','Chr08','Chr09']\n",
    "chrompatch = [0,1,3,4,7,8]"
   ]
  },
  {
   "cell_type": "code",
   "execution_count": 79,
   "metadata": {},
   "outputs": [
    {
     "data": {
      "text/plain": [
       "14"
      ]
     },
     "execution_count": 79,
     "metadata": {},
     "output_type": "execute_result"
    }
   ],
   "source": [
    "len(wind_pval)"
   ]
  },
  {
   "cell_type": "markdown",
   "metadata": {
    "collapsed": true
   },
   "source": [
    "new_chrom_len = [round(a,2) for a in np.array(clens)/(1000.0**2)]\n",
    "new_chrom_label = ['Chromosome ' + str(int(chrom[3:])) + '\\n       '+str(new_chrom_len[ch])+' Mb' for ch,chrom in enumerate(chrlist)]"
   ]
  },
  {
   "cell_type": "code",
   "execution_count": 80,
   "metadata": {
    "collapsed": true
   },
   "outputs": [],
   "source": [
    "new_chrom_label = [str(int(chrom[3:])) for chrom in chrlist]"
   ]
  },
  {
   "cell_type": "code",
   "execution_count": 81,
   "metadata": {},
   "outputs": [
    {
     "data": {
      "text/plain": [
       "['1', '2', '3', '4', '5', '6', '7', '8', '9', '10', '11', '12', '13', '14']"
      ]
     },
     "execution_count": 81,
     "metadata": {},
     "output_type": "execute_result"
    }
   ],
   "source": [
    "new_chrom_label"
   ]
  },
  {
   "cell_type": "code",
   "execution_count": 82,
   "metadata": {},
   "outputs": [
    {
     "name": "stdout",
     "output_type": "stream",
     "text": [
      "[0.00032822334633355216, 0.0004135313959522574, 0.00036140450042393125, 0.00033212119949152893, 0.00037778996215413833, 0.00031836526781865916, 0.0003046248581137194, 0.00048740402974373025, 0.00033727223965021217, 0.00039375061523533637, 0.00035274582512410626, 0.0003545153916402434, 0.0004462530348327019, 0.0004047524954425506]\n"
     ]
    }
   ],
   "source": [
    "print [np.mean(hotIMIdf[hotIMIdf.Chrom==chom]['XO'])/len(segs) for chom in chrlist]"
   ]
  },
  {
   "cell_type": "code",
   "execution_count": 83,
   "metadata": {},
   "outputs": [
    {
     "name": "stdout",
     "output_type": "stream",
     "text": [
      "[5.0, 10.0, 4.0, 4.0, 4.0, 11.0, 5.0, 40.0, 4.0, 4.0, 3.0, 4.0, 6.0, 15.0]\n",
      "[2.5, 5.0, 2.0, 2.0, 2.0, 5.5, 2.5, 20.0, 2.0, 2.0, 1.5, 2.0, 3.0, 7.5]\n"
     ]
    }
   ],
   "source": [
    "print [np.max(hotIMIdf[hotIMIdf.Chrom==chom]['XO']) for chom in chrlist]\n",
    "print [np.max(hotIMIdf[hotIMIdf.Chrom==chom]['XO']) - (np.max(hotIMIdf[hotIMIdf.Chrom==chom]['XO'])/2) for chom in chrlist]"
   ]
  },
  {
   "cell_type": "code",
   "execution_count": 84,
   "metadata": {
    "collapsed": true
   },
   "outputs": [],
   "source": [
    "from mpl_toolkits.axes_grid1 import make_axes_locatable"
   ]
  },
  {
   "cell_type": "markdown",
   "metadata": {},
   "source": [
    "ws = Ws\n",
    "HoC_geno = []\n",
    "fig, ax = plt.subplots(nrows=14,figsize=(7,10),sharex=False);\n",
    " \n",
    "for ch,a in enumerate(chrlist):#chrom in chrlist:\n",
    "    test = hotIMIdf[hotIMIdf.Chrom==chrlist[ch]];\n",
    "    start = test.W.min()\n",
    "    hot_region = wind_pval[ch]\n",
    "    hot_cold_sig = new_test1_index[ch]\n",
    "    hot_rec = wind_cos[ch]\n",
    "    hot_win = wind_bins[ch]\n",
    "    y = test['XO']##/len(segs)\n",
    "    x = test['Pos']\n",
    "    myylimmax = np.max(y)\n",
    "    if myylimmax > 5:\n",
    "        axn = ax[ch] \n",
    "        divider = make_axes_locatable(axn)\n",
    "        ax2 = divider.new_vertical(size='100%',pad=.1)\n",
    "        fig.add_axes(ax2);\n",
    "        axn.plot(x, y,'k--',alpha=.5,linewidth=.9);\n",
    "        axn.set_ylim(-2,3)\n",
    "        axn.set_yticks([2])\n",
    "        axn.spines['top'].set_visible(False)\n",
    "        ax2.plot(x, y,'k--',alpha=.5,linewidth=.9);\n",
    "        ax2.set_ylim(myylimmax-3, myylimmax+.5)\n",
    "        ax2.tick_params(bottom=\"off\", labelbottom='off')\n",
    "        ax2.spines['bottom'].set_visible(False)\n",
    "        #d = .005 \n",
    "        #kwargs = dict(transform=ax2.transAxes, color='k', clip_on=False)\n",
    "        #ax2.plot((-d, +d), (-d, +d), **kwargs)        # top-left diagonal\n",
    "        #ax2.plot((1 - d, 1 + d), (-d, +d), **kwargs)  # top-right diagonal\n",
    "\n",
    "        #kwargs.update(transform=axn.transAxes)  # switch to the bottom axes\n",
    "        #axn.plot((-d, +d), (1 - d, 1 + d), **kwargs)  # bottom-left diagonal\n",
    "        #axn.plot((1 - d, 1 + d), (1 - d, 1 + d), **kwargs)\n",
    "        axn.set_xlim(0,clens[0]+500000)\n",
    "        ax2.set_xlim(0,clens[0]+500000)\n",
    "        ax2.spines[\"right\"].set_visible(False)\n",
    "        ax2.spines[\"top\"].set_visible(False)\n",
    "        ax2.spines[\"bottom\"].set_visible(False)\n",
    "        plt.sca(axn)\n",
    "        plt.broken_barh([(centromere[0][chrlist[ch]],\n",
    "                    centromere[1][chrlist[ch]]-centromere[0][chrlist[ch]])],\n",
    "                    (0.0,-1),##/len(segs)),\n",
    "                    facecolors='black',alpha =.7);\n",
    "        if ch < 13:\n",
    "            plt.tick_params(axis='x',which='both',bottom='off',top='off',labelbottom='off');\n",
    "    else:\n",
    "        plt.sca(ax[ch])\n",
    "        ax[ch].set_ylim(-1.5,5)\n",
    "        ax[ch].set_yticks([1,3,5])\n",
    "        ax[ch].plot(x,y,'k--',alpha=.5,linewidth=.9);\n",
    "        ax[ch].set_xlim(0,clens[0]+500000)\n",
    "    plt.sca(ax[ch])\n",
    "    plt.broken_barh([(centromere[0][chrlist[ch]],\n",
    "                      centromere[1][chrlist[ch]]-centromere[0][chrlist[ch]])],\n",
    "                    (0.0,-.5),##/len(segs)),\n",
    "                    facecolors='black',alpha =.7);\n",
    "   ## plt.text(clens[0]+250000,0.01,new_chrom_label[ch],fontsize=14)\n",
    "    HoC_chrom = []\n",
    "    for i, win in enumerate(hot_rec):\n",
    "        if hot_cold_sig[i] == True:\n",
    "            if win < MuX:\n",
    "                fcol = 'blue';HoC_chrom.append('Blue');\n",
    "\n",
    "            else:\n",
    "                fcol = 'red';HoC_chrom.append('Red')\n",
    "                plt.text((hot_win[i]+(ws/2)),-1.5,str(int(win)),fontsize=9,\n",
    "                   verticalalignment='center',horizontalalignment='center');\n",
    "            plt.broken_barh([(hot_win[i],ws)],(0,5),facecolor=fcol,alpha=.2);\n",
    "            if myylimmax > 5:\n",
    "                ax2.broken_barh([(hot_win[i],ws)],(0,myylimmax),facecolor=fcol,alpha=.2);\n",
    "        else:\n",
    "            HoC_chrom.append('Black')\n",
    "        \n",
    "    HoC_geno.append(HoC_chrom)\n",
    "    plt.sca(ax[ch])\n",
    "    if ch == 3: ## chrom 4\n",
    "        plt.broken_barh([(mats,\n",
    "                      matst-mats)],\n",
    "                    (0.0,-.5),\n",
    "                    facecolors='g',alpha =.6);\n",
    "    if ch < 13:\n",
    "        plt.tick_params(axis='x',which='both',bottom='off',\n",
    "                       top='off',labelbottom='off')\n",
    "    plt.gca().spines[\"right\"].set_visible(False)\n",
    "    plt.gca().spines[\"top\"].set_visible(False)\n",
    "    plt.gca().spines[\"bottom\"].set_visible(False)\n",
    "    \n",
    "    plt.tight_layout();\n",
    "plt.gcf().subplots_adjust(bottom=0.10,left=0.1,hspace=0.40);\n",
    "fig.text(0.125,0.05,'Chromosomal Coordinates (Base Pairs)',fontsize=18);\n",
    "fig.text(0.0009, 0.5, 'Crossover Counts',##'Recombination Frequency', \n",
    "         va='center', rotation='vertical',fontsize=18);\n",
    "##fig.savefig('../FIGS/Crypto-Hot-Cold-Spot-%s-Jan2018.pdf'%ws,dpi=1200);"
   ]
  },
  {
   "cell_type": "code",
   "execution_count": 85,
   "metadata": {},
   "outputs": [
    {
     "data": {
      "text/plain": [
       "u'/Users/croth/anaconda2/lib/python2.7/site-packages/matplotlib/mpl-data/fonts/ttf/DejaVuSans.ttf'"
      ]
     },
     "execution_count": 85,
     "metadata": {},
     "output_type": "execute_result"
    }
   ],
   "source": [
    "from matplotlib.font_manager import findfont, FontProperties\n",
    "font = findfont(FontProperties(family=['sans-serif']))\n",
    "font"
   ]
  },
  {
   "cell_type": "code",
   "execution_count": 110,
   "metadata": {},
   "outputs": [
    {
     "data": {
      "image/png": "[encoded data removed]",
      "text/plain": [
       "<matplotlib.figure.Figure at 0x1a27754a50>"
      ]
     },
     "metadata": {},
     "output_type": "display_data"
    }
   ],
   "source": [
    "ws = Ws\n",
    "HoC_geno = []\n",
    "fig, ax = plt.subplots(14,1,figsize=(7,10),sharex=True,sharey=True);\n",
    "text_addjust = np.array([-25000,-20000,22500,0,0])\n",
    "for ch,a in enumerate(chrlist):#chrom in chrlist:\n",
    "    test = hotIMIdf[hotIMIdf.Chrom==chrlist[ch]];\n",
    "    start = test.W.min()\n",
    "    hot_region = wind_pval[ch]\n",
    "    hot_cold_sig = new_test1_index[ch]\n",
    "    hot_rec = wind_cos[ch]\n",
    "    hot_win = wind_bins[ch]\n",
    "    y = test['XO'].values/len(segs)\n",
    "    plt.sca(ax[ch])\n",
    "    plt.plot(test['Pos'],y,'k--',alpha=.5,linewidth=.9);\n",
    "    myylimmax = 0.06\n",
    "    plt.broken_barh([(centromere[0][chrlist[ch]],\n",
    "                      centromere[1][chrlist[ch]]-centromere[0][chrlist[ch]])],\n",
    "                    (0.0,-0.009),\n",
    "                    facecolors='black',alpha =.7);\n",
    "    plt.text(clens[0]+250000,0.01,new_chrom_label[ch],fontsize=10)\n",
    "    if ch == 0:\n",
    "        plt.text(clens[0]+250000,0.09,'Chromosome',\n",
    "                 fontsize=10,verticalalignment='center',horizontalalignment='center');\n",
    "    HoC_chrom = [];TextAddj = 0\n",
    "    for i, win in enumerate(hot_rec):\n",
    "        if hot_cold_sig[i] == True:\n",
    "            if win < MuX:\n",
    "                fcol = 'blue';HoC_chrom.append('Blue');\n",
    "\n",
    "            else:\n",
    "                fcol = 'red';HoC_chrom.append('Red')\n",
    "                if a == 'Chr08':\n",
    "                    plt.text((hot_win[i]+(ws/2) + text_addjust[TextAddj]),-0.025,str(int(win)),fontsize=9,\n",
    "                   verticalalignment='center',horizontalalignment='center');TextAddj= TextAddj+1\n",
    "                else:\n",
    "                    plt.text((hot_win[i]+(ws/2)),-0.025,str(int(win)),fontsize=9,\n",
    "                   verticalalignment='center',horizontalalignment='center');\n",
    "            if (a == 'Chr07') and (i == len(hot_rec)-7):\n",
    "                pass\n",
    "            else:\n",
    "                plt.broken_barh([(hot_win[i],ws)],(0,myylimmax),facecolor=fcol,alpha=.2);\n",
    "        else:\n",
    "            HoC_chrom.append('Black')\n",
    "        \n",
    "    HoC_geno.append(HoC_chrom)\n",
    "    if ch == 3: \n",
    "        plt.broken_barh([(mats,matst-mats)],(0.0,-0.009),facecolors='g',alpha =.6);\n",
    "    if ch < 13:\n",
    "        plt.tick_params(axis='x',which='both',bottom='off',top='off',labelbottom='off')\n",
    "    plt.gca().spines[\"right\"].set_visible(False)\n",
    "    plt.gca().spines[\"top\"].set_visible(False)\n",
    "    plt.gca().spines[\"bottom\"].set_visible(False)\n",
    "    plt.ylim(-0.03,0.06)\n",
    "    plt.yticks([0.00,0.05])\n",
    "    plt.tight_layout();\n",
    "plt.xlim([0,np.max(clens)+500000]);\n",
    "plt.gcf().subplots_adjust(bottom=0.10);\n",
    "plt.gcf().subplots_adjust(left=0.1)\n",
    "plt.subplots_adjust(left=0.1)\n",
    "plt.xlabel('Chromosome Coordinates (Base Pairs)',fontsize=18);\n",
    "fig.text(-0.01, 0.5, 'Fraction of Recombinant Progeny \\nAcross Inter-Marker Intervals',\n",
    "         va='center',ha='center', rotation='vertical',fontsize=18);\n",
    "fig.savefig('../FIGS/Crypto-04-Hot-Cold-Spot-%s-Feb2018-MASKED.pdf'%ws,dpi=1200,bbox_inches='tight')"
   ]
  },
  {
   "cell_type": "code",
   "execution_count": null,
   "metadata": {
    "collapsed": true
   },
   "outputs": [],
   "source": []
  },
  {
   "cell_type": "code",
   "execution_count": null,
   "metadata": {
    "collapsed": true
   },
   "outputs": [],
   "source": []
  },
  {
   "cell_type": "code",
   "execution_count": 87,
   "metadata": {},
   "outputs": [
    {
     "data": {
      "text/plain": [
       "94"
      ]
     },
     "execution_count": 87,
     "metadata": {},
     "output_type": "execute_result"
    }
   ],
   "source": [
    "len(segs)"
   ]
  },
  {
   "cell_type": "code",
   "execution_count": 88,
   "metadata": {},
   "outputs": [
    {
     "data": {
      "text/plain": [
       "0.15957446808510639"
      ]
     },
     "execution_count": 88,
     "metadata": {},
     "output_type": "execute_result"
    }
   ],
   "source": [
    "test.XO.max()/len(segs)"
   ]
  },
  {
   "cell_type": "code",
   "execution_count": 89,
   "metadata": {},
   "outputs": [
    {
     "data": {
      "text/plain": [
       "39"
      ]
     },
     "execution_count": 89,
     "metadata": {},
     "output_type": "execute_result"
    }
   ],
   "source": [
    "len([i for i in np.concatenate(HoC_geno) if i in ['Red']])"
   ]
  },
  {
   "cell_type": "code",
   "execution_count": 90,
   "metadata": {},
   "outputs": [
    {
     "data": {
      "text/plain": [
       "45"
      ]
     },
     "execution_count": 90,
     "metadata": {},
     "output_type": "execute_result"
    }
   ],
   "source": [
    "len([i for i in np.concatenate(HoC_geno) if i in ['Blue']])"
   ]
  },
  {
   "cell_type": "code",
   "execution_count": 91,
   "metadata": {},
   "outputs": [
    {
     "data": {
      "text/plain": [
       "59601"
      ]
     },
     "execution_count": 91,
     "metadata": {},
     "output_type": "execute_result"
    }
   ],
   "source": [
    "centromeredf.T['Chr13'][1] - centromeredf.T['Chr13'][0] "
   ]
  },
  {
   "cell_type": "markdown",
   "metadata": {},
   "source": [
    "## For hot spots test the ratios of crossovers between the two sets of progeny from unisexual and bisexual mating. "
   ]
  },
  {
   "cell_type": "code",
   "execution_count": 92,
   "metadata": {},
   "outputs": [
    {
     "name": "stderr",
     "output_type": "stream",
     "text": [
      "/Users/croth/anaconda2/lib/python2.7/site-packages/ipykernel_launcher.py:15: DeprecationWarning: \n",
      ".ix is deprecated. Please use\n",
      ".loc for label based indexing or\n",
      ".iloc for positional indexing\n",
      "\n",
      "See the documentation here:\n",
      "http://pandas.pydata.org/pandas-docs/stable/indexing.html#ix-indexer-is-deprecated\n",
      "  from ipykernel import kernelapp as app\n"
     ]
    }
   ],
   "source": [
    "binomres_geno = [];\n",
    "for ch,a in enumerate(chrlist):#chrom in chrlist:\n",
    "    test = hotIMIdf[hotIMIdf.Chrom==chrlist[ch]];\n",
    "    hot_region = wind_pval[ch]\n",
    "    hot_cold_sig = new_test1_index[ch]\n",
    "    hot_rec = wind_cos[ch]\n",
    "    hot_win = wind_bins[ch]\n",
    "    binomres = []\n",
    "    HoC_chrom = HoC_geno[ch]\n",
    "    for i, hcs in enumerate(hot_cold_sig):\n",
    "            if (HoC_chrom[i] in ['Red']) & (hcs == True):\n",
    "                tV = hot_win[i]\n",
    "                tW = hot_win[i+1]\n",
    "                ina = test[(test.V>tV) & (test.W < tW)].index.tolist()\n",
    "                uXOa = test.ix[ina,'uXO'].sum()\n",
    "                bXOa = test.ix[ina,'bXO'].sum()\n",
    "                binomres.append([ss.binom_test([uXOa,bXOa],p=len(seg_un)/float(len(segs))),uXOa,bXOa])\n",
    "            else:\n",
    "                binomres.append([np.nan])\n",
    "    binomres_geno.append(binomres)"
   ]
  },
  {
   "cell_type": "code",
   "execution_count": 93,
   "metadata": {
    "collapsed": true
   },
   "outputs": [],
   "source": [
    "pvals = np.concatenate([[a[0] for a in binomres_geno[c] ]for c in range(14)])"
   ]
  },
  {
   "cell_type": "code",
   "execution_count": 94,
   "metadata": {},
   "outputs": [
    {
     "data": {
      "text/plain": [
       "array([ 0.55911297,  0.02238766,  0.00946767,  0.38133855,  0.65931541,\n",
       "        0.85065775,  1.        ,  0.04288764,  0.68302171,  0.08798351,\n",
       "        0.51721975,  0.85065775,  0.00239935,  0.53557782,  0.82931047,\n",
       "        0.05981303,  0.54289683,  0.08811037,  0.12818928,  0.01634462,\n",
       "        0.7675906 ,  0.47523008,  0.00141774,  0.58630065,  0.13434261,\n",
       "        0.12352717,  0.46888055,  0.67196575,  0.82761768,  1.        ,\n",
       "        0.10637276,  0.85827826,  0.05981303,  0.42812973,  0.69988325,\n",
       "        1.        ,  0.85065775,  0.23376846,  0.19860914])"
      ]
     },
     "execution_count": 94,
     "metadata": {},
     "output_type": "execute_result"
    }
   ],
   "source": [
    "pvals_nonan = pvals[~np.isnan(pvals)];pvals_nonan"
   ]
  },
  {
   "cell_type": "code",
   "execution_count": 95,
   "metadata": {},
   "outputs": [
    {
     "data": {
      "text/plain": [
       "(array([False, False, False, False, False, False, False, False, False,\n",
       "        False, False, False, False, False, False, False, False, False,\n",
       "        False, False, False, False, False, False, False, False, False,\n",
       "        False, False, False, False, False, False, False, False, False,\n",
       "        False, False, False], dtype=bool),\n",
       " array([ 0.99999902,  0.54727587,  0.29670069,  0.99998403,  0.99999972,\n",
       "         0.99999987,  1.        ,  0.77471131,  0.99999972,  0.94244496,\n",
       "         0.99999902,  0.99999987,  0.08724248,  0.99999902,  0.99999987,\n",
       "         0.86936198,  0.99999902,  0.94244496,  0.97537368,  0.44748125,\n",
       "         0.99999972,  0.99999831,  0.05382808,  0.99999902,  0.97650383,\n",
       "         0.97507261,  0.99999831,  0.99999972,  0.99999987,  1.        ,\n",
       "         0.96167029,  0.99999987,  0.86936198,  0.99999542,  0.99999972,\n",
       "         1.        ,  0.99999987,  0.99832258,  0.99605443]),\n",
       " 0.0013143481634592113,\n",
       " 0.001282051282051282)"
      ]
     },
     "execution_count": 95,
     "metadata": {},
     "output_type": "execute_result"
    }
   ],
   "source": [
    "mltptest(pvals_nonan,method='hs',alpha=0.05)"
   ]
  },
  {
   "cell_type": "code",
   "execution_count": 96,
   "metadata": {},
   "outputs": [
    {
     "data": {
      "image/png": "[encoded data removed]",
      "text/plain": [
       "<matplotlib.figure.Figure at 0x1a25934810>"
      ]
     },
     "metadata": {},
     "output_type": "display_data"
    }
   ],
   "source": [
    "plt.plot(np.log10(clens),[len(a[a==True]) for a in new_test1_index],'.');\n",
    "plt.ylabel('Number of Hot Spots');\n",
    "plt.xlabel('Chromosome Length\\n(Log10[Bases])');\n",
    "for chrom in chrlist:\n",
    "    plt.annotate(str(int(chrom[3:])),\n",
    "                 (np.log10(clens[int(chrom[3:])-1]),\n",
    "                 [len(a[a==True]) for a in new_test1_index][int(chrom[3:])-1]));\n",
    "plt.title('Hot Spots v Chromosome Length');"
   ]
  },
  {
   "cell_type": "code",
   "execution_count": 97,
   "metadata": {},
   "outputs": [
    {
     "name": "stdout",
     "output_type": "stream",
     "text": [
      "45\n",
      "39\n"
     ]
    }
   ],
   "source": [
    "ncold = len([a for a in np.concatenate(HoC_geno) if a in ['Blue']]);print ncold\n",
    "nhot = len([a for a in np.concatenate(HoC_geno) if a in ['Red']]);print nhot"
   ]
  },
  {
   "cell_type": "markdown",
   "metadata": {},
   "source": [
    "###### Check work"
   ]
  },
  {
   "cell_type": "code",
   "execution_count": 98,
   "metadata": {
    "collapsed": true
   },
   "outputs": [],
   "source": [
    "assert ncold + nhot == len([a for a in test1[0] if a == True])"
   ]
  },
  {
   "cell_type": "markdown",
   "metadata": {},
   "source": [
    "## Extract IMI intervals For hotspots and cold spots and save for later analysis"
   ]
  },
  {
   "cell_type": "markdown",
   "metadata": {},
   "source": [
    "## Hot spots"
   ]
  },
  {
   "cell_type": "code",
   "execution_count": 99,
   "metadata": {
    "collapsed": true
   },
   "outputs": [],
   "source": [
    "chrom_starts = [hotIMIdf[hotIMIdf.Chrom==chrom].W.min() for chrom in chrlist]"
   ]
  },
  {
   "cell_type": "code",
   "execution_count": 100,
   "metadata": {
    "collapsed": true
   },
   "outputs": [],
   "source": [
    "geno_hot_bins = []\n",
    "geno_hot_in = []\n",
    "for ch, HoC_chrom in enumerate(HoC_geno):\n",
    "    hot_win = wind_bins[ch]\n",
    "    chrom_bin = []\n",
    "    chrom_hot = []\n",
    "    for i, hcs in enumerate(HoC_chrom):\n",
    "        if hcs == 'Red': ## Is a hot spot\n",
    "            tV = hot_win[i]\n",
    "            tW = hot_win[i+1]\n",
    "            hotspot_in = hotIMIdf[(hotIMIdf.Chrom==chrlist[ch]) & \n",
    "                                 (hotIMIdf.V > tV) & \n",
    "                                  (hotIMIdf.W < tW)].index.tolist()\n",
    "            chrom_bin.append(i)\n",
    "            chrom_hot.append(hotspot_in)\n",
    "    geno_hot_bins.append(i)\n",
    "    geno_hot_in.append(chrom_hot)"
   ]
  },
  {
   "cell_type": "code",
   "execution_count": 101,
   "metadata": {},
   "outputs": [
    {
     "data": {
      "text/plain": [
       "3"
      ]
     },
     "execution_count": 101,
     "metadata": {},
     "output_type": "execute_result"
    }
   ],
   "source": [
    "len(geno_hot_in[3])"
   ]
  },
  {
   "cell_type": "code",
   "execution_count": 102,
   "metadata": {
    "collapsed": true
   },
   "outputs": [],
   "source": [
    "thefile = open('../FILES/Crypto-Hot-Spots-Index-%s-%s'%(ws,file_end), 'w')\n",
    "for i in range(14):\n",
    "    thefile.write(\"%s\\n\" % chrlist[i])\n",
    "    for spot in geno_hot_in[i]:\n",
    "        for ind in spot:\n",
    "            thefile.write(\"%s,\" % ind)\n",
    "        thefile.write(\"\\n\")\n",
    "thefile.close()"
   ]
  },
  {
   "cell_type": "markdown",
   "metadata": {},
   "source": [
    "## For cold spots"
   ]
  },
  {
   "cell_type": "code",
   "execution_count": 103,
   "metadata": {
    "collapsed": true
   },
   "outputs": [],
   "source": [
    "geno_cold_bins = []\n",
    "geno_cold_in = []\n",
    "for ch, HoC_chrom in enumerate(HoC_geno):\n",
    "    chrom_bin = []\n",
    "    chrom_cold = []\n",
    "    hot_win = wind_bins[ch]\n",
    "    for i, hcs in enumerate(HoC_chrom):\n",
    "        if hcs == 'Blue': ## Is a cold spot \n",
    "            tV = hot_win[i]\n",
    "            tW = hot_win[i+1]\n",
    "            hotspot_in = hotIMIdf[(hotIMIdf.Chrom==chrlist[ch]) & \n",
    "                                 (hotIMIdf.V > tV) & \n",
    "                                  (hotIMIdf.W < tW)].index.tolist()\n",
    "            chrom_bin.append(i)\n",
    "            chrom_cold.append(hotspot_in)\n",
    "    geno_cold_bins.append(chrom_bin)\n",
    "    geno_cold_in.append(chrom_cold)"
   ]
  },
  {
   "cell_type": "code",
   "execution_count": 104,
   "metadata": {},
   "outputs": [
    {
     "data": {
      "text/plain": [
       "3"
      ]
     },
     "execution_count": 104,
     "metadata": {},
     "output_type": "execute_result"
    }
   ],
   "source": [
    "len(geno_cold_in[0])"
   ]
  },
  {
   "cell_type": "code",
   "execution_count": 105,
   "metadata": {
    "collapsed": true
   },
   "outputs": [],
   "source": [
    "thefile = open('../FILES/Crypto-Cold-Spots-Index-%s-%s'%(ws,file_end), 'w')\n",
    "for i in range(14):\n",
    "    thefile.write(\"%s\\n\" % chrlist[i])\n",
    "    for spot in geno_cold_in[i]:\n",
    "        for ind in spot:\n",
    "            thefile.write(\"%s,\" % ind);\n",
    "        thefile.write(\"\\n\")\n",
    "thefile.close()"
   ]
  },
  {
   "cell_type": "markdown",
   "metadata": {},
   "source": [
    "## Save IMI df for later use"
   ]
  },
  {
   "cell_type": "code",
   "execution_count": 106,
   "metadata": {
    "collapsed": true
   },
   "outputs": [],
   "source": [
    "hotIMIdf.to_csv('../FILES/Crypto-Genome-IMIxCO-%s'%file_end,index=False)"
   ]
  },
  {
   "cell_type": "markdown",
   "metadata": {},
   "source": [
    "## Older code July 2"
   ]
  },
  {
   "cell_type": "markdown",
   "metadata": {},
   "source": [
    "## Make dataframe of hot spot windows\n",
    "### Display & Save"
   ]
  },
  {
   "cell_type": "markdown",
   "metadata": {},
   "source": [
    "window_hot_spot_df = pd.DataFrame(columns=['Chrom','W','V'])\n",
    "window_hot_spot_df['Chrom']= np.concatenate([[chrom for hot in hot_window[i]] \n",
    "                                             for i, chrom in enumerate(chrlist)]);\n",
    "window_hot_spot_df['W'] = np.concatenate([[hot[0] for hot in hot_window[i]]\n",
    "                                         for i,chrom in enumerate(chrlist)]);\n",
    "window_hot_spot_df['V'] = np.concatenate([[hot[1] for hot in hot_window[i]]\n",
    "                                         for i,chrom in enumerate(chrlist)]);\n",
    "window_hot_spot_df.to_csv('../FILES/Crypto-Windows-Hotspots-df-pooled-%s-%s-%s'%(ws,s,file_end),\n",
    "                          index=False)\n",
    "window_hot_spot_df.tail()"
   ]
  },
  {
   "cell_type": "markdown",
   "metadata": {},
   "source": [
    "## Make dataframe of hot spot windows for unicross"
   ]
  },
  {
   "cell_type": "markdown",
   "metadata": {},
   "source": [
    "window_hot_spot_dfu = pd.DataFrame(columns=['Chrom','W','V'])\n",
    "window_hot_spot_dfu['Chrom']= np.concatenate([[chrom for hot in hot_windowu[i]] \n",
    "                                             for i, chrom in enumerate(chrlist)]);\n",
    "window_hot_spot_dfu['W'] = np.concatenate([[hot[0] for hot in hot_windowu[i]]\n",
    "                                         for i,chrom in enumerate(chrlist)]);\n",
    "window_hot_spot_dfu['V'] = np.concatenate([[hot[1] for hot in hot_windowu[i]]\n",
    "                                         for i,chrom in enumerate(chrlist)]);\n",
    "window_hot_spot_dfu.to_csv('../FILES/Crypto-Windows-Hotspots-df-uni-%s-%s-%s'%(ws,s,file_end),\n",
    "                           index=False)\n",
    "window_hot_spot_dfu.tail()"
   ]
  },
  {
   "cell_type": "markdown",
   "metadata": {},
   "source": [
    "## Make dataframe of hot spot windows for bicross"
   ]
  },
  {
   "cell_type": "markdown",
   "metadata": {},
   "source": [
    "window_hot_spot_dfb = pd.DataFrame(columns=['Chrom','W','V'])\n",
    "window_hot_spot_dfb['Chrom']= np.concatenate([[chrom for hot in hot_windowb[i]] \n",
    "                                             for i, chrom in enumerate(chrlist)]);\n",
    "window_hot_spot_dfb['W'] = np.concatenate([[hot[0] for hot in hot_windowb[i]]\n",
    "                                         for i,chrom in enumerate(chrlist)]);\n",
    "window_hot_spot_dfb['V'] = np.concatenate([[hot[1] for hot in hot_windowb[i]]\n",
    "                                         for i,chrom in enumerate(chrlist)]);\n",
    "window_hot_spot_dfb.to_csv('../FILES/Crypto-Windows-Hotspots-df-bi-%s-%s-%s'%(ws,s,file_end),\n",
    "                           index=False);\n",
    "window_hot_spot_dfb.tail()"
   ]
  },
  {
   "cell_type": "markdown",
   "metadata": {},
   "source": [
    "## Print to file"
   ]
  },
  {
   "cell_type": "markdown",
   "metadata": {},
   "source": [
    "hotspotfile = open('../FILES/Crypto-Windows-Hotspots-%s-%s-%s'%(ws,s,file_end),'w')\n",
    "for i,chrom in enumerate(chrlist):\n",
    "    hotspotfile.write(\"%s\\n\" % chrom)\n",
    "    for win in hot_window[i]:\n",
    "        hotspotfile.write(\"%s,%s\\n\" % win)\n",
    "hotspotfile.close()"
   ]
  },
  {
   "cell_type": "markdown",
   "metadata": {},
   "source": [
    "#### Old code"
   ]
  },
  {
   "cell_type": "markdown",
   "metadata": {
    "collapsed": true
   },
   "source": [
    "window = 100000\n",
    "start = 0\n",
    "slide = window/4.0\n",
    "end = start + window\n",
    "tempCOs = []\n",
    "tempPos = []\n",
    "tempWidths = []\n",
    "while end < clens[int(my_chrom[3:])] + window:\n",
    "    wintemp = temp[(temp.W >= start)&(temp.V <= start + window)]\n",
    "    if len(wintemp) > 0:\n",
    "        tempCOs.append(wintemp.XO.sum())\n",
    "        tempWidths.append(int(wintemp.V.tolist()[-1]-wintemp.W.tolist()[0]))\n",
    "    else:\n",
    "        tempCOs.append(0)\n",
    "        tempWidths.append(0)\n",
    "    tempPos.append(np.mean([start,start+window]))\n",
    "    start = start + slide\n",
    "    end = start + window"
   ]
  },
  {
   "cell_type": "code",
   "execution_count": null,
   "metadata": {
    "collapsed": true
   },
   "outputs": [],
   "source": []
  },
  {
   "cell_type": "code",
   "execution_count": null,
   "metadata": {
    "collapsed": true
   },
   "outputs": [],
   "source": []
  },
  {
   "cell_type": "code",
   "execution_count": null,
   "metadata": {
    "collapsed": true
   },
   "outputs": [],
   "source": []
  }
 ],
 "metadata": {
  "anaconda-cloud": {},
  "kernelspec": {
   "display_name": "Python 3",
   "language": "python",
   "name": "python3"
  }
 },
 "nbformat": 4,
 "nbformat_minor": 1
}

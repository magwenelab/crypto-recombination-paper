{
 "cells": [
  {
   "cell_type": "markdown",
   "metadata": {},
   "source": [
    "# The Effect of the Filter\n",
    "# Upon Haplotypes"
   ]
  },
  {
   "cell_type": "markdown",
   "metadata": {},
   "source": [
    "###### From  constructed haplotypes, filter this data to generate new haplotype data for each sample and visualize the effect of our filter. "
   ]
  },
  {
   "cell_type": "markdown",
   "metadata": {},
   "source": [
    "#### Import needed moduals"
   ]
  },
  {
   "cell_type": "code",
   "execution_count": 1,
   "metadata": {
    "collapsed": false
   },
   "outputs": [],
   "source": [
    "import numpy as np\n",
    "import pandas as pd\n",
    "import scipy.stats as ss\n",
    "import cryptofxns\n",
    "import os\n",
    "from os import listdir\n",
    "from matplotlib import pyplot as plt\n",
    "%matplotlib inline"
   ]
  },
  {
   "cell_type": "markdown",
   "metadata": {},
   "source": [
    "## Set local variables "
   ]
  },
  {
   "cell_type": "code",
   "execution_count": 2,
   "metadata": {
    "collapsed": true
   },
   "outputs": [],
   "source": [
    "mod = .1;s = 0;ymod = 1;yla = -.5;ylb = 1.5;\n",
    "xlim0 = -100000;xlim1 = 500000;xdi = 4.0;\n",
    "k1s = range(500,11000,500);Method = 'min'\n",
    "alvl =.3;centcolor='red';snpcolor='black';"
   ]
  },
  {
   "cell_type": "markdown",
   "metadata": {},
   "source": [
    "### Load Genotype files, centromere locations, and chromosome length"
   ]
  },
  {
   "cell_type": "code",
   "execution_count": 3,
   "metadata": {
    "collapsed": false
   },
   "outputs": [],
   "source": [
    "genodf = cryptofxns.geno_df;genodf.shape\n",
    "centromere = cryptofxns.load_centrom_locs()\n",
    "clens = cryptofxns.chromosome_lengths\n",
    "tc = cryptofxns.thecol"
   ]
  },
  {
   "cell_type": "markdown",
   "metadata": {},
   "source": [
    "### Find Chromosome and gather samples"
   ]
  },
  {
   "cell_type": "code",
   "execution_count": 4,
   "metadata": {
    "collapsed": false
   },
   "outputs": [
    {
     "name": "stdout",
     "output_type": "stream",
     "text": [
      "['SS-B377', 'SS-B385', 'SS-B410', 'SS-B411', 'SS-B560', 'SS-B395', 'SS-B411', 'SS-B594', 'SS-C273', 'SS-B879', 'SS-B885', 'SS-B593']\n"
     ]
    },
    {
     "data": {
      "text/plain": [
       "94"
      ]
     },
     "execution_count": 4,
     "metadata": {},
     "output_type": "execute_result"
    }
   ],
   "source": [
    "chrlist = np.unique(genodf.Chrom).tolist()\n",
    "segs_parents = genodf.columns.tolist()[tc:];\n",
    "seg_drop = cryptofxns.geno_remove;print seg_drop\n",
    "segs_bi = list(np.concatenate(cryptofxns.axalp))\n",
    "segs = [s for s in segs_parents if s not in ['SS-A837','XL280','XL280a']+seg_drop]\n",
    "len(segs)"
   ]
  },
  {
   "cell_type": "markdown",
   "metadata": {},
   "source": [
    "### Set folder paths"
   ]
  },
  {
   "cell_type": "code",
   "execution_count": 5,
   "metadata": {
    "collapsed": false
   },
   "outputs": [
    {
     "data": {
      "text/plain": [
       "['../FILES/CHR1/HAP/', '../FILES/CHR2/HAP/']"
      ]
     },
     "execution_count": 5,
     "metadata": {},
     "output_type": "execute_result"
    }
   ],
   "source": [
    "folders = ['IMI/','BPS/','HAP/','FGT/','FIG/']\n",
    "\n",
    "CHRPATHS = ['../FILES/CHR' + str(i) +'/' for i in range(1,len(clens)+1)];CHRPATHS[0]\n",
    "\n",
    "FILECHRPATHS = [ [chp + f for f in folders] for chp in CHRPATHS];\n",
    "\n",
    "HAPFILES = [f[2] for f in FILECHRPATHS];HAPFILES[:2]"
   ]
  },
  {
   "cell_type": "code",
   "execution_count": 6,
   "metadata": {
    "collapsed": false
   },
   "outputs": [],
   "source": [
    "HAPFILESDIR = []\n",
    "for ch,HAPF in enumerate(HAPFILES):\n",
    "    FORCHROM = []\n",
    "    for dirs in listdir(HAPF):\n",
    "        if len(listdir(HAPF+dirs)) > 0:\n",
    "            SEG = HAPF+dirs+'/'+listdir(HAPF+dirs)[0] ## The unfiltered Haplotype\n",
    "        else:\n",
    "            pass\n",
    "        FORCHROM.append(SEG)\n",
    "    HAPFILESDIR.append(FORCHROM)"
   ]
  },
  {
   "cell_type": "code",
   "execution_count": 7,
   "metadata": {
    "collapsed": false
   },
   "outputs": [
    {
     "data": {
      "text/plain": [
       "'../FILES/CHR1/HAP/SS-B307/SS-B307-min-haplotype'"
      ]
     },
     "execution_count": 7,
     "metadata": {},
     "output_type": "execute_result"
    }
   ],
   "source": [
    "HAPFILESDIR[0][0][:-7]"
   ]
  },
  {
   "cell_type": "code",
   "execution_count": 8,
   "metadata": {
    "collapsed": true
   },
   "outputs": [],
   "source": [
    "test = pd.read_csv(HAPFILESDIR[0][0])"
   ]
  },
  {
   "cell_type": "code",
   "execution_count": 9,
   "metadata": {
    "collapsed": false
   },
   "outputs": [
    {
     "data": {
      "text/html": [
       "<div>\n",
       "<table border=\"1\" class=\"dataframe\">\n",
       "  <thead>\n",
       "    <tr style=\"text-align: right;\">\n",
       "      <th></th>\n",
       "      <th>v</th>\n",
       "      <th>w</th>\n",
       "      <th>nb</th>\n",
       "      <th>genotype</th>\n",
       "    </tr>\n",
       "  </thead>\n",
       "  <tbody>\n",
       "    <tr>\n",
       "      <th>0</th>\n",
       "      <td>5016.0</td>\n",
       "      <td>636021.0</td>\n",
       "      <td>631006</td>\n",
       "      <td>1.0</td>\n",
       "    </tr>\n",
       "    <tr>\n",
       "      <th>1</th>\n",
       "      <td>636099.0</td>\n",
       "      <td>636099.0</td>\n",
       "      <td>1</td>\n",
       "      <td>0.0</td>\n",
       "    </tr>\n",
       "    <tr>\n",
       "      <th>2</th>\n",
       "      <td>636109.0</td>\n",
       "      <td>1599775.0</td>\n",
       "      <td>963667</td>\n",
       "      <td>1.0</td>\n",
       "    </tr>\n",
       "    <tr>\n",
       "      <th>3</th>\n",
       "      <td>1599976.0</td>\n",
       "      <td>2297181.0</td>\n",
       "      <td>697206</td>\n",
       "      <td>0.0</td>\n",
       "    </tr>\n",
       "  </tbody>\n",
       "</table>\n",
       "</div>"
      ],
      "text/plain": [
       "           v          w      nb  genotype\n",
       "0     5016.0   636021.0  631006       1.0\n",
       "1   636099.0   636099.0       1       0.0\n",
       "2   636109.0  1599775.0  963667       1.0\n",
       "3  1599976.0  2297181.0  697206       0.0"
      ]
     },
     "execution_count": 9,
     "metadata": {},
     "output_type": "execute_result"
    }
   ],
   "source": [
    "test"
   ]
  },
  {
   "cell_type": "markdown",
   "metadata": {},
   "source": [
    "# Filter Haplotypes"
   ]
  },
  {
   "cell_type": "markdown",
   "metadata": {},
   "source": [
    "### Bring the unfiltered haplotype into the environment then use our filter ftn"
   ]
  },
  {
   "cell_type": "markdown",
   "metadata": {},
   "source": [
    "### Then save the new data"
   ]
  },
  {
   "cell_type": "markdown",
   "metadata": {},
   "source": [
    "#### NOTE: If you have not already generated haplotypes then uncomment the code below and run. Else, skip"
   ]
  },
  {
   "cell_type": "markdown",
   "metadata": {
    "collapsed": false
   },
   "source": [
    "for k1 in k1s:\n",
    "    for ch,chrom in enumerate(chrlist):\n",
    "        clen = clens[ch]; \n",
    "        for SEGHAPPATH in HAPFILESDIR[ch]:\n",
    "            hapdf = pd.read_csv(SEGHAPPATH);\n",
    "            hap = cryptofxns.haplotype_filter(hapdf,k1);\n",
    "            hap.to_csv(SEGHAPPATH[:-7]+ '-k%s'%k1+ '.csv',index=False);"
   ]
  },
  {
   "cell_type": "markdown",
   "metadata": {},
   "source": [
    "# Analysis of filter effect"
   ]
  },
  {
   "cell_type": "markdown",
   "metadata": {},
   "source": [
    "## Calculate total number of recombination events for those filter sizes"
   ]
  },
  {
   "cell_type": "markdown",
   "metadata": {},
   "source": [
    "## Gather all the files"
   ]
  },
  {
   "cell_type": "code",
   "execution_count": 10,
   "metadata": {
    "collapsed": false
   },
   "outputs": [],
   "source": [
    "Events = []\n",
    "for k1 in [0] + k1s:\n",
    "    genotype_changes = sum([sum([len(pd.read_csv(SEGHAPPATH[:-7]+ '-k%s'%k1+ '.csv'))-1 \n",
    "                                for SEGHAPPATH in HAPFILESDIR[ch]]) for ch,chrom in enumerate(chrlist)])\n",
    "    Events.append(genotype_changes)"
   ]
  },
  {
   "cell_type": "code",
   "execution_count": 11,
   "metadata": {
    "collapsed": false
   },
   "outputs": [
    {
     "data": {
      "text/plain": [
       "'../FILES/CHR14/HAP/SS-C291/SS-C291-min-haplotype-k0.csv'"
      ]
     },
     "execution_count": 11,
     "metadata": {},
     "output_type": "execute_result"
    }
   ],
   "source": [
    "SEGHAPPATH"
   ]
  },
  {
   "cell_type": "code",
   "execution_count": 12,
   "metadata": {
    "collapsed": false
   },
   "outputs": [
    {
     "data": {
      "text/plain": [
       "'SS-C291'"
      ]
     },
     "execution_count": 12,
     "metadata": {},
     "output_type": "execute_result"
    }
   ],
   "source": [
    "SEGHAPPATH.split('/')[4]"
   ]
  },
  {
   "cell_type": "markdown",
   "metadata": {},
   "source": [
    "### Model effect of fliter on zero crossovers per chromosome"
   ]
  },
  {
   "cell_type": "code",
   "execution_count": 21,
   "metadata": {
    "collapsed": false
   },
   "outputs": [],
   "source": [
    "k1s_zeros = []\n",
    "for k1 in [0] + k1s:\n",
    "    k1_zerosb = [];k1_zerosu = []\n",
    "    for ch,chrom in enumerate(chrlist):\n",
    "        for SEGHAPPATH in HAPFILESDIR[ch]:\n",
    "            a = len(pd.read_csv(SEGHAPPATH[:-7]+ '-k%s'%k1+ '.csv'))-1\n",
    "            the_seg = SEGHAPPATH.split('/')[4]\n",
    "            if a == 0:\n",
    "                if the_seg in segs_bi: ## Seperate via corss type\n",
    "                    k1_zerosb.append([the_seg,chrom]);\n",
    "                else:\n",
    "                    k1_zerosu.append([the_seg,chrom]);\n",
    "            else:\n",
    "                pass\n",
    "    k1s_zeros.append([k1_zerosb,k1_zerosu])"
   ]
  },
  {
   "cell_type": "code",
   "execution_count": 22,
   "metadata": {
    "collapsed": false
   },
   "outputs": [
    {
     "name": "stdout",
     "output_type": "stream",
     "text": [
      "22\n"
     ]
    }
   ],
   "source": [
    "print len(Events);assert len(k1s_zeros) == len(Events)"
   ]
  },
  {
   "cell_type": "markdown",
   "metadata": {},
   "source": [
    "## Caluclate the difference"
   ]
  },
  {
   "cell_type": "code",
   "execution_count": 15,
   "metadata": {
    "collapsed": false
   },
   "outputs": [],
   "source": [
    "AntiEvents = [0] + [Events[0]-E for E in Events[1:]]"
   ]
  },
  {
   "cell_type": "code",
   "execution_count": 16,
   "metadata": {
    "collapsed": false
   },
   "outputs": [
    {
     "data": {
      "text/plain": [
       "22"
      ]
     },
     "execution_count": 16,
     "metadata": {},
     "output_type": "execute_result"
    }
   ],
   "source": [
    "len(AntiEvents)"
   ]
  },
  {
   "cell_type": "markdown",
   "metadata": {},
   "source": [
    "## Plot results for number of genotype changes detected as ftn of fliter size"
   ]
  },
  {
   "cell_type": "code",
   "execution_count": 17,
   "metadata": {
    "collapsed": false
   },
   "outputs": [
    {
     "data": {
      "image/png": "[encoded data removed]",
      "text/plain": [
       "<matplotlib.figure.Figure at 0x105d5e1d0>"
      ]
     },
     "metadata": {},
     "output_type": "display_data"
    }
   ],
   "source": [
    "plt.plot(np.array([0]+k1s),np.array(Events),'blue',label='Retained');\n",
    "plt.plot(np.array([0]+k1s),np.array(AntiEvents),'g',label='Removed');\n",
    "plt.xlabel('Haplotype Filter Size (kb)',fontsize=15);\n",
    "plt.ylabel('Number of Genotype Changes',fontsize=15);\n",
    "plt.legend();\n",
    "plt.vlines(6000,0,6000,color='k',linestyles='--'); ## Our chosen K1 filter Jan 28th 2017\n",
    "plt.title('Effect of Haplotype Filter Size',fontsize=20);\n",
    "plt.tight_layout();\n",
    "plt.savefig('../FIGS/Crypto-Effect-Haplotype-Filter-Jul2017.jpeg');"
   ]
  },
  {
   "cell_type": "markdown",
   "metadata": {},
   "source": [
    "## Plot results: effect of fliter size on chromosomes with zero crossovers"
   ]
  },
  {
   "cell_type": "code",
   "execution_count": 32,
   "metadata": {
    "collapsed": true
   },
   "outputs": [],
   "source": [
    "bi_zeros_g = np.array([len(zch[0]) for zch in k1s_zeros]);\n",
    "un_zeros_g = np.array([len(zch[1]) for zch in k1s_zeros]);"
   ]
  },
  {
   "cell_type": "code",
   "execution_count": 33,
   "metadata": {
    "collapsed": false
   },
   "outputs": [
    {
     "data": {
      "image/png": "[encoded data removed]",
      "text/plain": [
       "<matplotlib.figure.Figure at 0x10fa89d90>"
      ]
     },
     "metadata": {},
     "output_type": "display_data"
    }
   ],
   "source": [
    "plt.plot(np.array([0]+k1s),bi_zeros_g,'black',label='From Opposite Sex');\n",
    "plt.plot(np.array([0]+k1s),un_zeros_g,'red',label='From Same Sex');\n",
    "plt.xlabel('Haplotype Filter Size (kb)',fontsize=15);\n",
    "plt.ylabel('Number of Chromosomes\\nWith Zero COs',fontsize=15);\n",
    "maxy = max([max(bi_zeros_g),max(un_zeros_g)])+5\n",
    "miny = min([min(bi_zeros_g),min(un_zeros_g)])-5\n",
    "plt.vlines(6000,miny,maxy,color='grey',linestyles='--'); ## Our chosen K1 filter Jan 28th 2017\n",
    "plt.title('Effect of Haplotype Filter Size\\nOn Chromosomes',fontsize=20);\n",
    "plt.tight_layout();\n",
    "plt.savefig('../FIGS/Crypto-Effect-Haplotype-Filter-Zeros-Jul2017.jpeg');"
   ]
  },
  {
   "cell_type": "markdown",
   "metadata": {},
   "source": [
    "## Number of unique segregants with zero crossovers"
   ]
  },
  {
   "cell_type": "code",
   "execution_count": 45,
   "metadata": {
    "collapsed": false
   },
   "outputs": [
    {
     "data": {
      "text/plain": [
       "22"
      ]
     },
     "execution_count": 45,
     "metadata": {},
     "output_type": "execute_result"
    }
   ],
   "source": [
    "len(k1s_zeros)"
   ]
  },
  {
   "cell_type": "code",
   "execution_count": 79,
   "metadata": {
    "collapsed": true
   },
   "outputs": [],
   "source": [
    "bi_segs_wz = [[seg[0] for seg in zch[0]] for zch in k1s_zeros];N_bi_wz = [len(np.unique(b)) for b in bi_segs_wz]\n",
    "un_segs_wz = [[seg[0] for seg in zch[1]] for zch in k1s_zeros];N_un_wz = [len(np.unique(b)) for b in un_segs_wz]"
   ]
  },
  {
   "cell_type": "code",
   "execution_count": 83,
   "metadata": {
    "collapsed": false
   },
   "outputs": [
    {
     "data": {
      "image/png": "[encoded data removed]",
      "text/plain": [
       "<matplotlib.figure.Figure at 0x10fde5210>"
      ]
     },
     "metadata": {},
     "output_type": "display_data"
    }
   ],
   "source": [
    "plt.plot(np.array([0]+k1s),N_bi_wz,'black',label='From Opposite Sex');\n",
    "plt.plot(np.array([0]+k1s),N_un_wz,'red',label='From Same Sex');\n",
    "plt.xlabel('Haplotype Filter Size (kb)',fontsize=15);\n",
    "plt.ylabel('Number of Segregants',fontsize=15);\n",
    "maxy = max([max(N_bi_wz),max(N_un_wz)])+5\n",
    "miny = min([min(N_bi_wz),min(N_un_wz)])-5\n",
    "plt.vlines(6000,miny,maxy,color='grey',linestyles='--'); ## Our chosen K1 filter Jan 28th 2017\n",
    "plt.title('Effect of Filter Size\\nSegregants with (at least)\\nA nonrecombinant Chromosome',fontsize=20);\n",
    "plt.tight_layout();\n",
    "plt.savefig('../FIGS/Crypto-Effect-Haplotype-Filter-Segs-Zeros-Jul2017.jpeg');"
   ]
  },
  {
   "cell_type": "markdown",
   "metadata": {},
   "source": [
    "# Conclusions"
   ]
  },
  {
   "cell_type": "markdown",
   "metadata": {},
   "source": [
    "From our results above, I will use a haplotype filter size of 6kb."
   ]
  },
  {
   "cell_type": "code",
   "execution_count": null,
   "metadata": {
    "collapsed": true
   },
   "outputs": [],
   "source": []
  }
 ],
 "metadata": {
  "anaconda-cloud": {},
  "kernelspec": {
   "display_name": "Python [default]",
   "language": "python",
   "name": "python2"
  },
  "language_info": {
   "codemirror_mode": {
    "name": "ipython",
    "version": 2
   },
   "file_extension": ".py",
   "mimetype": "text/x-python",
   "name": "python",
   "nbconvert_exporter": "python",
   "pygments_lexer": "ipython2",
   "version": "2.7.13"
  }
 },
 "nbformat": 4,
 "nbformat_minor": 1
}

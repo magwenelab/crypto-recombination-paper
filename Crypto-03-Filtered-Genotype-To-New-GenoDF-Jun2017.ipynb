{
 "cells": [
  {
   "cell_type": "code",
   "execution_count": 1,
   "metadata": {
    "collapsed": true
   },
   "outputs": [],
   "source": [
    "import numpy as np\n",
    "import pandas as pd\n",
    "import cryptofxns\n",
    "import os\n",
    "from os import listdir\n",
    "from matplotlib import pyplot as plt\n",
    "%matplotlib inline"
   ]
  },
  {
   "cell_type": "code",
   "execution_count": 2,
   "metadata": {
    "collapsed": true
   },
   "outputs": [],
   "source": [
    "hap_filter_size = 0\n",
    "HAPFILTINT = int(hap_filter_size/1000.0)\n",
    "Method = '-min'\n",
    "fileendname = Method +'-Geno-k' + str(int(hap_filter_size)) + '.csv'"
   ]
  },
  {
   "cell_type": "code",
   "execution_count": 3,
   "metadata": {
    "collapsed": true
   },
   "outputs": [],
   "source": [
    "genodf = cryptofxns.geno_df;genodf.shape\n",
    "centromere = cryptofxns.load_centrom_locs()\n",
    "clens = cryptofxns.chromosome_lengths\n",
    "tc = cryptofxns.thecol"
   ]
  },
  {
   "cell_type": "code",
   "execution_count": 4,
   "metadata": {},
   "outputs": [
    {
     "data": {
      "text/plain": [
       "94"
      ]
     },
     "execution_count": 4,
     "metadata": {},
     "output_type": "execute_result"
    }
   ],
   "source": [
    "chrlist = np.unique(genodf.Chrom).tolist()\n",
    "segs_parents = genodf.columns.tolist()[tc:];\n",
    "segs_drop = cryptofxns.geno_remove;\n",
    "segs = [s for s in segs_parents if s not in segs_drop+ ['SS-A837','XL280','XL280a']]\n",
    "len(segs)"
   ]
  },
  {
   "cell_type": "code",
   "execution_count": 5,
   "metadata": {},
   "outputs": [
    {
     "data": {
      "text/plain": [
       "(86767, 98)"
      ]
     },
     "execution_count": 5,
     "metadata": {},
     "output_type": "execute_result"
    }
   ],
   "source": [
    "genodf = genodf[genodf.columns.tolist()[:tc]+segs].dropna(how='any',axis=0);\n",
    "genodf.shape"
   ]
  },
  {
   "cell_type": "code",
   "execution_count": 6,
   "metadata": {
    "collapsed": true
   },
   "outputs": [],
   "source": [
    "blakes_bams = pd.read_csv('../FILES/blakes_bams_qtl.csv')"
   ]
  },
  {
   "cell_type": "code",
   "execution_count": 7,
   "metadata": {},
   "outputs": [
    {
     "data": {
      "text/plain": [
       "107"
      ]
     },
     "execution_count": 7,
     "metadata": {},
     "output_type": "execute_result"
    }
   ],
   "source": [
    "len(blakes_bams.columns.tolist())"
   ]
  },
  {
   "cell_type": "code",
   "execution_count": 8,
   "metadata": {},
   "outputs": [
    {
     "data": {
      "text/plain": [
       "108"
      ]
     },
     "execution_count": 8,
     "metadata": {},
     "output_type": "execute_result"
    }
   ],
   "source": [
    "len(segs_parents)"
   ]
  },
  {
   "cell_type": "code",
   "execution_count": 9,
   "metadata": {
    "collapsed": true
   },
   "outputs": [],
   "source": [
    "FILECHRPATHS = cryptofxns.FILECHRPATHS;\n",
    "FGTFILES = [f[3] for f in FILECHRPATHS];"
   ]
  },
  {
   "cell_type": "code",
   "execution_count": 10,
   "metadata": {},
   "outputs": [
    {
     "data": {
      "text/plain": [
       "'../FILES/CHR1/FGT/'"
      ]
     },
     "execution_count": 10,
     "metadata": {},
     "output_type": "execute_result"
    }
   ],
   "source": [
    "FGTFILES[0]"
   ]
  },
  {
   "cell_type": "code",
   "execution_count": 11,
   "metadata": {},
   "outputs": [
    {
     "data": {
      "text/plain": [
       "'-min-Geno-k0.csv'"
      ]
     },
     "execution_count": 11,
     "metadata": {},
     "output_type": "execute_result"
    }
   ],
   "source": [
    "fileendname"
   ]
  },
  {
   "cell_type": "code",
   "execution_count": 13,
   "metadata": {},
   "outputs": [],
   "source": [
    "#SS-B410-min-haplotype-k0"
   ]
  },
  {
   "cell_type": "code",
   "execution_count": 14,
   "metadata": {},
   "outputs": [],
   "source": [
    "fgtdfs = [];\n",
    "for ch, chrom in enumerate(chrlist):\n",
    "    dfs = [];\n",
    "    for seg in segs:#for tetrad in tetrads:\n",
    "        path = FGTFILES[ch] + seg + '/'+ seg + fileendname#-min-haplotype-k6000.csv'\n",
    "        if os.path.exists(path):\n",
    "            dfs.append(pd.read_csv(path));\n",
    "    fgtdfs.append(dfs);"
   ]
  },
  {
   "cell_type": "code",
   "execution_count": 15,
   "metadata": {
    "collapsed": true
   },
   "outputs": [],
   "source": [
    "ngenodf = pd.DataFrame(index=genodf.index.tolist(),columns=genodf.columns.tolist())\n",
    "ngenodf['Chrom'] = genodf.Chrom;\n",
    "ngenodf['Alt'] = genodf.Alt;\n",
    "ngenodf['Ref'] = genodf.Ref;\n",
    "ngenodf['Pos'] = genodf.Pos;"
   ]
  },
  {
   "cell_type": "code",
   "execution_count": 16,
   "metadata": {},
   "outputs": [
    {
     "data": {
      "text/html": [
       "<div>\n",
       "<style>\n",
       "    .dataframe thead tr:only-child th {\n",
       "        text-align: right;\n",
       "    }\n",
       "\n",
       "    .dataframe thead th {\n",
       "        text-align: left;\n",
       "    }\n",
       "\n",
       "    .dataframe tbody tr th {\n",
       "        vertical-align: top;\n",
       "    }\n",
       "</style>\n",
       "<table border=\"1\" class=\"dataframe\">\n",
       "  <thead>\n",
       "    <tr style=\"text-align: right;\">\n",
       "      <th></th>\n",
       "      <th>Alt</th>\n",
       "      <th>Chrom</th>\n",
       "      <th>Pos</th>\n",
       "      <th>Ref</th>\n",
       "      <th>SS-B307</th>\n",
       "      <th>SS-B308</th>\n",
       "      <th>SS-B310</th>\n",
       "      <th>SS-B311</th>\n",
       "      <th>SS-B312</th>\n",
       "      <th>SS-B313</th>\n",
       "      <th>...</th>\n",
       "      <th>SS-C029_cor</th>\n",
       "      <th>SS-C031_cor</th>\n",
       "      <th>SS-C033</th>\n",
       "      <th>SS-C036</th>\n",
       "      <th>SS-C039</th>\n",
       "      <th>SS-C242</th>\n",
       "      <th>SS-C271</th>\n",
       "      <th>SS-C272</th>\n",
       "      <th>SS-C290</th>\n",
       "      <th>SS-C291</th>\n",
       "    </tr>\n",
       "  </thead>\n",
       "  <tbody>\n",
       "    <tr>\n",
       "      <th>0</th>\n",
       "      <td>A</td>\n",
       "      <td>Chr01</td>\n",
       "      <td>5016.0</td>\n",
       "      <td>C</td>\n",
       "      <td>NaN</td>\n",
       "      <td>NaN</td>\n",
       "      <td>NaN</td>\n",
       "      <td>NaN</td>\n",
       "      <td>NaN</td>\n",
       "      <td>NaN</td>\n",
       "      <td>...</td>\n",
       "      <td>NaN</td>\n",
       "      <td>NaN</td>\n",
       "      <td>NaN</td>\n",
       "      <td>NaN</td>\n",
       "      <td>NaN</td>\n",
       "      <td>NaN</td>\n",
       "      <td>NaN</td>\n",
       "      <td>NaN</td>\n",
       "      <td>NaN</td>\n",
       "      <td>NaN</td>\n",
       "    </tr>\n",
       "    <tr>\n",
       "      <th>1</th>\n",
       "      <td>C</td>\n",
       "      <td>Chr01</td>\n",
       "      <td>5299.0</td>\n",
       "      <td>T</td>\n",
       "      <td>NaN</td>\n",
       "      <td>NaN</td>\n",
       "      <td>NaN</td>\n",
       "      <td>NaN</td>\n",
       "      <td>NaN</td>\n",
       "      <td>NaN</td>\n",
       "      <td>...</td>\n",
       "      <td>NaN</td>\n",
       "      <td>NaN</td>\n",
       "      <td>NaN</td>\n",
       "      <td>NaN</td>\n",
       "      <td>NaN</td>\n",
       "      <td>NaN</td>\n",
       "      <td>NaN</td>\n",
       "      <td>NaN</td>\n",
       "      <td>NaN</td>\n",
       "      <td>NaN</td>\n",
       "    </tr>\n",
       "    <tr>\n",
       "      <th>2</th>\n",
       "      <td>C</td>\n",
       "      <td>Chr01</td>\n",
       "      <td>5464.0</td>\n",
       "      <td>T</td>\n",
       "      <td>NaN</td>\n",
       "      <td>NaN</td>\n",
       "      <td>NaN</td>\n",
       "      <td>NaN</td>\n",
       "      <td>NaN</td>\n",
       "      <td>NaN</td>\n",
       "      <td>...</td>\n",
       "      <td>NaN</td>\n",
       "      <td>NaN</td>\n",
       "      <td>NaN</td>\n",
       "      <td>NaN</td>\n",
       "      <td>NaN</td>\n",
       "      <td>NaN</td>\n",
       "      <td>NaN</td>\n",
       "      <td>NaN</td>\n",
       "      <td>NaN</td>\n",
       "      <td>NaN</td>\n",
       "    </tr>\n",
       "    <tr>\n",
       "      <th>3</th>\n",
       "      <td>C</td>\n",
       "      <td>Chr01</td>\n",
       "      <td>6120.0</td>\n",
       "      <td>T</td>\n",
       "      <td>NaN</td>\n",
       "      <td>NaN</td>\n",
       "      <td>NaN</td>\n",
       "      <td>NaN</td>\n",
       "      <td>NaN</td>\n",
       "      <td>NaN</td>\n",
       "      <td>...</td>\n",
       "      <td>NaN</td>\n",
       "      <td>NaN</td>\n",
       "      <td>NaN</td>\n",
       "      <td>NaN</td>\n",
       "      <td>NaN</td>\n",
       "      <td>NaN</td>\n",
       "      <td>NaN</td>\n",
       "      <td>NaN</td>\n",
       "      <td>NaN</td>\n",
       "      <td>NaN</td>\n",
       "    </tr>\n",
       "    <tr>\n",
       "      <th>4</th>\n",
       "      <td>A</td>\n",
       "      <td>Chr01</td>\n",
       "      <td>6166.0</td>\n",
       "      <td>G</td>\n",
       "      <td>NaN</td>\n",
       "      <td>NaN</td>\n",
       "      <td>NaN</td>\n",
       "      <td>NaN</td>\n",
       "      <td>NaN</td>\n",
       "      <td>NaN</td>\n",
       "      <td>...</td>\n",
       "      <td>NaN</td>\n",
       "      <td>NaN</td>\n",
       "      <td>NaN</td>\n",
       "      <td>NaN</td>\n",
       "      <td>NaN</td>\n",
       "      <td>NaN</td>\n",
       "      <td>NaN</td>\n",
       "      <td>NaN</td>\n",
       "      <td>NaN</td>\n",
       "      <td>NaN</td>\n",
       "    </tr>\n",
       "  </tbody>\n",
       "</table>\n",
       "<p>5 rows × 98 columns</p>\n",
       "</div>"
      ],
      "text/plain": [
       "  Alt  Chrom     Pos Ref SS-B307 SS-B308 SS-B310 SS-B311 SS-B312 SS-B313  \\\n",
       "0   A  Chr01  5016.0   C     NaN     NaN     NaN     NaN     NaN     NaN   \n",
       "1   C  Chr01  5299.0   T     NaN     NaN     NaN     NaN     NaN     NaN   \n",
       "2   C  Chr01  5464.0   T     NaN     NaN     NaN     NaN     NaN     NaN   \n",
       "3   C  Chr01  6120.0   T     NaN     NaN     NaN     NaN     NaN     NaN   \n",
       "4   A  Chr01  6166.0   G     NaN     NaN     NaN     NaN     NaN     NaN   \n",
       "\n",
       "    ...   SS-C029_cor SS-C031_cor SS-C033 SS-C036 SS-C039 SS-C242 SS-C271  \\\n",
       "0   ...           NaN         NaN     NaN     NaN     NaN     NaN     NaN   \n",
       "1   ...           NaN         NaN     NaN     NaN     NaN     NaN     NaN   \n",
       "2   ...           NaN         NaN     NaN     NaN     NaN     NaN     NaN   \n",
       "3   ...           NaN         NaN     NaN     NaN     NaN     NaN     NaN   \n",
       "4   ...           NaN         NaN     NaN     NaN     NaN     NaN     NaN   \n",
       "\n",
       "  SS-C272 SS-C290 SS-C291  \n",
       "0     NaN     NaN     NaN  \n",
       "1     NaN     NaN     NaN  \n",
       "2     NaN     NaN     NaN  \n",
       "3     NaN     NaN     NaN  \n",
       "4     NaN     NaN     NaN  \n",
       "\n",
       "[5 rows x 98 columns]"
      ]
     },
     "execution_count": 16,
     "metadata": {},
     "output_type": "execute_result"
    }
   ],
   "source": [
    "ngenodf.head()"
   ]
  },
  {
   "cell_type": "markdown",
   "metadata": {},
   "source": [
    "## Fill in the dataframe using old index but filtered genotype values"
   ]
  },
  {
   "cell_type": "code",
   "execution_count": 17,
   "metadata": {},
   "outputs": [
    {
     "data": {
      "text/plain": [
       "[]"
      ]
     },
     "execution_count": 17,
     "metadata": {},
     "output_type": "execute_result"
    }
   ],
   "source": [
    "fgtdfs[0]"
   ]
  },
  {
   "cell_type": "code",
   "execution_count": 18,
   "metadata": {
    "scrolled": false
   },
   "outputs": [],
   "source": [
    "for ch,chrom in enumerate(chrlist):\n",
    "    inxs = genodf[genodf['Chrom'] == chrom].index.tolist() ## This only works if you take SNPs with CR of 100%\n",
    "    for seg in fgtdfs[ch]:\n",
    "        seg_name = seg.columns.tolist()[1]\n",
    "        #inxs = [ngenodf[(ngenodf['Chrom']==chrom)&(ngenodf['Pos']==pos)].index[0] for pos in seg['Pos'].tolist()]; ## THIS TAKES TO LONG! \n",
    "        #inxs = genodf[genodf['Chrom'] == chrom][seg_name].dropna().index.tolist() ## Take index from old genotype dataframe\n",
    "        ngenodf.ix[inxs,seg_name] = seg[seg_name].tolist()"
   ]
  },
  {
   "cell_type": "markdown",
   "metadata": {},
   "source": [
    "## Drop the parental strains"
   ]
  },
  {
   "cell_type": "code",
   "execution_count": 19,
   "metadata": {},
   "outputs": [],
   "source": [
    "ngenodf.dropna(axis=1,how='all',inplace=True)"
   ]
  },
  {
   "cell_type": "markdown",
   "metadata": {},
   "source": [
    "## View results"
   ]
  },
  {
   "cell_type": "code",
   "execution_count": 20,
   "metadata": {},
   "outputs": [
    {
     "data": {
      "text/plain": [
       "(86767, 4)"
      ]
     },
     "execution_count": 20,
     "metadata": {},
     "output_type": "execute_result"
    }
   ],
   "source": [
    "ngenodf.shape"
   ]
  },
  {
   "cell_type": "code",
   "execution_count": 21,
   "metadata": {},
   "outputs": [
    {
     "data": {
      "text/html": [
       "<div>\n",
       "<style>\n",
       "    .dataframe thead tr:only-child th {\n",
       "        text-align: right;\n",
       "    }\n",
       "\n",
       "    .dataframe thead th {\n",
       "        text-align: left;\n",
       "    }\n",
       "\n",
       "    .dataframe tbody tr th {\n",
       "        vertical-align: top;\n",
       "    }\n",
       "</style>\n",
       "<table border=\"1\" class=\"dataframe\">\n",
       "  <thead>\n",
       "    <tr style=\"text-align: right;\">\n",
       "      <th></th>\n",
       "      <th>Alt</th>\n",
       "      <th>Chrom</th>\n",
       "      <th>Pos</th>\n",
       "      <th>Ref</th>\n",
       "    </tr>\n",
       "  </thead>\n",
       "  <tbody>\n",
       "    <tr>\n",
       "      <th>0</th>\n",
       "      <td>A</td>\n",
       "      <td>Chr01</td>\n",
       "      <td>5016.0</td>\n",
       "      <td>C</td>\n",
       "    </tr>\n",
       "    <tr>\n",
       "      <th>1</th>\n",
       "      <td>C</td>\n",
       "      <td>Chr01</td>\n",
       "      <td>5299.0</td>\n",
       "      <td>T</td>\n",
       "    </tr>\n",
       "    <tr>\n",
       "      <th>2</th>\n",
       "      <td>C</td>\n",
       "      <td>Chr01</td>\n",
       "      <td>5464.0</td>\n",
       "      <td>T</td>\n",
       "    </tr>\n",
       "    <tr>\n",
       "      <th>3</th>\n",
       "      <td>C</td>\n",
       "      <td>Chr01</td>\n",
       "      <td>6120.0</td>\n",
       "      <td>T</td>\n",
       "    </tr>\n",
       "    <tr>\n",
       "      <th>4</th>\n",
       "      <td>A</td>\n",
       "      <td>Chr01</td>\n",
       "      <td>6166.0</td>\n",
       "      <td>G</td>\n",
       "    </tr>\n",
       "  </tbody>\n",
       "</table>\n",
       "</div>"
      ],
      "text/plain": [
       "  Alt  Chrom     Pos Ref\n",
       "0   A  Chr01  5016.0   C\n",
       "1   C  Chr01  5299.0   T\n",
       "2   C  Chr01  5464.0   T\n",
       "3   C  Chr01  6120.0   T\n",
       "4   A  Chr01  6166.0   G"
      ]
     },
     "execution_count": 21,
     "metadata": {},
     "output_type": "execute_result"
    }
   ],
   "source": [
    "ngenodf.head()"
   ]
  },
  {
   "cell_type": "code",
   "execution_count": 22,
   "metadata": {},
   "outputs": [
    {
     "data": {
      "text/html": [
       "<div>\n",
       "<style>\n",
       "    .dataframe thead tr:only-child th {\n",
       "        text-align: right;\n",
       "    }\n",
       "\n",
       "    .dataframe thead th {\n",
       "        text-align: left;\n",
       "    }\n",
       "\n",
       "    .dataframe tbody tr th {\n",
       "        vertical-align: top;\n",
       "    }\n",
       "</style>\n",
       "<table border=\"1\" class=\"dataframe\">\n",
       "  <thead>\n",
       "    <tr style=\"text-align: right;\">\n",
       "      <th></th>\n",
       "      <th>Alt</th>\n",
       "      <th>Chrom</th>\n",
       "      <th>Pos</th>\n",
       "      <th>Ref</th>\n",
       "    </tr>\n",
       "  </thead>\n",
       "  <tbody>\n",
       "    <tr>\n",
       "      <th>96332</th>\n",
       "      <td>C</td>\n",
       "      <td>Chr09</td>\n",
       "      <td>1176293.0</td>\n",
       "      <td>A</td>\n",
       "    </tr>\n",
       "    <tr>\n",
       "      <th>96333</th>\n",
       "      <td>C</td>\n",
       "      <td>Chr09</td>\n",
       "      <td>1176398.0</td>\n",
       "      <td>A</td>\n",
       "    </tr>\n",
       "    <tr>\n",
       "      <th>96334</th>\n",
       "      <td>C</td>\n",
       "      <td>Chr09</td>\n",
       "      <td>1177613.0</td>\n",
       "      <td>G</td>\n",
       "    </tr>\n",
       "    <tr>\n",
       "      <th>96335</th>\n",
       "      <td>T</td>\n",
       "      <td>Chr09</td>\n",
       "      <td>1178017.0</td>\n",
       "      <td>A</td>\n",
       "    </tr>\n",
       "    <tr>\n",
       "      <th>96336</th>\n",
       "      <td>A</td>\n",
       "      <td>Chr09</td>\n",
       "      <td>1178428.0</td>\n",
       "      <td>G</td>\n",
       "    </tr>\n",
       "  </tbody>\n",
       "</table>\n",
       "</div>"
      ],
      "text/plain": [
       "      Alt  Chrom        Pos Ref\n",
       "96332   C  Chr09  1176293.0   A\n",
       "96333   C  Chr09  1176398.0   A\n",
       "96334   C  Chr09  1177613.0   G\n",
       "96335   T  Chr09  1178017.0   A\n",
       "96336   A  Chr09  1178428.0   G"
      ]
     },
     "execution_count": 22,
     "metadata": {},
     "output_type": "execute_result"
    }
   ],
   "source": [
    "ngenodf.tail()"
   ]
  },
  {
   "cell_type": "code",
   "execution_count": 23,
   "metadata": {},
   "outputs": [],
   "source": [
    "assert 14 == len(np.unique(ngenodf.Chrom.tolist()))"
   ]
  },
  {
   "cell_type": "markdown",
   "metadata": {},
   "source": [
    "# Analysis of Intermarker Intervals\n",
    "## Definition: Intermarker Interval\n",
    "#### Intermarker: For consecutive markers [v1, w1] and [v2, w2], the intermarker interval (IMI), defined as [x,y] ≡ [w1 , v2 ] ⊂ Z.  The nominal size of the IMI is then y − x + 1.  Note that by this definition, markers separated by 1 bp or less produce an IMI size of 0."
   ]
  },
  {
   "cell_type": "code",
   "execution_count": 24,
   "metadata": {},
   "outputs": [
    {
     "name": "stdout",
     "output_type": "stream",
     "text": [
      " Total Number IMIs: 86753\n",
      "        IMIs < 2kb: 86278\n",
      "      % IMIs > 2kb: 0.548\n",
      "   Median IMI size: 87.0 bp\n"
     ]
    },
    {
     "data": {
      "image/png": "[encoded data removed]",
      "text/plain": [
       "<matplotlib.figure.Figure at 0x103f22290>"
      ]
     },
     "metadata": {},
     "output_type": "display_data"
    }
   ],
   "source": [
    "chrom_IMIs = []\n",
    "for chrom in chrlist:\n",
    "    subpos = ngenodf[ngenodf.Chrom==chrom]['Pos'].tolist()\n",
    "    chrom_IMIs.append([cryptofxns.IMI(subpos[i],subpos[i+1]) for i in range(len(subpos)-1)])        \n",
    "\n",
    "assert len(chrom_IMIs) == 14\n",
    "\n",
    "allIMIs = np.concatenate(chrom_IMIs)\n",
    "\n",
    "someIMIs = [imi for imi in allIMIs if imi <= 2000 ];\n",
    "print \" Total Number IMIs:\", len(allIMIs)\n",
    "print \"        IMIs < 2kb:\", len(someIMIs)\n",
    "print \"      % IMIs > 2kb:\", round(100 * (1 - (float(len(someIMIs))/len(allIMIs))),3);\n",
    "print \"   Median IMI size:\", np.median(allIMIs),\"bp\"\n",
    "\n",
    "plt.hist(someIMIs);\n",
    "plt.xlabel('IMI size',fontsize=19);\n",
    "plt.ylabel('Counts',fontsize=19);\n",
    "plt.tight_layout();\n",
    "plt.savefig('../FIGS/Crypto-IMI-Hist-Nov2017.png',dpi=900)"
   ]
  },
  {
   "cell_type": "markdown",
   "metadata": {},
   "source": [
    "## Save the new dataframe"
   ]
  },
  {
   "cell_type": "code",
   "execution_count": null,
   "metadata": {
    "collapsed": true
   },
   "outputs": [],
   "source": [
    "#ngenodf.to_csv('../FILES/FiltGenotoHapFiltGeno%s'%fileendname,index=False)"
   ]
  },
  {
   "cell_type": "code",
   "execution_count": null,
   "metadata": {
    "collapsed": true
   },
   "outputs": [],
   "source": []
  }
 ],
 "metadata": {
  "anaconda-cloud": {},
  "kernelspec": {
   "display_name": "Python 2",
   "language": "python",
   "name": "python2"
  },
  "language_info": {
   "codemirror_mode": {
    "name": "ipython",
    "version": 2
   },
   "file_extension": ".py",
   "mimetype": "text/x-python",
   "name": "python",
   "nbconvert_exporter": "python",
   "pygments_lexer": "ipython2",
   "version": "2.7.14"
  }
 },
 "nbformat": 4,
 "nbformat_minor": 1
}

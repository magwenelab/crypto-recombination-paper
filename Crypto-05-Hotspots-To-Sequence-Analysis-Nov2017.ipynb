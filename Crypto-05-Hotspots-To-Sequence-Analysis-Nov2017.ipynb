{
 "cells": [
  {
   "cell_type": "code",
   "execution_count": 1,
   "metadata": {
    "collapsed": true
   },
   "outputs": [],
   "source": [
    "import numpy as np\n",
    "import pandas as pd\n",
    "import scipy.stats as ss\n",
    "import cryptofxns\n",
    "from matplotlib import pyplot as plt\n",
    "%matplotlib inline"
   ]
  },
  {
   "cell_type": "code",
   "execution_count": 2,
   "metadata": {
    "collapsed": false
   },
   "outputs": [
    {
     "name": "stdout",
     "output_type": "stream",
     "text": [
      "[0, 38344, 56441, 73440, 88553, 101687, 114400, 141606, 176703, 206422, 231549, 255533, 277997, 297904, -1]\n",
      "[0, 9, 10, 11, 12, 13, 1, 2, 3, 4, 5, 6, 7, 8]\n",
      "0\n",
      "0\n",
      "0\n",
      "1\n",
      "0\n",
      "0\n",
      "0\n",
      "0\n",
      "-2\n",
      "0\n",
      "0\n",
      "0\n",
      "0\n",
      "0\n"
     ]
    }
   ],
   "source": [
    "filename = '/Users/croth/Downloads/xl280genome.fasta'\n",
    "#filename = '/Users/croth/Desktop/R1_PM/scripts/crypto-qtls/2016-05/Cryptococcus_neoformans_JEC21.genome.fa'\n",
    "\n",
    "results = []\n",
    "with open(filename) as inputfile:\n",
    "    for line in inputfile:\n",
    "        results.append(line.strip().split(' '))\n",
    "inputfile.close()\n",
    "\n",
    "chrin = []\n",
    "chroms = []\n",
    "for ln,line in enumerate(results):\n",
    "    if line[0].startswith('>'): ## Start of each chromosome beginning with 14\n",
    "        chrin.append(ln)\n",
    "        chroms.append(line[0])\n",
    "\n",
    "clens = cryptofxns.chromosome_lengths;\n",
    "assert len(chrin) == len(clens)\n",
    "\n",
    "chrin  = chrin + [-1];print chrin\n",
    "\n",
    "chrsequs = [[] for ch in clens ]\n",
    "\n",
    "order = [int(a[-2:]) -1 for a in chroms];print order\n",
    "\n",
    "for i, o in enumerate(order):\n",
    "    chrsequs[o] = ''.join(list(np.concatenate(results[chrin[i]+1:chrin[i+1]])))\n",
    "\n",
    "for ch,chrm in enumerate(chrsequs):\n",
    "    print len(chrm) - clens[ch]"
   ]
  },
  {
   "cell_type": "code",
   "execution_count": 3,
   "metadata": {
    "collapsed": true
   },
   "outputs": [],
   "source": [
    "fileend = '-min-Geno-k6000.csv'"
   ]
  },
  {
   "cell_type": "code",
   "execution_count": 4,
   "metadata": {
    "collapsed": false
   },
   "outputs": [],
   "source": [
    "IMIdf = pd.read_csv('../FILES/Crypto-Genome-IMIxCO%s'%fileend).reset_index(drop=True)"
   ]
  },
  {
   "cell_type": "code",
   "execution_count": 5,
   "metadata": {
    "collapsed": false
   },
   "outputs": [
    {
     "data": {
      "text/plain": [
       "(82961, 8)"
      ]
     },
     "execution_count": 5,
     "metadata": {},
     "output_type": "execute_result"
    }
   ],
   "source": [
    "IMIdf.shape"
   ]
  },
  {
   "cell_type": "code",
   "execution_count": 6,
   "metadata": {
    "collapsed": false
   },
   "outputs": [
    {
     "data": {
      "text/html": [
       "<div>\n",
       "<table border=\"1\" class=\"dataframe\">\n",
       "  <thead>\n",
       "    <tr style=\"text-align: right;\">\n",
       "      <th></th>\n",
       "      <th>Chrom</th>\n",
       "      <th>W</th>\n",
       "      <th>V</th>\n",
       "      <th>IMI</th>\n",
       "      <th>XO</th>\n",
       "      <th>uXO</th>\n",
       "      <th>bXO</th>\n",
       "      <th>Pos</th>\n",
       "    </tr>\n",
       "  </thead>\n",
       "  <tbody>\n",
       "    <tr>\n",
       "      <th>0</th>\n",
       "      <td>Chr01</td>\n",
       "      <td>5016.0</td>\n",
       "      <td>5299.0</td>\n",
       "      <td>282</td>\n",
       "      <td>0.0</td>\n",
       "      <td>0.0</td>\n",
       "      <td>0.0</td>\n",
       "      <td>5157.5</td>\n",
       "    </tr>\n",
       "    <tr>\n",
       "      <th>1</th>\n",
       "      <td>Chr01</td>\n",
       "      <td>5299.0</td>\n",
       "      <td>5464.0</td>\n",
       "      <td>164</td>\n",
       "      <td>0.0</td>\n",
       "      <td>0.0</td>\n",
       "      <td>0.0</td>\n",
       "      <td>5381.5</td>\n",
       "    </tr>\n",
       "    <tr>\n",
       "      <th>2</th>\n",
       "      <td>Chr01</td>\n",
       "      <td>5464.0</td>\n",
       "      <td>6120.0</td>\n",
       "      <td>655</td>\n",
       "      <td>0.0</td>\n",
       "      <td>0.0</td>\n",
       "      <td>0.0</td>\n",
       "      <td>5792.0</td>\n",
       "    </tr>\n",
       "    <tr>\n",
       "      <th>3</th>\n",
       "      <td>Chr01</td>\n",
       "      <td>6120.0</td>\n",
       "      <td>6166.0</td>\n",
       "      <td>45</td>\n",
       "      <td>0.0</td>\n",
       "      <td>0.0</td>\n",
       "      <td>0.0</td>\n",
       "      <td>6143.0</td>\n",
       "    </tr>\n",
       "    <tr>\n",
       "      <th>4</th>\n",
       "      <td>Chr01</td>\n",
       "      <td>6166.0</td>\n",
       "      <td>6477.0</td>\n",
       "      <td>310</td>\n",
       "      <td>0.0</td>\n",
       "      <td>0.0</td>\n",
       "      <td>0.0</td>\n",
       "      <td>6321.5</td>\n",
       "    </tr>\n",
       "  </tbody>\n",
       "</table>\n",
       "</div>"
      ],
      "text/plain": [
       "   Chrom       W       V  IMI   XO  uXO  bXO     Pos\n",
       "0  Chr01  5016.0  5299.0  282  0.0  0.0  0.0  5157.5\n",
       "1  Chr01  5299.0  5464.0  164  0.0  0.0  0.0  5381.5\n",
       "2  Chr01  5464.0  6120.0  655  0.0  0.0  0.0  5792.0\n",
       "3  Chr01  6120.0  6166.0   45  0.0  0.0  0.0  6143.0\n",
       "4  Chr01  6166.0  6477.0  310  0.0  0.0  0.0  6321.5"
      ]
     },
     "execution_count": 6,
     "metadata": {},
     "output_type": "execute_result"
    }
   ],
   "source": [
    "IMIdf.head()"
   ]
  },
  {
   "cell_type": "code",
   "execution_count": 7,
   "metadata": {
    "collapsed": false
   },
   "outputs": [
    {
     "data": {
      "text/plain": [
       "3297.0"
      ]
     },
     "execution_count": 7,
     "metadata": {},
     "output_type": "execute_result"
    }
   ],
   "source": [
    "IMIdf.uXO.sum() + IMIdf.bXO.sum()"
   ]
  },
  {
   "cell_type": "code",
   "execution_count": 8,
   "metadata": {
    "collapsed": false
   },
   "outputs": [
    {
     "data": {
      "text/plain": [
       "14"
      ]
     },
     "execution_count": 8,
     "metadata": {},
     "output_type": "execute_result"
    }
   ],
   "source": [
    "chrlist = IMIdf.Chrom.unique().tolist();len(chrlist)"
   ]
  },
  {
   "cell_type": "markdown",
   "metadata": {},
   "source": [
    "## Load in Hot spot and Cold spot index info"
   ]
  },
  {
   "cell_type": "code",
   "execution_count": 9,
   "metadata": {
    "collapsed": false
   },
   "outputs": [],
   "source": [
    "ws = 41500\n",
    "hot_spot_index = pd.read_table('../FILES/Crypto-Hot-Spots-Index-%s-min-Geno-k6000.csv'%str(ws),header=None);\n",
    "cold_spot_index = pd.read_table('../FILES/Crypto-Cold-Spots-Index-%s-min-Geno-k6000.csv'%str(ws),header=None);"
   ]
  },
  {
   "cell_type": "code",
   "execution_count": 10,
   "metadata": {
    "collapsed": false
   },
   "outputs": [
    {
     "data": {
      "text/plain": [
       "['Ch', '01']"
      ]
     },
     "execution_count": 10,
     "metadata": {},
     "output_type": "execute_result"
    }
   ],
   "source": [
    "hot_spot_index.ix[0,0].split('r')"
   ]
  },
  {
   "cell_type": "code",
   "execution_count": 11,
   "metadata": {
    "collapsed": true
   },
   "outputs": [],
   "source": [
    "hot_index_temp = []\n",
    "for i in hot_spot_index.index.tolist():\n",
    "     if hot_spot_index.ix[i,0].split('r') != 'Ch':\n",
    "        hot_index_temp.append([int(a) for a in hot_spot_index.ix[i,0].split(',')[:-1]])\n",
    "hot_index = [a for a in hot_index_temp if len(a) > 0]       "
   ]
  },
  {
   "cell_type": "code",
   "execution_count": 12,
   "metadata": {
    "collapsed": false
   },
   "outputs": [
    {
     "data": {
      "text/plain": [
       "35"
      ]
     },
     "execution_count": 12,
     "metadata": {},
     "output_type": "execute_result"
    }
   ],
   "source": [
    "len(hot_index) "
   ]
  },
  {
   "cell_type": "code",
   "execution_count": 13,
   "metadata": {
    "collapsed": true
   },
   "outputs": [],
   "source": [
    "cold_index_temp = []\n",
    "for i in cold_spot_index.index.tolist():\n",
    "    if cold_spot_index.ix[i,0].split('r') != 'Ch':\n",
    "        cold_index_temp.append([int(a) for a in cold_spot_index.ix[i,0].split(',')[:-1]])\n",
    "cold_index = [a for a in cold_index_temp if len(a) > 0]"
   ]
  },
  {
   "cell_type": "code",
   "execution_count": 14,
   "metadata": {
    "collapsed": false
   },
   "outputs": [
    {
     "data": {
      "text/plain": [
       "54"
      ]
     },
     "execution_count": 14,
     "metadata": {},
     "output_type": "execute_result"
    }
   ],
   "source": [
    "len(cold_index)"
   ]
  },
  {
   "cell_type": "markdown",
   "metadata": {},
   "source": [
    "## check work"
   ]
  },
  {
   "cell_type": "code",
   "execution_count": 16,
   "metadata": {
    "collapsed": false
   },
   "outputs": [
    {
     "name": "stdout",
     "output_type": "stream",
     "text": [
      "['Chr14']\n",
      "33.0\n"
     ]
    },
    {
     "name": "stderr",
     "output_type": "stream",
     "text": [
      "/Users/croth/anaconda2/lib/python2.7/site-packages/ipykernel/__main__.py:2: UserWarning: Boolean Series key will be reindexed to match DataFrame index.\n",
      "  from ipykernel import kernelapp as app\n"
     ]
    }
   ],
   "source": [
    "print IMIdf.ix[hot_index[-1]].Chrom.unique().tolist() ## Should be Chr14\n",
    "print IMIdf.ix[hot_index[-1]][IMIdf.XO>0].XO.sum() ## Should be 33\n",
    "for hotin in hot_index:\n",
    "    assert IMIdf.ix[hotin].XO.sum() > 0\n",
    "for coldin in cold_index:\n",
    "    assert 0==IMIdf.ix[coldin].XO.sum() ## Should be 0"
   ]
  },
  {
   "cell_type": "code",
   "execution_count": 22,
   "metadata": {
    "collapsed": false
   },
   "outputs": [
    {
     "name": "stderr",
     "output_type": "stream",
     "text": [
      "/Users/croth/anaconda2/lib/python2.7/site-packages/ipykernel/__main__.py:1: UserWarning: Boolean Series key will be reindexed to match DataFrame index.\n",
      "  if __name__ == '__main__':\n",
      "/Users/croth/anaconda2/lib/python2.7/site-packages/ipykernel/__main__.py:2: UserWarning: Boolean Series key will be reindexed to match DataFrame index.\n",
      "  from ipykernel import kernelapp as app\n"
     ]
    }
   ],
   "source": [
    "hotIMIdf = IMIdf.ix[np.unique(np.concatenate(hot_index))][IMIdf.XO>=0].copy() ## Take unique and above zero for IMI with co\n",
    "coldIMIdf = IMIdf.ix[np.unique(np.concatenate(cold_index))][IMIdf.XO==0].copy() ## Make sure they are zero! "
   ]
  },
  {
   "cell_type": "code",
   "execution_count": 23,
   "metadata": {
    "collapsed": false
   },
   "outputs": [],
   "source": [
    "otherIMIindex = [a for a in IMIdf.index.tolist() \n",
    "                 if a not in np.concatenate(hot_index).tolist() + np.concatenate(cold_index).tolist()]"
   ]
  },
  {
   "cell_type": "code",
   "execution_count": 24,
   "metadata": {
    "collapsed": false
   },
   "outputs": [
    {
     "data": {
      "text/plain": [
       "7558"
      ]
     },
     "execution_count": 24,
     "metadata": {},
     "output_type": "execute_result"
    }
   ],
   "source": [
    "len(hotIMIdf)"
   ]
  },
  {
   "cell_type": "code",
   "execution_count": 25,
   "metadata": {
    "collapsed": false
   },
   "outputs": [
    {
     "data": {
      "text/plain": [
       "7369"
      ]
     },
     "execution_count": 25,
     "metadata": {},
     "output_type": "execute_result"
    }
   ],
   "source": [
    "len(coldIMIdf)"
   ]
  },
  {
   "cell_type": "code",
   "execution_count": 26,
   "metadata": {
    "collapsed": false
   },
   "outputs": [
    {
     "name": "stdout",
     "output_type": "stream",
     "text": [
      "68051\n"
     ]
    }
   ],
   "source": [
    "print len(otherIMIindex)\n",
    "otherIMIdf = IMIdf.ix[otherIMIindex].copy()"
   ]
  },
  {
   "cell_type": "code",
   "execution_count": 27,
   "metadata": {
    "collapsed": false
   },
   "outputs": [
    {
     "data": {
      "text/plain": [
       "14"
      ]
     },
     "execution_count": 27,
     "metadata": {},
     "output_type": "execute_result"
    }
   ],
   "source": [
    "len(otherIMIdf.Chrom.unique().tolist())"
   ]
  },
  {
   "cell_type": "code",
   "execution_count": 28,
   "metadata": {
    "collapsed": false
   },
   "outputs": [
    {
     "data": {
      "text/plain": [
       "14"
      ]
     },
     "execution_count": 28,
     "metadata": {},
     "output_type": "execute_result"
    }
   ],
   "source": [
    "len(hotIMIdf.Chrom.unique().tolist()) ## Should be 14, with 41500 window we see hot spots on all chroms"
   ]
  },
  {
   "cell_type": "code",
   "execution_count": 29,
   "metadata": {
    "collapsed": false
   },
   "outputs": [
    {
     "data": {
      "text/plain": [
       "14"
      ]
     },
     "execution_count": 29,
     "metadata": {},
     "output_type": "execute_result"
    }
   ],
   "source": [
    "len(coldIMIdf.Chrom.unique().tolist()) ## Should be 14 too"
   ]
  },
  {
   "cell_type": "markdown",
   "metadata": {},
   "source": [
    "## Chose IMI that are not hotspots"
   ]
  },
  {
   "cell_type": "code",
   "execution_count": 30,
   "metadata": {
    "collapsed": false
   },
   "outputs": [
    {
     "data": {
      "image/png": "[encoded data removed]",
      "text/plain": [
       "<matplotlib.figure.Figure at 0x111ec0ed0>"
      ]
     },
     "metadata": {},
     "output_type": "display_data"
    }
   ],
   "source": [
    "fig,(ax0,ax1,ax2) = plt.subplots(1,3,figsize=(16,3),sharex=True,sharey=True)\n",
    "plt.sca(ax0)\n",
    "plt.boxplot([np.log10(hotIMIdf[hotIMIdf.Chrom == chrom].IMI.values) for chrom in chrlist]);\n",
    "plt.title('Size Dist. o Hot Spots IMI');\n",
    "plt.xlabel('Chromosomes');plt.ylabel('Log10(Bases)');\n",
    "plt.sca(ax1)\n",
    "plt.boxplot([np.log10(coldIMIdf[coldIMIdf.Chrom == chrom].IMI.values) for chrom in chrlist]);\n",
    "plt.title('Size Dist. o Cold Spots IMI');\n",
    "plt.sca(ax2)\n",
    "plt.boxplot([np.log10(otherIMIdf[otherIMIdf.Chrom==chrom].IMI.values) for chrom in chrlist]);\n",
    "plt.title('Size Dist. o Other IMI');"
   ]
  },
  {
   "cell_type": "code",
   "execution_count": 31,
   "metadata": {
    "collapsed": true
   },
   "outputs": [],
   "source": [
    "def find_IMIsequence(df,chrlist,genome_seq):\n",
    "    hotsequences = []\n",
    "    for ch,chrom in enumerate(chrlist):\n",
    "        sub = df[df.Chrom == chrom];\n",
    "        if len(sub) == 0:\n",
    "            continue\n",
    "        for i in sub.index.tolist():\n",
    "            w = int(sub.ix[i,'W']);\n",
    "            v = int(sub.ix[i,'V']);\n",
    "            hotsequences.append(genome_seq[ch][w:v+1])\n",
    "    return hotsequences"
   ]
  },
  {
   "cell_type": "code",
   "execution_count": 32,
   "metadata": {
    "collapsed": false
   },
   "outputs": [],
   "source": [
    "notseqall = find_IMIsequence(otherIMIdf,chrlist,chrsequs)\n",
    "hotseqall = find_IMIsequence(hotIMIdf,chrlist,chrsequs)\n",
    "coldseqall = find_IMIsequence(coldIMIdf,chrlist,chrsequs)"
   ]
  },
  {
   "cell_type": "code",
   "execution_count": 33,
   "metadata": {
    "collapsed": false
   },
   "outputs": [
    {
     "name": "stdout",
     "output_type": "stream",
     "text": [
      "('Hot', 4)\n",
      "('Cold', 4)\n",
      "('Other', 4)\n"
     ]
    }
   ],
   "source": [
    "Minhot = min([len(seq) for seq in hotseqall]);print(\"Hot\",Minhot)\n",
    "Mincold = min([len(seq) for seq in coldseqall]);print('Cold',Mincold)\n",
    "Minother = min([len(seq) for seq in notseqall]);print(\"Other\",Minother)"
   ]
  },
  {
   "cell_type": "code",
   "execution_count": 34,
   "metadata": {
    "collapsed": false
   },
   "outputs": [
    {
     "name": "stdout",
     "output_type": "stream",
     "text": [
      "73949\n",
      "73949\n",
      "98818\n"
     ]
    }
   ],
   "source": [
    "Maxhot = max([len(seq) for seq in hotseqall]); print(Maxhot)\n",
    "Maxcold = max([len(seq) for seq in coldseqall]); print(Maxcold)\n",
    "Maxhother = max([len(seq) for seq in notseqall]); print (Maxhother)"
   ]
  },
  {
   "cell_type": "code",
   "execution_count": 35,
   "metadata": {
    "collapsed": false
   },
   "outputs": [],
   "source": [
    "def num_nuclio(seq): \n",
    "    A = 0;T = 0;G=0;C=0\n",
    "    for n in seq:\n",
    "        if n in ['A','R','W','M','D','H','V','N']: ## From http://www.bioinformatics.org/sms/iupac.html\n",
    "            A = A + 1\n",
    "        elif n in ['T','Y','W','K','B','D','H','N']:\n",
    "            T = T + 1\n",
    "        elif n in ['G','R','K','B','D','V','N']:\n",
    "            G = G + 1\n",
    "        elif n in ['C','Y','S','M','B','H','V','N']:\n",
    "            C = C + 1\n",
    "        else:\n",
    "            print('error',n)\n",
    "    return A,T,G,C\n",
    "\n",
    "def GC_content(seq):\n",
    "    A,T,G,C = num_nuclio(seq)\n",
    "    return (G + C)/float(A + T + G + C)\n",
    "\n",
    "def AT_GC_ratio(seq):\n",
    "    A,T,G,C = num_nuclio(seq)\n",
    "    return (A+T)/float(G + C)\n",
    "\n",
    "def sequence_GC_AT_GC_ratio(sequences):\n",
    "    GC_cont = [];\n",
    "    AT_GC_r =[];\n",
    "    for seq in sequences:\n",
    "        try:\n",
    "            GC_cont.append(GC_content(seq))\n",
    "            AT_GC_r.append(AT_GC_ratio(seq))\n",
    "        except ZeroDivisionError:\n",
    "            pass\n",
    "    return GC_cont,AT_GC_r"
   ]
  },
  {
   "cell_type": "code",
   "execution_count": 36,
   "metadata": {
    "collapsed": false
   },
   "outputs": [
    {
     "data": {
      "text/plain": [
       "1385"
      ]
     },
     "execution_count": 36,
     "metadata": {},
     "output_type": "execute_result"
    }
   ],
   "source": [
    "#\"\".join(kf_notspots.SEQ.tolist())\n",
    "len(\"\".join(notseqall[:5]))"
   ]
  },
  {
   "cell_type": "code",
   "execution_count": 37,
   "metadata": {
    "collapsed": false
   },
   "outputs": [
    {
     "data": {
      "text/plain": [
       "7558"
      ]
     },
     "execution_count": 37,
     "metadata": {},
     "output_type": "execute_result"
    }
   ],
   "source": [
    "len(hotseqall)"
   ]
  },
  {
   "cell_type": "code",
   "execution_count": 38,
   "metadata": {
    "collapsed": false
   },
   "outputs": [
    {
     "data": {
      "text/plain": [
       "7369"
      ]
     },
     "execution_count": 38,
     "metadata": {},
     "output_type": "execute_result"
    }
   ],
   "source": [
    "len(coldseqall)"
   ]
  },
  {
   "cell_type": "markdown",
   "metadata": {
    "collapsed": false
   },
   "source": [
    "sample = 200;\n",
    "hot_GC_cont_sampling = []\n",
    "cold_GC_cont_sampling = []\n",
    "not_GC_cont_sampling = []\n",
    "for i in range(1000):\n",
    "    notseq_sample = [notseqall[a] for a in np.random.choice(len(notseqall),sample)]\n",
    "    hotseq_sample = [hotseqall[a] for a in np.random.choice(len(hotseqall),sample)]\n",
    "    coldseq_sample = [coldseqall[a] for a in np.random.choice(len(coldseqall),sample)]\n",
    "    not_GC_cont,not_AT_GC = sequence_GC_AT_GC_ratio(notseq_sample)\n",
    "    hot_GC_cont,hot_AT_GC = sequence_GC_AT_GC_ratio(hotseq_sample)\n",
    "    cold_GC_cont,cold_AT_GC = sequence_GC_AT_GC_ratio(coldseq_sample)\n",
    "    hot_GC_cont_sampling.append(np.mean(hot_GC_cont));\n",
    "    cold_GC_cont_sampling.append(np.mean(cold_GC_cont));\n",
    "    not_GC_cont_sampling.append(np.mean(not_GC_cont));"
   ]
  },
  {
   "cell_type": "code",
   "execution_count": 39,
   "metadata": {
    "collapsed": true
   },
   "outputs": [],
   "source": [
    "not_GC_cont,not_AT_GC = sequence_GC_AT_GC_ratio(notseqall)\n",
    "hot_GC_cont,hot_AT_GC = sequence_GC_AT_GC_ratio(hotseqall)\n",
    "cold_GC_cont,cold_AT_GC = sequence_GC_AT_GC_ratio(coldseqall)"
   ]
  },
  {
   "cell_type": "code",
   "execution_count": 40,
   "metadata": {
    "collapsed": false
   },
   "outputs": [],
   "source": [
    "genom_gc_content_mean = 0.486"
   ]
  },
  {
   "cell_type": "markdown",
   "metadata": {
    "collapsed": false
   },
   "source": [
    "fig, ax = plt.subplots(1,1,figsize = (6,3))\n",
    "plt.hist(hot_GC_cont_sampling,alpha=.5,color='r');\n",
    "plt.hist(cold_GC_cont_sampling,alpha=.5,color='b');\n",
    "plt.hist(not_GC_cont_sampling,alpha=.3,color='g');\n",
    "plt.vlines(genom_gc_content_mean,0,50,'yellow',label='Mean Genome (0.486)');\n",
    "plt.vlines(np.mean(hot_GC_cont_sampling),0,50,'red');\n",
    "plt.vlines(np.mean(cold_GC_cont_sampling),0,50,'blue');\n",
    "plt.vlines(np.mean(not_GC_cont_sampling),0,50,'green');\n",
    "#plt.title('Sampling Distributions of the Mean\\n G-C Content\\nHot Spots vs Cold Spots\\n & Genomic Background',\n",
    "#         fontsize=18);\n",
    "plt.gca().spines[\"right\"].set_visible(False)\n",
    "plt.gca().spines[\"top\"].set_visible(False)\n",
    "plt.xlabel('Mean G-C Content',fontsize=16);\n",
    "plt.ylabel('Counts',fontsize=16);\n",
    "plt.tight_layout();\n",
    "plt.savefig('../FIGS/Crypto-Hot-Spot-G-C-Sampling-Mean.png',dpi=600);"
   ]
  },
  {
   "cell_type": "code",
   "execution_count": 41,
   "metadata": {
    "collapsed": true
   },
   "outputs": [],
   "source": [
    "import seaborn as sns"
   ]
  },
  {
   "cell_type": "code",
   "execution_count": 42,
   "metadata": {
    "collapsed": false
   },
   "outputs": [],
   "source": [
    "sns.set()"
   ]
  },
  {
   "cell_type": "code",
   "execution_count": 43,
   "metadata": {
    "collapsed": false
   },
   "outputs": [
    {
     "data": {
      "image/png": "[encoded data removed]",
      "text/plain": [
       "<matplotlib.figure.Figure at 0x11c584050>"
      ]
     },
     "metadata": {},
     "output_type": "display_data"
    }
   ],
   "source": [
    "fig, ax = plt.subplots(1,1,figsize = (5,3))\n",
    "sns.kdeplot(hot_GC_cont,color='r')\n",
    "sns.kdeplot(cold_GC_cont,color='b')\n",
    "sns.kdeplot(not_GC_cont,color='g')\n",
    "plt.vlines(genom_gc_content_mean,0,1,'yellow',label='Mean Genome (0.486)');\n",
    "plt.vlines(np.mean(hot_GC_cont),0,1,'red');\n",
    "plt.vlines(np.mean(cold_GC_cont),0,1,'blue');\n",
    "plt.vlines(np.mean(not_GC_cont),0,1,'green');\n",
    "#plt.title('Sampling Distributions of the Mean\\n G-C Content\\nHot Spots vs Cold Spots\\n & Genomic Background',\n",
    "#         fontsize=18);\n",
    "plt.gca().spines[\"right\"].set_visible(False)\n",
    "plt.gca().spines[\"top\"].set_visible(False)\n",
    "plt.xlabel('GC Content',fontsize=16);\n",
    "plt.ylabel('Kernel Density \\nEstimate',fontsize=16);\n",
    "plt.tight_layout();\n",
    "plt.ylim(0,7);\n",
    "plt.savefig('../FIGS/Crypto-Hot-Spot-G-C-Distributions-%s-Sep2017.png'%ws,dpi=600);"
   ]
  },
  {
   "cell_type": "code",
   "execution_count": 38,
   "metadata": {
    "collapsed": false
   },
   "outputs": [
    {
     "data": {
      "text/plain": [
       "584"
      ]
     },
     "execution_count": 38,
     "metadata": {},
     "output_type": "execute_result"
    }
   ],
   "source": [
    "len(hot_GC_cont)"
   ]
  },
  {
   "cell_type": "code",
   "execution_count": 51,
   "metadata": {
    "collapsed": false
   },
   "outputs": [
    {
     "name": "stdout",
     "output_type": "stream",
     "text": [
      "0.491141229489\n",
      "0.475007127137\n",
      "0.482953364527\n",
      "0.486\n"
     ]
    }
   ],
   "source": [
    "print np.mean(hot_GC_cont)\n",
    "print np.mean(cold_GC_cont)\n",
    "print np.mean(not_GC_cont)\n",
    "print genom_gc_content_mean"
   ]
  },
  {
   "cell_type": "code",
   "execution_count": 52,
   "metadata": {
    "collapsed": false
   },
   "outputs": [
    {
     "name": "stdout",
     "output_type": "stream",
     "text": [
      "0.493573377263\n",
      "0.488709081715\n"
     ]
    }
   ],
   "source": [
    "z = 1.96\n",
    "print np.mean(hot_GC_cont) + z*ss.sem(hot_GC_cont)\n",
    "print np.mean(hot_GC_cont) - z*ss.sem(hot_GC_cont)"
   ]
  },
  {
   "cell_type": "code",
   "execution_count": 53,
   "metadata": {
    "collapsed": false
   },
   "outputs": [
    {
     "name": "stdout",
     "output_type": "stream",
     "text": [
      "0.477015959528\n",
      "0.472998294746\n"
     ]
    }
   ],
   "source": [
    "z = 1.96\n",
    "print np.mean(cold_GC_cont) + z*ss.sem(cold_GC_cont)\n",
    "print np.mean(cold_GC_cont) - z*ss.sem(cold_GC_cont)"
   ]
  },
  {
   "cell_type": "code",
   "execution_count": 54,
   "metadata": {
    "collapsed": false
   },
   "outputs": [
    {
     "name": "stdout",
     "output_type": "stream",
     "text": [
      "0.483685655058\n",
      "0.482221073997\n"
     ]
    }
   ],
   "source": [
    "z = 1.96\n",
    "print np.mean(not_GC_cont) + z*ss.sem(not_GC_cont)\n",
    "print np.mean(not_GC_cont) - z*ss.sem(not_GC_cont)"
   ]
  },
  {
   "cell_type": "code",
   "execution_count": 55,
   "metadata": {
    "collapsed": false
   },
   "outputs": [
    {
     "data": {
      "text/plain": [
       "Ttest_indResult(statistic=9.9992410755885324, pvalue=1.8203243304793044e-23)"
      ]
     },
     "execution_count": 55,
     "metadata": {},
     "output_type": "execute_result"
    }
   ],
   "source": [
    "ss.ttest_ind(hot_GC_cont,cold_GC_cont)"
   ]
  },
  {
   "cell_type": "code",
   "execution_count": 57,
   "metadata": {
    "collapsed": false
   },
   "outputs": [
    {
     "data": {
      "text/plain": [
       "NormaltestResult(statistic=760.17409370762186, pvalue=8.5171227908294908e-166)"
      ]
     },
     "execution_count": 57,
     "metadata": {},
     "output_type": "execute_result"
    }
   ],
   "source": [
    "ss.normaltest(hot_GC_cont)"
   ]
  },
  {
   "cell_type": "code",
   "execution_count": 58,
   "metadata": {
    "collapsed": false
   },
   "outputs": [
    {
     "data": {
      "text/plain": [
       "NormaltestResult(statistic=758.65106724851898, pvalue=1.8239540870430334e-165)"
      ]
     },
     "execution_count": 58,
     "metadata": {},
     "output_type": "execute_result"
    }
   ],
   "source": [
    "ss.normaltest(cold_GC_cont)"
   ]
  },
  {
   "cell_type": "code",
   "execution_count": 94,
   "metadata": {
    "collapsed": true
   },
   "outputs": [],
   "source": [
    "def bootstrap_ci(x,p=1000,c=[25,975]):\n",
    "    diffs = sorted([np.mean(x) - np.mean(np.random.choice(x,len(x),replace=True)) for i in range(p)])\n",
    "    return np.mean(x)-abs(diffs[24]),np.mean(x),np.mean(x)+abs(diffs[974])"
   ]
  },
  {
   "cell_type": "code",
   "execution_count": 99,
   "metadata": {
    "collapsed": false
   },
   "outputs": [
    {
     "data": {
      "text/plain": [
       "0.486"
      ]
     },
     "execution_count": 99,
     "metadata": {},
     "output_type": "execute_result"
    }
   ],
   "source": [
    "genom_gc_content_mean"
   ]
  },
  {
   "cell_type": "code",
   "execution_count": 101,
   "metadata": {
    "collapsed": false
   },
   "outputs": [
    {
     "data": {
      "text/plain": [
       "68051"
      ]
     },
     "execution_count": 101,
     "metadata": {},
     "output_type": "execute_result"
    }
   ],
   "source": [
    "len(not_GC_cont)"
   ]
  },
  {
   "cell_type": "code",
   "execution_count": 106,
   "metadata": {
    "collapsed": false
   },
   "outputs": [],
   "source": [
    "GC_cont_df = pd.DataFrame([hot_GC_cont,cold_GC_cont,not_GC_cont],index=['Hot','Cold','Other']).T"
   ]
  },
  {
   "cell_type": "code",
   "execution_count": 107,
   "metadata": {
    "collapsed": false
   },
   "outputs": [
    {
     "data": {
      "text/plain": [
       "(68051, 3)"
      ]
     },
     "execution_count": 107,
     "metadata": {},
     "output_type": "execute_result"
    }
   ],
   "source": [
    "GC_cont_df.shape"
   ]
  },
  {
   "cell_type": "code",
   "execution_count": 109,
   "metadata": {
    "collapsed": false
   },
   "outputs": [],
   "source": [
    "GC_cont_df.to_csv('../FILES/Crypto-GC-content-Nov2017.csv',index=False);"
   ]
  },
  {
   "cell_type": "code",
   "execution_count": 100,
   "metadata": {
    "collapsed": false
   },
   "outputs": [
    {
     "name": "stdout",
     "output_type": "stream",
     "text": [
      "(0.4822489104361154, 0.48295336452746029, 0.48365043997242158)\n"
     ]
    }
   ],
   "source": [
    "not_GC_ci = bootstrap_ci(not_GC_cont);print not_GC_ci"
   ]
  },
  {
   "cell_type": "code",
   "execution_count": 95,
   "metadata": {
    "collapsed": false
   },
   "outputs": [],
   "source": [
    "hot_gc_ci = bootstrap_ci(hot_GC_cont);"
   ]
  },
  {
   "cell_type": "code",
   "execution_count": 96,
   "metadata": {
    "collapsed": false
   },
   "outputs": [
    {
     "data": {
      "text/plain": [
       "(0.48869679727552046, 0.49114122948926286, 0.49355131011859432)"
      ]
     },
     "execution_count": 96,
     "metadata": {},
     "output_type": "execute_result"
    }
   ],
   "source": [
    "hot_gc_ci"
   ]
  },
  {
   "cell_type": "code",
   "execution_count": 97,
   "metadata": {
    "collapsed": true
   },
   "outputs": [],
   "source": [
    "cold_gc_ci = bootstrap_ci(cold_GC_cont)"
   ]
  },
  {
   "cell_type": "code",
   "execution_count": 98,
   "metadata": {
    "collapsed": false
   },
   "outputs": [
    {
     "data": {
      "text/plain": [
       "(0.47293334126579351, 0.47500712713709842, 0.47689807657039812)"
      ]
     },
     "execution_count": 98,
     "metadata": {},
     "output_type": "execute_result"
    }
   ],
   "source": [
    "cold_gc_ci"
   ]
  },
  {
   "cell_type": "code",
   "execution_count": 119,
   "metadata": {
    "collapsed": true
   },
   "outputs": [],
   "source": [
    "?sns.kdeplot"
   ]
  },
  {
   "cell_type": "code",
   "execution_count": 124,
   "metadata": {
    "collapsed": false
   },
   "outputs": [
    {
     "data": {
      "image/png": "[encoded data removed]",
      "text/plain": [
       "<matplotlib.figure.Figure at 0x118e181d0>"
      ]
     },
     "metadata": {},
     "output_type": "display_data"
    }
   ],
   "source": [
    "fig, ax = plt.subplots(1,1,figsize = (5,3))\n",
    "sns.distplot(hot_GC_cont,color='r',kde=False)\n",
    "sns.distplot(cold_GC_cont,color='b',kde=False)\n",
    "#sns.kdeplot(not_GC_cont,color='g')\n",
    "plt.vlines(genom_gc_content_mean,0,1,'yellow',label='Mean Genome (0.486)');\n",
    "plt.vlines(np.mean(hot_GC_cont),0,200,'pink',alpha=.7);\n",
    "plt.vlines(np.mean(cold_GC_cont),0,200,'lightblue',alpha=.7);\n",
    "#plt.vlines(np.mean(not_GC_cont),0,1,'green');\n",
    "#plt.title('Sampling Distributions of the Mean\\n G-C Content\\nHot Spots vs Cold Spots\\n & Genomic Background',\n",
    "#         fontsize=18);\n",
    "plt.gca().spines[\"right\"].set_visible(False)\n",
    "plt.gca().spines[\"top\"].set_visible(False)\n",
    "plt.xlabel('GC Content',fontsize=16);\n",
    "plt.ylabel('Count',fontsize=16);\n",
    "plt.tight_layout();\n",
    "#plt.ylim(0,7);\n",
    "plt.savefig('../FIGS/Crypto-Hot-Spot-G-C-Distributions-%s-Sep2017.png'%ws,dpi=600);"
   ]
  },
  {
   "cell_type": "markdown",
   "metadata": {
    "collapsed": false
   },
   "source": [
    "#### print np.mean(hot_GC_cont_sampling) + z*ss.sem(hot_GC_cont_sampling)\n",
    "print np.mean(hot_GC_cont_sampling) - z*ss.sem(hot_GC_cont_sampling)"
   ]
  },
  {
   "cell_type": "code",
   "execution_count": 46,
   "metadata": {
    "collapsed": false
   },
   "outputs": [
    {
     "data": {
      "text/plain": [
       "0.47500712713709842"
      ]
     },
     "execution_count": 46,
     "metadata": {},
     "output_type": "execute_result"
    }
   ],
   "source": [
    "np.mean(cold_GC_cont)"
   ]
  },
  {
   "cell_type": "code",
   "execution_count": 47,
   "metadata": {
    "collapsed": false
   },
   "outputs": [
    {
     "data": {
      "text/plain": [
       "0.49114122948926286"
      ]
     },
     "execution_count": 47,
     "metadata": {},
     "output_type": "execute_result"
    }
   ],
   "source": [
    "np.mean(hot_GC_cont)"
   ]
  },
  {
   "cell_type": "code",
   "execution_count": 41,
   "metadata": {
    "collapsed": false
   },
   "outputs": [
    {
     "data": {
      "text/plain": [
       "Ks_2sampResult(statistic=0.050462881248218294, pvalue=3.5525067290491694e-15)"
      ]
     },
     "execution_count": 41,
     "metadata": {},
     "output_type": "execute_result"
    }
   ],
   "source": [
    "ss.ks_2samp(cold_GC_cont,not_GC_cont)"
   ]
  },
  {
   "cell_type": "code",
   "execution_count": 49,
   "metadata": {
    "collapsed": false
   },
   "outputs": [
    {
     "data": {
      "text/plain": [
       "MannwhitneyuResult(statistic=24530609.0, pvalue=1.0337438097588349e-36)"
      ]
     },
     "execution_count": 49,
     "metadata": {},
     "output_type": "execute_result"
    }
   ],
   "source": [
    "ss.mannwhitneyu(hot_GC_cont,cold_GC_cont)"
   ]
  },
  {
   "cell_type": "code",
   "execution_count": 43,
   "metadata": {
    "collapsed": false
   },
   "outputs": [
    {
     "data": {
      "text/plain": [
       "MannwhitneyuResult(statistic=236465374.5, pvalue=4.5798480055667106e-16)"
      ]
     },
     "execution_count": 43,
     "metadata": {},
     "output_type": "execute_result"
    }
   ],
   "source": [
    "ss.mannwhitneyu(cold_GC_cont,not_GC_cont)"
   ]
  },
  {
   "cell_type": "code",
   "execution_count": 45,
   "metadata": {
    "collapsed": false
   },
   "outputs": [
    {
     "data": {
      "text/plain": [
       "Ttest_1sampResult(statistic=-10.725648844178831, pvalue=1.2124395537487395e-26)"
      ]
     },
     "execution_count": 45,
     "metadata": {},
     "output_type": "execute_result"
    }
   ],
   "source": [
    "ss.ttest_1samp(cold_GC_cont,genom_gc_content_mean)"
   ]
  },
  {
   "cell_type": "code",
   "execution_count": 44,
   "metadata": {
    "collapsed": false
   },
   "outputs": [
    {
     "data": {
      "text/plain": [
       "Ttest_1sampResult(statistic=4.1431733326662235, pvalue=3.4626803528896568e-05)"
      ]
     },
     "execution_count": 44,
     "metadata": {},
     "output_type": "execute_result"
    }
   ],
   "source": [
    "ss.ttest_1samp(hot_GC_cont,genom_gc_content_mean)"
   ]
  },
  {
   "cell_type": "code",
   "execution_count": null,
   "metadata": {
    "collapsed": true
   },
   "outputs": [],
   "source": [
    "assert 1 == 2 ## November 13"
   ]
  },
  {
   "cell_type": "markdown",
   "metadata": {},
   "source": [
    "## Find where these sequences over lap"
   ]
  },
  {
   "cell_type": "code",
   "execution_count": 45,
   "metadata": {
    "collapsed": true
   },
   "outputs": [],
   "source": [
    "filename_gtf = '/Users/croth/Desktop/R1_PM/scripts/crypto-qtls/2016-05/Cryptococcus_neoformans_JEC21.gtf'"
   ]
  },
  {
   "cell_type": "code",
   "execution_count": 46,
   "metadata": {
    "collapsed": false
   },
   "outputs": [],
   "source": [
    "gtf_lines = []\n",
    "with open(filename_gtf) as inputfile:\n",
    "    for line in inputfile:\n",
    "        gtf_lines.append(line.strip().split('\\t'))\n",
    "inputfile.close()"
   ]
  },
  {
   "cell_type": "code",
   "execution_count": 47,
   "metadata": {
    "collapsed": false
   },
   "outputs": [
    {
     "data": {
      "text/plain": [
       "116102"
      ]
     },
     "execution_count": 47,
     "metadata": {},
     "output_type": "execute_result"
    }
   ],
   "source": [
    "len(gtf_lines)"
   ]
  },
  {
   "cell_type": "code",
   "execution_count": 48,
   "metadata": {
    "collapsed": false
   },
   "outputs": [
    {
     "data": {
      "text/plain": [
       "9"
      ]
     },
     "execution_count": 48,
     "metadata": {},
     "output_type": "execute_result"
    }
   ],
   "source": [
    "len(gtf_lines[5])"
   ]
  },
  {
   "cell_type": "code",
   "execution_count": 49,
   "metadata": {
    "collapsed": true
   },
   "outputs": [],
   "source": [
    "line_size = []\n",
    "for line in gtf_lines:\n",
    "    line_size.append(len(line))"
   ]
  },
  {
   "cell_type": "code",
   "execution_count": 50,
   "metadata": {
    "collapsed": false
   },
   "outputs": [
    {
     "data": {
      "text/plain": [
       "array([1, 9])"
      ]
     },
     "execution_count": 50,
     "metadata": {},
     "output_type": "execute_result"
    }
   ],
   "source": [
    "np.unique(line_size)"
   ]
  },
  {
   "cell_type": "code",
   "execution_count": 51,
   "metadata": {
    "collapsed": true
   },
   "outputs": [],
   "source": [
    "gtf_df = pd.DataFrame(gtf_lines[5:],columns=['Chrom','ENA','Type','W','V','sph','spl','spk','Info',])"
   ]
  },
  {
   "cell_type": "code",
   "execution_count": 52,
   "metadata": {
    "collapsed": false
   },
   "outputs": [
    {
     "data": {
      "text/html": [
       "<div>\n",
       "<table border=\"1\" class=\"dataframe\">\n",
       "  <thead>\n",
       "    <tr style=\"text-align: right;\">\n",
       "      <th></th>\n",
       "      <th>Chrom</th>\n",
       "      <th>ENA</th>\n",
       "      <th>Type</th>\n",
       "      <th>W</th>\n",
       "      <th>V</th>\n",
       "      <th>sph</th>\n",
       "      <th>spl</th>\n",
       "      <th>spk</th>\n",
       "      <th>Info</th>\n",
       "    </tr>\n",
       "  </thead>\n",
       "  <tbody>\n",
       "    <tr>\n",
       "      <th>0</th>\n",
       "      <td>Chr01</td>\n",
       "      <td>ENA</td>\n",
       "      <td>gene</td>\n",
       "      <td>4713</td>\n",
       "      <td>6181</td>\n",
       "      <td>.</td>\n",
       "      <td>+</td>\n",
       "      <td>.</td>\n",
       "      <td>gene_id \"CNA00010\"; gene_source \"ENA\"; gene_bi...</td>\n",
       "    </tr>\n",
       "    <tr>\n",
       "      <th>1</th>\n",
       "      <td>Chr01</td>\n",
       "      <td>ENA</td>\n",
       "      <td>transcript</td>\n",
       "      <td>4713</td>\n",
       "      <td>6181</td>\n",
       "      <td>.</td>\n",
       "      <td>+</td>\n",
       "      <td>.</td>\n",
       "      <td>gene_id \"CNA00010\"; transcript_id \"AAW41410\"; ...</td>\n",
       "    </tr>\n",
       "    <tr>\n",
       "      <th>2</th>\n",
       "      <td>Chr01</td>\n",
       "      <td>ENA</td>\n",
       "      <td>exon</td>\n",
       "      <td>4713</td>\n",
       "      <td>5053</td>\n",
       "      <td>.</td>\n",
       "      <td>+</td>\n",
       "      <td>.</td>\n",
       "      <td>gene_id \"CNA00010\"; transcript_id \"AAW41410\"; ...</td>\n",
       "    </tr>\n",
       "    <tr>\n",
       "      <th>3</th>\n",
       "      <td>Chr01</td>\n",
       "      <td>ENA</td>\n",
       "      <td>CDS</td>\n",
       "      <td>4713</td>\n",
       "      <td>5053</td>\n",
       "      <td>.</td>\n",
       "      <td>+</td>\n",
       "      <td>0</td>\n",
       "      <td>gene_id \"CNA00010\"; transcript_id \"AAW41410\"; ...</td>\n",
       "    </tr>\n",
       "    <tr>\n",
       "      <th>4</th>\n",
       "      <td>Chr01</td>\n",
       "      <td>ENA</td>\n",
       "      <td>start_codon</td>\n",
       "      <td>4713</td>\n",
       "      <td>4715</td>\n",
       "      <td>.</td>\n",
       "      <td>+</td>\n",
       "      <td>0</td>\n",
       "      <td>gene_id \"CNA00010\"; transcript_id \"AAW41410\"; ...</td>\n",
       "    </tr>\n",
       "  </tbody>\n",
       "</table>\n",
       "</div>"
      ],
      "text/plain": [
       "   Chrom  ENA         Type     W     V sph spl spk  \\\n",
       "0  Chr01  ENA         gene  4713  6181   .   +   .   \n",
       "1  Chr01  ENA   transcript  4713  6181   .   +   .   \n",
       "2  Chr01  ENA         exon  4713  5053   .   +   .   \n",
       "3  Chr01  ENA          CDS  4713  5053   .   +   0   \n",
       "4  Chr01  ENA  start_codon  4713  4715   .   +   0   \n",
       "\n",
       "                                                Info  \n",
       "0  gene_id \"CNA00010\"; gene_source \"ENA\"; gene_bi...  \n",
       "1  gene_id \"CNA00010\"; transcript_id \"AAW41410\"; ...  \n",
       "2  gene_id \"CNA00010\"; transcript_id \"AAW41410\"; ...  \n",
       "3  gene_id \"CNA00010\"; transcript_id \"AAW41410\"; ...  \n",
       "4  gene_id \"CNA00010\"; transcript_id \"AAW41410\"; ...  "
      ]
     },
     "execution_count": 52,
     "metadata": {},
     "output_type": "execute_result"
    }
   ],
   "source": [
    "gtf_df.head()"
   ]
  },
  {
   "cell_type": "code",
   "execution_count": 53,
   "metadata": {
    "collapsed": true
   },
   "outputs": [],
   "source": [
    "gtf_df['W'] = [int(a) for a in gtf_df['W']]"
   ]
  },
  {
   "cell_type": "code",
   "execution_count": 54,
   "metadata": {
    "collapsed": true
   },
   "outputs": [],
   "source": [
    "gtf_df['V'] = [int(a) for a in gtf_df['V']]"
   ]
  },
  {
   "cell_type": "code",
   "execution_count": 55,
   "metadata": {
    "collapsed": false
   },
   "outputs": [
    {
     "data": {
      "text/plain": [
       "14452"
      ]
     },
     "execution_count": 55,
     "metadata": {},
     "output_type": "execute_result"
    }
   ],
   "source": [
    "len(gtf_df[gtf_df['Chrom']=='Chr01'])"
   ]
  },
  {
   "cell_type": "code",
   "execution_count": 56,
   "metadata": {
    "collapsed": false
   },
   "outputs": [
    {
     "data": {
      "text/plain": [
       "116093"
      ]
     },
     "execution_count": 56,
     "metadata": {},
     "output_type": "execute_result"
    }
   ],
   "source": [
    "len(gtf_df[gtf_df['W'] >= 3])"
   ]
  },
  {
   "cell_type": "code",
   "execution_count": 57,
   "metadata": {
    "collapsed": false
   },
   "outputs": [
    {
     "data": {
      "text/plain": [
       "numpy.int64"
      ]
     },
     "execution_count": 57,
     "metadata": {},
     "output_type": "execute_result"
    }
   ],
   "source": [
    "type(gtf_df['W'][0])"
   ]
  },
  {
   "cell_type": "code",
   "execution_count": 58,
   "metadata": {
    "collapsed": false
   },
   "outputs": [
    {
     "data": {
      "text/plain": [
       "[2, 3, 4, 5, 6, 7, 8, 9, 10, 11, 12]"
      ]
     },
     "execution_count": 58,
     "metadata": {},
     "output_type": "execute_result"
    }
   ],
   "source": [
    "gtf_df[(gtf_df['Chrom'] == 'Chr01') & (gtf_df['W'] >= 4713) & (gtf_df['V']<= 6000)].index.tolist()"
   ]
  },
  {
   "cell_type": "code",
   "execution_count": 59,
   "metadata": {
    "collapsed": false
   },
   "outputs": [],
   "source": [
    "def annotation_overlaps(gtfdf,IMIdf):\n",
    "    overlaps = []\n",
    "    for i in IMIdf.index.tolist():\n",
    "        overlaps.append(gtfdf[(gtfdf['Chrom'] == IMIdf.ix[i,'Chrom'])&\n",
    "                              (gtfdf['W'] >= IMIdf.ix[i,'W']) & \n",
    "                              (gtfdf['V'] <= IMIdf.ix[i,'V'])].index.tolist())\n",
    "    return overlaps\n",
    "\n",
    "def make_overlaps_df(IMIDF,overlaps,gtfdf):\n",
    "    a = 0\n",
    "    IMIdf = IMIDF.copy()\n",
    "    IMIdf['Overlap'] = 0*np.array(range(len(IMIdf)))\n",
    "    for i ,overl in enumerate(overlaps):\n",
    "        if len(overl) == 0:\n",
    "            a = a + 1\n",
    "            A = ['intergenic_region']\n",
    "        else:\n",
    "            A = [ gtfdf.ix[ove,'Info'] for ove in overl ]\n",
    "        IMIdf['Overlap'][i] = A\n",
    "    return IMIdf,a"
   ]
  },
  {
   "cell_type": "code",
   "execution_count": 60,
   "metadata": {
    "collapsed": false
   },
   "outputs": [
    {
     "data": {
      "text/plain": [
       "17921"
      ]
     },
     "execution_count": 60,
     "metadata": {},
     "output_type": "execute_result"
    }
   ],
   "source": [
    "hotIMIdf.IMI.max()"
   ]
  },
  {
   "cell_type": "code",
   "execution_count": 61,
   "metadata": {
    "collapsed": false
   },
   "outputs": [
    {
     "data": {
      "text/plain": [
       "483"
      ]
     },
     "execution_count": 61,
     "metadata": {},
     "output_type": "execute_result"
    }
   ],
   "source": [
    "len(hotIMIdf.Chrom[(hotIMIdf.IMI>100) & ( hotIMIdf.IMI < 10000)])"
   ]
  },
  {
   "cell_type": "code",
   "execution_count": 62,
   "metadata": {
    "collapsed": false
   },
   "outputs": [
    {
     "data": {
      "text/plain": [
       "32924"
      ]
     },
     "execution_count": 62,
     "metadata": {},
     "output_type": "execute_result"
    }
   ],
   "source": [
    "len(otherIMIdf[(otherIMIdf.IMI>100) & (otherIMIdf.IMI < 10000)])"
   ]
  },
  {
   "cell_type": "code",
   "execution_count": 63,
   "metadata": {
    "collapsed": false
   },
   "outputs": [
    {
     "data": {
      "text/plain": [
       "501"
      ]
     },
     "execution_count": 63,
     "metadata": {},
     "output_type": "execute_result"
    }
   ],
   "source": [
    "hotIMIdf.IMI[hotIMIdf.IMI>500].min()"
   ]
  },
  {
   "cell_type": "code",
   "execution_count": 64,
   "metadata": {
    "collapsed": false
   },
   "outputs": [
    {
     "name": "stdout",
     "output_type": "stream",
     "text": [
      "584\n"
     ]
    }
   ],
   "source": [
    "hot_overlaps = annotation_overlaps(gtf_df,hotIMIdf);print len(hot_overlaps)"
   ]
  },
  {
   "cell_type": "code",
   "execution_count": 65,
   "metadata": {
    "collapsed": false
   },
   "outputs": [
    {
     "name": "stdout",
     "output_type": "stream",
     "text": [
      "7369\n"
     ]
    }
   ],
   "source": [
    "cold_overlaps = annotation_overlaps(gtf_df,coldIMIdf);print len(cold_overlaps)"
   ]
  },
  {
   "cell_type": "code",
   "execution_count": 66,
   "metadata": {
    "collapsed": false
   },
   "outputs": [],
   "source": [
    "#other_overlaps = annotation_overlaps(gtf_df,otherIMIdf);print len(other_overlaps)"
   ]
  },
  {
   "cell_type": "code",
   "execution_count": 67,
   "metadata": {
    "collapsed": false
   },
   "outputs": [
    {
     "name": "stderr",
     "output_type": "stream",
     "text": [
      "/Users/croth/anaconda2/lib/python2.7/site-packages/ipykernel/__main__.py:19: SettingWithCopyWarning: \n",
      "A value is trying to be set on a copy of a slice from a DataFrame\n",
      "\n",
      "See the caveats in the documentation: http://pandas.pydata.org/pandas-docs/stable/indexing.html#indexing-view-versus-copy\n"
     ]
    }
   ],
   "source": [
    "hot_overlaps_df, hota = make_overlaps_df(hotIMIdf,hot_overlaps,gtf_df)"
   ]
  },
  {
   "cell_type": "code",
   "execution_count": 68,
   "metadata": {
    "collapsed": false
   },
   "outputs": [
    {
     "name": "stderr",
     "output_type": "stream",
     "text": [
      "/Users/croth/anaconda2/lib/python2.7/site-packages/ipykernel/__main__.py:19: SettingWithCopyWarning: \n",
      "A value is trying to be set on a copy of a slice from a DataFrame\n",
      "\n",
      "See the caveats in the documentation: http://pandas.pydata.org/pandas-docs/stable/indexing.html#indexing-view-versus-copy\n",
      "/Users/croth/anaconda2/lib/python2.7/site-packages/pandas/core/indexing.py:141: SettingWithCopyWarning: \n",
      "A value is trying to be set on a copy of a slice from a DataFrame\n",
      "\n",
      "See the caveats in the documentation: http://pandas.pydata.org/pandas-docs/stable/indexing.html#indexing-view-versus-copy\n",
      "  self._setitem_with_indexer(indexer, value)\n"
     ]
    }
   ],
   "source": [
    "cold_overlaps_df,colda = make_overlaps_df(coldIMIdf,cold_overlaps,gtf_df)"
   ]
  },
  {
   "cell_type": "code",
   "execution_count": 69,
   "metadata": {
    "collapsed": false
   },
   "outputs": [
    {
     "data": {
      "text/plain": [
       "64.38356164383562"
      ]
     },
     "execution_count": 69,
     "metadata": {},
     "output_type": "execute_result"
    }
   ],
   "source": [
    "(hota)/float(len(hot_overlaps_df))*100"
   ]
  },
  {
   "cell_type": "code",
   "execution_count": 70,
   "metadata": {
    "collapsed": false
   },
   "outputs": [
    {
     "data": {
      "text/plain": [
       "78.49097570905144"
      ]
     },
     "execution_count": 70,
     "metadata": {},
     "output_type": "execute_result"
    }
   ],
   "source": [
    "(colda)/float(len(cold_overlaps_df))*100"
   ]
  },
  {
   "cell_type": "code",
   "execution_count": 71,
   "metadata": {
    "collapsed": false
   },
   "outputs": [],
   "source": [
    "hotIMIlist = hotIMIdf.IMI.tolist()\n",
    "for i,seq in enumerate(hotseqall):\n",
    "    assert len(\"\".join(seq)) == int(hotIMIlist[i]) + 2"
   ]
  },
  {
   "cell_type": "code",
   "execution_count": 72,
   "metadata": {
    "collapsed": false
   },
   "outputs": [],
   "source": [
    "hotIMIdf.reset_index(drop=True,inplace=True)\n",
    "otherIMIdf.reset_index(drop=True,inplace=True)"
   ]
  },
  {
   "cell_type": "markdown",
   "metadata": {},
   "source": [
    "## Pick hot spot sequences with desired length and randomly"
   ]
  },
  {
   "cell_type": "code",
   "execution_count": 73,
   "metadata": {
    "collapsed": false
   },
   "outputs": [],
   "source": [
    "p1 = 100\n",
    "p2 = 10000\n",
    "N = 100\n",
    "picked_hotIMIdf_index = hotIMIdf[(hotIMIdf.IMI>p1) & ( hotIMIdf.IMI<p2)].index.tolist()\n",
    "random_picked_hotIMIdf_index = np.random.choice(picked_hotIMIdf_index,N,replace=False);"
   ]
  },
  {
   "cell_type": "code",
   "execution_count": 74,
   "metadata": {
    "collapsed": false
   },
   "outputs": [
    {
     "data": {
      "text/plain": [
       "100"
      ]
     },
     "execution_count": 74,
     "metadata": {},
     "output_type": "execute_result"
    }
   ],
   "source": [
    "picked_hotIMIdf = hotIMIdf.ix[random_picked_hotIMIdf_index,:];\n",
    "len(picked_hotIMIdf)"
   ]
  },
  {
   "cell_type": "code",
   "execution_count": 75,
   "metadata": {
    "collapsed": true
   },
   "outputs": [],
   "source": [
    "picked_hotIMIseq = [hotseqall[i] for i in random_picked_hotIMIdf_index]"
   ]
  },
  {
   "cell_type": "code",
   "execution_count": 76,
   "metadata": {
    "collapsed": false
   },
   "outputs": [],
   "source": [
    "picked_hotIMIlist = picked_hotIMIdf.IMI.tolist()\n",
    "for i,seq in enumerate(picked_hotIMIseq):\n",
    "    assert len(\"\".join(seq)) == int(picked_hotIMIlist[i]) + 2"
   ]
  },
  {
   "cell_type": "markdown",
   "metadata": {},
   "source": [
    "## pick other sequences with the specific lengths and randomly"
   ]
  },
  {
   "cell_type": "code",
   "execution_count": 77,
   "metadata": {
    "collapsed": false
   },
   "outputs": [],
   "source": [
    "picked_otherIMIdf_index = otherIMIdf[(otherIMIdf.IMI>p1)&(otherIMIdf.IMI<p2)].index.tolist()"
   ]
  },
  {
   "cell_type": "code",
   "execution_count": 78,
   "metadata": {
    "collapsed": false
   },
   "outputs": [
    {
     "data": {
      "text/plain": [
       "32924"
      ]
     },
     "execution_count": 78,
     "metadata": {},
     "output_type": "execute_result"
    }
   ],
   "source": [
    "len(picked_otherIMIdf_index)"
   ]
  },
  {
   "cell_type": "code",
   "execution_count": 79,
   "metadata": {
    "collapsed": false
   },
   "outputs": [],
   "source": [
    "random_picked_otherIMIdf_index = np.random.choice(picked_otherIMIdf_index,N,replace=False);"
   ]
  },
  {
   "cell_type": "code",
   "execution_count": 80,
   "metadata": {
    "collapsed": true
   },
   "outputs": [],
   "source": [
    "rpoIMIlist = otherIMIdf.ix[random_picked_otherIMIdf_index,'IMI'].tolist();"
   ]
  },
  {
   "cell_type": "code",
   "execution_count": 81,
   "metadata": {
    "collapsed": true
   },
   "outputs": [],
   "source": [
    "picked_rpoIMIseq = [notseqall[i] for i in random_picked_otherIMIdf_index]"
   ]
  },
  {
   "cell_type": "code",
   "execution_count": 82,
   "metadata": {
    "collapsed": true
   },
   "outputs": [],
   "source": [
    "rpoIMIdf = otherIMIdf.ix[random_picked_otherIMIdf_index,:]"
   ]
  },
  {
   "cell_type": "code",
   "execution_count": 83,
   "metadata": {
    "collapsed": false
   },
   "outputs": [],
   "source": [
    "for i,seq in enumerate(picked_rpoIMIseq):\n",
    "    assert len(\"\".join(seq)) == int(rpoIMIlist[i]) + 2"
   ]
  },
  {
   "cell_type": "code",
   "execution_count": 84,
   "metadata": {
    "collapsed": false
   },
   "outputs": [
    {
     "data": {
      "image/png": "[encoded data removed]",
      "text/plain": [
       "<matplotlib.figure.Figure at 0x128d6ea90>"
      ]
     },
     "metadata": {},
     "output_type": "display_data"
    }
   ],
   "source": [
    "plt.hist(rpoIMIdf.IMI.tolist(),color='g',alpha=.5,normed=True);\n",
    "plt.hist(picked_hotIMIdf.IMI.tolist(),color='r',alpha=.5,normed=True);"
   ]
  },
  {
   "cell_type": "code",
   "execution_count": 85,
   "metadata": {
    "collapsed": false
   },
   "outputs": [
    {
     "data": {
      "text/plain": [
       "100"
      ]
     },
     "execution_count": 85,
     "metadata": {},
     "output_type": "execute_result"
    }
   ],
   "source": [
    "len(rpoIMIdf)"
   ]
  },
  {
   "cell_type": "code",
   "execution_count": 86,
   "metadata": {
    "collapsed": false
   },
   "outputs": [
    {
     "data": {
      "text/plain": [
       "100"
      ]
     },
     "execution_count": 86,
     "metadata": {},
     "output_type": "execute_result"
    }
   ],
   "source": [
    "len(picked_hotIMIdf)"
   ]
  },
  {
   "cell_type": "markdown",
   "metadata": {},
   "source": [
    "# Write sequences to FASTA format"
   ]
  },
  {
   "cell_type": "code",
   "execution_count": 87,
   "metadata": {
    "collapsed": true
   },
   "outputs": [],
   "source": [
    "## Import needed modules. \n",
    "#from __future__ import print_function\n",
    "import os\n",
    "from os import listdir\n",
    "from os.path import isfile, join"
   ]
  },
  {
   "cell_type": "code",
   "execution_count": 92,
   "metadata": {
    "collapsed": false
   },
   "outputs": [],
   "source": [
    "hotseq_fasta_file = '../FILES/Crypto-Shared-Hotsequences-Sep2017.txt'## Name file\n",
    "f = open(hotseq_fasta_file,'w')## Open file\n",
    "for a,seq in enumerate(picked_hotIMIseq):## for each sequence print the sequence id and sequence to file\n",
    "    fastaid = '_'.join([str(d) for d in picked_hotIMIdf[['Chrom','W','V']].values[a]]+[str(a)]) ## Name id\n",
    "    f.write('>'+fastaid+'\\n')\n",
    "    f.write(seq+'\\n')\n",
    "    f.write('\\n')\n",
    "f.close() ## Close file."
   ]
  },
  {
   "cell_type": "code",
   "execution_count": 93,
   "metadata": {
    "collapsed": false
   },
   "outputs": [
    {
     "name": "stdout",
     "output_type": "stream",
     "text": [
      "37445\n"
     ]
    }
   ],
   "source": [
    "memelim = 60000\n",
    "a = 0;\n",
    "for seq in picked_hotIMIseq:\n",
    "    a = a + len(\"\".join(seq));\n",
    "print a;assert a < memelim"
   ]
  },
  {
   "cell_type": "code",
   "execution_count": 94,
   "metadata": {
    "collapsed": true
   },
   "outputs": [],
   "source": [
    "othseq_fasta_file = '../FILES/Crypto-Shared-othersequences-Sep2017.txt'## Name file\n",
    "f = open(othseq_fasta_file,'w')## Open file\n",
    "for a,seq in enumerate(picked_rpoIMIseq):## for each sequence print the sequence id and sequence to file\n",
    "    fastaid = '_'.join([str(d) for d in rpoIMIdf[['Chrom','W','V']].values[a]]+[str(a)]) ## Name id\n",
    "    f.write('>'+fastaid+'\\n')\n",
    "    f.write(seq+'\\n')\n",
    "    f.write('\\n')\n",
    "    #print('>'+fastaid,file=f) ## print id\n",
    "    #print(seq,file=f) ## print sequence \n",
    "    #print(' ',file=f) ## add a space to make look ncie \n",
    "f.close() ## Close file."
   ]
  },
  {
   "cell_type": "code",
   "execution_count": 95,
   "metadata": {
    "collapsed": false
   },
   "outputs": [
    {
     "name": "stdout",
     "output_type": "stream",
     "text": [
      "44737\n"
     ]
    }
   ],
   "source": [
    "a = 0;\n",
    "for seq in picked_rpoIMIseq:\n",
    "    a = a + len(\"\".join(seq));\n",
    "print a;assert a < memelim"
   ]
  },
  {
   "cell_type": "markdown",
   "metadata": {},
   "source": [
    "# Submit these files to http://meme-suite.org/tools/meme"
   ]
  },
  {
   "cell_type": "markdown",
   "metadata": {},
   "source": [
    "\n",
    "## Notes on MEME submission\n",
    "\n",
    "#### April 12th 2017\n",
    "Normal Mode,\n",
    "DNA,\n",
    "search for 3 motifs \n",
    "\n",
    "#### June 6th 2017 (THIS DIDN'T WORK)\n",
    "Discriminative Mode,\n",
    "DNA,\n",
    "search for 3 motifs \n",
    "\n",
    "### July 8th 2017 (Server Error). \n",
    "Discriminative Mode,\n",
    "DNA,\n",
    "Any Number of Repetitions,\n",
    "search for 4 motifs,\n",
    "\n",
    "### July 10th 2017\n",
    "Discriminative Mode,\n",
    "DNA,\n",
    "one occurance\n",
    "search for 4 motifs,\t\n",
    "crypto-july10-hot-spot-seq-meme-search"
   ]
  },
  {
   "cell_type": "markdown",
   "metadata": {},
   "source": [
    "### July 10th 2017 (Error occured)\n",
    "Discriminative Mode,\n",
    "DNA,\n",
    "Any number of reps,\n",
    "search for 4 motifs,\n",
    "\n",
    "crypto-july10-hot-spot-seq-meme-search-any-num\n",
    "##### Error message: -mod anr (-mod tcm) not yet supported for with -psp."
   ]
  },
  {
   "cell_type": "markdown",
   "metadata": {
    "collapsed": true
   },
   "source": [
    "# Sep 10th 2017 \n",
    "Discrimiinative Mode, DNA, one occurance search for 4 motifs\n"
   ]
  },
  {
   "cell_type": "code",
   "execution_count": null,
   "metadata": {
    "collapsed": true
   },
   "outputs": [],
   "source": []
  }
 ],
 "metadata": {
  "kernelspec": {
   "display_name": "Python [default]",
   "language": "python",
   "name": "python2"
  },
  "language_info": {
   "codemirror_mode": {
    "name": "ipython",
    "version": 2
   },
   "file_extension": ".py",
   "mimetype": "text/x-python",
   "name": "python",
   "nbconvert_exporter": "python",
   "pygments_lexer": "ipython2",
   "version": "2.7.13"
  }
 },
 "nbformat": 4,
 "nbformat_minor": 2
}

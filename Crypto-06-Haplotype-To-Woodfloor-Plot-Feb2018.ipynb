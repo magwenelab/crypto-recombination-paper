{
 "cells": [
  {
   "cell_type": "code",
   "execution_count": 1,
   "metadata": {
    "collapsed": true
   },
   "outputs": [],
   "source": [
    "import numpy as np\n",
    "import pandas as pd\n",
    "import scipy.stats as ss\n",
    "import statsmodels.formula.api as smf\n",
    "import cryptofxns\n",
    "import os\n",
    "from os import listdir\n",
    "from matplotlib import gridspec\n",
    "from matplotlib import pyplot as plt\n",
    "%matplotlib inline"
   ]
  },
  {
   "cell_type": "code",
   "execution_count": 2,
   "metadata": {
    "collapsed": true
   },
   "outputs": [],
   "source": [
    "hap_filter_size = 6000\n",
    "HAPFILTINT = int(hap_filter_size/1000.0)\n",
    "Method = '-min'\n",
    "fileendname = Method +'-haplotype-k' + str(int(hap_filter_size)) + '.csv'"
   ]
  },
  {
   "cell_type": "code",
   "execution_count": 3,
   "metadata": {
    "collapsed": true
   },
   "outputs": [],
   "source": [
    "#genodf = pd.read_csv('../FILES/FiltGenotoHapFiltGeno2017-02-22.csv',index_col=0);print genodf.shape\n",
    "#genodf = pd.read_csv('../FILES/FiltGenotoHapFiltGeno-min-Geno-k6000.csv');print genodf.shape\n",
    "file_end = 'min-Geno-k6000.csv'## JUN 15th\n",
    "genodf = pd.read_csv('../FILES/FiltGenotoHapFiltGeno-%s'%file_end)\n",
    "centromere = cryptofxns.load_centrom_locs()\n",
    "clens = cryptofxns.chromosome_lengths\n",
    "tc = cryptofxns.thecol"
   ]
  },
  {
   "cell_type": "code",
   "execution_count": 4,
   "metadata": {
    "collapsed": true
   },
   "outputs": [],
   "source": [
    "chrom_num = ['I','II','III','IV','V','VI','VII','VIII','IX','X','XI','XII','XIII','XIV'];"
   ]
  },
  {
   "cell_type": "code",
   "execution_count": 5,
   "metadata": {
    "collapsed": true
   },
   "outputs": [],
   "source": [
    "chrlist = sorted(np.unique(genodf.Chrom).tolist())\n",
    "segs_parents = genodf.columns.tolist()[tc:];\n",
    "#segs_all = [s for s in segs_parents if s not in cryptofxns.geno_remove];len(segs_all)\n",
    "segs_all = [s for s in segs_parents ]"
   ]
  },
  {
   "cell_type": "markdown",
   "metadata": {},
   "source": [
    "## PATCH Jan 2018\n",
    "At some point in time we changed the names of the \"corrected\" strains. Here I need to change them back to match teh file names we have. "
   ]
  },
  {
   "cell_type": "code",
   "execution_count": 6,
   "metadata": {
    "collapsed": true
   },
   "outputs": [],
   "source": [
    "old_names = []\n",
    "for seg in segs_all:\n",
    "    if len(seg) > len(segs_all[0]):\n",
    "        new_name = seg.split('_')[0] + '_cor'\n",
    "        old_names.append(new_name)\n",
    "    else:\n",
    "        old_names.append(seg)"
   ]
  },
  {
   "cell_type": "code",
   "execution_count": 7,
   "metadata": {
    "collapsed": true
   },
   "outputs": [],
   "source": [
    "segs_all = old_names"
   ]
  },
  {
   "cell_type": "code",
   "execution_count": 8,
   "metadata": {
    "collapsed": true
   },
   "outputs": [],
   "source": [
    "FILECHRPATHS = cryptofxns.FILECHRPATHS;\n",
    "HAPFILES = [f[2] for f in FILECHRPATHS];"
   ]
  },
  {
   "cell_type": "code",
   "execution_count": 9,
   "metadata": {},
   "outputs": [
    {
     "data": {
      "text/plain": [
       "'../FILES/CHR1/HAP/'"
      ]
     },
     "execution_count": 9,
     "metadata": {},
     "output_type": "execute_result"
    }
   ],
   "source": [
    "HAPFILES[0]"
   ]
  },
  {
   "cell_type": "code",
   "execution_count": 10,
   "metadata": {},
   "outputs": [
    {
     "data": {
      "text/plain": [
       "94"
      ]
     },
     "execution_count": 10,
     "metadata": {},
     "output_type": "execute_result"
    }
   ],
   "source": [
    "len(segs_all)"
   ]
  },
  {
   "cell_type": "code",
   "execution_count": 11,
   "metadata": {
    "collapsed": true
   },
   "outputs": [],
   "source": [
    "hapdfs = [];\n",
    "for ch, chrom in enumerate(chrlist):\n",
    "    dfs = []\n",
    "    for seg in segs_all:\n",
    "        path = HAPFILES[ch] + seg + '/' + seg + fileendname\n",
    "        if os.path.exists(path):\n",
    "            dfs.append(pd.read_csv(path))\n",
    "    hapdfs.append(dfs)"
   ]
  },
  {
   "cell_type": "code",
   "execution_count": 12,
   "metadata": {
    "collapsed": true
   },
   "outputs": [],
   "source": [
    "def set_colors(gt,cl = ['lightblue','orange']):\n",
    "    colors = []\n",
    "    for i in gt:\n",
    "        if i == 0:\n",
    "            colors.append(cl[0]);\n",
    "        else:\n",
    "            colors.append(cl[1]);\n",
    "    return colors"
   ]
  },
  {
   "cell_type": "code",
   "execution_count": 13,
   "metadata": {},
   "outputs": [
    {
     "data": {
      "text/plain": [
       "94"
      ]
     },
     "execution_count": 13,
     "metadata": {},
     "output_type": "execute_result"
    }
   ],
   "source": [
    "len(hapdfs[0])"
   ]
  },
  {
   "cell_type": "markdown",
   "metadata": {},
   "source": [
    "## Calculate SNP Density Along each chromosome"
   ]
  },
  {
   "cell_type": "code",
   "execution_count": 14,
   "metadata": {},
   "outputs": [
    {
     "data": {
      "text/plain": [
       "178.3051"
      ]
     },
     "execution_count": 14,
     "metadata": {},
     "output_type": "execute_result"
    }
   ],
   "source": [
    "clens[3]/10000.0"
   ]
  },
  {
   "cell_type": "code",
   "execution_count": 15,
   "metadata": {
    "collapsed": true
   },
   "outputs": [],
   "source": [
    "sub = genodf[genodf.Chrom == 'Chr03']"
   ]
  },
  {
   "cell_type": "code",
   "execution_count": 16,
   "metadata": {},
   "outputs": [
    {
     "data": {
      "text/plain": [
       "(8897, 98)"
      ]
     },
     "execution_count": 16,
     "metadata": {},
     "output_type": "execute_result"
    }
   ],
   "source": [
    "sub.shape"
   ]
  },
  {
   "cell_type": "code",
   "execution_count": 17,
   "metadata": {},
   "outputs": [
    {
     "data": {
      "text/plain": [
       "2.105722"
      ]
     },
     "execution_count": 17,
     "metadata": {},
     "output_type": "execute_result"
    }
   ],
   "source": [
    "clens[2]/1000000."
   ]
  },
  {
   "cell_type": "code",
   "execution_count": 18,
   "metadata": {
    "collapsed": true
   },
   "outputs": [],
   "source": [
    "ws = 10e3;\n",
    "windows = range(0,int(clens[2]+ws),int(ws));\n",
    "Nsnps = []\n",
    "for i in range(len(windows)-1):\n",
    "    Nsnps.append(len(sub.Pos[(sub.Pos >= windows[i])&(sub.Pos <= windows[i+1])]))"
   ]
  },
  {
   "cell_type": "code",
   "execution_count": 19,
   "metadata": {},
   "outputs": [
    {
     "data": {
      "text/plain": [
       "211"
      ]
     },
     "execution_count": 19,
     "metadata": {},
     "output_type": "execute_result"
    }
   ],
   "source": [
    "len(Nsnps)"
   ]
  },
  {
   "cell_type": "code",
   "execution_count": 20,
   "metadata": {},
   "outputs": [
    {
     "name": "stdout",
     "output_type": "stream",
     "text": [
      "125\n"
     ]
    }
   ],
   "source": [
    "len(Nsnps);print max(Nsnps)"
   ]
  },
  {
   "cell_type": "code",
   "execution_count": 21,
   "metadata": {},
   "outputs": [
    {
     "data": {
      "image/png": "[encoded data removed]",
      "text/plain": [
       "<matplotlib.figure.Figure at 0x1a11eaf490>"
      ]
     },
     "metadata": {},
     "output_type": "display_data"
    }
   ],
   "source": [
    "#plt.plot(windows[:-1],Nsnps,'-');\n",
    "plt.bar(windows[:-1],Nsnps,width=ws,alpha=.5);"
   ]
  },
  {
   "cell_type": "code",
   "execution_count": 22,
   "metadata": {},
   "outputs": [
    {
     "data": {
      "text/plain": [
       "212"
      ]
     },
     "execution_count": 22,
     "metadata": {},
     "output_type": "execute_result"
    }
   ],
   "source": [
    "len(windows)"
   ]
  },
  {
   "cell_type": "code",
   "execution_count": 23,
   "metadata": {},
   "outputs": [
    {
     "data": {
      "text/plain": [
       "[2070000, 2080000, 2090000, 2100000, 2110000]"
      ]
     },
     "execution_count": 23,
     "metadata": {},
     "output_type": "execute_result"
    }
   ],
   "source": [
    "windows[-5:]"
   ]
  },
  {
   "cell_type": "markdown",
   "metadata": {},
   "source": [
    "## For each chromosome, window calculate SNP density"
   ]
  },
  {
   "cell_type": "code",
   "execution_count": 24,
   "metadata": {
    "collapsed": true
   },
   "outputs": [],
   "source": [
    "chromNsnps = [];ws = 10e3;chromNwins = [];\n",
    "for ch,chrom in enumerate(chrlist):\n",
    "    sub = genodf[genodf.Chrom == chrom];Nsnps = [];\n",
    "    windows = range(0,int(clens[ch]+ws),int(ws));\n",
    "    for i in range(len(windows)-1):\n",
    "        Nsnps.append(len(sub.Pos[(sub.Pos >= windows[i])&(sub.Pos <= windows[i+1])]));\n",
    "    chromNsnps.append(Nsnps);chromNwins.append(windows);"
   ]
  },
  {
   "cell_type": "code",
   "execution_count": 25,
   "metadata": {
    "collapsed": true
   },
   "outputs": [],
   "source": [
    "import math\n",
    "def my_round(N,myadd=0,myden=100.0):\n",
    "    return math.ceil((N + myadd)/myden) * myden"
   ]
  },
  {
   "cell_type": "markdown",
   "metadata": {},
   "source": [
    "## Recombination fraction for each chromosome"
   ]
  },
  {
   "cell_type": "markdown",
   "metadata": {},
   "source": [
    "## Bring in CO x IMI dataframe"
   ]
  },
  {
   "cell_type": "code",
   "execution_count": 26,
   "metadata": {
    "collapsed": true
   },
   "outputs": [],
   "source": [
    "hotIMIdf = pd.read_csv('../FILES/Crypto-Genome-IMIxCO-%s'%file_end)"
   ]
  },
  {
   "cell_type": "code",
   "execution_count": 27,
   "metadata": {},
   "outputs": [
    {
     "data": {
      "text/html": [
       "<div>\n",
       "<style>\n",
       "    .dataframe thead tr:only-child th {\n",
       "        text-align: right;\n",
       "    }\n",
       "\n",
       "    .dataframe thead th {\n",
       "        text-align: left;\n",
       "    }\n",
       "\n",
       "    .dataframe tbody tr th {\n",
       "        vertical-align: top;\n",
       "    }\n",
       "</style>\n",
       "<table border=\"1\" class=\"dataframe\">\n",
       "  <thead>\n",
       "    <tr style=\"text-align: right;\">\n",
       "      <th></th>\n",
       "      <th>Chrom</th>\n",
       "      <th>W</th>\n",
       "      <th>V</th>\n",
       "      <th>IMI</th>\n",
       "      <th>XO</th>\n",
       "      <th>uXO</th>\n",
       "      <th>bXO</th>\n",
       "      <th>Pos</th>\n",
       "    </tr>\n",
       "  </thead>\n",
       "  <tbody>\n",
       "    <tr>\n",
       "      <th>0</th>\n",
       "      <td>Chr01</td>\n",
       "      <td>5016.0</td>\n",
       "      <td>5299.0</td>\n",
       "      <td>282</td>\n",
       "      <td>0.0</td>\n",
       "      <td>0.0</td>\n",
       "      <td>0.0</td>\n",
       "      <td>5157.5</td>\n",
       "    </tr>\n",
       "    <tr>\n",
       "      <th>1</th>\n",
       "      <td>Chr01</td>\n",
       "      <td>5299.0</td>\n",
       "      <td>5464.0</td>\n",
       "      <td>164</td>\n",
       "      <td>0.0</td>\n",
       "      <td>0.0</td>\n",
       "      <td>0.0</td>\n",
       "      <td>5381.5</td>\n",
       "    </tr>\n",
       "    <tr>\n",
       "      <th>2</th>\n",
       "      <td>Chr01</td>\n",
       "      <td>5464.0</td>\n",
       "      <td>6120.0</td>\n",
       "      <td>655</td>\n",
       "      <td>0.0</td>\n",
       "      <td>0.0</td>\n",
       "      <td>0.0</td>\n",
       "      <td>5792.0</td>\n",
       "    </tr>\n",
       "    <tr>\n",
       "      <th>3</th>\n",
       "      <td>Chr01</td>\n",
       "      <td>6120.0</td>\n",
       "      <td>6166.0</td>\n",
       "      <td>45</td>\n",
       "      <td>0.0</td>\n",
       "      <td>0.0</td>\n",
       "      <td>0.0</td>\n",
       "      <td>6143.0</td>\n",
       "    </tr>\n",
       "    <tr>\n",
       "      <th>4</th>\n",
       "      <td>Chr01</td>\n",
       "      <td>6166.0</td>\n",
       "      <td>6477.0</td>\n",
       "      <td>310</td>\n",
       "      <td>0.0</td>\n",
       "      <td>0.0</td>\n",
       "      <td>0.0</td>\n",
       "      <td>6321.5</td>\n",
       "    </tr>\n",
       "  </tbody>\n",
       "</table>\n",
       "</div>"
      ],
      "text/plain": [
       "   Chrom       W       V  IMI   XO  uXO  bXO     Pos\n",
       "0  Chr01  5016.0  5299.0  282  0.0  0.0  0.0  5157.5\n",
       "1  Chr01  5299.0  5464.0  164  0.0  0.0  0.0  5381.5\n",
       "2  Chr01  5464.0  6120.0  655  0.0  0.0  0.0  5792.0\n",
       "3  Chr01  6120.0  6166.0   45  0.0  0.0  0.0  6143.0\n",
       "4  Chr01  6166.0  6477.0  310  0.0  0.0  0.0  6321.5"
      ]
     },
     "execution_count": 27,
     "metadata": {},
     "output_type": "execute_result"
    }
   ],
   "source": [
    "hotIMIdf.head()"
   ]
  },
  {
   "cell_type": "code",
   "execution_count": 28,
   "metadata": {
    "collapsed": true
   },
   "outputs": [],
   "source": [
    "hotIMIdfbi = hotIMIdf[['Chrom','W','V','IMI','bXO','Pos']];\n",
    "hotIMIdfbi.columns = ['Chrom','W','V','IMI','XO','Pos'];#pd.read_csv('../FILES/Crypto-Genome-Hotspots-bi-Mar2017',index_col=0)\n",
    "hotIMIdfun = hotIMIdf[['Chrom','W','V','IMI','uXO','Pos']];\n",
    "hotIMIdfun.columns = ['Chrom','W','V','IMI','XO','Pos'];#pd.read_csv('../FILES/Crypto-Genome-Hotspots-un-Mar2017',index_col=0)"
   ]
  },
  {
   "cell_type": "code",
   "execution_count": 29,
   "metadata": {},
   "outputs": [
    {
     "data": {
      "text/html": [
       "<div>\n",
       "<style>\n",
       "    .dataframe thead tr:only-child th {\n",
       "        text-align: right;\n",
       "    }\n",
       "\n",
       "    .dataframe thead th {\n",
       "        text-align: left;\n",
       "    }\n",
       "\n",
       "    .dataframe tbody tr th {\n",
       "        vertical-align: top;\n",
       "    }\n",
       "</style>\n",
       "<table border=\"1\" class=\"dataframe\">\n",
       "  <thead>\n",
       "    <tr style=\"text-align: right;\">\n",
       "      <th></th>\n",
       "      <th>Chrom</th>\n",
       "      <th>W</th>\n",
       "      <th>V</th>\n",
       "      <th>IMI</th>\n",
       "      <th>XO</th>\n",
       "      <th>Pos</th>\n",
       "    </tr>\n",
       "  </thead>\n",
       "  <tbody>\n",
       "    <tr>\n",
       "      <th>0</th>\n",
       "      <td>Chr01</td>\n",
       "      <td>5016.0</td>\n",
       "      <td>5299.0</td>\n",
       "      <td>282</td>\n",
       "      <td>0.0</td>\n",
       "      <td>5157.5</td>\n",
       "    </tr>\n",
       "    <tr>\n",
       "      <th>1</th>\n",
       "      <td>Chr01</td>\n",
       "      <td>5299.0</td>\n",
       "      <td>5464.0</td>\n",
       "      <td>164</td>\n",
       "      <td>0.0</td>\n",
       "      <td>5381.5</td>\n",
       "    </tr>\n",
       "    <tr>\n",
       "      <th>2</th>\n",
       "      <td>Chr01</td>\n",
       "      <td>5464.0</td>\n",
       "      <td>6120.0</td>\n",
       "      <td>655</td>\n",
       "      <td>0.0</td>\n",
       "      <td>5792.0</td>\n",
       "    </tr>\n",
       "    <tr>\n",
       "      <th>3</th>\n",
       "      <td>Chr01</td>\n",
       "      <td>6120.0</td>\n",
       "      <td>6166.0</td>\n",
       "      <td>45</td>\n",
       "      <td>0.0</td>\n",
       "      <td>6143.0</td>\n",
       "    </tr>\n",
       "    <tr>\n",
       "      <th>4</th>\n",
       "      <td>Chr01</td>\n",
       "      <td>6166.0</td>\n",
       "      <td>6477.0</td>\n",
       "      <td>310</td>\n",
       "      <td>0.0</td>\n",
       "      <td>6321.5</td>\n",
       "    </tr>\n",
       "  </tbody>\n",
       "</table>\n",
       "</div>"
      ],
      "text/plain": [
       "   Chrom       W       V  IMI   XO     Pos\n",
       "0  Chr01  5016.0  5299.0  282  0.0  5157.5\n",
       "1  Chr01  5299.0  5464.0  164  0.0  5381.5\n",
       "2  Chr01  5464.0  6120.0  655  0.0  5792.0\n",
       "3  Chr01  6120.0  6166.0   45  0.0  6143.0\n",
       "4  Chr01  6166.0  6477.0  310  0.0  6321.5"
      ]
     },
     "execution_count": 29,
     "metadata": {},
     "output_type": "execute_result"
    }
   ],
   "source": [
    "hotIMIdfbi.head()"
   ]
  },
  {
   "cell_type": "code",
   "execution_count": 30,
   "metadata": {},
   "outputs": [
    {
     "name": "stdout",
     "output_type": "stream",
     "text": [
      "(5867, 6)\n",
      "(5867, 6)\n"
     ]
    }
   ],
   "source": [
    "subbi = hotIMIdfbi[hotIMIdfbi.Chrom=='Chr07'];\n",
    "subun = hotIMIdfun[hotIMIdfun.Chrom=='Chr07'];\n",
    "print subbi.shape\n",
    "print subun.shape\n",
    "subbi_rf = [subbi.XO[i]/(39*float(subbi.IMI[i])) for i in subbi.index.tolist()]\n",
    "subbi_pos = subbi.Pos#[np.median([subbi.W[i],subbi.V[i]]) for i in subbi.index.tolist()]\n",
    "subun_rf = [subun.XO[i]/(55*float(subun.IMI[i])) for i in subun.index.tolist()]\n",
    "subun_pos = subun.Pos#[np.median([subun.W[i],subun.V[i]]) for i in subun.index.tolist()]"
   ]
  },
  {
   "cell_type": "code",
   "execution_count": 31,
   "metadata": {},
   "outputs": [
    {
     "data": {
      "image/png": "[encoded data removed]",
      "text/plain": [
       "<matplotlib.figure.Figure at 0x1a12b0e350>"
      ]
     },
     "metadata": {},
     "output_type": "display_data"
    }
   ],
   "source": [
    "subun.XO[subun.XO>0].plot(marker='.',linestyle='None');"
   ]
  },
  {
   "cell_type": "code",
   "execution_count": 32,
   "metadata": {},
   "outputs": [
    {
     "data": {
      "text/html": [
       "<div>\n",
       "<style>\n",
       "    .dataframe thead tr:only-child th {\n",
       "        text-align: right;\n",
       "    }\n",
       "\n",
       "    .dataframe thead th {\n",
       "        text-align: left;\n",
       "    }\n",
       "\n",
       "    .dataframe tbody tr th {\n",
       "        vertical-align: top;\n",
       "    }\n",
       "</style>\n",
       "<table border=\"1\" class=\"dataframe\">\n",
       "  <thead>\n",
       "    <tr style=\"text-align: right;\">\n",
       "      <th></th>\n",
       "      <th>Chrom</th>\n",
       "      <th>W</th>\n",
       "      <th>V</th>\n",
       "      <th>IMI</th>\n",
       "      <th>XO</th>\n",
       "      <th>Pos</th>\n",
       "    </tr>\n",
       "  </thead>\n",
       "  <tbody>\n",
       "  </tbody>\n",
       "</table>\n",
       "</div>"
      ],
      "text/plain": [
       "Empty DataFrame\n",
       "Columns: [Chrom, W, V, IMI, XO, Pos]\n",
       "Index: []"
      ]
     },
     "execution_count": 32,
     "metadata": {},
     "output_type": "execute_result"
    }
   ],
   "source": [
    "subun[subun.XO > 40]"
   ]
  },
  {
   "cell_type": "code",
   "execution_count": 33,
   "metadata": {},
   "outputs": [
    {
     "data": {
      "text/plain": [
       "90.9090909090909"
      ]
     },
     "execution_count": 33,
     "metadata": {},
     "output_type": "execute_result"
    }
   ],
   "source": [
    "(50/55.0) * 100 "
   ]
  },
  {
   "cell_type": "code",
   "execution_count": 34,
   "metadata": {},
   "outputs": [
    {
     "data": {
      "text/plain": [
       "5867"
      ]
     },
     "execution_count": 34,
     "metadata": {},
     "output_type": "execute_result"
    }
   ],
   "source": [
    "len(subun.IMI)"
   ]
  },
  {
   "cell_type": "code",
   "execution_count": 35,
   "metadata": {},
   "outputs": [
    {
     "data": {
      "text/plain": [
       "[12649, 6713, 6405, 5905, 4697, 4173, 4059, 3898, 3662, 3066]"
      ]
     },
     "execution_count": 35,
     "metadata": {},
     "output_type": "execute_result"
    }
   ],
   "source": [
    "sorted(subun.IMI,reverse=True)[:10]"
   ]
  },
  {
   "cell_type": "code",
   "execution_count": 36,
   "metadata": {},
   "outputs": [
    {
     "data": {
      "image/png": "[encoded data removed]",
      "text/plain": [
       "<matplotlib.figure.Figure at 0x1a12c893d0>"
      ]
     },
     "metadata": {},
     "output_type": "display_data"
    }
   ],
   "source": [
    "plt.plot(subbi_pos,np.array(subbi_rf)*100,'b',alpha=.7);\n",
    "plt.plot(subun_pos,np.array(subun_rf)*100,'r',alpha=.7);"
   ]
  },
  {
   "cell_type": "code",
   "execution_count": 37,
   "metadata": {},
   "outputs": [
    {
     "data": {
      "text/plain": [
       "0.12820512820512819"
      ]
     },
     "execution_count": 37,
     "metadata": {},
     "output_type": "execute_result"
    }
   ],
   "source": [
    "max(subbi_rf)*100"
   ]
  },
  {
   "cell_type": "code",
   "execution_count": 38,
   "metadata": {},
   "outputs": [
    {
     "data": {
      "text/plain": [
       "100.0"
      ]
     },
     "execution_count": 38,
     "metadata": {},
     "output_type": "execute_result"
    }
   ],
   "source": [
    "my_round(max(subbi_rf)*100)"
   ]
  },
  {
   "cell_type": "code",
   "execution_count": 39,
   "metadata": {
    "collapsed": true
   },
   "outputs": [],
   "source": [
    "mats = 1529240\n",
    "matst = 1661861"
   ]
  },
  {
   "cell_type": "code",
   "execution_count": 40,
   "metadata": {},
   "outputs": [
    {
     "data": {
      "text/plain": [
       "94"
      ]
     },
     "execution_count": 40,
     "metadata": {},
     "output_type": "execute_result"
    }
   ],
   "source": [
    "len(hapdfs[0])"
   ]
  },
  {
   "cell_type": "markdown",
   "metadata": {},
   "source": [
    "## PATCH Jan2018\n",
    "This makes sure we are using the same segregatns as the original figure used in submission"
   ]
  },
  {
   "cell_type": "code",
   "execution_count": 41,
   "metadata": {
    "collapsed": true
   },
   "outputs": [],
   "source": [
    "segs_iused = ['SS-B314',\n",
    " 'SS-B399',\n",
    " 'SS-B374',\n",
    " 'SS-B383',\n",
    " 'SS-B356',\n",
    " 'SS-B926',\n",
    " 'SS-B930',\n",
    " 'SS-B997',\n",
    " 'SS-C039',\n",
    " 'SS-C271']"
   ]
  },
  {
   "cell_type": "code",
   "execution_count": 42,
   "metadata": {
    "collapsed": true
   },
   "outputs": [],
   "source": [
    "segs = segs_iused"
   ]
  },
  {
   "cell_type": "code",
   "execution_count": 43,
   "metadata": {},
   "outputs": [
    {
     "data": {
      "text/plain": [
       "80"
      ]
     },
     "execution_count": 43,
     "metadata": {},
     "output_type": "execute_result"
    }
   ],
   "source": [
    "segs_all.index('SS-B997')"
   ]
  },
  {
   "cell_type": "code",
   "execution_count": 44,
   "metadata": {},
   "outputs": [
    {
     "name": "stdout",
     "output_type": "stream",
     "text": [
      "6\n",
      "29\n",
      "21\n",
      "25\n",
      "12\n",
      "71\n",
      "74\n",
      "80\n",
      "88\n",
      "90\n"
     ]
    }
   ],
   "source": [
    "for seg in segs:\n",
    "    print segs_all.index(seg)"
   ]
  },
  {
   "cell_type": "code",
   "execution_count": 45,
   "metadata": {},
   "outputs": [
    {
     "data": {
      "text/plain": [
       "94"
      ]
     },
     "execution_count": 45,
     "metadata": {},
     "output_type": "execute_result"
    }
   ],
   "source": [
    "len(hapdfs[1])"
   ]
  },
  {
   "cell_type": "code",
   "execution_count": 46,
   "metadata": {},
   "outputs": [
    {
     "data": {
      "text/plain": [
       "['Chr01', 'Chr02', 'Chr03']"
      ]
     },
     "execution_count": 46,
     "metadata": {},
     "output_type": "execute_result"
    }
   ],
   "source": [
    "chrlist[:3]"
   ]
  },
  {
   "cell_type": "code",
   "execution_count": 47,
   "metadata": {},
   "outputs": [
    {
     "data": {
      "text/plain": [
       "array([  0,  50, 100, 150])"
      ]
     },
     "execution_count": 47,
     "metadata": {},
     "output_type": "execute_result"
    }
   ],
   "source": [
    "np.arange(0,200,50)"
   ]
  },
  {
   "cell_type": "code",
   "execution_count": 48,
   "metadata": {},
   "outputs": [
    {
     "data": {
      "text/plain": [
       "array([ 0,  4,  8, 12, 16])"
      ]
     },
     "execution_count": 48,
     "metadata": {},
     "output_type": "execute_result"
    }
   ],
   "source": [
    "np.arange(0,20,4)"
   ]
  },
  {
   "cell_type": "code",
   "execution_count": 49,
   "metadata": {},
   "outputs": [
    {
     "data": {
      "image/png": "[encoded data removed]",
      "text/plain": [
       "<matplotlib.figure.Figure at 0x1a149ff7d0>"
      ]
     },
     "metadata": {},
     "output_type": "display_data"
    },
    {
     "data": {
      "image/png": "[encoded data removed]",
      "text/plain": [
       "<matplotlib.figure.Figure at 0x1a149cd5d0>"
      ]
     },
     "metadata": {},
     "output_type": "display_data"
    },
    {
     "data": {
      "image/png": "[encoded data removed]",
      "text/plain": [
       "<matplotlib.figure.Figure at 0x1a12f385d0>"
      ]
     },
     "metadata": {},
     "output_type": "display_data"
    }
   ],
   "source": [
    "for ch, chrom in enumerate(chrlist[:3]):\n",
    "    fig = plt.figure(figsize=(6,4));mod = 1;\n",
    "    gs = gridspec.GridSpec(3,1, height_ratios=[.4,1,.3]);\n",
    "    ax1 = fig.add_subplot(gs[0]);\n",
    "    ## SNP DENSITY \n",
    "    ax1.bar(chromNwins[ch][:-1],chromNsnps[ch],width=ws,alpha=.5,color='olive');\n",
    "    ax1.set_ylabel('Number of \\nSNPs / %skb'%int(ws/1e3),fontsize=7);\n",
    "    ax1.set_yticks(np.arange(0,200,50))\n",
    "    #ax1.set_ylim(0,)\n",
    "    #SNP_max = my_round(max(chromNsnps[ch]));\n",
    "    #assert SNP_max > max(chromNsnps[ch])\n",
    "    #ax1.set_ylim(-1,SNP_max+50);\n",
    "    ax1.spines['left'].set_position(('data', 0))\n",
    "    ax = fig.add_subplot(gs[1])\n",
    "    #ax.broken_barh([(0,200000)],(0,1),facecolors='r',alpha=.7);\n",
    "    #ax.annotate('200kb',(0,-1.5),fontsize=8);\n",
    "    for s, Seg in enumerate(segs):\n",
    "        seg = hapdfs[ch][segs_all.index(Seg)]\n",
    "        x = zip(seg.v.tolist(),[nbs - 1 for nbs in seg.nb.tolist()]);\n",
    "        fcolors = set_colors(seg.genotype.tolist());\n",
    "        ax.annotate(Seg,(-400000,s+mod),fontsize=8) ## The Names of each segregant\n",
    "        ax.broken_barh(x,[s+mod,1],facecolors=fcolors,alpha=.8);\n",
    "        if s == 4: ## if you change the number of segregants in each plot you need to alter these\n",
    "            ax.hlines(s+mod+1.65,-500000,0,linestyles='--',linewidth=.5,alpha=.6)\n",
    "        if s == 2:\n",
    "            ax.annotate(r'$\\alpha\\  x\\  \\alpha$',(-500000,s+mod+1),rotation='vertical')\n",
    "        if s == 7:\n",
    "            ax.annotate(r'$\\alpha\\  x\\  a$',(-500000,s+mod+1),rotation='vertical')\n",
    "        mod = mod +1;\n",
    "    ## PLOT CENTROMERE\n",
    "    ax.broken_barh([(centromere[0][chrom],\n",
    "                      centromere[1][chrom]-centromere[0][chrom])],\n",
    "                    (s+mod,0.7),\n",
    "                    facecolors='black',alpha =.9);\n",
    "    ## PLOT MAT LOCUS\n",
    "    if ch == 3:\n",
    "        ax.broken_barh([(mats,\n",
    "                      matst-mats)],\n",
    "                    (s+mod,0.6),\n",
    "                    facecolors='g',alpha =.9);\n",
    "    ax2 = fig.add_subplot(gs[2])\n",
    "    subbi = hotIMIdfbi[hotIMIdfbi.Chrom==chrom];\n",
    "    subun = hotIMIdfun[hotIMIdfun.Chrom==chrom];\n",
    "    bis = 1#39.0;\n",
    "    uns=1#55.0\n",
    "    subbi_rf = [int(subbi.XO[i])/float(bis) for i in subbi.index.tolist()]#[100*(subbi.XO[i]/bis)/float(subbi.IMI[i]) for i in subbi.index.tolist()]\n",
    "    subbi_pos = subbi.Pos#[np.median([subbi.W[i],subbi.V[i]]) for i in subbi.index.tolist()]\n",
    "    subun_rf = [int(subun.XO[i])/float(uns) for i in subun.index.tolist()]#[100*(subun.XO[i]/uns)/float(subun.IMI[i]) for i in subun.index.tolist()]\n",
    "    subun_pos = subun.Pos#[np.mean([subun.W[i],subun.V[i]]) for i in subun.index.tolist()]\n",
    "    ax2.plot(subbi_pos,subbi_rf,'k',alpha=.5);\n",
    "    ax2.plot(subun_pos,subun_rf,'r',alpha=.5);\n",
    "    #ax2.set_ylim(0,1);\n",
    "    #ax2.set_ylim(0,max([max(subbi_rf),max(subun_rf)])+1);\n",
    "    ax2.spines['left'].set_position(('data', 0))\n",
    "    major_ticks = np.arange(0,max([max(subbi_rf),max(subun_rf)]),4);\n",
    "    #ax2.set_yticks(major_ticks);\n",
    "    ax2.set_ylabel('CO\\nCounts',fontsize=8);\n",
    "    ax2.set_yticks(np.arange(0,20,8))\n",
    "    ax.ticklabel_format(style='sci', axis='x', scilimits=(0,0));\n",
    "    ax.set_ylim(-2,);\n",
    "    ax.set_xlim(-600000,clens[ch]+100000);\n",
    "    ax1.set_xlim(-600000,clens[ch]+100000);\n",
    "    ax2.set_xlim(-600000,clens[ch]+100000);\n",
    "    ax.spines[\"left\"].set_visible(False)\n",
    "    ax.spines[\"top\"].set_visible(False)\n",
    "    ax.spines[\"right\"].set_visible(False)\n",
    "    ax.spines[\"bottom\"].set_visible(False)\n",
    "    ax1.spines[\"top\"].set_visible(False)\n",
    "    ax1.spines[\"right\"].set_visible(False)\n",
    "    ax1.spines[\"bottom\"].set_visible(False)\n",
    "    ax2.spines[\"top\"].set_visible(False)\n",
    "    ax2.spines[\"right\"].set_visible(False)\n",
    "    ax2.spines[\"bottom\"].set_visible(False)\n",
    "    ax.axis('off')\n",
    "    ax1.tick_params(\n",
    "    axis='x',          # changes apply to the x-axis\n",
    "    which='both',      # both major and minor ticks are affected\n",
    "    bottom='off',      # ticks along the bottom edge are off\n",
    "    top='off',         # ticks along the top edge are off\n",
    "    labelbottom='off') \n",
    "    #ax2.tick_params(axis='x',which='both',bottom='off',top='off',labelbottom='off') \n",
    "    plt.tight_layout();\n",
    "    gs.update(wspace=0.001,hspace=0.0001)\n",
    "    ##fig.savefig('../FIGS/Crypto-Wood-Floor-10-%s-k1-6kb-Aug2017.png'%chrom,dpi=600)"
   ]
  },
  {
   "cell_type": "markdown",
   "metadata": {
    "collapsed": true
   },
   "source": [
    "# Plot woodfloor plots for each segregant"
   ]
  },
  {
   "cell_type": "code",
   "execution_count": 50,
   "metadata": {
    "collapsed": true
   },
   "outputs": [],
   "source": [
    "segs_all = sorted(segs_all)"
   ]
  },
  {
   "cell_type": "code",
   "execution_count": 51,
   "metadata": {
    "collapsed": true
   },
   "outputs": [],
   "source": [
    "axalp = np.concatenate([['SS-B869_cor', 'SS-B872_cor', 'SS-B873_cor', 'SS-B874_cor'], # 1\n",
    "         ['SS-B876', 'SS-B880','SS-B879', 'SS-B885'], #2## SS-B885 and B879 are identical, except chrom 4 and disomic on chrom 10\n",
    "         ['SS-B886_cor', 'SS-B887_cor'],#3\n",
    "         ['SS-B890_cor', 'SS-B896_cor', 'SS-B898_cor', 'SS-B892_cor',#4 ## SS-B892_cor 58.5% like SS-B930\n",
    "         'SS-B901_cor', 'SS-B905', 'SS-B906_cor', 'SS-B908_cor'],#4\n",
    "        ['SS-B926', 'SS-B927', 'SS-B929', 'SS-B930'],#5\n",
    "         ['SS-B952', 'SS-B956'],#6\n",
    "         ['SS-B960_cor', 'SS-B961_cor'],#7 ## SS-B960_cor\n",
    "        ['SS-B996', 'SS-B997', 'SS-B998'],#8\n",
    "        ['SS-C001'],#9\n",
    "        ['SS-C026_cor', 'SS-C029_cor'],#10\n",
    "        ['SS-C031_cor'],#11\n",
    "        ['SS-C033', 'SS-C036', 'SS-C039'],#12\n",
    "        ['SS-C242'],#13\n",
    "        ['SS-C271', 'SS-C272'],#14\n",
    "        ['SS-C273'],#15\n",
    "        ['SS-C290', 'SS-C291']])#16"
   ]
  },
  {
   "cell_type": "code",
   "execution_count": 52,
   "metadata": {
    "collapsed": true
   },
   "outputs": [],
   "source": [
    "seg_un = [];seg_bi = []\n",
    "for seg in segs_all:\n",
    "    if seg in axalp:\n",
    "        seg_bi.append(seg)\n",
    "    else:\n",
    "        assert (seg not in axalp)\n",
    "        seg_un.append(seg)"
   ]
  },
  {
   "cell_type": "code",
   "execution_count": 53,
   "metadata": {},
   "outputs": [
    {
     "data": {
      "text/plain": [
       "55"
      ]
     },
     "execution_count": 53,
     "metadata": {},
     "output_type": "execute_result"
    }
   ],
   "source": [
    "len(seg_un)"
   ]
  },
  {
   "cell_type": "code",
   "execution_count": 54,
   "metadata": {},
   "outputs": [
    {
     "data": {
      "text/plain": [
       "39"
      ]
     },
     "execution_count": 54,
     "metadata": {},
     "output_type": "execute_result"
    }
   ],
   "source": [
    "len(seg_bi)"
   ]
  },
  {
   "cell_type": "code",
   "execution_count": 55,
   "metadata": {
    "collapsed": true
   },
   "outputs": [],
   "source": [
    "segs_all_s = np.concatenate([seg_un,seg_bi])"
   ]
  },
  {
   "cell_type": "markdown",
   "metadata": {
    "scrolled": true
   },
   "source": [
    "for ch, chrom in enumerate(chrlist):\n",
    "    fig = plt.figure(figsize=(6,36));mod = 1;\n",
    "    gs = gridspec.GridSpec(3,1, height_ratios=[.1,1,.1]);\n",
    "    ax1 = fig.add_subplot(gs[0]);\n",
    "    ## SNP DENSITY \n",
    "    ax1.bar(chromNwins[ch][:-1],chromNsnps[ch],width=ws,alpha=.5,color='olive');\n",
    "    ax1.set_ylabel('Number of \\nSNPs / %skb'%int(ws/1e3),fontsize=7);\n",
    "    #ax1.set_ylim(0,)\n",
    "    #SNP_max = my_round(max(chromNsnps[ch]));\n",
    "    #assert SNP_max > max(chromNsnps[ch])\n",
    "    #ax1.set_ylim(-1,SNP_max+50);\n",
    "    ax1.spines['left'].set_position(('data', 0))\n",
    "    ax = fig.add_subplot(gs[1])\n",
    "    ax.broken_barh([(0,200000)],(0,1),facecolors='r',alpha=.7);\n",
    "    ax.annotate('200kb',(0,-1.5),fontsize=8);\n",
    "    for s, Seg in enumerate(seg_un): ## What you are ploting\n",
    "        seg = hapdfs[ch][segs_all.index(Seg)]\n",
    "        x = zip(seg.v.tolist(),[nbs - 1 for nbs in seg.nb.tolist()]);\n",
    "        fcolors = set_colors(seg.genotype.tolist());\n",
    "        ax.annotate(Seg,(-400000,s+mod),fontsize=8) ## The Names of each segregant\n",
    "        ax.broken_barh(x,[s+mod,1],facecolors=fcolors,alpha=.8);\n",
    "        if s == len(seg_un)-1: ## if you change the number of segregants in each plot you need to alter these\n",
    "            ax.hlines(s+mod+1.65,-500000,0,linestyles='--',linewidth=.5,alpha=.6)\n",
    "        if s == int(round((len(seg_un)-1)/2.0)):\n",
    "            ax.annotate(r'$\\alpha\\  x\\  \\alpha$',(-500000,s+mod+1),rotation='vertical')\n",
    "        if s == int(len(seg_un)-1) + int(round((len(seg_bi)-1)/2.0)):\n",
    "            ax.annotate(r'$\\alpha\\  x\\  a$',(-500000,s+mod+1),rotation='vertical')\n",
    "        mod = mod +1;\n",
    "    ## PLOT CENTROMERE\n",
    "    ax.broken_barh([(centromere[0][chrom],\n",
    "                      centromere[1][chrom]-centromere[0][chrom])],\n",
    "                    (s+mod,0.7),\n",
    "                    facecolors='black',alpha =.9);\n",
    "    ## PLOT MAT LOCUS\n",
    "    if ch == 3:\n",
    "        ax.broken_barh([(mats,\n",
    "                      matst-mats)],\n",
    "                    (s+mod,0.6),\n",
    "                    facecolors='g',alpha =.9);\n",
    "    if ch == 6:\n",
    "        ura5s = 1047361\n",
    "        ura5e = 1048580\n",
    "        ax.broken_barh([(ura5s,\n",
    "                      ura5e-ura5s)],\n",
    "                    (s+mod,0.6),\n",
    "                    facecolors='m',alpha =.9);\n",
    "    ax2 = fig.add_subplot(gs[2])\n",
    "    subbi = hotIMIdfbi[hotIMIdfbi.Chrom==chrom];\n",
    "    subun = hotIMIdfun[hotIMIdfun.Chrom==chrom];\n",
    "    bis = 1#39.0;\n",
    "    uns=1#55.0\n",
    "    subbi_rf = [int(subbi.XO[i])/float(bis) for i in subbi.index.tolist()]#[100*(subbi.XO[i]/bis)/float(subbi.IMI[i]) for i in subbi.index.tolist()]\n",
    "    subbi_pos = subbi.Pos#[np.median([subbi.W[i],subbi.V[i]]) for i in subbi.index.tolist()]\n",
    "    subun_rf = [int(subun.XO[i])/float(uns) for i in subun.index.tolist()]#[100*(subun.XO[i]/uns)/float(subun.IMI[i]) for i in subun.index.tolist()]\n",
    "    subun_pos = subun.Pos#[np.mean([subun.W[i],subun.V[i]]) for i in subun.index.tolist()]\n",
    "    ax2.plot(subbi_pos,subbi_rf,'k',alpha=.5);\n",
    "    ax2.plot(subun_pos,subun_rf,'r',alpha=.5);\n",
    "    #ax2.set_ylim(0,1);\n",
    "    #ax2.set_ylim(0,max([max(subbi_rf),max(subun_rf)])+1);\n",
    "    ax2.spines['left'].set_position(('data', 0))\n",
    "    major_ticks = np.arange(0,max([max(subbi_rf),max(subun_rf)]),4);\n",
    "    #ax2.set_yticks(major_ticks);\n",
    "    ax2.set_ylabel('CO\\nCounts',fontsize=8);\n",
    "    ax.ticklabel_format(style='sci', axis='x', scilimits=(0,0));\n",
    "    ax.set_ylim(-2,);\n",
    "    ax.set_xlim(-600000,clens[ch]+100000);\n",
    "    ax1.set_xlim(-600000,clens[ch]+100000);\n",
    "    ax2.set_xlim(-600000,clens[ch]+100000);\n",
    "    ax.spines[\"left\"].set_visible(False)\n",
    "    ax.spines[\"top\"].set_visible(False)\n",
    "    ax.spines[\"right\"].set_visible(False)\n",
    "    ax.spines[\"bottom\"].set_visible(False)\n",
    "    ax1.spines[\"top\"].set_visible(False)\n",
    "    ax1.spines[\"right\"].set_visible(False)\n",
    "    ax1.spines[\"bottom\"].set_visible(False)\n",
    "    ax2.spines[\"top\"].set_visible(False)\n",
    "    ax2.spines[\"right\"].set_visible(False)\n",
    "    ax2.spines[\"bottom\"].set_visible(False)\n",
    "    ax.axis('off')\n",
    "    ax1.tick_params(\n",
    "    axis='x',          # changes apply to the x-axis\n",
    "    which='both',      # both major and minor ticks are affected\n",
    "    bottom='off',      # ticks along the bottom edge are off\n",
    "    top='off',         # ticks along the top edge are off\n",
    "    labelbottom='off') \n",
    "    ax2.tick_params(axis='x',which='both',bottom='off',top='off',labelbottom='off') \n",
    "    plt.tight_layout();\n",
    "    gs.update(wspace=0.001,hspace=0.0001)\n",
    "    fig.savefig('../FIGS/Crypto-Wood-Floor-All-%s-k1-6kb-Jan2018.png'%chrom,dpi=600)"
   ]
  },
  {
   "cell_type": "markdown",
   "metadata": {},
   "source": [
    "# Plot woodfloor plots for Basidia"
   ]
  },
  {
   "cell_type": "code",
   "execution_count": 56,
   "metadata": {
    "collapsed": true
   },
   "outputs": [],
   "source": [
    "basidia = cryptofxns.axalp"
   ]
  },
  {
   "cell_type": "code",
   "execution_count": 57,
   "metadata": {
    "collapsed": true
   },
   "outputs": [],
   "source": [
    "tetras = [bas for bas in basidia if len(bas)>=3]"
   ]
  },
  {
   "cell_type": "code",
   "execution_count": 58,
   "metadata": {},
   "outputs": [
    {
     "data": {
      "text/plain": [
       "['SS-B869', 'Correction']"
      ]
     },
     "execution_count": 58,
     "metadata": {},
     "output_type": "execute_result"
    }
   ],
   "source": [
    "tetras[0][0].split('_')"
   ]
  },
  {
   "cell_type": "code",
   "execution_count": 59,
   "metadata": {
    "collapsed": true
   },
   "outputs": [],
   "source": [
    "cor_tetras = []\n",
    "for tet in tetras:\n",
    "    cor_tet = []\n",
    "    for seg in tet:\n",
    "        if len(seg.split('_')) > 1:\n",
    "            newseg = seg.split('_')[0] + '_cor'\n",
    "            cor_tet.append(newseg)\n",
    "        else:\n",
    "            cor_tet.append(seg)\n",
    "    cor_tetras.append(cor_tet)"
   ]
  },
  {
   "cell_type": "code",
   "execution_count": 60,
   "metadata": {
    "collapsed": true
   },
   "outputs": [],
   "source": [
    "tetras = cor_tetras"
   ]
  },
  {
   "cell_type": "code",
   "execution_count": 61,
   "metadata": {},
   "outputs": [
    {
     "name": "stdout",
     "output_type": "stream",
     "text": [
      "[['SS-B869_cor', 'SS-B872_cor', 'SS-B873_cor', 'SS-B874_cor'], ['SS-B876', 'SS-B880', 'SS-B879', 'SS-B885'], ['SS-B890_cor', 'SS-B896_cor', 'SS-B898_cor', 'SS-B892_cor', 'SS-B901_cor', 'SS-B905', 'SS-B906_cor', 'SS-B908_cor'], ['SS-B926', 'SS-B927', 'SS-B929', 'SS-B930'], ['SS-B996', 'SS-B997', 'SS-B998'], ['SS-C033', 'SS-C036', 'SS-C039']]\n",
      "26\n"
     ]
    }
   ],
   "source": [
    "print tetras\n",
    "print len(np.concatenate(tetras))"
   ]
  },
  {
   "cell_type": "code",
   "execution_count": 62,
   "metadata": {
    "collapsed": true
   },
   "outputs": [],
   "source": [
    "a = 0;tetra_index = []\n",
    "for bas in tetras:\n",
    "    a = len(bas) + a\n",
    "    tetra_index.append(a-1)"
   ]
  },
  {
   "cell_type": "code",
   "execution_count": 63,
   "metadata": {},
   "outputs": [
    {
     "data": {
      "text/plain": [
       "[3, 7, 15, 19, 22, 25]"
      ]
     },
     "execution_count": 63,
     "metadata": {},
     "output_type": "execute_result"
    }
   ],
   "source": [
    "tetra_index"
   ]
  },
  {
   "cell_type": "code",
   "execution_count": 64,
   "metadata": {
    "collapsed": true
   },
   "outputs": [],
   "source": [
    "hapdfs = [];\n",
    "for ch, chrom in enumerate(chrlist):\n",
    "    dfs = []\n",
    "    for seg in np.concatenate(tetras):\n",
    "        path = HAPFILES[ch] + seg + '/' + seg + fileendname\n",
    "        if os.path.exists(path):\n",
    "            dfs.append(pd.read_csv(path))\n",
    "    hapdfs.append(dfs)"
   ]
  },
  {
   "cell_type": "code",
   "execution_count": 65,
   "metadata": {},
   "outputs": [
    {
     "data": {
      "text/html": [
       "<div>\n",
       "<style>\n",
       "    .dataframe thead tr:only-child th {\n",
       "        text-align: right;\n",
       "    }\n",
       "\n",
       "    .dataframe thead th {\n",
       "        text-align: left;\n",
       "    }\n",
       "\n",
       "    .dataframe tbody tr th {\n",
       "        vertical-align: top;\n",
       "    }\n",
       "</style>\n",
       "<table border=\"1\" class=\"dataframe\">\n",
       "  <thead>\n",
       "    <tr style=\"text-align: right;\">\n",
       "      <th></th>\n",
       "      <th>v</th>\n",
       "      <th>w</th>\n",
       "      <th>nb</th>\n",
       "      <th>genotype</th>\n",
       "    </tr>\n",
       "  </thead>\n",
       "  <tbody>\n",
       "    <tr>\n",
       "      <th>0</th>\n",
       "      <td>5016.0</td>\n",
       "      <td>324205.0</td>\n",
       "      <td>319190.0</td>\n",
       "      <td>0.0</td>\n",
       "    </tr>\n",
       "    <tr>\n",
       "      <th>1</th>\n",
       "      <td>324799.0</td>\n",
       "      <td>459118.0</td>\n",
       "      <td>134320.0</td>\n",
       "      <td>1.0</td>\n",
       "    </tr>\n",
       "    <tr>\n",
       "      <th>2</th>\n",
       "      <td>459230.0</td>\n",
       "      <td>1896168.0</td>\n",
       "      <td>1436939.0</td>\n",
       "      <td>0.0</td>\n",
       "    </tr>\n",
       "    <tr>\n",
       "      <th>3</th>\n",
       "      <td>1896177.0</td>\n",
       "      <td>2066287.0</td>\n",
       "      <td>170111.0</td>\n",
       "      <td>1.0</td>\n",
       "    </tr>\n",
       "    <tr>\n",
       "      <th>4</th>\n",
       "      <td>2067275.0</td>\n",
       "      <td>2297181.0</td>\n",
       "      <td>229907.0</td>\n",
       "      <td>0.0</td>\n",
       "    </tr>\n",
       "  </tbody>\n",
       "</table>\n",
       "</div>"
      ],
      "text/plain": [
       "           v          w         nb  genotype\n",
       "0     5016.0   324205.0   319190.0       0.0\n",
       "1   324799.0   459118.0   134320.0       1.0\n",
       "2   459230.0  1896168.0  1436939.0       0.0\n",
       "3  1896177.0  2066287.0   170111.0       1.0\n",
       "4  2067275.0  2297181.0   229907.0       0.0"
      ]
     },
     "execution_count": 65,
     "metadata": {},
     "output_type": "execute_result"
    }
   ],
   "source": [
    "hapdfs[0][0]"
   ]
  },
  {
   "cell_type": "code",
   "execution_count": 66,
   "metadata": {
    "collapsed": true
   },
   "outputs": [],
   "source": [
    "tetras_used = [tetras[a] for a in [0,2,3,4,5]]\n",
    "hapdfs = [];\n",
    "for ch, chrom in enumerate(chrlist):\n",
    "    dfs = []\n",
    "    for seg in np.concatenate(tetras_used):\n",
    "        path = HAPFILES[ch] + seg + '/' + seg + fileendname\n",
    "        if os.path.exists(path):\n",
    "            dfs.append(pd.read_csv(path))\n",
    "    hapdfs.append(dfs)"
   ]
  },
  {
   "cell_type": "code",
   "execution_count": 69,
   "metadata": {},
   "outputs": [
    {
     "data": {
      "text/plain": [
       "22"
      ]
     },
     "execution_count": 69,
     "metadata": {},
     "output_type": "execute_result"
    }
   ],
   "source": [
    "len(np.concatenate(tetras_used))"
   ]
  },
  {
   "cell_type": "code",
   "execution_count": 83,
   "metadata": {},
   "outputs": [
    {
     "data": {
      "text/plain": [
       "[]"
      ]
     },
     "execution_count": 83,
     "metadata": {},
     "output_type": "execute_result"
    }
   ],
   "source": [
    "tlengths[:0]"
   ]
  },
  {
   "cell_type": "code",
   "execution_count": 95,
   "metadata": {},
   "outputs": [],
   "source": [
    "tlengths = [len(t) for t in tetras_used]\n",
    "len_sums = [sum(tlengths[:i+1])  for i in range(len(tetras_used))]"
   ]
  },
  {
   "cell_type": "code",
   "execution_count": 96,
   "metadata": {},
   "outputs": [
    {
     "name": "stdout",
     "output_type": "stream",
     "text": [
      "[4, 8, 4, 3, 3]\n",
      "[4, 12, 16, 19, 22]\n"
     ]
    }
   ],
   "source": [
    "print tlengths\n",
    "print len_sums"
   ]
  },
  {
   "cell_type": "code",
   "execution_count": 111,
   "metadata": {
    "collapsed": true
   },
   "outputs": [],
   "source": [
    "colours = ['red','black','navy','coral','forestgreen']"
   ]
  },
  {
   "cell_type": "code",
   "execution_count": 148,
   "metadata": {},
   "outputs": [
    {
     "name": "stdout",
     "output_type": "stream",
     "text": [
      "['V', 'IV', 'III', 'II', 'I']\n"
     ]
    }
   ],
   "source": [
    "basidium_label = ['I','II','III','IV','V'][::-1]\n",
    "print basidium_label"
   ]
  },
  {
   "cell_type": "code",
   "execution_count": 193,
   "metadata": {
    "collapsed": true
   },
   "outputs": [],
   "source": [
    "from matplotlib.patches import FancyBboxPatch"
   ]
  },
  {
   "cell_type": "code",
   "execution_count": 328,
   "metadata": {},
   "outputs": [
    {
     "data": {
      "image/png": "[encoded data removed]",
      "text/plain": [
       "<matplotlib.figure.Figure at 0x1a16333510>"
      ]
     },
     "metadata": {},
     "output_type": "display_data"
    }
   ],
   "source": [
    "bas_levels = [6,23,40,51,60]\n",
    "for ch, chrom in enumerate([chrlist[0]]):\n",
    "    fig,ax = plt.subplots(1,1,figsize=(20,8));\n",
    "    mod = 0;\n",
    "    plt.xlim(-300000,clens[ch]);\n",
    "    c = 0\n",
    "    for s, Seg in enumerate(np.concatenate(tetras_used)):\n",
    "        colour = colours[c]\n",
    "        if s in np.array(len_sums)-1:\n",
    "            c = c + 1\n",
    "            ax.annotate(basidium_label[c-1],(-290000,bas_levels[c-1]),fontsize=15,color=colour)\n",
    "        seg = hapdfs[ch][list(np.concatenate(tetras_used)).index(Seg)]\n",
    "        x = zip(seg.v.tolist(),[nbs - 1 for nbs in seg.nb.tolist()]);\n",
    "        fcolors = set_colors(seg.genotype.tolist());\n",
    "        temp = Seg.split('_')[0]\n",
    "        Seg_name = 'SS' + temp.split('-')[-1]\n",
    "        ax.annotate(Seg_name,(-150000,s+mod),fontsize=15,color=colour) ## The Names of each segregant\n",
    "        ax.broken_barh(x,[s+mod,2],facecolors=fcolors,alpha=.8);\n",
    "        mod = mod + 2;\n",
    "    ax.broken_barh([(centromere[0][chrom],centromere[1][chrom]-centromere[0][chrom])],\n",
    "                    (s+mod,1.5),facecolors='black',alpha =.9); ## PLOT CENTROMERE\n",
    "    ax.spines['bottom'].set_position(('data', 0))\n",
    "    ax.spines[\"top\"].set_visible(False)\n",
    "    ax.spines[\"left\"].set_visible(False)\n",
    "    ax.spines[\"right\"].set_visible(False)\n",
    "    ax.spines[\"bottom\"].set_visible(False)\n",
    "    ax.yaxis.set_visible(False);\n",
    "    ax.spines['bottom'].set_bounds(0,clens[ch])\n",
    "    ax.set_xticklabels(np.arange(-500000,clens[ch]+500000,500000),fontsize=16)\n",
    "    ax.set_xlabel('Chromosome Coordinates (Base Pairs)',fontsize=16);\n",
    "    plt.text(0.05, 1, 'Basidium  Segregants', horizontalalignment='center',verticalalignment='center',\n",
    "                 transform = plt.gca().transAxes,fontsize=16,color=colours[1])\n",
    "    ax.add_patch(FancyBboxPatch((140000,12),337000,53,fill=False,color='blue',alpha=0.9,linewidth=1.5));\n",
    "    ax.add_patch(FancyBboxPatch((1020000,57),314000,8,fill=False,color='red',alpha=0.9,linewidth=1.5));\n",
    "fig.savefig('../FIGS/Crypto-06-Wood-Floor-Basidia-%s-k1-6kb-Feb2018.png'%chrom,dpi=1200,bbox_inches='tight')"
   ]
  },
  {
   "cell_type": "markdown",
   "metadata": {},
   "source": [
    "for ch, chrom in enumerate([chrlist[0]]):\n",
    "    fig = plt.figure(figsize=(6,6));mod = 1;\n",
    "    gs = gridspec.GridSpec(3,1, height_ratios=[.1,1,.1]);\n",
    "    ax1 = fig.add_subplot(gs[0]);\n",
    "    ## SNP DENSITY \n",
    "    ax1.bar(chromNwins[ch][:-1],chromNsnps[ch],width=ws,alpha=.5,color='olive');\n",
    "    ax1.set_ylabel('Number of \\nSNPs / %skb'%int(ws/1e3),fontsize=7);\n",
    "    #ax1.set_ylim(0,)\n",
    "    #SNP_max = my_round(max(chromNsnps[ch]));\n",
    "    #assert SNP_max > max(chromNsnps[ch])\n",
    "    #ax1.set_ylim(-1,SNP_max+50);\n",
    "    ax1.spines['left'].set_position(('data', 0))\n",
    "    ax = fig.add_subplot(gs[1])\n",
    "    ax.broken_barh([(0,200000)],(0,1),facecolors='r',alpha=.7);\n",
    "    ax.annotate('200kb',(0,-1.5),fontsize=8);\n",
    "    for s, Seg in enumerate(np.concatenate(tetras)): ## What you are ploting \n",
    "        if Seg not in tetras:\n",
    "            continue\n",
    "        seg = hapdfs[ch][list(np.concatenate(tetras)).index(Seg)]\n",
    "        x = zip(seg.v.tolist(),[nbs - 1 for nbs in seg.nb.tolist()]);\n",
    "        fcolors = set_colors(seg.genotype.tolist());\n",
    "        ax.annotate(Seg,(-400000,s+mod),fontsize=8) ## The Names of each segregant\n",
    "        ax.broken_barh(x,[s+mod,1],facecolors=fcolors,alpha=.8);\n",
    "        if s in tetra_index: ## if you change the number of segregants in each plot you need to alter these\n",
    "            ax.hlines(s+mod+1.65,-500000,0,linestyles='--',linewidth=.5,alpha=.6)\n",
    "        #if s == int(round((len(seg_un)-1)/2.0)):\n",
    "        #    ax.annotate(r'$\\alpha\\  x\\  \\alpha$',(-500000,s+mod+1),rotation='vertical')\n",
    "        #if s == int(len(seg_un)-1) + int(round((len(seg_bi)-1)/2.0)):\n",
    "        #    ax.annotate(r'$\\alpha\\  x\\  a$',(-500000,s+mod+1),rotation='vertical')\n",
    "        mod = mod +1;\n",
    "    ## PLOT CENTROMERE\n",
    "    ax.broken_barh([(centromere[0][chrom],\n",
    "                      centromere[1][chrom]-centromere[0][chrom])],\n",
    "                    (s+mod,0.7),\n",
    "                    facecolors='black',alpha =.9);\n",
    "    ## PLOT MAT LOCUS\n",
    "    if ch == 3:\n",
    "        ax.broken_barh([(mats,\n",
    "                      matst-mats)],\n",
    "                    (s+mod,0.6),\n",
    "                    facecolors='g',alpha =.9);\n",
    "    ax2 = fig.add_subplot(gs[2])\n",
    "    subbi = hotIMIdfbi[hotIMIdfbi.Chrom==chrom];\n",
    "    subun = hotIMIdfun[hotIMIdfun.Chrom==chrom];\n",
    "    bis = 1#39.0;\n",
    "    uns=1#55.0\n",
    "    subbi_rf = [int(subbi.XO[i])/float(bis) for i in subbi.index.tolist()]#[100*(subbi.XO[i]/bis)/float(subbi.IMI[i]) for i in subbi.index.tolist()]\n",
    "    subbi_pos = subbi.Pos#[np.median([subbi.W[i],subbi.V[i]]) for i in subbi.index.tolist()]\n",
    "    subun_rf = [int(subun.XO[i])/float(uns) for i in subun.index.tolist()]#[100*(subun.XO[i]/uns)/float(subun.IMI[i]) for i in subun.index.tolist()]\n",
    "    subun_pos = subun.Pos#[np.mean([subun.W[i],subun.V[i]]) for i in subun.index.tolist()]\n",
    "    ax2.plot(subbi_pos,subbi_rf,'k',alpha=.5);\n",
    "    ax2.plot(subun_pos,subun_rf,'r',alpha=.5);\n",
    "    #ax2.set_ylim(0,1);\n",
    "    #ax2.set_ylim(0,max([max(subbi_rf),max(subun_rf)])+1);\n",
    "    ax2.spines['left'].set_position(('data', 0))\n",
    "    major_ticks = np.arange(0,max([max(subbi_rf),max(subun_rf)]),4);\n",
    "    #ax2.set_yticks(major_ticks);\n",
    "    ax2.set_ylabel('CO\\nCounts',fontsize=8);\n",
    "    ax.ticklabel_format(style='sci', axis='x', scilimits=(0,0));\n",
    "    ax.set_ylim(-2,);\n",
    "    ax.set_xlim(-600000,clens[ch]+100000);\n",
    "    ax1.set_xlim(-600000,clens[ch]+100000);\n",
    "    ax2.set_xlim(-600000,clens[ch]+100000);\n",
    "    ax.spines[\"left\"].set_visible(False)\n",
    "    ax.spines[\"top\"].set_visible(False)\n",
    "    ax.spines[\"right\"].set_visible(False)\n",
    "    ax.spines[\"bottom\"].set_visible(False)\n",
    "    ax1.spines[\"top\"].set_visible(False)\n",
    "    ax1.spines[\"right\"].set_visible(False)\n",
    "    ax1.spines[\"bottom\"].set_visible(False)\n",
    "    ax2.spines[\"top\"].set_visible(False)\n",
    "    ax2.spines[\"right\"].set_visible(False)\n",
    "    ax2.spines[\"bottom\"].set_visible(False)\n",
    "    ax.axis('off')\n",
    "    ax1.tick_params(\n",
    "    axis='x',          # changes apply to the x-axis\n",
    "    which='both',      # both major and minor ticks are affected\n",
    "    bottom='off',      # ticks along the bottom edge are off\n",
    "    top='off',         # ticks along the top edge are off\n",
    "    labelbottom='off') \n",
    "    ax2.tick_params(axis='x',which='both',bottom='off',top='off',labelbottom='off') \n",
    "    plt.tight_layout();\n",
    "    gs.update(wspace=0.001,hspace=0.0001)\n",
    "    fig.savefig('../FIGS/Crypto-Wood-Floor-Basidia-%s-k1-6kb-Jan2018.png'%chrom,dpi=600)"
   ]
  },
  {
   "cell_type": "code",
   "execution_count": null,
   "metadata": {
    "collapsed": true
   },
   "outputs": [],
   "source": []
  }
 ],
 "metadata": {
  "anaconda-cloud": {},
  "kernelspec": {
   "display_name": "Python 2",
   "language": "python",
   "name": "python2"
  },
  "language_info": {
   "codemirror_mode": {
    "name": "ipython",
    "version": 2
   },
   "file_extension": ".py",
   "mimetype": "text/x-python",
   "name": "python",
   "nbconvert_exporter": "python",
   "pygments_lexer": "ipython2",
   "version": "2.7.14"
  }
 },
 "nbformat": 4,
 "nbformat_minor": 1
}

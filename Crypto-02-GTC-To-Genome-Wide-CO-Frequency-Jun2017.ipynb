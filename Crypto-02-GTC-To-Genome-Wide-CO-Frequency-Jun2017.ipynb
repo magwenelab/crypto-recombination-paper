{
 "cells": [
  {
   "cell_type": "markdown",
   "metadata": {},
   "source": [
    "## Load needed moduals "
   ]
  },
  {
   "cell_type": "code",
   "execution_count": 2,
   "metadata": {
    "collapsed": true
   },
   "outputs": [],
   "source": [
    "import numpy as np\n",
    "import pandas as pd\n",
    "import cryptofxns\n",
    "import statsmodels.formula.api as smf\n",
    "import scipy.stats as ss\n",
    "from matplotlib import pyplot as plt\n",
    "%matplotlib inline"
   ]
  },
  {
   "cell_type": "markdown",
   "metadata": {},
   "source": [
    "## Load needed Files and Dataframes"
   ]
  },
  {
   "cell_type": "code",
   "execution_count": 3,
   "metadata": {},
   "outputs": [
    {
     "name": "stdout",
     "output_type": "stream",
     "text": [
      "[2300525, 1632286, 2105722, 1783051, 1507536, 1438940, 1347778, 1194303, 1178642, 1085711, 1019830, 906713, 787979, 762695]\n",
      "['SS-B377', 'SS-B385', 'SS-B410', 'SS-B411', 'SS-B560', 'SS-B395', 'SS-B594', 'SS-C273', 'SS-B879', 'SS-B885', 'SS-B593']\n"
     ]
    }
   ],
   "source": [
    "endfile = '-min-haplotype-k6000.csv'\n",
    "CO_df = pd.read_csv('../FILES/Crypto-GTC-counts'+endfile,index_col=0);CO_df.shape\n",
    "clens = cryptofxns.chromosome_lengths;print clens\n",
    "seg_drop = cryptofxns.geno_remove;print seg_drop"
   ]
  },
  {
   "cell_type": "code",
   "execution_count": 4,
   "metadata": {},
   "outputs": [
    {
     "data": {
      "text/html": [
       "<div>\n",
       "<style>\n",
       "    .dataframe thead tr:only-child th {\n",
       "        text-align: right;\n",
       "    }\n",
       "\n",
       "    .dataframe thead th {\n",
       "        text-align: left;\n",
       "    }\n",
       "\n",
       "    .dataframe tbody tr th {\n",
       "        vertical-align: top;\n",
       "    }\n",
       "</style>\n",
       "<table border=\"1\" class=\"dataframe\">\n",
       "  <thead>\n",
       "    <tr style=\"text-align: right;\">\n",
       "      <th></th>\n",
       "      <th>Chr01</th>\n",
       "      <th>Chr02</th>\n",
       "      <th>Chr03</th>\n",
       "      <th>Chr04</th>\n",
       "      <th>Chr05</th>\n",
       "      <th>Chr06</th>\n",
       "      <th>Chr07</th>\n",
       "      <th>Chr08</th>\n",
       "      <th>Chr09</th>\n",
       "      <th>Chr10</th>\n",
       "      <th>Chr11</th>\n",
       "      <th>Chr12</th>\n",
       "      <th>Chr13</th>\n",
       "      <th>Chr14</th>\n",
       "    </tr>\n",
       "  </thead>\n",
       "  <tbody>\n",
       "    <tr>\n",
       "      <th>SS-B307</th>\n",
       "      <td>1.0</td>\n",
       "      <td>1.0</td>\n",
       "      <td>2.0</td>\n",
       "      <td>1.0</td>\n",
       "      <td>4.0</td>\n",
       "      <td>2.0</td>\n",
       "      <td>2.0</td>\n",
       "      <td>2.0</td>\n",
       "      <td>2.0</td>\n",
       "      <td>1.0</td>\n",
       "      <td>3.0</td>\n",
       "      <td>1.0</td>\n",
       "      <td>1.0</td>\n",
       "      <td>2.0</td>\n",
       "    </tr>\n",
       "    <tr>\n",
       "      <th>SS-B308</th>\n",
       "      <td>2.0</td>\n",
       "      <td>3.0</td>\n",
       "      <td>0.0</td>\n",
       "      <td>3.0</td>\n",
       "      <td>2.0</td>\n",
       "      <td>3.0</td>\n",
       "      <td>1.0</td>\n",
       "      <td>4.0</td>\n",
       "      <td>1.0</td>\n",
       "      <td>1.0</td>\n",
       "      <td>0.0</td>\n",
       "      <td>2.0</td>\n",
       "      <td>1.0</td>\n",
       "      <td>2.0</td>\n",
       "    </tr>\n",
       "    <tr>\n",
       "      <th>SS-B310</th>\n",
       "      <td>1.0</td>\n",
       "      <td>5.0</td>\n",
       "      <td>6.0</td>\n",
       "      <td>1.0</td>\n",
       "      <td>2.0</td>\n",
       "      <td>1.0</td>\n",
       "      <td>2.0</td>\n",
       "      <td>4.0</td>\n",
       "      <td>3.0</td>\n",
       "      <td>3.0</td>\n",
       "      <td>1.0</td>\n",
       "      <td>1.0</td>\n",
       "      <td>0.0</td>\n",
       "      <td>3.0</td>\n",
       "    </tr>\n",
       "    <tr>\n",
       "      <th>SS-B311</th>\n",
       "      <td>3.0</td>\n",
       "      <td>4.0</td>\n",
       "      <td>2.0</td>\n",
       "      <td>2.0</td>\n",
       "      <td>3.0</td>\n",
       "      <td>1.0</td>\n",
       "      <td>3.0</td>\n",
       "      <td>3.0</td>\n",
       "      <td>3.0</td>\n",
       "      <td>3.0</td>\n",
       "      <td>2.0</td>\n",
       "      <td>1.0</td>\n",
       "      <td>1.0</td>\n",
       "      <td>1.0</td>\n",
       "    </tr>\n",
       "    <tr>\n",
       "      <th>SS-B312</th>\n",
       "      <td>4.0</td>\n",
       "      <td>6.0</td>\n",
       "      <td>3.0</td>\n",
       "      <td>5.0</td>\n",
       "      <td>3.0</td>\n",
       "      <td>2.0</td>\n",
       "      <td>4.0</td>\n",
       "      <td>3.0</td>\n",
       "      <td>1.0</td>\n",
       "      <td>3.0</td>\n",
       "      <td>3.0</td>\n",
       "      <td>2.0</td>\n",
       "      <td>1.0</td>\n",
       "      <td>1.0</td>\n",
       "    </tr>\n",
       "  </tbody>\n",
       "</table>\n",
       "</div>"
      ],
      "text/plain": [
       "         Chr01  Chr02  Chr03  Chr04  Chr05  Chr06  Chr07  Chr08  Chr09  Chr10  \\\n",
       "SS-B307    1.0    1.0    2.0    1.0    4.0    2.0    2.0    2.0    2.0    1.0   \n",
       "SS-B308    2.0    3.0    0.0    3.0    2.0    3.0    1.0    4.0    1.0    1.0   \n",
       "SS-B310    1.0    5.0    6.0    1.0    2.0    1.0    2.0    4.0    3.0    3.0   \n",
       "SS-B311    3.0    4.0    2.0    2.0    3.0    1.0    3.0    3.0    3.0    3.0   \n",
       "SS-B312    4.0    6.0    3.0    5.0    3.0    2.0    4.0    3.0    1.0    3.0   \n",
       "\n",
       "         Chr11  Chr12  Chr13  Chr14  \n",
       "SS-B307    3.0    1.0    1.0    2.0  \n",
       "SS-B308    0.0    2.0    1.0    2.0  \n",
       "SS-B310    1.0    1.0    0.0    3.0  \n",
       "SS-B311    2.0    1.0    1.0    1.0  \n",
       "SS-B312    3.0    2.0    1.0    1.0  "
      ]
     },
     "execution_count": 4,
     "metadata": {},
     "output_type": "execute_result"
    }
   ],
   "source": [
    "CO_df.head()"
   ]
  },
  {
   "cell_type": "code",
   "execution_count": 4,
   "metadata": {},
   "outputs": [
    {
     "name": "stdout",
     "output_type": "stream",
     "text": [
      "94\n"
     ]
    }
   ],
   "source": [
    "chrlist = np.unique(CO_df.columns).tolist();\n",
    "segs_in = CO_df.index.tolist();\n",
    "segs_bi = list(np.concatenate(cryptofxns.axalp))\n",
    "segs = [s for s in segs_in if s not in seg_drop ];print len(segs)"
   ]
  },
  {
   "cell_type": "markdown",
   "metadata": {},
   "source": [
    "### PATCH Jan 2018"
   ]
  },
  {
   "cell_type": "code",
   "execution_count": 5,
   "metadata": {
    "collapsed": true
   },
   "outputs": [],
   "source": [
    "old_names = []\n",
    "for seg in segs_bi:\n",
    "    if len(seg) > 7:\n",
    "        new_name = seg.split('_')[0] + '_cor'\n",
    "        old_names.append(new_name)\n",
    "    else:\n",
    "        old_names.append(seg)\n",
    "segs_bi = old_names"
   ]
  },
  {
   "cell_type": "markdown",
   "metadata": {},
   "source": [
    "### Are there any segregants with zero recombination events, genome-wide?"
   ]
  },
  {
   "cell_type": "code",
   "execution_count": 6,
   "metadata": {
    "collapsed": true
   },
   "outputs": [],
   "source": [
    "for a, b in enumerate(CO_df.sum(axis=1)):\n",
    "    if b == 0:\n",
    "        if CO_df.index.tolist()[a] in segs:\n",
    "            print CO_df.index.tolist()[a],b"
   ]
  },
  {
   "cell_type": "markdown",
   "metadata": {},
   "source": [
    "### What segregants have zero recombination on given chromosomes?"
   ]
  },
  {
   "cell_type": "code",
   "execution_count": 7,
   "metadata": {
    "collapsed": true
   },
   "outputs": [],
   "source": [
    "segs_with_zero = []\n",
    "for a in CO_df.index.tolist():\n",
    "    if a in segs:\n",
    "        COs = CO_df.T[a].tolist()\n",
    "        if 0 in COs:\n",
    "            #print a\n",
    "            segs_with_zero.append(a)\n",
    "            perchrom = []\n",
    "            for b,c in enumerate(COs):\n",
    "                if c == 0:\n",
    "                    #print chrlist[b]\n",
    "                    perchrom.append(chrlist[b])\n",
    "            segs_with_zero.append(perchrom)"
   ]
  },
  {
   "cell_type": "code",
   "execution_count": 8,
   "metadata": {},
   "outputs": [
    {
     "data": {
      "text/plain": [
       "54.0"
      ]
     },
     "execution_count": 8,
     "metadata": {},
     "output_type": "execute_result"
    }
   ],
   "source": [
    "len(segs_with_zero)/2.0"
   ]
  },
  {
   "cell_type": "code",
   "execution_count": 9,
   "metadata": {},
   "outputs": [
    {
     "data": {
      "text/plain": [
       "['SS-B308',\n",
       " ['Chr03', 'Chr11'],\n",
       " 'SS-B310',\n",
       " ['Chr13'],\n",
       " 'SS-B316',\n",
       " ['Chr09', 'Chr10']]"
      ]
     },
     "execution_count": 9,
     "metadata": {},
     "output_type": "execute_result"
    }
   ],
   "source": [
    "segs_with_zero[:6]"
   ]
  },
  {
   "cell_type": "code",
   "execution_count": 10,
   "metadata": {
    "collapsed": true
   },
   "outputs": [],
   "source": [
    "only_chroms = []\n",
    "for seg in segs_with_zero:\n",
    "    for a in seg:\n",
    "        if a in chrlist:\n",
    "            only_chroms.append(a)   "
   ]
  },
  {
   "cell_type": "code",
   "execution_count": 11,
   "metadata": {
    "collapsed": true
   },
   "outputs": [],
   "source": [
    "only_chroms_num = [int(a[3:]) for a in only_chroms]"
   ]
  },
  {
   "cell_type": "code",
   "execution_count": 12,
   "metadata": {},
   "outputs": [
    {
     "data": {
      "text/plain": [
       "[3, 11, 13, 9, 10]"
      ]
     },
     "execution_count": 12,
     "metadata": {},
     "output_type": "execute_result"
    }
   ],
   "source": [
    "only_chroms_num[:5]"
   ]
  },
  {
   "cell_type": "code",
   "execution_count": 13,
   "metadata": {
    "collapsed": true
   },
   "outputs": [],
   "source": [
    "zero_counts_per_chrom = []\n",
    "for chrom in chrlist:\n",
    "    zero_counts_per_chrom.append( only_chroms_num.count(int(chrom[3:])))"
   ]
  },
  {
   "cell_type": "code",
   "execution_count": 14,
   "metadata": {},
   "outputs": [
    {
     "data": {
      "image/png": "[encoded data removed]",
      "text/plain": [
       "<matplotlib.figure.Figure at 0x1a0cd58f10>"
      ]
     },
     "metadata": {},
     "output_type": "display_data"
    }
   ],
   "source": [
    "zero_counts_per_chrom_df = pd.DataFrame([clens,zero_counts_per_chrom],index=['Clens','ZC']).T\n",
    "zero_counts_per_chrom_df\n",
    "plt.plot(np.log10(zero_counts_per_chrom_df.Clens.values),zero_counts_per_chrom_df.ZC.values,'.');\n",
    "#plt.plot(np.log10(zero_counts_per_chrom_df.Clens.values),zero_counts_results.predict(),'.');"
   ]
  },
  {
   "cell_type": "code",
   "execution_count": 15,
   "metadata": {},
   "outputs": [
    {
     "name": "stderr",
     "output_type": "stream",
     "text": [
      "/Users/croth/anaconda2/lib/python2.7/site-packages/scipy/stats/stats.py:1334: UserWarning: kurtosistest only valid for n>=20 ... continuing anyway, n=14\n",
      "  \"anyway, n=%i\" % int(n))\n"
     ]
    },
    {
     "name": "stdout",
     "output_type": "stream",
     "text": [
      "                            OLS Regression Results                            \n",
      "==============================================================================\n",
      "Dep. Variable:                     ZC   R-squared:                       0.450\n",
      "Model:                            OLS   Adj. R-squared:                  0.404\n",
      "Method:                 Least Squares   F-statistic:                     9.810\n",
      "Date:                Thu, 01 Feb 2018   Prob (F-statistic):            0.00866\n",
      "Time:                        11:01:03   Log-Likelihood:                -36.795\n",
      "No. Observations:                  14   AIC:                             77.59\n",
      "Df Residuals:                      12   BIC:                             78.87\n",
      "Df Model:                           1                                         \n",
      "Covariance Type:            nonrobust                                         \n",
      "==============================================================================\n",
      "                 coef    std err          t      P>|t|      [0.025      0.975]\n",
      "------------------------------------------------------------------------------\n",
      "Intercept     15.9749      3.068      5.208      0.000       9.291      22.659\n",
      "clens        -6.7e-06   2.14e-06     -3.132      0.009   -1.14e-05   -2.04e-06\n",
      "==============================================================================\n",
      "Omnibus:                        0.346   Durbin-Watson:                   1.988\n",
      "Prob(Omnibus):                  0.841   Jarque-Bera (JB):                0.102\n",
      "Skew:                           0.180   Prob(JB):                        0.950\n",
      "Kurtosis:                       2.787   Cond. No.                     4.55e+06\n",
      "==============================================================================\n",
      "\n",
      "Warnings:\n",
      "[1] Standard Errors assume that the covariance matrix of the errors is correctly specified.\n",
      "[2] The condition number is large, 4.55e+06. This might indicate that there are\n",
      "strong multicollinearity or other numerical problems.\n"
     ]
    }
   ],
   "source": [
    "zero_counts_results  = smf.ols(formula = 'ZC ~ clens ',data=zero_counts_per_chrom_df).fit()\n",
    "print zero_counts_results.summary()"
   ]
  },
  {
   "cell_type": "markdown",
   "metadata": {},
   "source": [
    "### Analysis of chromosomes with zero crossovers"
   ]
  },
  {
   "cell_type": "code",
   "execution_count": 16,
   "metadata": {
    "collapsed": true
   },
   "outputs": [],
   "source": [
    "hap_filter_size = 6000\n",
    "HAPFILTINT = int(hap_filter_size/1000.0)\n",
    "Method = '-min'\n",
    "fileendname = Method +'-Geno-k' + str(int(hap_filter_size)) + '.csv'\n",
    "geno = pd.read_csv('../FILES/FiltGenotoHapFiltGeno%s'%fileendname)"
   ]
  },
  {
   "cell_type": "code",
   "execution_count": 17,
   "metadata": {},
   "outputs": [
    {
     "data": {
      "text/html": [
       "<div>\n",
       "<style>\n",
       "    .dataframe thead tr:only-child th {\n",
       "        text-align: right;\n",
       "    }\n",
       "\n",
       "    .dataframe thead th {\n",
       "        text-align: left;\n",
       "    }\n",
       "\n",
       "    .dataframe tbody tr th {\n",
       "        vertical-align: top;\n",
       "    }\n",
       "</style>\n",
       "<table border=\"1\" class=\"dataframe\">\n",
       "  <thead>\n",
       "    <tr style=\"text-align: right;\">\n",
       "      <th></th>\n",
       "      <th>Alt</th>\n",
       "      <th>Chrom</th>\n",
       "      <th>Pos</th>\n",
       "      <th>Ref</th>\n",
       "      <th>SS-B307</th>\n",
       "      <th>SS-B308</th>\n",
       "      <th>SS-B310</th>\n",
       "      <th>SS-B311</th>\n",
       "      <th>SS-B312</th>\n",
       "      <th>SS-B313</th>\n",
       "      <th>...</th>\n",
       "      <th>SS-C029_Correction</th>\n",
       "      <th>SS-C031_Correction</th>\n",
       "      <th>SS-C033</th>\n",
       "      <th>SS-C036</th>\n",
       "      <th>SS-C039</th>\n",
       "      <th>SS-C242</th>\n",
       "      <th>SS-C271</th>\n",
       "      <th>SS-C272</th>\n",
       "      <th>SS-C290</th>\n",
       "      <th>SS-C291</th>\n",
       "    </tr>\n",
       "  </thead>\n",
       "  <tbody>\n",
       "    <tr>\n",
       "      <th>0</th>\n",
       "      <td>A</td>\n",
       "      <td>Chr01</td>\n",
       "      <td>5016.0</td>\n",
       "      <td>C</td>\n",
       "      <td>1</td>\n",
       "      <td>1</td>\n",
       "      <td>1</td>\n",
       "      <td>1</td>\n",
       "      <td>0</td>\n",
       "      <td>0</td>\n",
       "      <td>...</td>\n",
       "      <td>0</td>\n",
       "      <td>0</td>\n",
       "      <td>1</td>\n",
       "      <td>0</td>\n",
       "      <td>1</td>\n",
       "      <td>0</td>\n",
       "      <td>0</td>\n",
       "      <td>0</td>\n",
       "      <td>1</td>\n",
       "      <td>0</td>\n",
       "    </tr>\n",
       "    <tr>\n",
       "      <th>1</th>\n",
       "      <td>C</td>\n",
       "      <td>Chr01</td>\n",
       "      <td>5299.0</td>\n",
       "      <td>T</td>\n",
       "      <td>1</td>\n",
       "      <td>1</td>\n",
       "      <td>1</td>\n",
       "      <td>1</td>\n",
       "      <td>0</td>\n",
       "      <td>0</td>\n",
       "      <td>...</td>\n",
       "      <td>0</td>\n",
       "      <td>0</td>\n",
       "      <td>1</td>\n",
       "      <td>0</td>\n",
       "      <td>1</td>\n",
       "      <td>0</td>\n",
       "      <td>0</td>\n",
       "      <td>0</td>\n",
       "      <td>1</td>\n",
       "      <td>0</td>\n",
       "    </tr>\n",
       "    <tr>\n",
       "      <th>2</th>\n",
       "      <td>C</td>\n",
       "      <td>Chr01</td>\n",
       "      <td>5464.0</td>\n",
       "      <td>T</td>\n",
       "      <td>1</td>\n",
       "      <td>1</td>\n",
       "      <td>1</td>\n",
       "      <td>1</td>\n",
       "      <td>0</td>\n",
       "      <td>0</td>\n",
       "      <td>...</td>\n",
       "      <td>0</td>\n",
       "      <td>0</td>\n",
       "      <td>1</td>\n",
       "      <td>0</td>\n",
       "      <td>1</td>\n",
       "      <td>0</td>\n",
       "      <td>0</td>\n",
       "      <td>0</td>\n",
       "      <td>1</td>\n",
       "      <td>0</td>\n",
       "    </tr>\n",
       "    <tr>\n",
       "      <th>3</th>\n",
       "      <td>C</td>\n",
       "      <td>Chr01</td>\n",
       "      <td>6120.0</td>\n",
       "      <td>T</td>\n",
       "      <td>1</td>\n",
       "      <td>1</td>\n",
       "      <td>1</td>\n",
       "      <td>1</td>\n",
       "      <td>0</td>\n",
       "      <td>0</td>\n",
       "      <td>...</td>\n",
       "      <td>0</td>\n",
       "      <td>0</td>\n",
       "      <td>1</td>\n",
       "      <td>0</td>\n",
       "      <td>1</td>\n",
       "      <td>0</td>\n",
       "      <td>0</td>\n",
       "      <td>0</td>\n",
       "      <td>1</td>\n",
       "      <td>0</td>\n",
       "    </tr>\n",
       "    <tr>\n",
       "      <th>4</th>\n",
       "      <td>A</td>\n",
       "      <td>Chr01</td>\n",
       "      <td>6166.0</td>\n",
       "      <td>G</td>\n",
       "      <td>1</td>\n",
       "      <td>1</td>\n",
       "      <td>1</td>\n",
       "      <td>1</td>\n",
       "      <td>0</td>\n",
       "      <td>0</td>\n",
       "      <td>...</td>\n",
       "      <td>0</td>\n",
       "      <td>0</td>\n",
       "      <td>1</td>\n",
       "      <td>0</td>\n",
       "      <td>1</td>\n",
       "      <td>0</td>\n",
       "      <td>0</td>\n",
       "      <td>0</td>\n",
       "      <td>1</td>\n",
       "      <td>0</td>\n",
       "    </tr>\n",
       "  </tbody>\n",
       "</table>\n",
       "<p>5 rows × 98 columns</p>\n",
       "</div>"
      ],
      "text/plain": [
       "  Alt  Chrom     Pos Ref  SS-B307  SS-B308  SS-B310  SS-B311  SS-B312  \\\n",
       "0   A  Chr01  5016.0   C        1        1        1        1        0   \n",
       "1   C  Chr01  5299.0   T        1        1        1        1        0   \n",
       "2   C  Chr01  5464.0   T        1        1        1        1        0   \n",
       "3   C  Chr01  6120.0   T        1        1        1        1        0   \n",
       "4   A  Chr01  6166.0   G        1        1        1        1        0   \n",
       "\n",
       "   SS-B313   ...     SS-C029_Correction  SS-C031_Correction  SS-C033  SS-C036  \\\n",
       "0        0   ...                      0                   0        1        0   \n",
       "1        0   ...                      0                   0        1        0   \n",
       "2        0   ...                      0                   0        1        0   \n",
       "3        0   ...                      0                   0        1        0   \n",
       "4        0   ...                      0                   0        1        0   \n",
       "\n",
       "   SS-C039  SS-C242  SS-C271  SS-C272  SS-C290  SS-C291  \n",
       "0        1        0        0        0        1        0  \n",
       "1        1        0        0        0        1        0  \n",
       "2        1        0        0        0        1        0  \n",
       "3        1        0        0        0        1        0  \n",
       "4        1        0        0        0        1        0  \n",
       "\n",
       "[5 rows x 98 columns]"
      ]
     },
     "execution_count": 17,
     "metadata": {},
     "output_type": "execute_result"
    }
   ],
   "source": [
    "geno.head()"
   ]
  },
  {
   "cell_type": "markdown",
   "metadata": {},
   "source": [
    "## Patch Jan 2018"
   ]
  },
  {
   "cell_type": "code",
   "execution_count": 18,
   "metadata": {
    "collapsed": true
   },
   "outputs": [],
   "source": [
    "old_names = []\n",
    "for seg in geno.columns.tolist()[4:]:\n",
    "    if len(seg) > 7:\n",
    "        new_name = seg.split('_')[0] + '_cor'\n",
    "        old_names.append(new_name)\n",
    "    else:\n",
    "        old_names.append(seg)\n",
    "geno.columns = geno.columns.tolist()[:4] + old_names"
   ]
  },
  {
   "cell_type": "code",
   "execution_count": 19,
   "metadata": {},
   "outputs": [
    {
     "data": {
      "text/plain": [
       "54.0"
      ]
     },
     "execution_count": 19,
     "metadata": {},
     "output_type": "execute_result"
    }
   ],
   "source": [
    "len(segs_with_zero)/2.0"
   ]
  },
  {
   "cell_type": "code",
   "execution_count": 20,
   "metadata": {
    "collapsed": true
   },
   "outputs": [],
   "source": [
    "segs_wz = [segs_with_zero[i] for i in np.arange(0,len(segs_with_zero),2)]"
   ]
  },
  {
   "cell_type": "code",
   "execution_count": 21,
   "metadata": {},
   "outputs": [
    {
     "data": {
      "text/plain": [
       "['SS-B308', 'SS-B310', 'SS-B316', 'SS-B350', 'SS-B354']"
      ]
     },
     "execution_count": 21,
     "metadata": {},
     "output_type": "execute_result"
    }
   ],
   "source": [
    "segs_wz[:5]"
   ]
  },
  {
   "cell_type": "code",
   "execution_count": 22,
   "metadata": {},
   "outputs": [
    {
     "data": {
      "text/plain": [
       "54"
      ]
     },
     "execution_count": 22,
     "metadata": {},
     "output_type": "execute_result"
    }
   ],
   "source": [
    "len(segs_wz)"
   ]
  },
  {
   "cell_type": "code",
   "execution_count": 23,
   "metadata": {
    "collapsed": true
   },
   "outputs": [],
   "source": [
    "segs_wz_ch = [segs_with_zero[i] for i in np.arange(1,len(segs_with_zero)+1,2)]"
   ]
  },
  {
   "cell_type": "code",
   "execution_count": 24,
   "metadata": {},
   "outputs": [
    {
     "data": {
      "text/plain": [
       "54"
      ]
     },
     "execution_count": 24,
     "metadata": {},
     "output_type": "execute_result"
    }
   ],
   "source": [
    "len(segs_wz_ch)"
   ]
  },
  {
   "cell_type": "code",
   "execution_count": 25,
   "metadata": {},
   "outputs": [
    {
     "data": {
      "text/plain": [
       "[['Chr03', 'Chr11'],\n",
       " ['Chr13'],\n",
       " ['Chr09', 'Chr10'],\n",
       " ['Chr06'],\n",
       " ['Chr06', 'Chr09', 'Chr13', 'Chr14']]"
      ]
     },
     "execution_count": 25,
     "metadata": {},
     "output_type": "execute_result"
    }
   ],
   "source": [
    "segs_wz_ch[:5]"
   ]
  },
  {
   "cell_type": "code",
   "execution_count": 26,
   "metadata": {
    "collapsed": true
   },
   "outputs": [],
   "source": [
    "seg_wz_ch_bi = []\n",
    "seg_wz_ch_un = []\n",
    "for i, seg in enumerate(segs_wz):\n",
    "    if seg in segs_bi:\n",
    "        seg_wz_ch_bi.append(len(segs_wz_ch[i]))\n",
    "    else:\n",
    "        seg_wz_ch_un.append(len(segs_wz_ch[i]))"
   ]
  },
  {
   "cell_type": "code",
   "execution_count": 27,
   "metadata": {},
   "outputs": [
    {
     "data": {
      "image/png": "[encoded data removed]",
      "text/plain": [
       "<matplotlib.figure.Figure at 0x1a0d3452d0>"
      ]
     },
     "metadata": {},
     "output_type": "display_data"
    }
   ],
   "source": [
    "plt.hist(seg_wz_ch_un,color='r');\n",
    "plt.hist(seg_wz_ch_bi,color='k');"
   ]
  },
  {
   "cell_type": "code",
   "execution_count": 28,
   "metadata": {},
   "outputs": [
    {
     "data": {
      "image/png": "[encoded data removed]",
      "text/plain": [
       "<matplotlib.figure.Figure at 0x1a0d35ff90>"
      ]
     },
     "metadata": {},
     "output_type": "display_data"
    }
   ],
   "source": [
    "plt.boxplot([seg_wz_ch_un,seg_wz_ch_bi]);"
   ]
  },
  {
   "cell_type": "code",
   "execution_count": 29,
   "metadata": {},
   "outputs": [
    {
     "name": "stdout",
     "output_type": "stream",
     "text": [
      "1.0\n",
      "1.94736842105\n",
      "0.655370575837\n"
     ]
    }
   ],
   "source": [
    "print np.median(seg_wz_ch_bi)\n",
    "print np.mean(seg_wz_ch_bi)\n",
    "print ss.variation(seg_wz_ch_bi)"
   ]
  },
  {
   "cell_type": "code",
   "execution_count": 30,
   "metadata": {},
   "outputs": [
    {
     "name": "stdout",
     "output_type": "stream",
     "text": [
      "1.0\n",
      "1.68571428571\n",
      "0.545014752231\n"
     ]
    }
   ],
   "source": [
    "print np.median(seg_wz_ch_un)\n",
    "print np.mean(seg_wz_ch_un)\n",
    "print ss.variation(seg_wz_ch_un)"
   ]
  },
  {
   "cell_type": "code",
   "execution_count": 31,
   "metadata": {},
   "outputs": [
    {
     "data": {
      "text/plain": [
       "Ks_2sampResult(statistic=0.15338345864661651, pvalue=0.91083198649049435)"
      ]
     },
     "execution_count": 31,
     "metadata": {},
     "output_type": "execute_result"
    }
   ],
   "source": [
    "ss.ks_2samp(seg_wz_ch_un,seg_wz_ch_bi)"
   ]
  },
  {
   "cell_type": "code",
   "execution_count": 32,
   "metadata": {},
   "outputs": [
    {
     "data": {
      "text/plain": [
       "MannwhitneyuResult(statistic=308.0, pvalue=0.31488456605491116)"
      ]
     },
     "execution_count": 32,
     "metadata": {},
     "output_type": "execute_result"
    }
   ],
   "source": [
    "ss.mannwhitneyu(seg_wz_ch_un,seg_wz_ch_bi)"
   ]
  },
  {
   "cell_type": "code",
   "execution_count": 33,
   "metadata": {
    "collapsed": true
   },
   "outputs": [],
   "source": [
    "ques_how_many_bi = 0\n",
    "for seg in segs_with_zero:\n",
    "    if seg in segs_bi:\n",
    "        ques_how_many_bi= ques_how_many_bi+1"
   ]
  },
  {
   "cell_type": "code",
   "execution_count": 34,
   "metadata": {},
   "outputs": [
    {
     "name": "stdout",
     "output_type": "stream",
     "text": [
      "19\n"
     ]
    },
    {
     "data": {
      "text/plain": [
       "0.48717948717948717"
      ]
     },
     "execution_count": 34,
     "metadata": {},
     "output_type": "execute_result"
    }
   ],
   "source": [
    "print ques_how_many_bi\n",
    "ques_how_many_bi/39.0"
   ]
  },
  {
   "cell_type": "code",
   "execution_count": 35,
   "metadata": {},
   "outputs": [
    {
     "name": "stdout",
     "output_type": "stream",
     "text": [
      "35\n"
     ]
    },
    {
     "data": {
      "text/plain": [
       "0.6363636363636364"
      ]
     },
     "execution_count": 35,
     "metadata": {},
     "output_type": "execute_result"
    }
   ],
   "source": [
    "temp = (len(segs_with_zero)/2 - ques_how_many_bi);print temp\n",
    "temp/55.0 ## How man segs from unicross"
   ]
  },
  {
   "cell_type": "code",
   "execution_count": 36,
   "metadata": {
    "collapsed": true
   },
   "outputs": [],
   "source": [
    "chroms_with_zero = []\n",
    "for seg in segs_with_zero:\n",
    "    for a in seg:\n",
    "        if a in chrlist:\n",
    "            chroms_with_zero.append(seg)\n",
    "chroms_with_zero = np.unique(np.concatenate(chroms_with_zero))"
   ]
  },
  {
   "cell_type": "code",
   "execution_count": 37,
   "metadata": {},
   "outputs": [
    {
     "name": "stdout",
     "output_type": "stream",
     "text": [
      "['Chr01' 'Chr02' 'Chr03' 'Chr04' 'Chr05' 'Chr06' 'Chr07' 'Chr08' 'Chr09'\n",
      " 'Chr10' 'Chr11' 'Chr12' 'Chr13' 'Chr14']\n"
     ]
    }
   ],
   "source": [
    "print chroms_with_zero"
   ]
  },
  {
   "cell_type": "code",
   "execution_count": 38,
   "metadata": {
    "collapsed": true
   },
   "outputs": [],
   "source": [
    "seg_wz_gts = []\n",
    "for i, seg in enumerate(segs_wz):\n",
    "    seg_gt = [geno[seg][geno.Chrom==chrom].unique().tolist() for chrom in segs_wz_ch[i]]\n",
    "    assert len(seg_gt) == len(segs_wz_ch[i])\n",
    "    seg_wz_gts.append(seg_gt)"
   ]
  },
  {
   "cell_type": "code",
   "execution_count": 39,
   "metadata": {},
   "outputs": [
    {
     "data": {
      "text/plain": [
       "0.64814814814814814"
      ]
     },
     "execution_count": 39,
     "metadata": {},
     "output_type": "execute_result"
    }
   ],
   "source": [
    "all_wz_gts = np.concatenate(np.concatenate(seg_wz_gts))\n",
    "sum(all_wz_gts)/float(len(segs_wz))"
   ]
  },
  {
   "cell_type": "code",
   "execution_count": 40,
   "metadata": {
    "collapsed": true
   },
   "outputs": [],
   "source": [
    "segs_wz_bychrom = [[segs_wz[i] for chrm in chroms] for i,chroms in enumerate(segs_wz_ch) ]"
   ]
  },
  {
   "cell_type": "code",
   "execution_count": 41,
   "metadata": {},
   "outputs": [
    {
     "data": {
      "text/plain": [
       "'SS-B407'"
      ]
     },
     "execution_count": 41,
     "metadata": {},
     "output_type": "execute_result"
    }
   ],
   "source": [
    "np.concatenate(segs_wz_bychrom)[39]"
   ]
  },
  {
   "cell_type": "code",
   "execution_count": 42,
   "metadata": {},
   "outputs": [
    {
     "data": {
      "image/png": "[encoded data removed]",
      "text/plain": [
       "<matplotlib.figure.Figure at 0x1078fdc90>"
      ]
     },
     "metadata": {},
     "output_type": "display_data"
    }
   ],
   "source": [
    "for i, chroms in enumerate(np.concatenate(segs_wz_ch)):\n",
    "    if np.concatenate(segs_wz_bychrom)[i] in segs_bi:\n",
    "        colour = 'k'\n",
    "    else:\n",
    "        colour = 'r'\n",
    "    plt.plot(int(chroms[3:])+ np.random.normal(0,0.11,1),#np.log10(clens[int(chroms[3:])-1]) \n",
    "             all_wz_gts[i]+np.random.normal(0,0.09,1),\n",
    "             'o',color=colour,alpha=.3);\n",
    "plt.xticks(np.arange(1,15,1));\n",
    "plt.yticks([0,1]);plt.xlabel('Chromosome');plt.title('')\n",
    "plt.ylabel(r'$\\alpha$')\n",
    "plt.ylabel(r'Genotype: (0) XL280, (1) 431$\\alpha$');\n",
    "plt.title('Nonexchange Chromosomes\\n Genotype by Segregants');"
   ]
  },
  {
   "cell_type": "code",
   "execution_count": 43,
   "metadata": {},
   "outputs": [
    {
     "data": {
      "text/plain": [
       "54"
      ]
     },
     "execution_count": 43,
     "metadata": {},
     "output_type": "execute_result"
    }
   ],
   "source": [
    "len(seg_wz_gts)"
   ]
  },
  {
   "cell_type": "code",
   "execution_count": 44,
   "metadata": {
    "collapsed": true
   },
   "outputs": [],
   "source": [
    "bi_s_c = [[] for chrom in chrlist]\n",
    "un_s_c = [[] for chrom in chrlist]\n",
    "bi_gts = [[] for chrom in chrlist]\n",
    "un_gts = [[] for chrom in chrlist]\n",
    "for i, seg in enumerate(segs_wz):\n",
    "    if seg in segs_bi:\n",
    "        #bi_gts.append(seg_wz_gts[i])\n",
    "        for j,c in enumerate(segs_wz_ch[i]):\n",
    "            bi_s_c[int(c[3:])-1].append(int(c[3:]))\n",
    "            bi_gts[int(c[3:])-1].append(seg_wz_gts[i][j])\n",
    "    else:\n",
    "        #un_gts.append(seg_wz_gts[i])\n",
    "        for j,c in enumerate(segs_wz_ch[i]):\n",
    "            un_s_c[int(c[3:])-1].append(int(c[3:]))\n",
    "            un_gts[int(c[3:])-1].append(seg_wz_gts[i][j])"
   ]
  },
  {
   "cell_type": "code",
   "execution_count": 45,
   "metadata": {
    "collapsed": true
   },
   "outputs": [],
   "source": [
    "nun_gts = []\n",
    "for a in un_gts:\n",
    "    if len(a) > 0:\n",
    "        nun_gts.append(list(np.concatenate(a)))\n",
    "    else:\n",
    "        nun_gts.append([])\n",
    "nbi_gts = []\n",
    "for a in bi_gts:\n",
    "    if len(a) > 0:\n",
    "        nbi_gts.append(list(np.concatenate(a)))\n",
    "    else:\n",
    "        nbi_gts.append([])"
   ]
  },
  {
   "cell_type": "code",
   "execution_count": 46,
   "metadata": {
    "collapsed": true
   },
   "outputs": [],
   "source": [
    "necdf = pd.DataFrame(columns=['Chrom','Counts','C431','Cross'])\n",
    "necdf['Cross'] = ['un' for i in range(14)] + ['bi' for i in range(14)]\n",
    "necdf['Chrom'] = [chrom for chrom in chrlist] + [chrom for chrom in chrlist]\n",
    "necdf['Counts'] = [len(a) for a in nun_gts] + [len(a) for a in nbi_gts]\n",
    "necdf['C431'] = [sum(a) for a in nun_gts] + [sum(a) for a in nbi_gts]"
   ]
  },
  {
   "cell_type": "code",
   "execution_count": 47,
   "metadata": {},
   "outputs": [
    {
     "data": {
      "text/plain": [
       "array([ 1,  4,  7, 10, 13, 16, 19, 22, 25, 28, 31, 34, 37, 40])"
      ]
     },
     "execution_count": 47,
     "metadata": {},
     "output_type": "execute_result"
    }
   ],
   "source": [
    "np.arange(1,15) + 0 + 2*np.arange(0,14)"
   ]
  },
  {
   "cell_type": "code",
   "execution_count": 48,
   "metadata": {},
   "outputs": [
    {
     "data": {
      "image/png": "[encoded data removed]",
      "text/plain": [
       "<matplotlib.figure.Figure at 0x1079aeb50>"
      ]
     },
     "metadata": {},
     "output_type": "display_data"
    }
   ],
   "source": [
    "newxtic  = []\n",
    "W = 10\n",
    "M = 3*W \n",
    "for cr in necdf.Cross.unique():\n",
    "    for j,chrom in enumerate(necdf.Chrom.unique()):\n",
    "        if cr is 'un':\n",
    "            color = 'r'\n",
    "            xd = 0\n",
    "        else:\n",
    "            color = 'k'\n",
    "            xd = W\n",
    "            newxtic.append(int(chrom[3:])+xd+M*j)\n",
    "        plt.bar(int(chrom[3:])+xd+M*j,\n",
    "                necdf.Counts[(necdf.Chrom==chrom)&\n",
    "                             (necdf.Cross==cr)],\n",
    "                width=W,alpha=.5,color=color)\n",
    "        plt.bar(int(chrom[3:])+xd+M*j,\n",
    "                necdf.C431[(necdf.Chrom==chrom)&\n",
    "                             (necdf.Cross==cr)],\n",
    "                width=W,alpha=.5,color='w')\n",
    "plt.xticks(np.array(newxtic)-W/2.0,range(1,15));\n",
    "plt.xlabel('Chromosomes');plt.ylabel('Counts');\n",
    "plt.yticks(np.arange(0,necdf.Counts.max()+1));plt.tight_layout();"
   ]
  },
  {
   "cell_type": "code",
   "execution_count": 49,
   "metadata": {
    "collapsed": true
   },
   "outputs": [],
   "source": [
    "x_un_s_c = []\n",
    "for a in un_s_c:\n",
    "    x_un_s_c.append(np.linspace(0,1,len(a)))\n",
    "x_bi_s_c = []\n",
    "for a in bi_s_c:\n",
    "    x_bi_s_c.append(np.linspace(2,3,len(a)))"
   ]
  },
  {
   "cell_type": "code",
   "execution_count": 50,
   "metadata": {
    "collapsed": true
   },
   "outputs": [],
   "source": [
    "Y = list(np.concatenate(un_s_c)) + list(np.concatenate(bi_s_c))\n",
    "X = list(np.concatenate(x_un_s_c)) + list(np.concatenate(x_bi_s_c))\n",
    "#Z = list(np.concatenate(np.concatenate(un_gts))) + list(np.concatenate(np.concatenate(bi_gts)))"
   ]
  },
  {
   "cell_type": "code",
   "execution_count": 51,
   "metadata": {
    "collapsed": true
   },
   "outputs": [],
   "source": [
    "segs_wz_x = []\n",
    "for i,seg in enumerate(segs_wz):\n",
    "    if seg in segs_bi:\n",
    "        segs_wz_x.append([2 for a in segs_wz_ch[i]])\n",
    "    else:\n",
    "        segs_wz_x.append([1 for a in segs_wz_ch[i]])"
   ]
  },
  {
   "cell_type": "code",
   "execution_count": 52,
   "metadata": {},
   "outputs": [
    {
     "data": {
      "text/plain": [
       "[[1, 1], [1], [1, 1], [1], [1, 1, 1, 1]]"
      ]
     },
     "execution_count": 52,
     "metadata": {},
     "output_type": "execute_result"
    }
   ],
   "source": [
    "segs_wz_x[:5]"
   ]
  },
  {
   "cell_type": "code",
   "execution_count": 53,
   "metadata": {},
   "outputs": [
    {
     "data": {
      "text/plain": [
       "[['Chr03', 'Chr11'],\n",
       " ['Chr13'],\n",
       " ['Chr09', 'Chr10'],\n",
       " ['Chr06'],\n",
       " ['Chr06', 'Chr09', 'Chr13', 'Chr14']]"
      ]
     },
     "execution_count": 53,
     "metadata": {},
     "output_type": "execute_result"
    }
   ],
   "source": [
    "segs_wz_ch[:5]"
   ]
  },
  {
   "cell_type": "code",
   "execution_count": 54,
   "metadata": {},
   "outputs": [
    {
     "data": {
      "text/plain": [
       "[[[1], [1]], [[0]], [[1], [0]], [[0]], [[0], [1], [1], [0]]]"
      ]
     },
     "execution_count": 54,
     "metadata": {},
     "output_type": "execute_result"
    }
   ],
   "source": [
    "seg_wz_gts[:5]"
   ]
  },
  {
   "cell_type": "code",
   "execution_count": 55,
   "metadata": {
    "collapsed": true
   },
   "outputs": [],
   "source": [
    "wz_chs = np.concatenate(segs_wz_ch)\n",
    "wz_gts = np.concatenate(np.concatenate(seg_wz_gts))\n",
    "wz_x = np.concatenate(segs_wz_x)\n",
    "x_p = list(np.linspace(-10,10,len(wz_x[wz_x==1]))) + list(np.linspace(15,35,len(wz_x[wz_x==2])))"
   ]
  },
  {
   "cell_type": "code",
   "execution_count": 56,
   "metadata": {},
   "outputs": [
    {
     "data": {
      "image/png": "[encoded data removed]",
      "text/plain": [
       "<matplotlib.figure.Figure at 0x1078fd8d0>"
      ]
     },
     "metadata": {},
     "output_type": "display_data"
    }
   ],
   "source": [
    "for i in range(len(wz_chs)):\n",
    "    if wz_gts[i] == 1:\n",
    "        color='orange'\n",
    "    else:\n",
    "        color='lightblue'\n",
    "    plt.plot(wz_x[i] + x_p[i],int(wz_chs[i][3:]),'o',alpha=.5,markersize=10,color=color);"
   ]
  },
  {
   "cell_type": "code",
   "execution_count": 57,
   "metadata": {},
   "outputs": [
    {
     "data": {
      "image/png": "[encoded data removed]",
      "text/plain": [
       "<matplotlib.figure.Figure at 0x107906050>"
      ]
     },
     "metadata": {},
     "output_type": "display_data"
    }
   ],
   "source": [
    "jittx = np.random.normal(0,0.25,len(np.concatenate(segs_wz_ch)));\n",
    "jitty = np.random.normal(0,0.01,len(np.concatenate(segs_wz_ch)));\n",
    "for i, chroms in enumerate(np.concatenate(segs_wz_ch)):\n",
    "    #if np.concatenate(segs_wz_bychrom)[i] in segs_bi:\n",
    "    if all_wz_gts[i] == 0:\n",
    "        colour = 'lightblue'\n",
    "    else:\n",
    "        colour = 'orange'\n",
    "    if np.concatenate(segs_wz_bychrom)[i] in segs_bi:\n",
    "        x = 2;\n",
    "    else:\n",
    "        x = 0;\n",
    "    plt.plot(x+ jittx[i],\n",
    "             int(chroms[3:])+ jitty[i],\n",
    "             'o',color=colour,alpha=.6,markersize=11);\n",
    "plt.yticks(np.arange(1,15,1));\n",
    "plt.xticks([1,2]);plt.ylabel('Chromosome');\n",
    "#plt.xlabel('Segregants');\n",
    "#plt.title('Nonexchange Chromosomes\\n Genotype by Cross');\n",
    "x = [0,2];labels=['Unisexual\\nCrosses','Bisexual\\nCrosses'];\n",
    "plt.xticks(x, labels)#, rotation='vertical');\n",
    "plt.vlines(1,0,15,linestyles='--',color='grey',alpha=.5)\n",
    "plt.savefig('../FIGS/Crypto-Nonexchange-GT-byCross-Sep2017.png',dpi=300);"
   ]
  },
  {
   "cell_type": "markdown",
   "metadata": {},
   "source": [
    "The inherited parental genotypes (Blue: XL280, Yellow: 431) of nonexchange chromosomes is shown for progeny from the unisexual (x=1) and bisexual (x=2) crosses across the 14 chromosomes. "
   ]
  },
  {
   "cell_type": "code",
   "execution_count": 58,
   "metadata": {
    "collapsed": true
   },
   "outputs": [],
   "source": [
    "segs_wz_bi = []\n",
    "segs_wz_un = []\n",
    "for i, seg in enumerate(segs_wz):\n",
    "    if seg in segs_bi:\n",
    "        segs_wz_bi.append(seg_wz_gts[i])\n",
    "    else:\n",
    "        segs_wz_un.append(seg_wz_gts[i])"
   ]
  },
  {
   "cell_type": "code",
   "execution_count": 59,
   "metadata": {},
   "outputs": [
    {
     "name": "stdout",
     "output_type": "stream",
     "text": [
      "29 of 37\n",
      "0.783783783784\n"
     ]
    }
   ],
   "source": [
    "## Bi segs chroms w/z XL280 allele \n",
    "print len(np.concatenate(np.concatenate(segs_wz_bi))) - sum(np.concatenate(np.concatenate(segs_wz_bi))),'of',len(np.concatenate(np.concatenate(segs_wz_bi))) \n",
    "print 1 - sum(np.concatenate(np.concatenate(segs_wz_bi)))/float(len(np.concatenate(np.concatenate(segs_wz_bi))))"
   ]
  },
  {
   "cell_type": "code",
   "execution_count": 60,
   "metadata": {},
   "outputs": [
    {
     "name": "stdout",
     "output_type": "stream",
     "text": [
      "32 of 59\n",
      "0.542372881356\n"
     ]
    }
   ],
   "source": [
    "## Uni segs chroms w/z XL280 allele \n",
    "print len(np.concatenate(np.concatenate(segs_wz_un))) - sum(np.concatenate(np.concatenate(segs_wz_un))),'of',len(np.concatenate(np.concatenate(segs_wz_un))) \n",
    "print 1 - sum(np.concatenate(np.concatenate(segs_wz_un)))/float(len(np.concatenate(np.concatenate(segs_wz_un))))"
   ]
  },
  {
   "cell_type": "markdown",
   "metadata": {},
   "source": [
    "Multiple progeny are seen, across both cross types, with zero crossovers along a given chromosome (nonexchange chromosomes). Here 19 of the 39 (49%) segregants from the bisexual and 35 of the 55 (64%) segregants from the unisexual cross are seen having at least one nonexchange chromosome. There is little difference in the distributions of number of nonexchange chromosomes per segregants across the two cross types (ks-test, p-value > 0.05). For these progeny, the median number of nonexchange chromosomes per segregant, for both progeny from both unisexual and bisexual crosses, is one (the max is five). There seems to be a general trend for smaller chromosomes to appear more often in these segregants as having zero crossovers. Of the 59 nonexchange chromosomes in the 35 progeny from the unisexual crosses, 32 (%54) have the XL280 parental genotype. However, in the 37 nonexchange chromosomes among the 19 progeny from the bisexual crosses, 29 (%78) have the XL280 parental allele. Similar bias towards the XL280 allele was seen in allele frequencies across the bisexual progeny and in regions with distorted allele. Some of these haplotypes with distorted allele frequencies could be represented here."
   ]
  },
  {
   "cell_type": "markdown",
   "metadata": {},
   "source": [
    "# CO ANALYSIS"
   ]
  },
  {
   "cell_type": "markdown",
   "metadata": {},
   "source": [
    "## Seperate the progeny "
   ]
  },
  {
   "cell_type": "code",
   "execution_count": 61,
   "metadata": {},
   "outputs": [
    {
     "data": {
      "text/plain": [
       "94"
      ]
     },
     "execution_count": 61,
     "metadata": {},
     "output_type": "execute_result"
    }
   ],
   "source": [
    "len(segs)"
   ]
  },
  {
   "cell_type": "code",
   "execution_count": 62,
   "metadata": {
    "collapsed": true
   },
   "outputs": [],
   "source": [
    "un = [];bi = [];seg_out = []\n",
    "for seg in segs:\n",
    "    if seg not in segs_bi:\n",
    "        un.append(seg)\n",
    "    elif seg in segs_bi:\n",
    "        bi.append(seg)\n",
    "    else:\n",
    "        seg_out.append(seg)"
   ]
  },
  {
   "cell_type": "code",
   "execution_count": 63,
   "metadata": {},
   "outputs": [
    {
     "data": {
      "text/plain": [
       "39"
      ]
     },
     "execution_count": 63,
     "metadata": {},
     "output_type": "execute_result"
    }
   ],
   "source": [
    "len(bi)"
   ]
  },
  {
   "cell_type": "markdown",
   "metadata": {},
   "source": [
    "### Make dataframes for the progeny from the uni- & bi-sexual cross"
   ]
  },
  {
   "cell_type": "code",
   "execution_count": 64,
   "metadata": {
    "collapsed": true
   },
   "outputs": [],
   "source": [
    "CO_u = CO_df.T[un]\n",
    "CO_b = CO_df.T[bi]"
   ]
  },
  {
   "cell_type": "code",
   "execution_count": 65,
   "metadata": {},
   "outputs": [
    {
     "data": {
      "text/plain": [
       "(14, 55)"
      ]
     },
     "execution_count": 65,
     "metadata": {},
     "output_type": "execute_result"
    }
   ],
   "source": [
    "CO_u.shape"
   ]
  },
  {
   "cell_type": "code",
   "execution_count": 66,
   "metadata": {},
   "outputs": [
    {
     "data": {
      "text/plain": [
       "(14, 39)"
      ]
     },
     "execution_count": 66,
     "metadata": {},
     "output_type": "execute_result"
    }
   ],
   "source": [
    "CO_b.shape"
   ]
  },
  {
   "cell_type": "code",
   "execution_count": 67,
   "metadata": {
    "collapsed": true
   },
   "outputs": [],
   "source": [
    "CO_anova_df = pd.DataFrame(columns=['Chrom','Chrlen','Cross','N','Seg'],index=range(len(clens)*(len(CO_u.T)+len(CO_b.T))));\n",
    "CO_anova_df['Chrom'] = np.concatenate([[chrom for a in un + bi] for chrom in chrlist]);\n",
    "CO_anova_df['Seg'] = np.concatenate([CO_u.columns.tolist()+CO_b.columns.tolist() for chrom in chrlist]);\n",
    "CO_anova_df['N'] = np.concatenate([CO_u.T[chrom].tolist() + CO_b.T[chrom].tolist() for chrom in chrlist]);\n",
    "CO_anova_df['Cross'] = np.concatenate([[1 for s in CO_u.columns.tolist()] + [2 for s in CO_b.columns.tolist()] for chrom in chrlist])\n",
    "CO_anova_df['Chrlen'] = np.concatenate([[cl for i in CO_u.columns.tolist()+CO_b.columns.tolist()] for cl in clens]);"
   ]
  },
  {
   "cell_type": "markdown",
   "metadata": {},
   "source": [
    "## What is the dispersion (mean to variance ratio)?"
   ]
  },
  {
   "cell_type": "code",
   "execution_count": 68,
   "metadata": {},
   "outputs": [
    {
     "name": "stdout",
     "output_type": "stream",
     "text": [
      "1.39325842697\n",
      "1.11468163899\n",
      "1.0481557377\n",
      "1.26189591078\n",
      "1.54709042656\n",
      "1.08400923887\n",
      "1.40306763892\n",
      "1.33475021253\n",
      "1.41939586645\n",
      "1.24592656963\n",
      "1.41601178782\n",
      "1.44065529923\n",
      "1.52651515152\n",
      "1.5618645036\n"
     ]
    }
   ],
   "source": [
    "for chrom in chrlist:\n",
    "    temp = np.mean(CO_anova_df[\n",
    "        CO_anova_df.Chrom==chrom]['N'].values)/np.var(CO_anova_df[\n",
    "        CO_anova_df.Chrom==chrom]['N'].values,ddof=1)\n",
    "    print temp"
   ]
  },
  {
   "cell_type": "markdown",
   "metadata": {},
   "source": [
    "#### The values above suggest the data is under disperesed. "
   ]
  },
  {
   "cell_type": "markdown",
   "metadata": {},
   "source": [
    "## Distribution of crossover counts and test for normality"
   ]
  },
  {
   "cell_type": "code",
   "execution_count": 69,
   "metadata": {},
   "outputs": [
    {
     "name": "stdout",
     "output_type": "stream",
     "text": [
      "Chr01 NormaltestResult(statistic=1.113638799380622, pvalue=0.57302874387759783)\n",
      "Chr02 NormaltestResult(statistic=4.8342885082070177, pvalue=0.089175917939507257)\n",
      "Chr03 NormaltestResult(statistic=2.8956278184581339, pvalue=0.23508364094926196)\n",
      "Chr04 NormaltestResult(statistic=3.9001232176114988, pvalue=0.14226530652087938)\n",
      "Chr05 NormaltestResult(statistic=9.6354224571683638, pvalue=0.0080852713158797319)\n",
      "Chr06 NormaltestResult(statistic=6.0617588549904866, pvalue=0.048273166703455155)\n",
      "Chr07 NormaltestResult(statistic=4.0879542994500948, pvalue=0.12951259424358924)\n",
      "Chr08 NormaltestResult(statistic=2.5889146235066653, pvalue=0.2740465458234056)\n",
      "Chr09 NormaltestResult(statistic=1.0321317884651657, pvalue=0.59686406147923532)\n",
      "Chr10 NormaltestResult(statistic=9.3044178469014618, pvalue=0.0095405043938129007)\n",
      "Chr11 NormaltestResult(statistic=2.1551162210756454, pvalue=0.34042579367923409)\n",
      "Chr12 NormaltestResult(statistic=7.8582884659065382, pvalue=0.019660490155661684)\n",
      "Chr13 NormaltestResult(statistic=2.5615370784421221, pvalue=0.27782369997356476)\n",
      "Chr14 NormaltestResult(statistic=1.333698024981945, pvalue=0.51332350809984995)\n"
     ]
    }
   ],
   "source": [
    "for chrom in chrlist:\n",
    "    print chrom,ss.normaltest(CO_anova_df[CO_anova_df.Chrom == chrom]['N'].values)"
   ]
  },
  {
   "cell_type": "code",
   "execution_count": 70,
   "metadata": {
    "collapsed": true
   },
   "outputs": [],
   "source": [
    "mannxchrom = [ss.mannwhitneyu(CO_u.T[chrom].values,CO_b.T[chrom].values) for chrom in chrlist]"
   ]
  },
  {
   "cell_type": "code",
   "execution_count": 71,
   "metadata": {
    "collapsed": true
   },
   "outputs": [],
   "source": [
    "from statsmodels.sandbox.stats.multicomp import multipletests as mltptest"
   ]
  },
  {
   "cell_type": "code",
   "execution_count": 72,
   "metadata": {
    "collapsed": true
   },
   "outputs": [],
   "source": [
    "mann_fdr_step_down_res = mltptest([mannxchrom[i][1] for i in range(14)],method='hs',alpha=0.05)"
   ]
  },
  {
   "cell_type": "code",
   "execution_count": 73,
   "metadata": {},
   "outputs": [
    {
     "data": {
      "text/plain": [
       "['Chr01', 'Chr02', 'Chr03', 'Chr04', 'Chr05', 'Chr08', 'Chr09']"
      ]
     },
     "execution_count": 73,
     "metadata": {},
     "output_type": "execute_result"
    }
   ],
   "source": [
    "[chrom for i, chrom in enumerate(chrlist) if mann_fdr_step_down_res[0][i] == True]"
   ]
  },
  {
   "cell_type": "code",
   "execution_count": 74,
   "metadata": {},
   "outputs": [
    {
     "data": {
      "text/plain": [
       "0.041809148110919736"
      ]
     },
     "execution_count": 74,
     "metadata": {},
     "output_type": "execute_result"
    }
   ],
   "source": [
    "max(mann_fdr_step_down_res[1][mann_fdr_step_down_res[0]])"
   ]
  },
  {
   "cell_type": "markdown",
   "metadata": {},
   "source": [
    "## View Dataframes"
   ]
  },
  {
   "cell_type": "markdown",
   "metadata": {},
   "source": [
    "#### The segregants from the unisexual cross"
   ]
  },
  {
   "cell_type": "markdown",
   "metadata": {},
   "source": [
    "# ANOVA"
   ]
  },
  {
   "cell_type": "markdown",
   "metadata": {},
   "source": [
    "## Make dataframe for use in anova\n",
    "### Concatinate all information"
   ]
  },
  {
   "cell_type": "code",
   "execution_count": 5,
   "metadata": {},
   "outputs": [],
   "source": [
    "myfilename = '../FILES/Crypto-GTC-co-anova-df'+endfile"
   ]
  },
  {
   "cell_type": "code",
   "execution_count": 6,
   "metadata": {},
   "outputs": [
    {
     "data": {
      "text/plain": [
       "'../FILES/Crypto-GTC-co-anova-df-min-haplotype-k6000.csv'"
      ]
     },
     "execution_count": 6,
     "metadata": {},
     "output_type": "execute_result"
    }
   ],
   "source": [
    "myfilename"
   ]
  },
  {
   "cell_type": "code",
   "execution_count": 77,
   "metadata": {
    "collapsed": true
   },
   "outputs": [],
   "source": [
    "CO_anova_df.to_csv(myfilename,index=False)"
   ]
  },
  {
   "cell_type": "code",
   "execution_count": 7,
   "metadata": {
    "collapsed": true
   },
   "outputs": [],
   "source": [
    "CO_anova_df = pd.read_csv(myfilename)"
   ]
  },
  {
   "cell_type": "markdown",
   "metadata": {},
   "source": [
    "## PATCH Feb 13th \n",
    "#### This patch corrects for miss counts along chrom 7 due to NAT and URA5 markers"
   ]
  },
  {
   "cell_type": "code",
   "execution_count": 10,
   "metadata": {},
   "outputs": [
    {
     "data": {
      "text/plain": [
       "['SS-B600', 'SS-B591', 'SS-B589']"
      ]
     },
     "execution_count": 10,
     "metadata": {},
     "output_type": "execute_result"
    }
   ],
   "source": [
    "chrom_7_nocorrect = ['SS-B' + str(a) for a in [600,591,589]]\n",
    "chrom_7_nocorrect"
   ]
  },
  {
   "cell_type": "code",
   "execution_count": 8,
   "metadata": {},
   "outputs": [
    {
     "data": {
      "text/html": [
       "<div>\n",
       "<style>\n",
       "    .dataframe thead tr:only-child th {\n",
       "        text-align: right;\n",
       "    }\n",
       "\n",
       "    .dataframe thead th {\n",
       "        text-align: left;\n",
       "    }\n",
       "\n",
       "    .dataframe tbody tr th {\n",
       "        vertical-align: top;\n",
       "    }\n",
       "</style>\n",
       "<table border=\"1\" class=\"dataframe\">\n",
       "  <thead>\n",
       "    <tr style=\"text-align: right;\">\n",
       "      <th></th>\n",
       "      <th>Chrom</th>\n",
       "      <th>Chrlen</th>\n",
       "      <th>Cross</th>\n",
       "      <th>N</th>\n",
       "      <th>Seg</th>\n",
       "    </tr>\n",
       "  </thead>\n",
       "  <tbody>\n",
       "    <tr>\n",
       "      <th>0</th>\n",
       "      <td>Chr01</td>\n",
       "      <td>2300525</td>\n",
       "      <td>1</td>\n",
       "      <td>1.0</td>\n",
       "      <td>SS-B307</td>\n",
       "    </tr>\n",
       "    <tr>\n",
       "      <th>1</th>\n",
       "      <td>Chr01</td>\n",
       "      <td>2300525</td>\n",
       "      <td>1</td>\n",
       "      <td>2.0</td>\n",
       "      <td>SS-B308</td>\n",
       "    </tr>\n",
       "    <tr>\n",
       "      <th>2</th>\n",
       "      <td>Chr01</td>\n",
       "      <td>2300525</td>\n",
       "      <td>1</td>\n",
       "      <td>1.0</td>\n",
       "      <td>SS-B310</td>\n",
       "    </tr>\n",
       "    <tr>\n",
       "      <th>3</th>\n",
       "      <td>Chr01</td>\n",
       "      <td>2300525</td>\n",
       "      <td>1</td>\n",
       "      <td>3.0</td>\n",
       "      <td>SS-B311</td>\n",
       "    </tr>\n",
       "    <tr>\n",
       "      <th>4</th>\n",
       "      <td>Chr01</td>\n",
       "      <td>2300525</td>\n",
       "      <td>1</td>\n",
       "      <td>4.0</td>\n",
       "      <td>SS-B312</td>\n",
       "    </tr>\n",
       "    <tr>\n",
       "      <th>5</th>\n",
       "      <td>Chr01</td>\n",
       "      <td>2300525</td>\n",
       "      <td>1</td>\n",
       "      <td>3.0</td>\n",
       "      <td>SS-B313</td>\n",
       "    </tr>\n",
       "    <tr>\n",
       "      <th>6</th>\n",
       "      <td>Chr01</td>\n",
       "      <td>2300525</td>\n",
       "      <td>1</td>\n",
       "      <td>4.0</td>\n",
       "      <td>SS-B314</td>\n",
       "    </tr>\n",
       "    <tr>\n",
       "      <th>7</th>\n",
       "      <td>Chr01</td>\n",
       "      <td>2300525</td>\n",
       "      <td>1</td>\n",
       "      <td>5.0</td>\n",
       "      <td>SS-B315</td>\n",
       "    </tr>\n",
       "    <tr>\n",
       "      <th>8</th>\n",
       "      <td>Chr01</td>\n",
       "      <td>2300525</td>\n",
       "      <td>1</td>\n",
       "      <td>3.0</td>\n",
       "      <td>SS-B316</td>\n",
       "    </tr>\n",
       "    <tr>\n",
       "      <th>9</th>\n",
       "      <td>Chr01</td>\n",
       "      <td>2300525</td>\n",
       "      <td>1</td>\n",
       "      <td>3.0</td>\n",
       "      <td>SS-B317</td>\n",
       "    </tr>\n",
       "    <tr>\n",
       "      <th>10</th>\n",
       "      <td>Chr01</td>\n",
       "      <td>2300525</td>\n",
       "      <td>1</td>\n",
       "      <td>4.0</td>\n",
       "      <td>SS-B350</td>\n",
       "    </tr>\n",
       "    <tr>\n",
       "      <th>11</th>\n",
       "      <td>Chr01</td>\n",
       "      <td>2300525</td>\n",
       "      <td>1</td>\n",
       "      <td>5.0</td>\n",
       "      <td>SS-B354</td>\n",
       "    </tr>\n",
       "    <tr>\n",
       "      <th>12</th>\n",
       "      <td>Chr01</td>\n",
       "      <td>2300525</td>\n",
       "      <td>1</td>\n",
       "      <td>5.0</td>\n",
       "      <td>SS-B356</td>\n",
       "    </tr>\n",
       "    <tr>\n",
       "      <th>13</th>\n",
       "      <td>Chr01</td>\n",
       "      <td>2300525</td>\n",
       "      <td>1</td>\n",
       "      <td>3.0</td>\n",
       "      <td>SS-B357</td>\n",
       "    </tr>\n",
       "    <tr>\n",
       "      <th>14</th>\n",
       "      <td>Chr01</td>\n",
       "      <td>2300525</td>\n",
       "      <td>1</td>\n",
       "      <td>1.0</td>\n",
       "      <td>SS-B358</td>\n",
       "    </tr>\n",
       "    <tr>\n",
       "      <th>15</th>\n",
       "      <td>Chr01</td>\n",
       "      <td>2300525</td>\n",
       "      <td>1</td>\n",
       "      <td>5.0</td>\n",
       "      <td>SS-B360</td>\n",
       "    </tr>\n",
       "    <tr>\n",
       "      <th>16</th>\n",
       "      <td>Chr01</td>\n",
       "      <td>2300525</td>\n",
       "      <td>1</td>\n",
       "      <td>2.0</td>\n",
       "      <td>SS-B364</td>\n",
       "    </tr>\n",
       "    <tr>\n",
       "      <th>17</th>\n",
       "      <td>Chr01</td>\n",
       "      <td>2300525</td>\n",
       "      <td>1</td>\n",
       "      <td>3.0</td>\n",
       "      <td>SS-B366</td>\n",
       "    </tr>\n",
       "    <tr>\n",
       "      <th>18</th>\n",
       "      <td>Chr01</td>\n",
       "      <td>2300525</td>\n",
       "      <td>1</td>\n",
       "      <td>4.0</td>\n",
       "      <td>SS-B368</td>\n",
       "    </tr>\n",
       "    <tr>\n",
       "      <th>19</th>\n",
       "      <td>Chr01</td>\n",
       "      <td>2300525</td>\n",
       "      <td>1</td>\n",
       "      <td>5.0</td>\n",
       "      <td>SS-B369</td>\n",
       "    </tr>\n",
       "    <tr>\n",
       "      <th>20</th>\n",
       "      <td>Chr01</td>\n",
       "      <td>2300525</td>\n",
       "      <td>1</td>\n",
       "      <td>4.0</td>\n",
       "      <td>SS-B373</td>\n",
       "    </tr>\n",
       "    <tr>\n",
       "      <th>21</th>\n",
       "      <td>Chr01</td>\n",
       "      <td>2300525</td>\n",
       "      <td>1</td>\n",
       "      <td>2.0</td>\n",
       "      <td>SS-B374</td>\n",
       "    </tr>\n",
       "    <tr>\n",
       "      <th>22</th>\n",
       "      <td>Chr01</td>\n",
       "      <td>2300525</td>\n",
       "      <td>1</td>\n",
       "      <td>0.0</td>\n",
       "      <td>SS-B378</td>\n",
       "    </tr>\n",
       "    <tr>\n",
       "      <th>23</th>\n",
       "      <td>Chr01</td>\n",
       "      <td>2300525</td>\n",
       "      <td>1</td>\n",
       "      <td>3.0</td>\n",
       "      <td>SS-B379</td>\n",
       "    </tr>\n",
       "    <tr>\n",
       "      <th>24</th>\n",
       "      <td>Chr01</td>\n",
       "      <td>2300525</td>\n",
       "      <td>1</td>\n",
       "      <td>4.0</td>\n",
       "      <td>SS-B382</td>\n",
       "    </tr>\n",
       "    <tr>\n",
       "      <th>25</th>\n",
       "      <td>Chr01</td>\n",
       "      <td>2300525</td>\n",
       "      <td>1</td>\n",
       "      <td>3.0</td>\n",
       "      <td>SS-B383</td>\n",
       "    </tr>\n",
       "    <tr>\n",
       "      <th>26</th>\n",
       "      <td>Chr01</td>\n",
       "      <td>2300525</td>\n",
       "      <td>1</td>\n",
       "      <td>4.0</td>\n",
       "      <td>SS-B387</td>\n",
       "    </tr>\n",
       "    <tr>\n",
       "      <th>27</th>\n",
       "      <td>Chr01</td>\n",
       "      <td>2300525</td>\n",
       "      <td>1</td>\n",
       "      <td>5.0</td>\n",
       "      <td>SS-B396</td>\n",
       "    </tr>\n",
       "    <tr>\n",
       "      <th>28</th>\n",
       "      <td>Chr01</td>\n",
       "      <td>2300525</td>\n",
       "      <td>1</td>\n",
       "      <td>3.0</td>\n",
       "      <td>SS-B397</td>\n",
       "    </tr>\n",
       "    <tr>\n",
       "      <th>29</th>\n",
       "      <td>Chr01</td>\n",
       "      <td>2300525</td>\n",
       "      <td>1</td>\n",
       "      <td>3.0</td>\n",
       "      <td>SS-B399</td>\n",
       "    </tr>\n",
       "    <tr>\n",
       "      <th>...</th>\n",
       "      <td>...</td>\n",
       "      <td>...</td>\n",
       "      <td>...</td>\n",
       "      <td>...</td>\n",
       "      <td>...</td>\n",
       "    </tr>\n",
       "    <tr>\n",
       "      <th>1286</th>\n",
       "      <td>Chr14</td>\n",
       "      <td>762695</td>\n",
       "      <td>2</td>\n",
       "      <td>0.0</td>\n",
       "      <td>SS-B892_cor</td>\n",
       "    </tr>\n",
       "    <tr>\n",
       "      <th>1287</th>\n",
       "      <td>Chr14</td>\n",
       "      <td>762695</td>\n",
       "      <td>2</td>\n",
       "      <td>3.0</td>\n",
       "      <td>SS-B896_cor</td>\n",
       "    </tr>\n",
       "    <tr>\n",
       "      <th>1288</th>\n",
       "      <td>Chr14</td>\n",
       "      <td>762695</td>\n",
       "      <td>2</td>\n",
       "      <td>0.0</td>\n",
       "      <td>SS-B898_cor</td>\n",
       "    </tr>\n",
       "    <tr>\n",
       "      <th>1289</th>\n",
       "      <td>Chr14</td>\n",
       "      <td>762695</td>\n",
       "      <td>2</td>\n",
       "      <td>1.0</td>\n",
       "      <td>SS-B901_cor</td>\n",
       "    </tr>\n",
       "    <tr>\n",
       "      <th>1290</th>\n",
       "      <td>Chr14</td>\n",
       "      <td>762695</td>\n",
       "      <td>2</td>\n",
       "      <td>1.0</td>\n",
       "      <td>SS-B905</td>\n",
       "    </tr>\n",
       "    <tr>\n",
       "      <th>1291</th>\n",
       "      <td>Chr14</td>\n",
       "      <td>762695</td>\n",
       "      <td>2</td>\n",
       "      <td>2.0</td>\n",
       "      <td>SS-B906_cor</td>\n",
       "    </tr>\n",
       "    <tr>\n",
       "      <th>1292</th>\n",
       "      <td>Chr14</td>\n",
       "      <td>762695</td>\n",
       "      <td>2</td>\n",
       "      <td>3.0</td>\n",
       "      <td>SS-B908_cor</td>\n",
       "    </tr>\n",
       "    <tr>\n",
       "      <th>1293</th>\n",
       "      <td>Chr14</td>\n",
       "      <td>762695</td>\n",
       "      <td>2</td>\n",
       "      <td>1.0</td>\n",
       "      <td>SS-B926</td>\n",
       "    </tr>\n",
       "    <tr>\n",
       "      <th>1294</th>\n",
       "      <td>Chr14</td>\n",
       "      <td>762695</td>\n",
       "      <td>2</td>\n",
       "      <td>2.0</td>\n",
       "      <td>SS-B927</td>\n",
       "    </tr>\n",
       "    <tr>\n",
       "      <th>1295</th>\n",
       "      <td>Chr14</td>\n",
       "      <td>762695</td>\n",
       "      <td>2</td>\n",
       "      <td>2.0</td>\n",
       "      <td>SS-B929</td>\n",
       "    </tr>\n",
       "    <tr>\n",
       "      <th>1296</th>\n",
       "      <td>Chr14</td>\n",
       "      <td>762695</td>\n",
       "      <td>2</td>\n",
       "      <td>3.0</td>\n",
       "      <td>SS-B930</td>\n",
       "    </tr>\n",
       "    <tr>\n",
       "      <th>1297</th>\n",
       "      <td>Chr14</td>\n",
       "      <td>762695</td>\n",
       "      <td>2</td>\n",
       "      <td>3.0</td>\n",
       "      <td>SS-B952</td>\n",
       "    </tr>\n",
       "    <tr>\n",
       "      <th>1298</th>\n",
       "      <td>Chr14</td>\n",
       "      <td>762695</td>\n",
       "      <td>2</td>\n",
       "      <td>3.0</td>\n",
       "      <td>SS-B956</td>\n",
       "    </tr>\n",
       "    <tr>\n",
       "      <th>1299</th>\n",
       "      <td>Chr14</td>\n",
       "      <td>762695</td>\n",
       "      <td>2</td>\n",
       "      <td>2.0</td>\n",
       "      <td>SS-B960_cor</td>\n",
       "    </tr>\n",
       "    <tr>\n",
       "      <th>1300</th>\n",
       "      <td>Chr14</td>\n",
       "      <td>762695</td>\n",
       "      <td>2</td>\n",
       "      <td>0.0</td>\n",
       "      <td>SS-B961_cor</td>\n",
       "    </tr>\n",
       "    <tr>\n",
       "      <th>1301</th>\n",
       "      <td>Chr14</td>\n",
       "      <td>762695</td>\n",
       "      <td>2</td>\n",
       "      <td>1.0</td>\n",
       "      <td>SS-B996</td>\n",
       "    </tr>\n",
       "    <tr>\n",
       "      <th>1302</th>\n",
       "      <td>Chr14</td>\n",
       "      <td>762695</td>\n",
       "      <td>2</td>\n",
       "      <td>0.0</td>\n",
       "      <td>SS-B997</td>\n",
       "    </tr>\n",
       "    <tr>\n",
       "      <th>1303</th>\n",
       "      <td>Chr14</td>\n",
       "      <td>762695</td>\n",
       "      <td>2</td>\n",
       "      <td>2.0</td>\n",
       "      <td>SS-B998</td>\n",
       "    </tr>\n",
       "    <tr>\n",
       "      <th>1304</th>\n",
       "      <td>Chr14</td>\n",
       "      <td>762695</td>\n",
       "      <td>2</td>\n",
       "      <td>1.0</td>\n",
       "      <td>SS-C001</td>\n",
       "    </tr>\n",
       "    <tr>\n",
       "      <th>1305</th>\n",
       "      <td>Chr14</td>\n",
       "      <td>762695</td>\n",
       "      <td>2</td>\n",
       "      <td>1.0</td>\n",
       "      <td>SS-C026_cor</td>\n",
       "    </tr>\n",
       "    <tr>\n",
       "      <th>1306</th>\n",
       "      <td>Chr14</td>\n",
       "      <td>762695</td>\n",
       "      <td>2</td>\n",
       "      <td>2.0</td>\n",
       "      <td>SS-C029_cor</td>\n",
       "    </tr>\n",
       "    <tr>\n",
       "      <th>1307</th>\n",
       "      <td>Chr14</td>\n",
       "      <td>762695</td>\n",
       "      <td>2</td>\n",
       "      <td>1.0</td>\n",
       "      <td>SS-C031_cor</td>\n",
       "    </tr>\n",
       "    <tr>\n",
       "      <th>1308</th>\n",
       "      <td>Chr14</td>\n",
       "      <td>762695</td>\n",
       "      <td>2</td>\n",
       "      <td>2.0</td>\n",
       "      <td>SS-C033</td>\n",
       "    </tr>\n",
       "    <tr>\n",
       "      <th>1309</th>\n",
       "      <td>Chr14</td>\n",
       "      <td>762695</td>\n",
       "      <td>2</td>\n",
       "      <td>3.0</td>\n",
       "      <td>SS-C036</td>\n",
       "    </tr>\n",
       "    <tr>\n",
       "      <th>1310</th>\n",
       "      <td>Chr14</td>\n",
       "      <td>762695</td>\n",
       "      <td>2</td>\n",
       "      <td>2.0</td>\n",
       "      <td>SS-C039</td>\n",
       "    </tr>\n",
       "    <tr>\n",
       "      <th>1311</th>\n",
       "      <td>Chr14</td>\n",
       "      <td>762695</td>\n",
       "      <td>2</td>\n",
       "      <td>3.0</td>\n",
       "      <td>SS-C242</td>\n",
       "    </tr>\n",
       "    <tr>\n",
       "      <th>1312</th>\n",
       "      <td>Chr14</td>\n",
       "      <td>762695</td>\n",
       "      <td>2</td>\n",
       "      <td>4.0</td>\n",
       "      <td>SS-C271</td>\n",
       "    </tr>\n",
       "    <tr>\n",
       "      <th>1313</th>\n",
       "      <td>Chr14</td>\n",
       "      <td>762695</td>\n",
       "      <td>2</td>\n",
       "      <td>1.0</td>\n",
       "      <td>SS-C272</td>\n",
       "    </tr>\n",
       "    <tr>\n",
       "      <th>1314</th>\n",
       "      <td>Chr14</td>\n",
       "      <td>762695</td>\n",
       "      <td>2</td>\n",
       "      <td>4.0</td>\n",
       "      <td>SS-C290</td>\n",
       "    </tr>\n",
       "    <tr>\n",
       "      <th>1315</th>\n",
       "      <td>Chr14</td>\n",
       "      <td>762695</td>\n",
       "      <td>2</td>\n",
       "      <td>2.0</td>\n",
       "      <td>SS-C291</td>\n",
       "    </tr>\n",
       "  </tbody>\n",
       "</table>\n",
       "<p>1316 rows × 5 columns</p>\n",
       "</div>"
      ],
      "text/plain": [
       "      Chrom   Chrlen  Cross    N          Seg\n",
       "0     Chr01  2300525      1  1.0      SS-B307\n",
       "1     Chr01  2300525      1  2.0      SS-B308\n",
       "2     Chr01  2300525      1  1.0      SS-B310\n",
       "3     Chr01  2300525      1  3.0      SS-B311\n",
       "4     Chr01  2300525      1  4.0      SS-B312\n",
       "5     Chr01  2300525      1  3.0      SS-B313\n",
       "6     Chr01  2300525      1  4.0      SS-B314\n",
       "7     Chr01  2300525      1  5.0      SS-B315\n",
       "8     Chr01  2300525      1  3.0      SS-B316\n",
       "9     Chr01  2300525      1  3.0      SS-B317\n",
       "10    Chr01  2300525      1  4.0      SS-B350\n",
       "11    Chr01  2300525      1  5.0      SS-B354\n",
       "12    Chr01  2300525      1  5.0      SS-B356\n",
       "13    Chr01  2300525      1  3.0      SS-B357\n",
       "14    Chr01  2300525      1  1.0      SS-B358\n",
       "15    Chr01  2300525      1  5.0      SS-B360\n",
       "16    Chr01  2300525      1  2.0      SS-B364\n",
       "17    Chr01  2300525      1  3.0      SS-B366\n",
       "18    Chr01  2300525      1  4.0      SS-B368\n",
       "19    Chr01  2300525      1  5.0      SS-B369\n",
       "20    Chr01  2300525      1  4.0      SS-B373\n",
       "21    Chr01  2300525      1  2.0      SS-B374\n",
       "22    Chr01  2300525      1  0.0      SS-B378\n",
       "23    Chr01  2300525      1  3.0      SS-B379\n",
       "24    Chr01  2300525      1  4.0      SS-B382\n",
       "25    Chr01  2300525      1  3.0      SS-B383\n",
       "26    Chr01  2300525      1  4.0      SS-B387\n",
       "27    Chr01  2300525      1  5.0      SS-B396\n",
       "28    Chr01  2300525      1  3.0      SS-B397\n",
       "29    Chr01  2300525      1  3.0      SS-B399\n",
       "...     ...      ...    ...  ...          ...\n",
       "1286  Chr14   762695      2  0.0  SS-B892_cor\n",
       "1287  Chr14   762695      2  3.0  SS-B896_cor\n",
       "1288  Chr14   762695      2  0.0  SS-B898_cor\n",
       "1289  Chr14   762695      2  1.0  SS-B901_cor\n",
       "1290  Chr14   762695      2  1.0      SS-B905\n",
       "1291  Chr14   762695      2  2.0  SS-B906_cor\n",
       "1292  Chr14   762695      2  3.0  SS-B908_cor\n",
       "1293  Chr14   762695      2  1.0      SS-B926\n",
       "1294  Chr14   762695      2  2.0      SS-B927\n",
       "1295  Chr14   762695      2  2.0      SS-B929\n",
       "1296  Chr14   762695      2  3.0      SS-B930\n",
       "1297  Chr14   762695      2  3.0      SS-B952\n",
       "1298  Chr14   762695      2  3.0      SS-B956\n",
       "1299  Chr14   762695      2  2.0  SS-B960_cor\n",
       "1300  Chr14   762695      2  0.0  SS-B961_cor\n",
       "1301  Chr14   762695      2  1.0      SS-B996\n",
       "1302  Chr14   762695      2  0.0      SS-B997\n",
       "1303  Chr14   762695      2  2.0      SS-B998\n",
       "1304  Chr14   762695      2  1.0      SS-C001\n",
       "1305  Chr14   762695      2  1.0  SS-C026_cor\n",
       "1306  Chr14   762695      2  2.0  SS-C029_cor\n",
       "1307  Chr14   762695      2  1.0  SS-C031_cor\n",
       "1308  Chr14   762695      2  2.0      SS-C033\n",
       "1309  Chr14   762695      2  3.0      SS-C036\n",
       "1310  Chr14   762695      2  2.0      SS-C039\n",
       "1311  Chr14   762695      2  3.0      SS-C242\n",
       "1312  Chr14   762695      2  4.0      SS-C271\n",
       "1313  Chr14   762695      2  1.0      SS-C272\n",
       "1314  Chr14   762695      2  4.0      SS-C290\n",
       "1315  Chr14   762695      2  2.0      SS-C291\n",
       "\n",
       "[1316 rows x 5 columns]"
      ]
     },
     "execution_count": 8,
     "metadata": {},
     "output_type": "execute_result"
    }
   ],
   "source": [
    "CO_anova_df"
   ]
  },
  {
   "cell_type": "code",
   "execution_count": 80,
   "metadata": {
    "collapsed": true
   },
   "outputs": [],
   "source": [
    "CO_anova_df['LogT'] = np.log(CO_anova_df.N.values+1)"
   ]
  },
  {
   "cell_type": "code",
   "execution_count": 81,
   "metadata": {
    "collapsed": true
   },
   "outputs": [],
   "source": [
    "CO_anova_df['TChrlen'] = np.log10(CO_anova_df.Chrlen.values)"
   ]
  },
  {
   "cell_type": "markdown",
   "metadata": {},
   "source": [
    "## Fit a linear model "
   ]
  },
  {
   "cell_type": "markdown",
   "metadata": {},
   "source": [
    "#### This is the full model"
   ]
  },
  {
   "cell_type": "code",
   "execution_count": 82,
   "metadata": {},
   "outputs": [
    {
     "data": {
      "text/plain": [
       "3297.0"
      ]
     },
     "execution_count": 82,
     "metadata": {},
     "output_type": "execute_result"
    }
   ],
   "source": [
    "CO_anova_df.N.sum()"
   ]
  },
  {
   "cell_type": "code",
   "execution_count": 83,
   "metadata": {
    "collapsed": true
   },
   "outputs": [],
   "source": [
    "anova_fit = smf.ols(formula='N ~ Chrlen + C(Cross) + Chrlen*C(Cross)',data=CO_anova_df).fit()\n",
    "#anova_fit2 = smf.ols(formula='LogT ~ Chrlen + C(Cross) + Chrlen*C(Cross)',data=CO_anova_df).fit()\n",
    "#anova_fit3 = smf.ols(formula='N ~ TChrlen + C(Cross) + Chrlen*C(Cross)',data=CO_anova_df).fit()"
   ]
  },
  {
   "cell_type": "markdown",
   "metadata": {},
   "source": [
    "#### Fit a model with no interaction (for the species rate)."
   ]
  },
  {
   "cell_type": "markdown",
   "metadata": {},
   "source": [
    "### View the results of the ANOVA"
   ]
  },
  {
   "cell_type": "code",
   "execution_count": 84,
   "metadata": {},
   "outputs": [
    {
     "name": "stdout",
     "output_type": "stream",
     "text": [
      "                            OLS Regression Results                            \n",
      "==============================================================================\n",
      "Dep. Variable:                      N   R-squared:                       0.252\n",
      "Model:                            OLS   Adj. R-squared:                  0.250\n",
      "Method:                 Least Squares   F-statistic:                     147.1\n",
      "Date:                Thu, 01 Feb 2018   Prob (F-statistic):           3.69e-82\n",
      "Time:                        11:01:10   Log-Likelihood:                -2268.4\n",
      "No. Observations:                1316   AIC:                             4545.\n",
      "Df Residuals:                    1312   BIC:                             4565.\n",
      "Df Model:                           3                                         \n",
      "Covariance Type:            nonrobust                                         \n",
      "========================================================================================\n",
      "                           coef    std err          t      P>|t|      [0.025      0.975]\n",
      "----------------------------------------------------------------------------------------\n",
      "Intercept                0.5330      0.155      3.434      0.001       0.229       0.838\n",
      "C(Cross)[T.2]           -0.2512      0.241     -1.042      0.297      -0.724       0.222\n",
      "Chrlen                1.236e-06   1.08e-07     11.421      0.000    1.02e-06    1.45e-06\n",
      "Chrlen:C(Cross)[T.2]  6.978e-07   1.68e-07      4.152      0.000    3.68e-07    1.03e-06\n",
      "==============================================================================\n",
      "Omnibus:                       14.776   Durbin-Watson:                   1.723\n",
      "Prob(Omnibus):                  0.001   Jarque-Bera (JB):               15.647\n",
      "Skew:                           0.219   Prob(JB):                     0.000400\n",
      "Kurtosis:                       3.304   Cond. No.                     1.12e+07\n",
      "==============================================================================\n",
      "\n",
      "Warnings:\n",
      "[1] Standard Errors assume that the covariance matrix of the errors is correctly specified.\n",
      "[2] The condition number is large, 1.12e+07. This might indicate that there are\n",
      "strong multicollinearity or other numerical problems.\n"
     ]
    }
   ],
   "source": [
    "print anova_fit.summary()"
   ]
  },
  {
   "cell_type": "markdown",
   "metadata": {},
   "source": [
    "#### The intercepts are significantly above zero but not different from eachother ( No difference between cross type ). Chromosome length is significant contributor to the amount of recombination, as expected. There is also significant interactions between cross type and chromosome length. This implies difference in the expected recombination rate between the two set of progeny."
   ]
  },
  {
   "cell_type": "code",
   "execution_count": 85,
   "metadata": {},
   "outputs": [
    {
     "data": {
      "text/plain": [
       "Intercept               6.138127e-04\n",
       "C(Cross)[T.2]           2.974106e-01\n",
       "Chrlen                  7.193944e-29\n",
       "Chrlen:C(Cross)[T.2]    3.510936e-05\n",
       "dtype: float64"
      ]
     },
     "execution_count": 85,
     "metadata": {},
     "output_type": "execute_result"
    }
   ],
   "source": [
    "anova_fit.pvalues"
   ]
  },
  {
   "cell_type": "markdown",
   "metadata": {},
   "source": [
    "## Make dataframe with basic stats on recombination information"
   ]
  },
  {
   "cell_type": "code",
   "execution_count": 86,
   "metadata": {
    "collapsed": true
   },
   "outputs": [],
   "source": [
    "crosses = ('Alpha x Alpha','A x Alpha');\n",
    "colors = ('red','black');\n",
    "N_totals = [len(CO_u.columns.tolist()) for c in range(len(clens))] + [ len(CO_b.columns.tolist()) for c in range(len(clens))]\n",
    "statsdf = pd.DataFrame(columns=['Chrom','ChrLen','Cross','Total','N','Mean','Median','Max','Min','Std','Sem','Colors']);\n",
    "statsdf.Chrom = [chrom for cross in crosses for chrom in chrlist ];\n",
    "statsdf.ChrLen = [clens[c] for cross in crosses for c,chrom in enumerate(chrlist) ];\n",
    "statsdf.Cross = [cross for cross in crosses for chrom in chrlist];\n",
    "statsdf.Total = [CO_u.sum(axis=1)[chrom] for chrom in chrlist] + [CO_b.sum(axis=1)[chrom] for chrom in chrlist];\n",
    "statsdf.N = N_totals#[len(CO_u.T) for chrom in chrlist] + [len(CO_b.T) for chrom in chrlist];assert statsdf.N[0] == len(uni)\n",
    "statsdf.Mean = [statsdf.Total.T[i]/float(statsdf.N[i]) for i in statsdf.index.tolist()];\n",
    "statsdf.Median = [np.median(CO_u.T[chrom].tolist()) for chrom in chrlist] + [np.median(CO_b.T[chrom].tolist()) for chrom in chrlist] \n",
    "statsdf.Max = [max(CO_u.T[chrom].tolist()) for chrom in chrlist] + [max(CO_b.T[chrom].tolist()) for chrom in chrlist] \n",
    "statsdf.Min = [min(CO_u.T[chrom].tolist()) for chrom in chrlist] + [min(CO_b.T[chrom].tolist()) for chrom in chrlist] \n",
    "statsdf.Std = [CO_u.T.std()[chrom] for chrom in chrlist] + [CO_b.T.std()[chrom] for chrom in chrlist];\n",
    "statsdf.Sem = [CO_u.T.sem()[chrom] for chrom in chrlist] + [CO_b.T.sem()[chrom] for chrom in chrlist];\n",
    "statsdf.Colors = [ colors[0] for chrom in chrlist] + [ colors[1] for chrom in chrlist];\n",
    "statsdf.to_csv('../FILES/Crypto-GTC-STATS-May2017%s.csv'%endfile);"
   ]
  },
  {
   "cell_type": "markdown",
   "metadata": {},
   "source": [
    "### View statistics"
   ]
  },
  {
   "cell_type": "code",
   "execution_count": 87,
   "metadata": {},
   "outputs": [
    {
     "data": {
      "text/html": [
       "<div>\n",
       "<style>\n",
       "    .dataframe thead tr:only-child th {\n",
       "        text-align: right;\n",
       "    }\n",
       "\n",
       "    .dataframe thead th {\n",
       "        text-align: left;\n",
       "    }\n",
       "\n",
       "    .dataframe tbody tr th {\n",
       "        vertical-align: top;\n",
       "    }\n",
       "</style>\n",
       "<table border=\"1\" class=\"dataframe\">\n",
       "  <thead>\n",
       "    <tr style=\"text-align: right;\">\n",
       "      <th></th>\n",
       "      <th>Chrom</th>\n",
       "      <th>ChrLen</th>\n",
       "      <th>Cross</th>\n",
       "      <th>Total</th>\n",
       "      <th>N</th>\n",
       "      <th>Mean</th>\n",
       "      <th>Median</th>\n",
       "      <th>Max</th>\n",
       "      <th>Min</th>\n",
       "      <th>Std</th>\n",
       "      <th>Sem</th>\n",
       "      <th>Colors</th>\n",
       "    </tr>\n",
       "  </thead>\n",
       "  <tbody>\n",
       "    <tr>\n",
       "      <th>0</th>\n",
       "      <td>Chr01</td>\n",
       "      <td>2300525</td>\n",
       "      <td>Alpha x Alpha</td>\n",
       "      <td>191.0</td>\n",
       "      <td>55</td>\n",
       "      <td>3.472727</td>\n",
       "      <td>3.0</td>\n",
       "      <td>8.0</td>\n",
       "      <td>0.0</td>\n",
       "      <td>1.425360</td>\n",
       "      <td>0.192195</td>\n",
       "      <td>red</td>\n",
       "    </tr>\n",
       "    <tr>\n",
       "      <th>1</th>\n",
       "      <td>Chr02</td>\n",
       "      <td>1632286</td>\n",
       "      <td>Alpha x Alpha</td>\n",
       "      <td>149.0</td>\n",
       "      <td>55</td>\n",
       "      <td>2.709091</td>\n",
       "      <td>3.0</td>\n",
       "      <td>6.0</td>\n",
       "      <td>0.0</td>\n",
       "      <td>1.328780</td>\n",
       "      <td>0.179173</td>\n",
       "      <td>red</td>\n",
       "    </tr>\n",
       "    <tr>\n",
       "      <th>2</th>\n",
       "      <td>Chr03</td>\n",
       "      <td>2105722</td>\n",
       "      <td>Alpha x Alpha</td>\n",
       "      <td>169.0</td>\n",
       "      <td>55</td>\n",
       "      <td>3.072727</td>\n",
       "      <td>3.0</td>\n",
       "      <td>6.0</td>\n",
       "      <td>0.0</td>\n",
       "      <td>1.573561</td>\n",
       "      <td>0.212179</td>\n",
       "      <td>red</td>\n",
       "    </tr>\n",
       "    <tr>\n",
       "      <th>3</th>\n",
       "      <td>Chr04</td>\n",
       "      <td>1783051</td>\n",
       "      <td>Alpha x Alpha</td>\n",
       "      <td>141.0</td>\n",
       "      <td>55</td>\n",
       "      <td>2.563636</td>\n",
       "      <td>2.0</td>\n",
       "      <td>6.0</td>\n",
       "      <td>0.0</td>\n",
       "      <td>1.228725</td>\n",
       "      <td>0.165681</td>\n",
       "      <td>red</td>\n",
       "    </tr>\n",
       "    <tr>\n",
       "      <th>4</th>\n",
       "      <td>Chr05</td>\n",
       "      <td>1507536</td>\n",
       "      <td>Alpha x Alpha</td>\n",
       "      <td>117.0</td>\n",
       "      <td>55</td>\n",
       "      <td>2.127273</td>\n",
       "      <td>2.0</td>\n",
       "      <td>4.0</td>\n",
       "      <td>0.0</td>\n",
       "      <td>0.903789</td>\n",
       "      <td>0.121867</td>\n",
       "      <td>red</td>\n",
       "    </tr>\n",
       "    <tr>\n",
       "      <th>5</th>\n",
       "      <td>Chr06</td>\n",
       "      <td>1438940</td>\n",
       "      <td>Alpha x Alpha</td>\n",
       "      <td>120.0</td>\n",
       "      <td>55</td>\n",
       "      <td>2.181818</td>\n",
       "      <td>2.0</td>\n",
       "      <td>5.0</td>\n",
       "      <td>0.0</td>\n",
       "      <td>1.292298</td>\n",
       "      <td>0.174253</td>\n",
       "      <td>red</td>\n",
       "    </tr>\n",
       "    <tr>\n",
       "      <th>6</th>\n",
       "      <td>Chr07</td>\n",
       "      <td>1347778</td>\n",
       "      <td>Alpha x Alpha</td>\n",
       "      <td>145.0</td>\n",
       "      <td>55</td>\n",
       "      <td>2.636364</td>\n",
       "      <td>3.0</td>\n",
       "      <td>5.0</td>\n",
       "      <td>0.0</td>\n",
       "      <td>1.237734</td>\n",
       "      <td>0.166896</td>\n",
       "      <td>red</td>\n",
       "    </tr>\n",
       "    <tr>\n",
       "      <th>7</th>\n",
       "      <td>Chr08</td>\n",
       "      <td>1194303</td>\n",
       "      <td>Alpha x Alpha</td>\n",
       "      <td>139.0</td>\n",
       "      <td>55</td>\n",
       "      <td>2.527273</td>\n",
       "      <td>2.0</td>\n",
       "      <td>5.0</td>\n",
       "      <td>0.0</td>\n",
       "      <td>1.214946</td>\n",
       "      <td>0.163823</td>\n",
       "      <td>red</td>\n",
       "    </tr>\n",
       "    <tr>\n",
       "      <th>8</th>\n",
       "      <td>Chr09</td>\n",
       "      <td>1178642</td>\n",
       "      <td>Alpha x Alpha</td>\n",
       "      <td>91.0</td>\n",
       "      <td>55</td>\n",
       "      <td>1.654545</td>\n",
       "      <td>2.0</td>\n",
       "      <td>3.0</td>\n",
       "      <td>0.0</td>\n",
       "      <td>1.022310</td>\n",
       "      <td>0.137848</td>\n",
       "      <td>red</td>\n",
       "    </tr>\n",
       "    <tr>\n",
       "      <th>9</th>\n",
       "      <td>Chr10</td>\n",
       "      <td>1085711</td>\n",
       "      <td>Alpha x Alpha</td>\n",
       "      <td>97.0</td>\n",
       "      <td>55</td>\n",
       "      <td>1.763636</td>\n",
       "      <td>2.0</td>\n",
       "      <td>4.0</td>\n",
       "      <td>0.0</td>\n",
       "      <td>0.980620</td>\n",
       "      <td>0.132227</td>\n",
       "      <td>red</td>\n",
       "    </tr>\n",
       "    <tr>\n",
       "      <th>10</th>\n",
       "      <td>Chr11</td>\n",
       "      <td>1019830</td>\n",
       "      <td>Alpha x Alpha</td>\n",
       "      <td>96.0</td>\n",
       "      <td>55</td>\n",
       "      <td>1.745455</td>\n",
       "      <td>2.0</td>\n",
       "      <td>4.0</td>\n",
       "      <td>0.0</td>\n",
       "      <td>0.985416</td>\n",
       "      <td>0.132873</td>\n",
       "      <td>red</td>\n",
       "    </tr>\n",
       "    <tr>\n",
       "      <th>11</th>\n",
       "      <td>Chr12</td>\n",
       "      <td>906713</td>\n",
       "      <td>Alpha x Alpha</td>\n",
       "      <td>81.0</td>\n",
       "      <td>55</td>\n",
       "      <td>1.472727</td>\n",
       "      <td>1.0</td>\n",
       "      <td>3.0</td>\n",
       "      <td>0.0</td>\n",
       "      <td>1.033773</td>\n",
       "      <td>0.139394</td>\n",
       "      <td>red</td>\n",
       "    </tr>\n",
       "    <tr>\n",
       "      <th>12</th>\n",
       "      <td>Chr13</td>\n",
       "      <td>787979</td>\n",
       "      <td>Alpha x Alpha</td>\n",
       "      <td>91.0</td>\n",
       "      <td>55</td>\n",
       "      <td>1.654545</td>\n",
       "      <td>2.0</td>\n",
       "      <td>3.0</td>\n",
       "      <td>0.0</td>\n",
       "      <td>0.927326</td>\n",
       "      <td>0.125041</td>\n",
       "      <td>red</td>\n",
       "    </tr>\n",
       "    <tr>\n",
       "      <th>13</th>\n",
       "      <td>Chr14</td>\n",
       "      <td>762695</td>\n",
       "      <td>Alpha x Alpha</td>\n",
       "      <td>79.0</td>\n",
       "      <td>55</td>\n",
       "      <td>1.436364</td>\n",
       "      <td>1.0</td>\n",
       "      <td>4.0</td>\n",
       "      <td>0.0</td>\n",
       "      <td>0.855562</td>\n",
       "      <td>0.115364</td>\n",
       "      <td>red</td>\n",
       "    </tr>\n",
       "    <tr>\n",
       "      <th>14</th>\n",
       "      <td>Chr01</td>\n",
       "      <td>2300525</td>\n",
       "      <td>A x Alpha</td>\n",
       "      <td>177.0</td>\n",
       "      <td>39</td>\n",
       "      <td>4.538462</td>\n",
       "      <td>5.0</td>\n",
       "      <td>9.0</td>\n",
       "      <td>1.0</td>\n",
       "      <td>1.818706</td>\n",
       "      <td>0.291226</td>\n",
       "      <td>black</td>\n",
       "    </tr>\n",
       "    <tr>\n",
       "      <th>15</th>\n",
       "      <td>Chr02</td>\n",
       "      <td>1632286</td>\n",
       "      <td>A x Alpha</td>\n",
       "      <td>152.0</td>\n",
       "      <td>39</td>\n",
       "      <td>3.897436</td>\n",
       "      <td>4.0</td>\n",
       "      <td>7.0</td>\n",
       "      <td>0.0</td>\n",
       "      <td>1.916615</td>\n",
       "      <td>0.306904</td>\n",
       "      <td>black</td>\n",
       "    </tr>\n",
       "    <tr>\n",
       "      <th>16</th>\n",
       "      <td>Chr03</td>\n",
       "      <td>2105722</td>\n",
       "      <td>A x Alpha</td>\n",
       "      <td>161.0</td>\n",
       "      <td>39</td>\n",
       "      <td>4.128205</td>\n",
       "      <td>4.0</td>\n",
       "      <td>9.0</td>\n",
       "      <td>0.0</td>\n",
       "      <td>2.002360</td>\n",
       "      <td>0.320634</td>\n",
       "      <td>black</td>\n",
       "    </tr>\n",
       "    <tr>\n",
       "      <th>17</th>\n",
       "      <td>Chr04</td>\n",
       "      <td>1783051</td>\n",
       "      <td>A x Alpha</td>\n",
       "      <td>151.0</td>\n",
       "      <td>39</td>\n",
       "      <td>3.871795</td>\n",
       "      <td>4.0</td>\n",
       "      <td>8.0</td>\n",
       "      <td>0.0</td>\n",
       "      <td>1.688654</td>\n",
       "      <td>0.270401</td>\n",
       "      <td>black</td>\n",
       "    </tr>\n",
       "    <tr>\n",
       "      <th>18</th>\n",
       "      <td>Chr05</td>\n",
       "      <td>1507536</td>\n",
       "      <td>A x Alpha</td>\n",
       "      <td>140.0</td>\n",
       "      <td>39</td>\n",
       "      <td>3.589744</td>\n",
       "      <td>3.0</td>\n",
       "      <td>7.0</td>\n",
       "      <td>1.0</td>\n",
       "      <td>1.371092</td>\n",
       "      <td>0.219550</td>\n",
       "      <td>black</td>\n",
       "    </tr>\n",
       "    <tr>\n",
       "      <th>19</th>\n",
       "      <td>Chr06</td>\n",
       "      <td>1438940</td>\n",
       "      <td>A x Alpha</td>\n",
       "      <td>97.0</td>\n",
       "      <td>39</td>\n",
       "      <td>2.487179</td>\n",
       "      <td>2.0</td>\n",
       "      <td>7.0</td>\n",
       "      <td>0.0</td>\n",
       "      <td>1.668150</td>\n",
       "      <td>0.267118</td>\n",
       "      <td>black</td>\n",
       "    </tr>\n",
       "    <tr>\n",
       "      <th>20</th>\n",
       "      <td>Chr07</td>\n",
       "      <td>1347778</td>\n",
       "      <td>A x Alpha</td>\n",
       "      <td>95.0</td>\n",
       "      <td>39</td>\n",
       "      <td>2.435897</td>\n",
       "      <td>2.0</td>\n",
       "      <td>6.0</td>\n",
       "      <td>0.0</td>\n",
       "      <td>1.500787</td>\n",
       "      <td>0.240318</td>\n",
       "      <td>black</td>\n",
       "    </tr>\n",
       "    <tr>\n",
       "      <th>21</th>\n",
       "      <td>Chr08</td>\n",
       "      <td>1194303</td>\n",
       "      <td>A x Alpha</td>\n",
       "      <td>148.0</td>\n",
       "      <td>39</td>\n",
       "      <td>3.794872</td>\n",
       "      <td>4.0</td>\n",
       "      <td>7.0</td>\n",
       "      <td>1.0</td>\n",
       "      <td>1.592408</td>\n",
       "      <td>0.254989</td>\n",
       "      <td>black</td>\n",
       "    </tr>\n",
       "    <tr>\n",
       "      <th>22</th>\n",
       "      <td>Chr09</td>\n",
       "      <td>1178642</td>\n",
       "      <td>A x Alpha</td>\n",
       "      <td>101.0</td>\n",
       "      <td>39</td>\n",
       "      <td>2.589744</td>\n",
       "      <td>3.0</td>\n",
       "      <td>5.0</td>\n",
       "      <td>0.0</td>\n",
       "      <td>1.229419</td>\n",
       "      <td>0.196865</td>\n",
       "      <td>black</td>\n",
       "    </tr>\n",
       "    <tr>\n",
       "      <th>23</th>\n",
       "      <td>Chr10</td>\n",
       "      <td>1085711</td>\n",
       "      <td>A x Alpha</td>\n",
       "      <td>88.0</td>\n",
       "      <td>39</td>\n",
       "      <td>2.256410</td>\n",
       "      <td>2.0</td>\n",
       "      <td>6.0</td>\n",
       "      <td>0.0</td>\n",
       "      <td>1.534137</td>\n",
       "      <td>0.245659</td>\n",
       "      <td>black</td>\n",
       "    </tr>\n",
       "    <tr>\n",
       "      <th>24</th>\n",
       "      <td>Chr11</td>\n",
       "      <td>1019830</td>\n",
       "      <td>A x Alpha</td>\n",
       "      <td>90.0</td>\n",
       "      <td>39</td>\n",
       "      <td>2.307692</td>\n",
       "      <td>2.0</td>\n",
       "      <td>5.0</td>\n",
       "      <td>0.0</td>\n",
       "      <td>1.360221</td>\n",
       "      <td>0.217810</td>\n",
       "      <td>black</td>\n",
       "    </tr>\n",
       "    <tr>\n",
       "      <th>25</th>\n",
       "      <td>Chr12</td>\n",
       "      <td>906713</td>\n",
       "      <td>A x Alpha</td>\n",
       "      <td>58.0</td>\n",
       "      <td>39</td>\n",
       "      <td>1.487179</td>\n",
       "      <td>1.0</td>\n",
       "      <td>4.0</td>\n",
       "      <td>0.0</td>\n",
       "      <td>0.996620</td>\n",
       "      <td>0.159587</td>\n",
       "      <td>black</td>\n",
       "    </tr>\n",
       "    <tr>\n",
       "      <th>26</th>\n",
       "      <td>Chr13</td>\n",
       "      <td>787979</td>\n",
       "      <td>A x Alpha</td>\n",
       "      <td>65.0</td>\n",
       "      <td>39</td>\n",
       "      <td>1.666667</td>\n",
       "      <td>2.0</td>\n",
       "      <td>5.0</td>\n",
       "      <td>0.0</td>\n",
       "      <td>1.199415</td>\n",
       "      <td>0.192060</td>\n",
       "      <td>black</td>\n",
       "    </tr>\n",
       "    <tr>\n",
       "      <th>27</th>\n",
       "      <td>Chr14</td>\n",
       "      <td>762695</td>\n",
       "      <td>A x Alpha</td>\n",
       "      <td>68.0</td>\n",
       "      <td>39</td>\n",
       "      <td>1.743590</td>\n",
       "      <td>2.0</td>\n",
       "      <td>4.0</td>\n",
       "      <td>0.0</td>\n",
       "      <td>1.163433</td>\n",
       "      <td>0.186298</td>\n",
       "      <td>black</td>\n",
       "    </tr>\n",
       "  </tbody>\n",
       "</table>\n",
       "</div>"
      ],
      "text/plain": [
       "    Chrom   ChrLen          Cross  Total   N      Mean  Median  Max  Min  \\\n",
       "0   Chr01  2300525  Alpha x Alpha  191.0  55  3.472727     3.0  8.0  0.0   \n",
       "1   Chr02  1632286  Alpha x Alpha  149.0  55  2.709091     3.0  6.0  0.0   \n",
       "2   Chr03  2105722  Alpha x Alpha  169.0  55  3.072727     3.0  6.0  0.0   \n",
       "3   Chr04  1783051  Alpha x Alpha  141.0  55  2.563636     2.0  6.0  0.0   \n",
       "4   Chr05  1507536  Alpha x Alpha  117.0  55  2.127273     2.0  4.0  0.0   \n",
       "5   Chr06  1438940  Alpha x Alpha  120.0  55  2.181818     2.0  5.0  0.0   \n",
       "6   Chr07  1347778  Alpha x Alpha  145.0  55  2.636364     3.0  5.0  0.0   \n",
       "7   Chr08  1194303  Alpha x Alpha  139.0  55  2.527273     2.0  5.0  0.0   \n",
       "8   Chr09  1178642  Alpha x Alpha   91.0  55  1.654545     2.0  3.0  0.0   \n",
       "9   Chr10  1085711  Alpha x Alpha   97.0  55  1.763636     2.0  4.0  0.0   \n",
       "10  Chr11  1019830  Alpha x Alpha   96.0  55  1.745455     2.0  4.0  0.0   \n",
       "11  Chr12   906713  Alpha x Alpha   81.0  55  1.472727     1.0  3.0  0.0   \n",
       "12  Chr13   787979  Alpha x Alpha   91.0  55  1.654545     2.0  3.0  0.0   \n",
       "13  Chr14   762695  Alpha x Alpha   79.0  55  1.436364     1.0  4.0  0.0   \n",
       "14  Chr01  2300525      A x Alpha  177.0  39  4.538462     5.0  9.0  1.0   \n",
       "15  Chr02  1632286      A x Alpha  152.0  39  3.897436     4.0  7.0  0.0   \n",
       "16  Chr03  2105722      A x Alpha  161.0  39  4.128205     4.0  9.0  0.0   \n",
       "17  Chr04  1783051      A x Alpha  151.0  39  3.871795     4.0  8.0  0.0   \n",
       "18  Chr05  1507536      A x Alpha  140.0  39  3.589744     3.0  7.0  1.0   \n",
       "19  Chr06  1438940      A x Alpha   97.0  39  2.487179     2.0  7.0  0.0   \n",
       "20  Chr07  1347778      A x Alpha   95.0  39  2.435897     2.0  6.0  0.0   \n",
       "21  Chr08  1194303      A x Alpha  148.0  39  3.794872     4.0  7.0  1.0   \n",
       "22  Chr09  1178642      A x Alpha  101.0  39  2.589744     3.0  5.0  0.0   \n",
       "23  Chr10  1085711      A x Alpha   88.0  39  2.256410     2.0  6.0  0.0   \n",
       "24  Chr11  1019830      A x Alpha   90.0  39  2.307692     2.0  5.0  0.0   \n",
       "25  Chr12   906713      A x Alpha   58.0  39  1.487179     1.0  4.0  0.0   \n",
       "26  Chr13   787979      A x Alpha   65.0  39  1.666667     2.0  5.0  0.0   \n",
       "27  Chr14   762695      A x Alpha   68.0  39  1.743590     2.0  4.0  0.0   \n",
       "\n",
       "         Std       Sem Colors  \n",
       "0   1.425360  0.192195    red  \n",
       "1   1.328780  0.179173    red  \n",
       "2   1.573561  0.212179    red  \n",
       "3   1.228725  0.165681    red  \n",
       "4   0.903789  0.121867    red  \n",
       "5   1.292298  0.174253    red  \n",
       "6   1.237734  0.166896    red  \n",
       "7   1.214946  0.163823    red  \n",
       "8   1.022310  0.137848    red  \n",
       "9   0.980620  0.132227    red  \n",
       "10  0.985416  0.132873    red  \n",
       "11  1.033773  0.139394    red  \n",
       "12  0.927326  0.125041    red  \n",
       "13  0.855562  0.115364    red  \n",
       "14  1.818706  0.291226  black  \n",
       "15  1.916615  0.306904  black  \n",
       "16  2.002360  0.320634  black  \n",
       "17  1.688654  0.270401  black  \n",
       "18  1.371092  0.219550  black  \n",
       "19  1.668150  0.267118  black  \n",
       "20  1.500787  0.240318  black  \n",
       "21  1.592408  0.254989  black  \n",
       "22  1.229419  0.196865  black  \n",
       "23  1.534137  0.245659  black  \n",
       "24  1.360221  0.217810  black  \n",
       "25  0.996620  0.159587  black  \n",
       "26  1.199415  0.192060  black  \n",
       "27  1.163433  0.186298  black  "
      ]
     },
     "execution_count": 87,
     "metadata": {},
     "output_type": "execute_result"
    }
   ],
   "source": [
    "statsdf"
   ]
  },
  {
   "cell_type": "code",
   "execution_count": 88,
   "metadata": {},
   "outputs": [
    {
     "data": {
      "text/plain": [
       "3297.0"
      ]
     },
     "execution_count": 88,
     "metadata": {},
     "output_type": "execute_result"
    }
   ],
   "source": [
    "statsdf.Total.sum()"
   ]
  },
  {
   "cell_type": "markdown",
   "metadata": {},
   "source": [
    "## Generate models\n",
    "### Assign model variables for each cross ie slope and intercept."
   ]
  },
  {
   "cell_type": "code",
   "execution_count": 89,
   "metadata": {},
   "outputs": [
    {
     "name": "stdout",
     "output_type": "stream",
     "text": [
      "\n",
      "0.533046388943\n",
      "1.23639983684\n",
      "\n",
      "0.281818843717\n",
      "1.93417840436\n"
     ]
    },
    {
     "name": "stderr",
     "output_type": "stream",
     "text": [
      "/Users/croth/anaconda2/lib/python2.7/site-packages/ipykernel_launcher.py:1: DeprecationWarning: \n",
      ".ix is deprecated. Please use\n",
      ".loc for label based indexing or\n",
      ".iloc for positional indexing\n",
      "\n",
      "See the documentation here:\n",
      "http://pandas.pydata.org/pandas-docs/stable/indexing.html#ix-indexer-is-deprecated\n",
      "  \"\"\"Entry point for launching an IPython kernel.\n",
      "/Users/croth/anaconda2/lib/python2.7/site-packages/ipykernel_launcher.py:3: DeprecationWarning: \n",
      ".ix is deprecated. Please use\n",
      ".loc for label based indexing or\n",
      ".iloc for positional indexing\n",
      "\n",
      "See the documentation here:\n",
      "http://pandas.pydata.org/pandas-docs/stable/indexing.html#ix-indexer-is-deprecated\n",
      "  This is separate from the ipykernel package so we can avoid doing imports until\n"
     ]
    }
   ],
   "source": [
    "anova_fit.conf_int().ix[2,:]*1000000\n",
    "\n",
    "anova_fit.conf_int().ix[-1,:]*1000000 + anova_fit.params[2]*1000000\n",
    "print \"\"\n",
    "## Unisexual cross\n",
    "unint = anova_fit.params[0];print unint\n",
    "unslo = anova_fit.params[2];print unslo * 1000000\n",
    "\n",
    "print \"\"\n",
    "## bisexual cross\n",
    "biint = anova_fit.params[0] + anova_fit.params[1];print biint\n",
    "bislo = anova_fit.params[2] + anova_fit.params[3];print bislo * 1000000"
   ]
  },
  {
   "cell_type": "markdown",
   "metadata": {},
   "source": [
    "## Construct regression predictions for each cross"
   ]
  },
  {
   "cell_type": "markdown",
   "metadata": {},
   "source": [
    "### make x range"
   ]
  },
  {
   "cell_type": "code",
   "execution_count": 90,
   "metadata": {
    "collapsed": true
   },
   "outputs": [],
   "source": [
    "kb = 1000\n",
    "max_b = 2500000\n",
    "x_range = np.arange(0,int(max_b),kb)"
   ]
  },
  {
   "cell_type": "code",
   "execution_count": 91,
   "metadata": {
    "collapsed": true
   },
   "outputs": [],
   "source": [
    "reg_un = unslo*x_range + unint\n",
    "reg_bi = bislo*x_range + biint\n",
    "#reg_all = [fitresult.params[1]*x + fitresult.params[0] for x in x_range]"
   ]
  },
  {
   "cell_type": "code",
   "execution_count": 92,
   "metadata": {},
   "outputs": [
    {
     "data": {
      "text/plain": [
       "0.281818843717065"
      ]
     },
     "execution_count": 92,
     "metadata": {},
     "output_type": "execute_result"
    }
   ],
   "source": [
    "reg_bi[0]"
   ]
  },
  {
   "cell_type": "code",
   "execution_count": 93,
   "metadata": {},
   "outputs": [
    {
     "data": {
      "text/plain": [
       "0.53304638894256773"
      ]
     },
     "execution_count": 93,
     "metadata": {},
     "output_type": "execute_result"
    }
   ],
   "source": [
    "reg_un[0]"
   ]
  },
  {
   "cell_type": "markdown",
   "metadata": {},
   "source": [
    "### Plot our results"
   ]
  },
  {
   "cell_type": "code",
   "execution_count": 94,
   "metadata": {},
   "outputs": [
    {
     "data": {
      "image/png": "[encoded data removed]",
      "text/plain": [
       "<matplotlib.figure.Figure at 0x1a0da71d10>"
      ]
     },
     "metadata": {},
     "output_type": "display_data"
    }
   ],
   "source": [
    "fig, ax = plt.subplots(1,1,figsize=(5,4))\n",
    "## Uni-sexual\n",
    "plt.plot(x_range,reg_un,'--',color=colors[0],alpha=.5);\n",
    "plt.plot(statsdf.ChrLen[statsdf.Cross=='Alpha x Alpha'].values,\n",
    "         statsdf.Mean[statsdf.Cross=='Alpha x Alpha'],'o',color=colors[0],\n",
    "         alpha=.5,label= r'$\\alpha\\  x\\  \\alpha$')\n",
    "## Bi-sexual\n",
    "plt.plot(x_range,reg_bi,'--',color=colors[1],alpha=.5);\n",
    "plt.plot(statsdf.ChrLen[statsdf.Cross=='A x Alpha'].values,\n",
    "         statsdf.Mean[statsdf.Cross=='A x Alpha'],'o',color=colors[1],\n",
    "         alpha=.5,label= r'$\\alpha\\  x\\  a$');\n",
    "plt.xlabel('Chromosome Length (Mb)',fontsize=16);\n",
    "plt.ylabel('Average Number \\nof Crossovers',fontsize=16);\n",
    "#plt.title('Crossovers vs\\nChromosome Length ',fontsize=21);\n",
    "plt.vlines(x = statsdf.ChrLen.values,\n",
    "           ymin = statsdf.Mean.values - statsdf.Sem.values,\n",
    "           ymax = statsdf.Mean.values + statsdf.Sem.values,\n",
    "           linewidth = 2, colors = statsdf.Colors.tolist(), alpha = .3);\n",
    "#plt.legend(loc='lower right',markerscale=1.5, fontsize=14);\n",
    "plt.tick_params(labelsize=14);plt.ylim(0,);plt.xlim(0,);\n",
    "for ch,clen in enumerate(clens):\n",
    "    I = 0.4\n",
    "    if ch % 2 == 0:\n",
    "        I = -I\n",
    "        plt.annotate(ch+1,(clen,\n",
    "                           float(statsdf.Mean[(statsdf.Cross=='Alpha x Alpha')&\n",
    "                                              (statsdf.Chrom==chrlist[ch])]) + I),\n",
    "                     horizontalalignment='center',verticalalignment='center');\n",
    "    else:\n",
    "        plt.annotate(ch+1,(clen,\n",
    "                           float(statsdf.Mean[(statsdf.Cross=='A x Alpha')&\n",
    "                                              (statsdf.Chrom==chrlist[ch])]) + I),\n",
    "                     horizontalalignment='center',verticalalignment='right');\n",
    "#plt.ticklabel_format(style='sci', axis='x', scilimits=(0,0));\n",
    "ax.set_xticklabels(np.arange(0.0,3.0,0.5))\n",
    "plt.tight_layout();\n",
    "plt.savefig('../FIGS/Crypto-Genome-Wide-GTC'+ endfile[:-4] + '.png',dpi=600,);"
   ]
  },
  {
   "cell_type": "code",
   "execution_count": 95,
   "metadata": {},
   "outputs": [
    {
     "name": "stdout",
     "output_type": "stream",
     "text": [
      " Unisexual: 0.533046388943\n",
      "  Bisexual: 0.281818843717\n",
      "\n",
      "Uni: 1.23639983684\n",
      "Bi: 1.93417840436\n",
      "\n",
      "        kb/ cM\n",
      "   Uni- 8.08799847914\n",
      "    Bi- 5.17015388936\n"
     ]
    }
   ],
   "source": [
    "##### Intercepts\n",
    "\n",
    "I1 = unint;print \" Unisexual:\",I1\n",
    "I2 = biint;print \"  Bisexual:\",I2\n",
    "#I3 = fitresult.params.Intercept;print \"Crypto Int:\",I3 ## All\n",
    "#print \"         Intercepts\"\n",
    "\n",
    "##### Slope\n",
    "print \"\"\n",
    "s1 = (unslo)*(kb**2);print \"Uni:\", s1\n",
    "s2 = (bislo)*(kb**2);print \"Bi:\",s2\n",
    "#s3 = fitresult.params[1]*(kb**2);print \"All:\",s3\n",
    "\n",
    "##### kb/ cM\n",
    "print \"\"\n",
    "cm1 = .01/(unslo)/kb\n",
    "cm2 = .01/(bislo)/kb\n",
    "#cm3 = .01/(fitresult.params[1])/kb\n",
    "print \"        kb/ cM\"\n",
    "print \"   Uni-\",cm1\n",
    "print \"    Bi-\",cm2\n",
    "#print \"Crypto-\",cm3 "
   ]
  },
  {
   "cell_type": "markdown",
   "metadata": {},
   "source": [
    "### Save results"
   ]
  },
  {
   "cell_type": "code",
   "execution_count": 96,
   "metadata": {},
   "outputs": [
    {
     "data": {
      "text/html": [
       "<div>\n",
       "<style>\n",
       "    .dataframe thead tr:only-child th {\n",
       "        text-align: right;\n",
       "    }\n",
       "\n",
       "    .dataframe thead th {\n",
       "        text-align: left;\n",
       "    }\n",
       "\n",
       "    .dataframe tbody tr th {\n",
       "        vertical-align: top;\n",
       "    }\n",
       "</style>\n",
       "<table border=\"1\" class=\"dataframe\">\n",
       "  <thead>\n",
       "    <tr style=\"text-align: right;\">\n",
       "      <th></th>\n",
       "      <th>Intercept</th>\n",
       "      <th>Slope</th>\n",
       "      <th>cM</th>\n",
       "    </tr>\n",
       "  </thead>\n",
       "  <tbody>\n",
       "    <tr>\n",
       "      <th>Uni</th>\n",
       "      <td>0.533046</td>\n",
       "      <td>1.236400</td>\n",
       "      <td>8.087998</td>\n",
       "    </tr>\n",
       "    <tr>\n",
       "      <th>Bi</th>\n",
       "      <td>0.281819</td>\n",
       "      <td>1.934178</td>\n",
       "      <td>5.170154</td>\n",
       "    </tr>\n",
       "  </tbody>\n",
       "</table>\n",
       "</div>"
      ],
      "text/plain": [
       "     Intercept     Slope        cM\n",
       "Uni   0.533046  1.236400  8.087998\n",
       "Bi    0.281819  1.934178  5.170154"
      ]
     },
     "execution_count": 96,
     "metadata": {},
     "output_type": "execute_result"
    }
   ],
   "source": [
    "results_df = pd.DataFrame(columns=['Intercept','Slope','cM'],index=['Uni','Bi']);\n",
    "results_df['Intercept'] = [I1,I2];results_df['Slope'] = [s1,s2];results_df['cM'] = [cm1,cm2];\n",
    "results_df.to_csv('../FILES/Crypto-Genome-wide-Analysis-Linear-results%s'%endfile);\n",
    "results_df"
   ]
  },
  {
   "cell_type": "markdown",
   "metadata": {},
   "source": [
    "## Facet Wrap like plot of crossover Disributions via chrom, colored by cross type"
   ]
  },
  {
   "cell_type": "code",
   "execution_count": 97,
   "metadata": {
    "collapsed": true
   },
   "outputs": [],
   "source": []
  },
  {
   "cell_type": "code",
   "execution_count": 98,
   "metadata": {
    "collapsed": true
   },
   "outputs": [],
   "source": [
    "#new_chrom_label = ['Chromosome ' + str(int(chrom[3:])) for chrom in chrlist]\n"
   ]
  },
  {
   "cell_type": "code",
   "execution_count": 106,
   "metadata": {},
   "outputs": [
    {
     "data": {
      "image/png": "[encoded data removed]",
      "text/plain": [
       "<matplotlib.figure.Figure at 0x1a1dcef450>"
      ]
     },
     "metadata": {},
     "output_type": "display_data"
    }
   ],
   "source": [
    "import seaborn as sns\n",
    "sns.set()\n",
    "new_chrom_label = [str(int(chrom[3:])) for chrom in chrlist]\n",
    "fig,ax = plt.subplots(4,4,figsize=(8,8),sharey=True); ## Call figure\n",
    "bins = np.arange(-0.5,CO_anova_df.N.max()+1.5); ## Center bins on each integer from 0 to 10\n",
    "tall = .125 ## Set variable for how tall the vertical lines representing the means shall be. \n",
    "for i,chrom in enumerate(chrlist): ## For each chromsome ... \n",
    "    plt.sca(ax.ravel()[i]); ## Get axis \n",
    "    x1 = CO_anova_df[(CO_anova_df.Chrom==chrom)&(CO_anova_df.Cross==1)]['N'].values; ## Get data for segs from unisexual reproduction\n",
    "    x2 = CO_anova_df[(CO_anova_df.Chrom==chrom)&(CO_anova_df.Cross==2)]['N'].values; ## \"\" bisexual reproduction\n",
    "    plt.hist(x1,bins=bins,color='r',alpha=.3,normed=True); ## plot dist for segs from uni cross\n",
    "    plt.hist(x2,bins=bins,color='k',alpha=.3,normed=True); ## \" \" from bi cross \n",
    "    if mann_fdr_step_down_res[0][i] == True:\n",
    "        chrom_label = new_chrom_label[i] + ' *';\n",
    "    else:\n",
    "        chrom_label = new_chrom_label[i]\n",
    "    plt.text(0.5, 1.02,chrom_label, horizontalalignment='center', ## Label each subplot with the chromosome\n",
    "                 verticalalignment='center', ## Align text centered vertically\n",
    "                 transform = plt.gca().transAxes,fontsize=14); ## Turn axis to ratio\n",
    "    plt.vlines(np.mean(x1),0,tall,'red',alpha=.5);plt.vlines(np.mean(x2),0,tall,'k',alpha=.5);\n",
    "    #plt.gca().set_facecolor('lightgrey');\n",
    "    #plt.gca().grid(color='w', linestyle='-', linewidth=.5,alpha=.8);\n",
    "    for a in ['top','bottom','left','right']:\n",
    "        plt.gca().spines[a].set_visible(False);\n",
    "    plt.yticks([0,0.1,0.2,0.3,0.4,0.5]);\n",
    "    plt.xticks([0,2,4,6,8,10]); ## Set x and y ticks \n",
    "    plt.xlim(-.5,np.max(bins));#plt.ylim(0,25); ## Set x and y lims\n",
    "    plt.tight_layout(); ## force a tight layout\n",
    "    if i < 10: ## Turn off x axis for subplots not on bottom. \n",
    "        plt.gca().grid(True); ## Keep the grid in the background of these first plots\n",
    "        plt.gca().set_xticklabels([]); ## Set their x ticks to none\n",
    "for i in [14,15]: ## Turn off the two empty subplots\n",
    "    plt.sca(ax.ravel()[i]); ## Get the axis\n",
    "    plt.axis('off'); ## Turn it off. \n",
    "plt.subplots_adjust(wspace=0.05,hspace=0.15); ## Adjust space between subplots\n",
    "plt.gcf().subplots_adjust(bottom=0.1);plt.gcf().subplots_adjust(left=0.1);\n",
    "fig.text(0.55, 0.025, 'Number of Crossovers', ha='center',fontsize=18);\n",
    "#fig.text(0.025, 0.5, 'Frequency Among Meiotic Progeny',\n",
    "fig.text(0.01,0.55,'Percent of Meiotic Progeny',va='center', rotation='vertical',fontsize=18);\n",
    "plt.savefig('../FIGS/Crypto-02-GTC-Distributions.png',dpi=1200);"
   ]
  },
  {
   "cell_type": "code",
   "execution_count": null,
   "metadata": {
    "collapsed": true
   },
   "outputs": [],
   "source": [
    "plt.close()"
   ]
  },
  {
   "cell_type": "code",
   "execution_count": null,
   "metadata": {
    "collapsed": true
   },
   "outputs": [],
   "source": [
    "CO_anova_df[CO_anova_df.N==CO_anova_df.N.max()]"
   ]
  },
  {
   "cell_type": "markdown",
   "metadata": {},
   "source": [
    "# Preform Log linear regression analysis"
   ]
  },
  {
   "cell_type": "code",
   "execution_count": null,
   "metadata": {
    "collapsed": true
   },
   "outputs": [],
   "source": [
    "log_CO_df = pd.DataFrame(index=range(2*len(clens)))\n",
    "log_CO_df['Chrom'] = [chrom for chrom in chrlist for i in [1,2]]\n",
    "log_CO_df['Chrlen'] = [cln for cln in clens for i  in [1,2]]\n",
    "log_CO_df['Cross'] = [i for cln in clens for i in [1,2]]"
   ]
  },
  {
   "cell_type": "code",
   "execution_count": null,
   "metadata": {
    "collapsed": true
   },
   "outputs": [],
   "source": [
    "log_CO_df['EN'] = [CO_anova_df.N[(CO_anova_df.Chrlen==clen)&\n",
    "                                 (CO_anova_df.Cross==i)].mean() \n",
    "                       for clen in clens for i in [1,2]]\n",
    "log_CO_df['LogEN'] = [np.log(CO_anova_df.N[(CO_anova_df.Chrlen==clen)&\n",
    "                                           (CO_anova_df.Cross==i)].mean()) \n",
    "                          for clen in clens for i in [1,2]]\n",
    "log_CO_df['Var'] = [np.var(CO_anova_df.N[(CO_anova_df.Chrlen==clen)&\n",
    "                                 (CO_anova_df.Cross==i)],ddof=1) \n",
    "                        for clen in clens for i in [1,2]]\n",
    "log_CO_df['Disp'] = [log_CO_df.EN[i]/log_CO_df.Var[i] for i in range(2*len(clens))]"
   ]
  },
  {
   "cell_type": "code",
   "execution_count": null,
   "metadata": {
    "collapsed": true
   },
   "outputs": [],
   "source": [
    "log_CO_df.head()"
   ]
  },
  {
   "cell_type": "code",
   "execution_count": null,
   "metadata": {
    "collapsed": true
   },
   "outputs": [],
   "source": [
    "Fitresult_log = smf.ols(formula = 'LogEN ~ C(Cross) + Chrlen',data=log_CO_df).fit();\n",
    "print Fitresult_log.summary();mypvalu2 = Fitresult_log.pvalues[1];print mypvalu2"
   ]
  },
  {
   "cell_type": "code",
   "execution_count": null,
   "metadata": {
    "collapsed": true
   },
   "outputs": [],
   "source": [
    "#fig, ax = plt.subplots(1,1,figsize=(5,4));\n",
    "sns.set(font_scale=2.5)\n",
    "rp = sns.lmplot(x=\"Chrlen\",y=\"LogEN\",\n",
    "                hue=\"Cross\",palette=['red','black'],\n",
    "                legend=False,size=12,\n",
    "                data=log_CO_df);#rp.axes.set_ylim(0,)#rp.axes.set_xlim(0,)\n",
    "#labels = [item.get_text() for item in rp.get_xticklabels()]\n",
    "labels = [0,0.8,1.0,1.2,1.4,1.6,1.9,2.0,2.2];\n",
    "rp.set_xticklabels(labels);\n",
    "plt.ylabel(' ')#plt.ylabel(\"$\\log$[ $E$ (# of Crossovers)]\",fontsize=25);\n",
    "plt.xlabel(' ')#plt.xlabel('Chromosome Length (Mb)',fontsize=25);\n",
    "for ch,clen in enumerate(clens):\n",
    "    I = -0.09\n",
    "    if ch in [1,6,10]:#ch % 2 == 0:\n",
    "        I = -I\n",
    "        rp.ax.annotate(str(ch+1),\n",
    "                       (clen,\n",
    "                        float(log_CO_df.LogEN[(log_CO_df.Cross==1)&\n",
    "                                              (log_CO_df.Chrom==chrlist[ch])]) + I),\n",
    "                     horizontalalignment='center',verticalalignment='center');\n",
    "    else:\n",
    "        rp.ax.annotate(str(ch+1),\n",
    "                       (clen,\n",
    "                        float(log_CO_df.LogEN[(log_CO_df.Cross==1)&\n",
    "                                              (log_CO_df.Chrom==chrlist[ch])]) + I),\n",
    "                     horizontalalignment='center',verticalalignment='center');\n",
    "\n",
    "plt.tight_layout();\n",
    "plt.savefig('../FIGS/Crypto-Genome-Wide-GTC-min-haplotype-k6000-Sep2017.png',dpi=600);"
   ]
  },
  {
   "cell_type": "code",
   "execution_count": null,
   "metadata": {
    "collapsed": true
   },
   "outputs": [],
   "source": []
  }
 ],
 "metadata": {
  "anaconda-cloud": {},
  "kernelspec": {
   "display_name": "Python 2",
   "language": "python",
   "name": "python2"
  },
  "language_info": {
   "codemirror_mode": {
    "name": "ipython",
    "version": 2
   },
   "file_extension": ".py",
   "mimetype": "text/x-python",
   "name": "python",
   "nbconvert_exporter": "python",
   "pygments_lexer": "ipython2",
   "version": "2.7.14"
  }
 },
 "nbformat": 4,
 "nbformat_minor": 1
}

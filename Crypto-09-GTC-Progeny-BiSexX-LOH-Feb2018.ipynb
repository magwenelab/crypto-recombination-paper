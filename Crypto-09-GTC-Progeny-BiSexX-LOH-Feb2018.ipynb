{
 "cells": [
  {
   "cell_type": "code",
   "execution_count": 1,
   "metadata": {
    "collapsed": true
   },
   "outputs": [],
   "source": [
    "import numpy as np\n",
    "import pandas as pd\n",
    "import scipy.stats as ss\n",
    "import statsmodels.formula.api as smf\n",
    "import cryptofxns\n",
    "import os\n",
    "from os import listdir\n",
    "from matplotlib import pyplot as plt\n",
    "from itertools import chain\n",
    "%matplotlib inline"
   ]
  },
  {
   "cell_type": "code",
   "execution_count": 2,
   "metadata": {
    "collapsed": true
   },
   "outputs": [],
   "source": [
    "MB = 1000000\n",
    "hap_filter_size = 6000\n",
    "HAPFILTINT = int(hap_filter_size/1000.0)\n",
    "Method = '-min'\n",
    "fileendname = Method +'-haplotype-k' + str(int(hap_filter_size)) + '.csv'"
   ]
  },
  {
   "cell_type": "code",
   "execution_count": 3,
   "metadata": {
    "collapsed": true
   },
   "outputs": [],
   "source": [
    "genodf = cryptofxns.geno_df;genodf.shape\n",
    "centromere = cryptofxns.load_centrom_locs()\n",
    "clens = cryptofxns.chromosome_lengths\n",
    "tc = cryptofxns.thecol"
   ]
  },
  {
   "cell_type": "markdown",
   "metadata": {},
   "source": [
    "## Load the haplotype filtered data"
   ]
  },
  {
   "cell_type": "code",
   "execution_count": 4,
   "metadata": {
    "collapsed": true
   },
   "outputs": [],
   "source": [
    "#ngenodf = pd.read_csv('../FILES/FiltGenotoHapFiltGeno2017-02-22.csv',index_col=0)\n",
    "file_end = 'min-Geno-k6000.csv'\n",
    "ngenodf = pd.read_csv('../FILES/FiltGenotoHapFiltGeno-%s'%file_end)"
   ]
  },
  {
   "cell_type": "code",
   "execution_count": 5,
   "metadata": {},
   "outputs": [
    {
     "data": {
      "text/plain": [
       "(86767, 98)"
      ]
     },
     "execution_count": 5,
     "metadata": {},
     "output_type": "execute_result"
    }
   ],
   "source": [
    "ngenodf.shape"
   ]
  },
  {
   "cell_type": "code",
   "execution_count": 6,
   "metadata": {},
   "outputs": [
    {
     "data": {
      "text/html": [
       "<div>\n",
       "<style>\n",
       "    .dataframe thead tr:only-child th {\n",
       "        text-align: right;\n",
       "    }\n",
       "\n",
       "    .dataframe thead th {\n",
       "        text-align: left;\n",
       "    }\n",
       "\n",
       "    .dataframe tbody tr th {\n",
       "        vertical-align: top;\n",
       "    }\n",
       "</style>\n",
       "<table border=\"1\" class=\"dataframe\">\n",
       "  <thead>\n",
       "    <tr style=\"text-align: right;\">\n",
       "      <th></th>\n",
       "      <th>Alt</th>\n",
       "      <th>Chrom</th>\n",
       "      <th>Pos</th>\n",
       "      <th>Ref</th>\n",
       "      <th>SS-B307</th>\n",
       "      <th>SS-B308</th>\n",
       "      <th>SS-B310</th>\n",
       "      <th>SS-B311</th>\n",
       "      <th>SS-B312</th>\n",
       "      <th>SS-B313</th>\n",
       "      <th>...</th>\n",
       "      <th>SS-C029_Correction</th>\n",
       "      <th>SS-C031_Correction</th>\n",
       "      <th>SS-C033</th>\n",
       "      <th>SS-C036</th>\n",
       "      <th>SS-C039</th>\n",
       "      <th>SS-C242</th>\n",
       "      <th>SS-C271</th>\n",
       "      <th>SS-C272</th>\n",
       "      <th>SS-C290</th>\n",
       "      <th>SS-C291</th>\n",
       "    </tr>\n",
       "  </thead>\n",
       "  <tbody>\n",
       "    <tr>\n",
       "      <th>0</th>\n",
       "      <td>A</td>\n",
       "      <td>Chr01</td>\n",
       "      <td>5016.0</td>\n",
       "      <td>C</td>\n",
       "      <td>1</td>\n",
       "      <td>1</td>\n",
       "      <td>1</td>\n",
       "      <td>1</td>\n",
       "      <td>0</td>\n",
       "      <td>0</td>\n",
       "      <td>...</td>\n",
       "      <td>0</td>\n",
       "      <td>0</td>\n",
       "      <td>1</td>\n",
       "      <td>0</td>\n",
       "      <td>1</td>\n",
       "      <td>0</td>\n",
       "      <td>0</td>\n",
       "      <td>0</td>\n",
       "      <td>1</td>\n",
       "      <td>0</td>\n",
       "    </tr>\n",
       "    <tr>\n",
       "      <th>1</th>\n",
       "      <td>C</td>\n",
       "      <td>Chr01</td>\n",
       "      <td>5299.0</td>\n",
       "      <td>T</td>\n",
       "      <td>1</td>\n",
       "      <td>1</td>\n",
       "      <td>1</td>\n",
       "      <td>1</td>\n",
       "      <td>0</td>\n",
       "      <td>0</td>\n",
       "      <td>...</td>\n",
       "      <td>0</td>\n",
       "      <td>0</td>\n",
       "      <td>1</td>\n",
       "      <td>0</td>\n",
       "      <td>1</td>\n",
       "      <td>0</td>\n",
       "      <td>0</td>\n",
       "      <td>0</td>\n",
       "      <td>1</td>\n",
       "      <td>0</td>\n",
       "    </tr>\n",
       "    <tr>\n",
       "      <th>2</th>\n",
       "      <td>C</td>\n",
       "      <td>Chr01</td>\n",
       "      <td>5464.0</td>\n",
       "      <td>T</td>\n",
       "      <td>1</td>\n",
       "      <td>1</td>\n",
       "      <td>1</td>\n",
       "      <td>1</td>\n",
       "      <td>0</td>\n",
       "      <td>0</td>\n",
       "      <td>...</td>\n",
       "      <td>0</td>\n",
       "      <td>0</td>\n",
       "      <td>1</td>\n",
       "      <td>0</td>\n",
       "      <td>1</td>\n",
       "      <td>0</td>\n",
       "      <td>0</td>\n",
       "      <td>0</td>\n",
       "      <td>1</td>\n",
       "      <td>0</td>\n",
       "    </tr>\n",
       "    <tr>\n",
       "      <th>3</th>\n",
       "      <td>C</td>\n",
       "      <td>Chr01</td>\n",
       "      <td>6120.0</td>\n",
       "      <td>T</td>\n",
       "      <td>1</td>\n",
       "      <td>1</td>\n",
       "      <td>1</td>\n",
       "      <td>1</td>\n",
       "      <td>0</td>\n",
       "      <td>0</td>\n",
       "      <td>...</td>\n",
       "      <td>0</td>\n",
       "      <td>0</td>\n",
       "      <td>1</td>\n",
       "      <td>0</td>\n",
       "      <td>1</td>\n",
       "      <td>0</td>\n",
       "      <td>0</td>\n",
       "      <td>0</td>\n",
       "      <td>1</td>\n",
       "      <td>0</td>\n",
       "    </tr>\n",
       "    <tr>\n",
       "      <th>4</th>\n",
       "      <td>A</td>\n",
       "      <td>Chr01</td>\n",
       "      <td>6166.0</td>\n",
       "      <td>G</td>\n",
       "      <td>1</td>\n",
       "      <td>1</td>\n",
       "      <td>1</td>\n",
       "      <td>1</td>\n",
       "      <td>0</td>\n",
       "      <td>0</td>\n",
       "      <td>...</td>\n",
       "      <td>0</td>\n",
       "      <td>0</td>\n",
       "      <td>1</td>\n",
       "      <td>0</td>\n",
       "      <td>1</td>\n",
       "      <td>0</td>\n",
       "      <td>0</td>\n",
       "      <td>0</td>\n",
       "      <td>1</td>\n",
       "      <td>0</td>\n",
       "    </tr>\n",
       "  </tbody>\n",
       "</table>\n",
       "<p>5 rows × 98 columns</p>\n",
       "</div>"
      ],
      "text/plain": [
       "  Alt  Chrom     Pos Ref  SS-B307  SS-B308  SS-B310  SS-B311  SS-B312  \\\n",
       "0   A  Chr01  5016.0   C        1        1        1        1        0   \n",
       "1   C  Chr01  5299.0   T        1        1        1        1        0   \n",
       "2   C  Chr01  5464.0   T        1        1        1        1        0   \n",
       "3   C  Chr01  6120.0   T        1        1        1        1        0   \n",
       "4   A  Chr01  6166.0   G        1        1        1        1        0   \n",
       "\n",
       "   SS-B313   ...     SS-C029_Correction  SS-C031_Correction  SS-C033  SS-C036  \\\n",
       "0        0   ...                      0                   0        1        0   \n",
       "1        0   ...                      0                   0        1        0   \n",
       "2        0   ...                      0                   0        1        0   \n",
       "3        0   ...                      0                   0        1        0   \n",
       "4        0   ...                      0                   0        1        0   \n",
       "\n",
       "   SS-C039  SS-C242  SS-C271  SS-C272  SS-C290  SS-C291  \n",
       "0        1        0        0        0        1        0  \n",
       "1        1        0        0        0        1        0  \n",
       "2        1        0        0        0        1        0  \n",
       "3        1        0        0        0        1        0  \n",
       "4        1        0        0        0        1        0  \n",
       "\n",
       "[5 rows x 98 columns]"
      ]
     },
     "execution_count": 6,
     "metadata": {},
     "output_type": "execute_result"
    }
   ],
   "source": [
    "ngenodf.head()"
   ]
  },
  {
   "cell_type": "code",
   "execution_count": 7,
   "metadata": {},
   "outputs": [
    {
     "data": {
      "text/plain": [
       "94"
      ]
     },
     "execution_count": 7,
     "metadata": {},
     "output_type": "execute_result"
    }
   ],
   "source": [
    "chrlist = np.unique(ngenodf.Chrom).tolist()\n",
    "segs = [s for s in ngenodf.columns.tolist()[tc:] if s not in ['SS-A837','XL280','XL280a']];len(segs)"
   ]
  },
  {
   "cell_type": "code",
   "execution_count": 8,
   "metadata": {
    "collapsed": true
   },
   "outputs": [],
   "source": [
    "tetrads = cryptofxns.axalp"
   ]
  },
  {
   "cell_type": "code",
   "execution_count": 9,
   "metadata": {},
   "outputs": [
    {
     "data": {
      "text/plain": [
       "[['SS-B869_Correction',\n",
       "  'SS-B872_Correction',\n",
       "  'SS-B873_Correction',\n",
       "  'SS-B874_Correction'],\n",
       " ['SS-B876', 'SS-B880', 'SS-B879', 'SS-B885'],\n",
       " ['SS-B886_Correction', 'SS-B887_Correction'],\n",
       " ['SS-B890_Correction',\n",
       "  'SS-B896_Correction',\n",
       "  'SS-B898_Correction',\n",
       "  'SS-B892_Correction',\n",
       "  'SS-B901_Correction',\n",
       "  'SS-B905',\n",
       "  'SS-B906_Correction',\n",
       "  'SS-B908_Correction'],\n",
       " ['SS-B926', 'SS-B927', 'SS-B929', 'SS-B930'],\n",
       " ['SS-B952', 'SS-B956'],\n",
       " ['SS-B960_Correction', 'SS-B961_Correction'],\n",
       " ['SS-B996', 'SS-B997', 'SS-B998'],\n",
       " ['SS-C001'],\n",
       " ['SS-C026_Correction', 'SS-C029_Correction'],\n",
       " ['SS-C031_Correction'],\n",
       " ['SS-C033', 'SS-C036', 'SS-C039'],\n",
       " ['SS-C242'],\n",
       " ['SS-C271', 'SS-C272'],\n",
       " ['SS-C273'],\n",
       " ['SS-C290', 'SS-C291']]"
      ]
     },
     "execution_count": 9,
     "metadata": {},
     "output_type": "execute_result"
    }
   ],
   "source": [
    "tetrads"
   ]
  },
  {
   "cell_type": "markdown",
   "metadata": {},
   "source": [
    "# Gene Conversions and Allelic Distortion"
   ]
  },
  {
   "cell_type": "markdown",
   "metadata": {},
   "source": [
    "## For our bi-sexual segregants from the same basidium in \"complete tetrads\" we will look for evidence of allelic bias and distortion"
   ]
  },
  {
   "cell_type": "code",
   "execution_count": 10,
   "metadata": {
    "collapsed": true,
    "scrolled": true
   },
   "outputs": [],
   "source": [
    "full_tetrads = [tet for a,tet in enumerate(tetrads) if len(tet) >= 3]"
   ]
  },
  {
   "cell_type": "code",
   "execution_count": 11,
   "metadata": {},
   "outputs": [
    {
     "data": {
      "text/plain": [
       "[['SS-B869_Correction',\n",
       "  'SS-B872_Correction',\n",
       "  'SS-B873_Correction',\n",
       "  'SS-B874_Correction'],\n",
       " ['SS-B876', 'SS-B880', 'SS-B879', 'SS-B885'],\n",
       " ['SS-B890_Correction',\n",
       "  'SS-B896_Correction',\n",
       "  'SS-B898_Correction',\n",
       "  'SS-B892_Correction',\n",
       "  'SS-B901_Correction',\n",
       "  'SS-B905',\n",
       "  'SS-B906_Correction',\n",
       "  'SS-B908_Correction'],\n",
       " ['SS-B926', 'SS-B927', 'SS-B929', 'SS-B930'],\n",
       " ['SS-B996', 'SS-B997', 'SS-B998'],\n",
       " ['SS-C033', 'SS-C036', 'SS-C039']]"
      ]
     },
     "execution_count": 11,
     "metadata": {},
     "output_type": "execute_result"
    }
   ],
   "source": [
    "full_tetrads"
   ]
  },
  {
   "cell_type": "markdown",
   "metadata": {},
   "source": [
    "## filter tetrads"
   ]
  },
  {
   "cell_type": "code",
   "execution_count": 12,
   "metadata": {
    "collapsed": true
   },
   "outputs": [],
   "source": [
    "segout=cryptofxns.geno_remove"
   ]
  },
  {
   "cell_type": "code",
   "execution_count": 13,
   "metadata": {},
   "outputs": [
    {
     "data": {
      "text/plain": [
       "[1]"
      ]
     },
     "execution_count": 13,
     "metadata": {},
     "output_type": "execute_result"
    }
   ],
   "source": [
    "outahere = []\n",
    "for i,tet in enumerate(full_tetrads):\n",
    "    for seg in tet:\n",
    "        if seg in segout:\n",
    "            outahere.append(i)\n",
    "outa = np.unique(outahere).tolist()\n",
    "outa"
   ]
  },
  {
   "cell_type": "markdown",
   "metadata": {},
   "source": [
    "## We tried to add in the last tetratype. The math gets weird at the end so we'll leave it out for now."
   ]
  },
  {
   "cell_type": "code",
   "execution_count": 14,
   "metadata": {},
   "outputs": [
    {
     "data": {
      "text/plain": [
       "[['SS-B869_Correction',\n",
       "  'SS-B872_Correction',\n",
       "  'SS-B873_Correction',\n",
       "  'SS-B874_Correction'],\n",
       " ['SS-B890_Correction',\n",
       "  'SS-B896_Correction',\n",
       "  'SS-B898_Correction',\n",
       "  'SS-B892_Correction',\n",
       "  'SS-B901_Correction',\n",
       "  'SS-B905',\n",
       "  'SS-B906_Correction',\n",
       "  'SS-B908_Correction'],\n",
       " ['SS-B926', 'SS-B927', 'SS-B929', 'SS-B930'],\n",
       " ['SS-B996', 'SS-B997', 'SS-B998'],\n",
       " ['SS-C033', 'SS-C036', 'SS-C039']]"
      ]
     },
     "execution_count": 14,
     "metadata": {},
     "output_type": "execute_result"
    }
   ],
   "source": [
    "complete_tetrads = [i for x,i in enumerate(full_tetrads) if x != outa[0]]\n",
    "complete_tetrads = complete_tetrads #+ [['SS-B876', 'SS-B880', 'SS-B879']] ## This tetratype has two identical strains and disomy of chrom 10\n",
    "complete_tetrads"
   ]
  },
  {
   "cell_type": "code",
   "execution_count": 15,
   "metadata": {
    "collapsed": true
   },
   "outputs": [],
   "source": [
    "tetraddfs = [ngenodf[ngenodf.columns.tolist()[:tc] + ctet].dropna(axis=0,how='any').reset_index(drop=True).copy() for ctet in complete_tetrads]"
   ]
  },
  {
   "cell_type": "code",
   "execution_count": 16,
   "metadata": {},
   "outputs": [
    {
     "name": "stderr",
     "output_type": "stream",
     "text": [
      "/Users/croth/anaconda2/lib/python2.7/site-packages/ipykernel_launcher.py:6: DeprecationWarning: \n",
      ".ix is deprecated. Please use\n",
      ".loc for label based indexing or\n",
      ".iloc for positional indexing\n",
      "\n",
      "See the documentation here:\n",
      "http://pandas.pydata.org/pandas-docs/stable/indexing.html#ix-indexer-is-deprecated\n",
      "  \n"
     ]
    }
   ],
   "source": [
    "for a in range(len(tetraddfs)):\n",
    "    temp = tetraddfs[a]\n",
    "    segs = temp.columns.tolist()[4:]\n",
    "    assert len(segs) == len(complete_tetrads[a])\n",
    "    denom = float([4 if len(complete_tetrads[a]) <= 4 else len(complete_tetrads[a])][0])\n",
    "    AF = np.array(temp.ix[:,tc:].sum(axis=1).tolist())/denom\n",
    "    temp['AF'] = AF"
   ]
  },
  {
   "cell_type": "code",
   "execution_count": 17,
   "metadata": {},
   "outputs": [
    {
     "data": {
      "text/html": [
       "<div>\n",
       "<style>\n",
       "    .dataframe thead tr:only-child th {\n",
       "        text-align: right;\n",
       "    }\n",
       "\n",
       "    .dataframe thead th {\n",
       "        text-align: left;\n",
       "    }\n",
       "\n",
       "    .dataframe tbody tr th {\n",
       "        vertical-align: top;\n",
       "    }\n",
       "</style>\n",
       "<table border=\"1\" class=\"dataframe\">\n",
       "  <thead>\n",
       "    <tr style=\"text-align: right;\">\n",
       "      <th></th>\n",
       "      <th>Alt</th>\n",
       "      <th>Chrom</th>\n",
       "      <th>Pos</th>\n",
       "      <th>Ref</th>\n",
       "      <th>SS-C033</th>\n",
       "      <th>SS-C036</th>\n",
       "      <th>SS-C039</th>\n",
       "      <th>AF</th>\n",
       "    </tr>\n",
       "  </thead>\n",
       "  <tbody>\n",
       "    <tr>\n",
       "      <th>0</th>\n",
       "      <td>A</td>\n",
       "      <td>Chr01</td>\n",
       "      <td>5016.0</td>\n",
       "      <td>C</td>\n",
       "      <td>1</td>\n",
       "      <td>0</td>\n",
       "      <td>1</td>\n",
       "      <td>0.5</td>\n",
       "    </tr>\n",
       "    <tr>\n",
       "      <th>1</th>\n",
       "      <td>C</td>\n",
       "      <td>Chr01</td>\n",
       "      <td>5299.0</td>\n",
       "      <td>T</td>\n",
       "      <td>1</td>\n",
       "      <td>0</td>\n",
       "      <td>1</td>\n",
       "      <td>0.5</td>\n",
       "    </tr>\n",
       "    <tr>\n",
       "      <th>2</th>\n",
       "      <td>C</td>\n",
       "      <td>Chr01</td>\n",
       "      <td>5464.0</td>\n",
       "      <td>T</td>\n",
       "      <td>1</td>\n",
       "      <td>0</td>\n",
       "      <td>1</td>\n",
       "      <td>0.5</td>\n",
       "    </tr>\n",
       "    <tr>\n",
       "      <th>3</th>\n",
       "      <td>C</td>\n",
       "      <td>Chr01</td>\n",
       "      <td>6120.0</td>\n",
       "      <td>T</td>\n",
       "      <td>1</td>\n",
       "      <td>0</td>\n",
       "      <td>1</td>\n",
       "      <td>0.5</td>\n",
       "    </tr>\n",
       "    <tr>\n",
       "      <th>4</th>\n",
       "      <td>A</td>\n",
       "      <td>Chr01</td>\n",
       "      <td>6166.0</td>\n",
       "      <td>G</td>\n",
       "      <td>1</td>\n",
       "      <td>0</td>\n",
       "      <td>1</td>\n",
       "      <td>0.5</td>\n",
       "    </tr>\n",
       "  </tbody>\n",
       "</table>\n",
       "</div>"
      ],
      "text/plain": [
       "  Alt  Chrom     Pos Ref  SS-C033  SS-C036  SS-C039   AF\n",
       "0   A  Chr01  5016.0   C        1        0        1  0.5\n",
       "1   C  Chr01  5299.0   T        1        0        1  0.5\n",
       "2   C  Chr01  5464.0   T        1        0        1  0.5\n",
       "3   C  Chr01  6120.0   T        1        0        1  0.5\n",
       "4   A  Chr01  6166.0   G        1        0        1  0.5"
      ]
     },
     "execution_count": 17,
     "metadata": {},
     "output_type": "execute_result"
    }
   ],
   "source": [
    "tetraddfs[-1].head()"
   ]
  },
  {
   "cell_type": "markdown",
   "metadata": {},
   "source": [
    "## Visulalize what Allelic distortion and gene conversions look like"
   ]
  },
  {
   "cell_type": "code",
   "execution_count": 18,
   "metadata": {},
   "outputs": [
    {
     "data": {
      "image/png": "[encoded data removed]",
      "text/plain": [
       "<matplotlib.figure.Figure at 0x11112ecd0>"
      ]
     },
     "metadata": {},
     "output_type": "display_data"
    }
   ],
   "source": [
    "CHR = 'Chr01'\n",
    "k = 0\n",
    "plt.plot(tetraddfs[k].Pos[tetraddfs[k].Chrom==CHR],tetraddfs[k].AF[tetraddfs[k].Chrom==CHR],'.');\n",
    "plt.ylim(-0.1,1.1);plt.xlabel('Chromosomal Position (bases) on %s'%CHR);plt.ylabel('Allele Frequency');\n",
    "plt.title('Allele Frequency for basidium: %s'%k);"
   ]
  },
  {
   "cell_type": "markdown",
   "metadata": {},
   "source": [
    "# Labeling and finding allelic distortions and gene conversions "
   ]
  },
  {
   "cell_type": "code",
   "execution_count": 19,
   "metadata": {
    "collapsed": true
   },
   "outputs": [],
   "source": [
    "for i,df in enumerate(tetraddfs):\n",
    "    temp = []\n",
    "    dfin = df.index.tolist()\n",
    "    thesegs = df.columns[4:-1]\n",
    "    if len(thesegs) == 4:\n",
    "        for j in dfin:\n",
    "            if df['AF'][j] == 0.0:\n",
    "                temp.append('zero')\n",
    "            elif df['AF'][j] == 1.0:\n",
    "                temp.append('one')\n",
    "            elif df['AF'][j] in [.25,.75]:\n",
    "                temp.append('gc')\n",
    "            elif df['AF'][j] == .5:\n",
    "                temp.append(0)\n",
    "            else:\n",
    "                print df['AF'][j]\n",
    "        df['LOH'] = temp\n",
    "    if len(thesegs) == 8:\n",
    "        for j in dfin:\n",
    "            if df['AF'][j] == 0:\n",
    "                temp.append('zero')\n",
    "            elif df['AF'][j] == 1.0:\n",
    "                temp.append('one')\n",
    "            elif (df['AF'][j] != 0.5) and (df['AF'][j] not in [0.0,1.0]):\n",
    "                temp.append('gc')\n",
    "            elif df['AF'][j] == .5:\n",
    "                temp.append(0)\n",
    "            else:\n",
    "                print df['AF'][j]\n",
    "        df['LOH'] = temp\n",
    "    if len(thesegs) == 3:\n",
    "        for j in dfin:\n",
    "            if df['AF'][j] == 0.0:\n",
    "                temp.append('zero')\n",
    "            elif df['AF'][j] == .75:\n",
    "                temp.append('one')\n",
    "            elif df['AF'][j] in [.5,.25]:\n",
    "                temp.append(0)\n",
    "            else:\n",
    "                print df['AF'][j],len(thesegs)\n",
    "        df['LOH'] = temp"
   ]
  },
  {
   "cell_type": "code",
   "execution_count": 20,
   "metadata": {},
   "outputs": [
    {
     "data": {
      "text/html": [
       "<div>\n",
       "<style>\n",
       "    .dataframe thead tr:only-child th {\n",
       "        text-align: right;\n",
       "    }\n",
       "\n",
       "    .dataframe thead th {\n",
       "        text-align: left;\n",
       "    }\n",
       "\n",
       "    .dataframe tbody tr th {\n",
       "        vertical-align: top;\n",
       "    }\n",
       "</style>\n",
       "<table border=\"1\" class=\"dataframe\">\n",
       "  <thead>\n",
       "    <tr style=\"text-align: right;\">\n",
       "      <th></th>\n",
       "      <th>Alt</th>\n",
       "      <th>Chrom</th>\n",
       "      <th>Pos</th>\n",
       "      <th>Ref</th>\n",
       "      <th>SS-B869_Correction</th>\n",
       "      <th>SS-B872_Correction</th>\n",
       "      <th>SS-B873_Correction</th>\n",
       "      <th>SS-B874_Correction</th>\n",
       "      <th>AF</th>\n",
       "      <th>LOH</th>\n",
       "    </tr>\n",
       "  </thead>\n",
       "  <tbody>\n",
       "    <tr>\n",
       "      <th>0</th>\n",
       "      <td>A</td>\n",
       "      <td>Chr01</td>\n",
       "      <td>5016.0</td>\n",
       "      <td>C</td>\n",
       "      <td>0</td>\n",
       "      <td>0</td>\n",
       "      <td>0</td>\n",
       "      <td>0</td>\n",
       "      <td>0.0</td>\n",
       "      <td>zero</td>\n",
       "    </tr>\n",
       "    <tr>\n",
       "      <th>1</th>\n",
       "      <td>C</td>\n",
       "      <td>Chr01</td>\n",
       "      <td>5299.0</td>\n",
       "      <td>T</td>\n",
       "      <td>0</td>\n",
       "      <td>0</td>\n",
       "      <td>0</td>\n",
       "      <td>0</td>\n",
       "      <td>0.0</td>\n",
       "      <td>zero</td>\n",
       "    </tr>\n",
       "    <tr>\n",
       "      <th>2</th>\n",
       "      <td>C</td>\n",
       "      <td>Chr01</td>\n",
       "      <td>5464.0</td>\n",
       "      <td>T</td>\n",
       "      <td>0</td>\n",
       "      <td>0</td>\n",
       "      <td>0</td>\n",
       "      <td>0</td>\n",
       "      <td>0.0</td>\n",
       "      <td>zero</td>\n",
       "    </tr>\n",
       "    <tr>\n",
       "      <th>3</th>\n",
       "      <td>C</td>\n",
       "      <td>Chr01</td>\n",
       "      <td>6120.0</td>\n",
       "      <td>T</td>\n",
       "      <td>0</td>\n",
       "      <td>0</td>\n",
       "      <td>0</td>\n",
       "      <td>0</td>\n",
       "      <td>0.0</td>\n",
       "      <td>zero</td>\n",
       "    </tr>\n",
       "    <tr>\n",
       "      <th>4</th>\n",
       "      <td>A</td>\n",
       "      <td>Chr01</td>\n",
       "      <td>6166.0</td>\n",
       "      <td>G</td>\n",
       "      <td>0</td>\n",
       "      <td>0</td>\n",
       "      <td>0</td>\n",
       "      <td>0</td>\n",
       "      <td>0.0</td>\n",
       "      <td>zero</td>\n",
       "    </tr>\n",
       "  </tbody>\n",
       "</table>\n",
       "</div>"
      ],
      "text/plain": [
       "  Alt  Chrom     Pos Ref  SS-B869_Correction  SS-B872_Correction  \\\n",
       "0   A  Chr01  5016.0   C                   0                   0   \n",
       "1   C  Chr01  5299.0   T                   0                   0   \n",
       "2   C  Chr01  5464.0   T                   0                   0   \n",
       "3   C  Chr01  6120.0   T                   0                   0   \n",
       "4   A  Chr01  6166.0   G                   0                   0   \n",
       "\n",
       "   SS-B873_Correction  SS-B874_Correction   AF   LOH  \n",
       "0                   0                   0  0.0  zero  \n",
       "1                   0                   0  0.0  zero  \n",
       "2                   0                   0  0.0  zero  \n",
       "3                   0                   0  0.0  zero  \n",
       "4                   0                   0  0.0  zero  "
      ]
     },
     "execution_count": 20,
     "metadata": {},
     "output_type": "execute_result"
    }
   ],
   "source": [
    "tetraddfs[0].head()"
   ]
  },
  {
   "cell_type": "code",
   "execution_count": 21,
   "metadata": {},
   "outputs": [
    {
     "data": {
      "text/html": [
       "<div>\n",
       "<style>\n",
       "    .dataframe thead tr:only-child th {\n",
       "        text-align: right;\n",
       "    }\n",
       "\n",
       "    .dataframe thead th {\n",
       "        text-align: left;\n",
       "    }\n",
       "\n",
       "    .dataframe tbody tr th {\n",
       "        vertical-align: top;\n",
       "    }\n",
       "</style>\n",
       "<table border=\"1\" class=\"dataframe\">\n",
       "  <thead>\n",
       "    <tr style=\"text-align: right;\">\n",
       "      <th></th>\n",
       "      <th>Alt</th>\n",
       "      <th>Chrom</th>\n",
       "      <th>Pos</th>\n",
       "      <th>Ref</th>\n",
       "      <th>SS-C033</th>\n",
       "      <th>SS-C036</th>\n",
       "      <th>SS-C039</th>\n",
       "      <th>AF</th>\n",
       "      <th>LOH</th>\n",
       "    </tr>\n",
       "  </thead>\n",
       "  <tbody>\n",
       "    <tr>\n",
       "      <th>15633</th>\n",
       "      <td>C</td>\n",
       "      <td>Chr10</td>\n",
       "      <td>1074868.0</td>\n",
       "      <td>G</td>\n",
       "      <td>1</td>\n",
       "      <td>0</td>\n",
       "      <td>0</td>\n",
       "      <td>0.25</td>\n",
       "      <td>0</td>\n",
       "    </tr>\n",
       "    <tr>\n",
       "      <th>15634</th>\n",
       "      <td>T</td>\n",
       "      <td>Chr10</td>\n",
       "      <td>1075135.0</td>\n",
       "      <td>A</td>\n",
       "      <td>1</td>\n",
       "      <td>0</td>\n",
       "      <td>0</td>\n",
       "      <td>0.25</td>\n",
       "      <td>0</td>\n",
       "    </tr>\n",
       "    <tr>\n",
       "      <th>15635</th>\n",
       "      <td>T</td>\n",
       "      <td>Chr10</td>\n",
       "      <td>1075209.0</td>\n",
       "      <td>C</td>\n",
       "      <td>1</td>\n",
       "      <td>0</td>\n",
       "      <td>0</td>\n",
       "      <td>0.25</td>\n",
       "      <td>0</td>\n",
       "    </tr>\n",
       "    <tr>\n",
       "      <th>15636</th>\n",
       "      <td>T</td>\n",
       "      <td>Chr10</td>\n",
       "      <td>1075633.0</td>\n",
       "      <td>C</td>\n",
       "      <td>1</td>\n",
       "      <td>0</td>\n",
       "      <td>0</td>\n",
       "      <td>0.25</td>\n",
       "      <td>0</td>\n",
       "    </tr>\n",
       "    <tr>\n",
       "      <th>15637</th>\n",
       "      <td>T</td>\n",
       "      <td>Chr10</td>\n",
       "      <td>1076004.0</td>\n",
       "      <td>C</td>\n",
       "      <td>1</td>\n",
       "      <td>0</td>\n",
       "      <td>0</td>\n",
       "      <td>0.25</td>\n",
       "      <td>0</td>\n",
       "    </tr>\n",
       "  </tbody>\n",
       "</table>\n",
       "</div>"
      ],
      "text/plain": [
       "      Alt  Chrom        Pos Ref  SS-C033  SS-C036  SS-C039    AF LOH\n",
       "15633   C  Chr10  1074868.0   G        1        0        0  0.25   0\n",
       "15634   T  Chr10  1075135.0   A        1        0        0  0.25   0\n",
       "15635   T  Chr10  1075209.0   C        1        0        0  0.25   0\n",
       "15636   T  Chr10  1075633.0   C        1        0        0  0.25   0\n",
       "15637   T  Chr10  1076004.0   C        1        0        0  0.25   0"
      ]
     },
     "execution_count": 21,
     "metadata": {},
     "output_type": "execute_result"
    }
   ],
   "source": [
    "tetraddfs[-1][tetraddfs[-1].Chrom=='Chr10'].tail()"
   ]
  },
  {
   "cell_type": "code",
   "execution_count": 22,
   "metadata": {},
   "outputs": [
    {
     "data": {
      "image/png": "[encoded data removed]",
      "text/plain": [
       "<matplotlib.figure.Figure at 0x1a15e77dd0>"
      ]
     },
     "metadata": {},
     "output_type": "display_data"
    }
   ],
   "source": [
    "CHR = 'Chr01'\n",
    "k = 0\n",
    "plt.plot(tetraddfs[k].Pos[tetraddfs[k].Chrom==CHR],tetraddfs[k].AF[tetraddfs[k].Chrom==CHR],'.');\n",
    "plt.plot(tetraddfs[k][(tetraddfs[k].Chrom==CHR)&(tetraddfs[k]['LOH']=='zero')]['Pos'],\n",
    "         np.zeros(len(tetraddfs[k].Pos[(tetraddfs[k].Chrom==CHR)&(tetraddfs[k]['LOH']=='zero')]))-1,'r.');\n",
    "plt.ylim(-1.5,1.1);plt.xlabel('Chromosomal Position (bases) on %s'%CHR);plt.ylabel('Allele Frequency');\n",
    "plt.title('Allele Frequency for basidium: %s'%k);"
   ]
  },
  {
   "cell_type": "code",
   "execution_count": 23,
   "metadata": {},
   "outputs": [
    {
     "data": {
      "text/plain": [
       "['gc', 'zero', 'one']"
      ]
     },
     "execution_count": 23,
     "metadata": {},
     "output_type": "execute_result"
    }
   ],
   "source": [
    "[s for s in tetraddfs[1].LOH.unique() if type(s) != int]"
   ]
  },
  {
   "cell_type": "code",
   "execution_count": 24,
   "metadata": {
    "collapsed": true
   },
   "outputs": [],
   "source": [
    "def LOH_regions(tetdfs,thestate=['gc','zero','one'],distance=1):\n",
    "    Chrlist = sorted(tetdfs[0].Chrom.unique().tolist());assert len(Chrlist) == 14;\n",
    "    newdf = pd.DataFrame(columns=Chrlist,index=range(len(tetdfs)))\n",
    "    gtdf = pd.DataFrame(columns=Chrlist,index=range(len(tetdfs)))\n",
    "    posdf = pd.DataFrame(columns=Chrlist,index=range(len(tetdfs)))\n",
    "    for d,df in enumerate(tetdfs):\n",
    "        for chrom in Chrlist:\n",
    "            sub = df[df.Chrom==chrom];\n",
    "            if len(sub) == 0:\n",
    "                print \"Bad Chrom\",d\n",
    "            states =  thestate\n",
    "            width = []\n",
    "            gt = []\n",
    "            poss = []\n",
    "            for state in states:\n",
    "                posin = sub.Pos[sub['LOH']==state].index.tolist();\n",
    "                if len(posin) == 0:\n",
    "                    width.append([])\n",
    "                    gt.append([])\n",
    "                    poss.append([])\n",
    "                    continue\n",
    "                regionin = [];\n",
    "                regionin.append(0)\n",
    "                for i in range(len(posin)-1):\n",
    "                    if posin[i+1] - posin[i] > distance:\n",
    "                        regionin.append(i+1)\n",
    "                    else:\n",
    "                        pass\n",
    "                regionin.append(len(posin))\n",
    "                statepos = [(sub.Pos[posin[regionin[i]]],sub.Pos[posin[regionin[i+1]-1]]) for i in range(len(regionin)-1)]\n",
    "                statewidth = [sub.Pos[posin[regionin[i+1]-1]] - sub.Pos[posin[regionin[i]]] - 1.0 for i in range(len(regionin)-1)]\n",
    "                stategt = [ sub.ix[posin[regionin[i]],sub.columns[4:-2]].sum() for i in range(len(regionin)-1)]\n",
    "                width.append([w for w in statewidth if w > 0]);\n",
    "                gtin = [g for g, w in enumerate(statewidth) if w > 0]\n",
    "                gt.append([stategt[g] for g in gtin])\n",
    "                poss.append([statepos[g] for g in gtin])\n",
    "            newdf[chrom][d] = width\n",
    "            gtdf[chrom][d] = gt\n",
    "            posdf[chrom][d] = poss\n",
    "    return newdf,gtdf,posdf"
   ]
  },
  {
   "cell_type": "code",
   "execution_count": 25,
   "metadata": {},
   "outputs": [
    {
     "name": "stderr",
     "output_type": "stream",
     "text": [
      "/Users/croth/anaconda2/lib/python2.7/site-packages/ipykernel_launcher.py:32: DeprecationWarning: \n",
      ".ix is deprecated. Please use\n",
      ".loc for label based indexing or\n",
      ".iloc for positional indexing\n",
      "\n",
      "See the documentation here:\n",
      "http://pandas.pydata.org/pandas-docs/stable/indexing.html#ix-indexer-is-deprecated\n"
     ]
    }
   ],
   "source": [
    "widths_df = LOH_regions(tetraddfs)"
   ]
  },
  {
   "cell_type": "code",
   "execution_count": 26,
   "metadata": {},
   "outputs": [
    {
     "data": {
      "text/plain": [
       "102.0"
      ]
     },
     "execution_count": 26,
     "metadata": {},
     "output_type": "execute_result"
    }
   ],
   "source": [
    "1337833.0 - 1337731.0"
   ]
  },
  {
   "cell_type": "code",
   "execution_count": 27,
   "metadata": {},
   "outputs": [
    {
     "name": "stderr",
     "output_type": "stream",
     "text": [
      "/Users/croth/anaconda2/lib/python2.7/site-packages/ipykernel_launcher.py:1: DeprecationWarning: \n",
      ".ix is deprecated. Please use\n",
      ".loc for label based indexing or\n",
      ".iloc for positional indexing\n",
      "\n",
      "See the documentation here:\n",
      "http://pandas.pydata.org/pandas-docs/stable/indexing.html#ix-indexer-is-deprecated\n",
      "  \"\"\"Entry point for launching an IPython kernel.\n"
     ]
    },
    {
     "data": {
      "text/plain": [
       "[[13191.0, 96.0, 97355.0, 35227.0, 62631.0, 371980.0, 35327.0], [433558.0], []]"
      ]
     },
     "execution_count": 27,
     "metadata": {},
     "output_type": "execute_result"
    }
   ],
   "source": [
    "widths_df[0].ix[1,'Chr02']"
   ]
  },
  {
   "cell_type": "code",
   "execution_count": 28,
   "metadata": {},
   "outputs": [
    {
     "name": "stderr",
     "output_type": "stream",
     "text": [
      "/Users/croth/anaconda2/lib/python2.7/site-packages/ipykernel_launcher.py:1: DeprecationWarning: \n",
      ".ix is deprecated. Please use\n",
      ".loc for label based indexing or\n",
      ".iloc for positional indexing\n",
      "\n",
      "See the documentation here:\n",
      "http://pandas.pydata.org/pandas-docs/stable/indexing.html#ix-indexer-is-deprecated\n",
      "  \"\"\"Entry point for launching an IPython kernel.\n"
     ]
    },
    {
     "data": {
      "text/plain": [
       "[[3, 3, 5, 3, 3, 3, 3], [0], []]"
      ]
     },
     "execution_count": 28,
     "metadata": {},
     "output_type": "execute_result"
    }
   ],
   "source": [
    "widths_df[1].ix[1,'Chr02']"
   ]
  },
  {
   "cell_type": "code",
   "execution_count": 29,
   "metadata": {},
   "outputs": [
    {
     "name": "stderr",
     "output_type": "stream",
     "text": [
      "/Users/croth/anaconda2/lib/python2.7/site-packages/ipykernel_launcher.py:1: DeprecationWarning: \n",
      ".ix is deprecated. Please use\n",
      ".loc for label based indexing or\n",
      ".iloc for positional indexing\n",
      "\n",
      "See the documentation here:\n",
      "http://pandas.pydata.org/pandas-docs/stable/indexing.html#ix-indexer-is-deprecated\n",
      "  \"\"\"Entry point for launching an IPython kernel.\n"
     ]
    },
    {
     "data": {
      "text/plain": [
       "Chr01    [[(1337731.0, 1337833.0)], [(5016.0, 39118.0),...\n",
       "Chr02    [[], [(2458.0, 546981.0), (975583.0, 1623022.0...\n",
       "Chr03    [[(1359227.0, 1359616.0)], [(9636.0, 495876.0)...\n",
       "Chr04                       [[], [(7357.0, 710054.0)], []]\n",
       "Chr05    [[(970398.0, 970573.0), (1372457.0, 1375196.0)...\n",
       "Chr06                      [[], [(9790.0, 1413156.0)], []]\n",
       "Chr07                       [[], [(2180.0, 744569.0)], []]\n",
       "Chr08    [[], [(147299.0, 244361.0), (930347.0, 995967....\n",
       "Chr09                     [[], [(260673.0, 705930.0)], []]\n",
       "Chr10    [[(893712.0, 893725.0)], [(5073.0, 370966.0)],...\n",
       "Chr11                     [[], [(751568.0, 947885.0)], []]\n",
       "Chr12                     [[], [(210606.0, 904913.0)], []]\n",
       "Chr13                      [[], [(84787.0, 772362.0)], []]\n",
       "Chr14    [[(668080.0, 668927.0)], [(669038.0, 745415.0)...\n",
       "Name: 0, dtype: object"
      ]
     },
     "execution_count": 29,
     "metadata": {},
     "output_type": "execute_result"
    }
   ],
   "source": [
    "widths_df[2].ix[0,:]"
   ]
  },
  {
   "cell_type": "code",
   "execution_count": 30,
   "metadata": {},
   "outputs": [
    {
     "data": {
      "text/plain": [
       "Chr01    [[138.0, 8.0], [363850.0, 280189.0], []]\n",
       "Chr02                        [[], [433558.0], []]\n",
       "Chr03                   [[265.0], [], [148067.0]]\n",
       "Chr04           [[158.0], [613052.0], [107820.0]]\n",
       "Chr05           [[117.0, 3322.0], [], [187844.0]]\n",
       "Chr06                    [[32.0], [551667.0], []]\n",
       "Chr07                   [[879.0], [229407.0], []]\n",
       "Chr08                 [[86.0, 23.0], [], [581.0]]\n",
       "Chr09            [[25.0], [258426.0], [313542.0]]\n",
       "Chr10                             [[6.0], [], []]\n",
       "Chr11                                [[], [], []]\n",
       "Chr12    [[26359.0, 23.0, 533.0], [245883.0], []]\n",
       "Chr13                        [[], [335495.0], []]\n",
       "Chr14               [[], [], [485780.0, 76691.0]]\n",
       "Name: 2, dtype: object"
      ]
     },
     "execution_count": 30,
     "metadata": {},
     "output_type": "execute_result"
    }
   ],
   "source": [
    "widths_df[0].ix[2,:]"
   ]
  },
  {
   "cell_type": "code",
   "execution_count": 31,
   "metadata": {},
   "outputs": [
    {
     "data": {
      "text/plain": [
       "Chr01    [[101.0], [34101.0, 647301.0, 301162.0], []]\n",
       "Chr02                  [[], [544522.0, 647438.0], []]\n",
       "Chr03             [[388.0], [486239.0, 588237.0], []]\n",
       "Chr04                            [[], [702696.0], []]\n",
       "Chr05     [[174.0, 2738.0], [129527.0, 131003.0], []]\n",
       "Chr06                           [[], [1403365.0], []]\n",
       "Chr07                            [[], [742388.0], []]\n",
       "Chr08                    [[], [97061.0, 65619.0], []]\n",
       "Chr09                            [[], [445256.0], []]\n",
       "Chr10                        [[12.0], [365892.0], []]\n",
       "Chr11                            [[], [196316.0], []]\n",
       "Chr12                            [[], [694306.0], []]\n",
       "Chr13                            [[], [687574.0], []]\n",
       "Chr14                        [[846.0], [76376.0], []]\n",
       "Name: 0, dtype: object"
      ]
     },
     "execution_count": 31,
     "metadata": {},
     "output_type": "execute_result"
    }
   ],
   "source": [
    "widths_df[0].ix[0,:]"
   ]
  },
  {
   "cell_type": "code",
   "execution_count": 32,
   "metadata": {},
   "outputs": [
    {
     "data": {
      "text/html": [
       "<div>\n",
       "<style>\n",
       "    .dataframe thead tr:only-child th {\n",
       "        text-align: right;\n",
       "    }\n",
       "\n",
       "    .dataframe thead th {\n",
       "        text-align: left;\n",
       "    }\n",
       "\n",
       "    .dataframe tbody tr th {\n",
       "        vertical-align: top;\n",
       "    }\n",
       "</style>\n",
       "<table border=\"1\" class=\"dataframe\">\n",
       "  <thead>\n",
       "    <tr style=\"text-align: right;\">\n",
       "      <th></th>\n",
       "      <th>Chr01</th>\n",
       "      <th>Chr02</th>\n",
       "      <th>Chr03</th>\n",
       "      <th>Chr04</th>\n",
       "      <th>Chr05</th>\n",
       "      <th>Chr06</th>\n",
       "      <th>Chr07</th>\n",
       "      <th>Chr08</th>\n",
       "      <th>Chr09</th>\n",
       "      <th>Chr10</th>\n",
       "      <th>Chr11</th>\n",
       "      <th>Chr12</th>\n",
       "      <th>Chr13</th>\n",
       "      <th>Chr14</th>\n",
       "    </tr>\n",
       "  </thead>\n",
       "  <tbody>\n",
       "    <tr>\n",
       "      <th>0</th>\n",
       "      <td>[[(1337731.0, 1337833.0)], [(5016.0, 39118.0),...</td>\n",
       "      <td>[[], [(2458.0, 546981.0), (975583.0, 1623022.0...</td>\n",
       "      <td>[[(1359227.0, 1359616.0)], [(9636.0, 495876.0)...</td>\n",
       "      <td>[[], [(7357.0, 710054.0)], []]</td>\n",
       "      <td>[[(970398.0, 970573.0), (1372457.0, 1375196.0)...</td>\n",
       "      <td>[[], [(9790.0, 1413156.0)], []]</td>\n",
       "      <td>[[], [(2180.0, 744569.0)], []]</td>\n",
       "      <td>[[], [(147299.0, 244361.0), (930347.0, 995967....</td>\n",
       "      <td>[[], [(260673.0, 705930.0)], []]</td>\n",
       "      <td>[[(893712.0, 893725.0)], [(5073.0, 370966.0)],...</td>\n",
       "      <td>[[], [(751568.0, 947885.0)], []]</td>\n",
       "      <td>[[], [(210606.0, 904913.0)], []]</td>\n",
       "      <td>[[], [(84787.0, 772362.0)], []]</td>\n",
       "      <td>[[(668080.0, 668927.0)], [(669038.0, 745415.0)...</td>\n",
       "    </tr>\n",
       "    <tr>\n",
       "      <th>1</th>\n",
       "      <td>[[(38724.0, 135545.0), (499845.0, 764786.0), (...</td>\n",
       "      <td>[[(2458.0, 15650.0), (17320.0, 17417.0), (7181...</td>\n",
       "      <td>[[(25768.0, 225976.0), (314202.0, 479379.0), (...</td>\n",
       "      <td>[[(7357.0, 55178.0), (426130.0, 429067.0), (10...</td>\n",
       "      <td>[[(91969.0, 290551.0), (291356.0, 375692.0), (...</td>\n",
       "      <td>[[(9790.0, 37853.0), (41011.0, 47089.0), (5992...</td>\n",
       "      <td>[[(458608.0, 459913.0), (734670.0, 734729.0), ...</td>\n",
       "      <td>[[(262283.0, 677836.0), (686352.0, 687333.0), ...</td>\n",
       "      <td>[[(414735.0, 417435.0), (473153.0, 706253.0), ...</td>\n",
       "      <td>[[(5073.0, 45856.0), (46947.0, 294558.0), (364...</td>\n",
       "      <td>[[(422.0, 233063.0), (291378.0, 438921.0), (45...</td>\n",
       "      <td>[[(207071.0, 361894.0), (608447.0, 821412.0), ...</td>\n",
       "      <td>[[(10809.0, 25381.0), (25872.0, 81382.0), (856...</td>\n",
       "      <td>[[(6648.0, 31161.0), (662814.0, 668231.0)], []...</td>\n",
       "    </tr>\n",
       "    <tr>\n",
       "      <th>2</th>\n",
       "      <td>[[(1597830.0, 1597969.0), (1896168.0, 1896177....</td>\n",
       "      <td>[[], [(75832.0, 509391.0)], []]</td>\n",
       "      <td>[[(1618919.0, 1619185.0)], [], [(1952764.0, 21...</td>\n",
       "      <td>[[(1296926.0, 1297085.0)], [(429748.0, 1042801...</td>\n",
       "      <td>[[(224848.0, 224966.0), (1282365.0, 1285688.0)...</td>\n",
       "      <td>[[(703360.0, 703393.0)], [(47283.0, 598951.0)]...</td>\n",
       "      <td>[[(231816.0, 232696.0)], [(2180.0, 231588.0)],...</td>\n",
       "      <td>[[(272865.0, 272952.0), (694504.0, 694528.0)],...</td>\n",
       "      <td>[[(873211.0, 873237.0)], [(920001.0, 1178428.0...</td>\n",
       "      <td>[[(725924.0, 725931.0)], [], []]</td>\n",
       "      <td>[[], [], []]</td>\n",
       "      <td>[[(36534.0, 62894.0), (312446.0, 312470.0), (7...</td>\n",
       "      <td>[[], [(436866.0, 772362.0)], []]</td>\n",
       "      <td>[[], [], [(33642.0, 519423.0), (668723.0, 7454...</td>\n",
       "    </tr>\n",
       "    <tr>\n",
       "      <th>3</th>\n",
       "      <td>[[], [(42336.0, 480737.0), (745866.0, 1450445....</td>\n",
       "      <td>[[], [(122692.0, 849555.0), (1177096.0, 162302...</td>\n",
       "      <td>[[], [(9636.0, 314205.0), (961494.0, 2100832.0...</td>\n",
       "      <td>[[], [(199523.0, 891848.0), (1673445.0, 178285...</td>\n",
       "      <td>[[], [(21402.0, 206679.0), (742499.0, 1068613....</td>\n",
       "      <td>[[], [(46723.0, 745833.0), (1087700.0, 1160705...</td>\n",
       "      <td>[[], [(2180.0, 1339632.0)], []]</td>\n",
       "      <td>[[], [(65474.0, 146304.0), (681102.0, 1191613....</td>\n",
       "      <td>[[], [(153.0, 71378.0)], []]</td>\n",
       "      <td>[[], [(189541.0, 1076004.0)], []]</td>\n",
       "      <td>[[], [(101253.0, 724731.0)], []]</td>\n",
       "      <td>[[], [(36534.0, 565719.0)], []]</td>\n",
       "      <td>[[], [(10809.0, 64078.0), (208683.0, 208914.0)...</td>\n",
       "      <td>[[], [(6648.0, 216254.0)], []]</td>\n",
       "    </tr>\n",
       "    <tr>\n",
       "      <th>4</th>\n",
       "      <td>[[], [(36573.0, 820616.0), (1598374.0, 1598555...</td>\n",
       "      <td>[[], [(249040.0, 672303.0)], [(2458.0, 80869.0...</td>\n",
       "      <td>[[], [(954967.0, 1204556.0), (1515668.0, 16559...</td>\n",
       "      <td>[[], [(708737.0, 708925.0)], []]</td>\n",
       "      <td>[[], [], [(208653.0, 718288.0)]]</td>\n",
       "      <td>[[], [(1157256.0, 1408584.0)], [(9790.0, 51666...</td>\n",
       "      <td>[[], [(228713.0, 735617.0), (1101035.0, 130904...</td>\n",
       "      <td>[[], [(1032431.0, 1191613.0)], [(262283.0, 464...</td>\n",
       "      <td>[[], [(1081403.0, 1178428.0)], [(153.0, 44462....</td>\n",
       "      <td>[[], [(316127.0, 702288.0)], [(5073.0, 49237.0)]]</td>\n",
       "      <td>[[], [(608536.0, 702735.0)], [(745699.0, 10174...</td>\n",
       "      <td>[[], [(207071.0, 823667.0)], []]</td>\n",
       "      <td>[[], [], [(10809.0, 85010.0)]]</td>\n",
       "      <td>[[], [(674103.0, 745415.0)], []]</td>\n",
       "    </tr>\n",
       "  </tbody>\n",
       "</table>\n",
       "</div>"
      ],
      "text/plain": [
       "                                               Chr01  \\\n",
       "0  [[(1337731.0, 1337833.0)], [(5016.0, 39118.0),...   \n",
       "1  [[(38724.0, 135545.0), (499845.0, 764786.0), (...   \n",
       "2  [[(1597830.0, 1597969.0), (1896168.0, 1896177....   \n",
       "3  [[], [(42336.0, 480737.0), (745866.0, 1450445....   \n",
       "4  [[], [(36573.0, 820616.0), (1598374.0, 1598555...   \n",
       "\n",
       "                                               Chr02  \\\n",
       "0  [[], [(2458.0, 546981.0), (975583.0, 1623022.0...   \n",
       "1  [[(2458.0, 15650.0), (17320.0, 17417.0), (7181...   \n",
       "2                    [[], [(75832.0, 509391.0)], []]   \n",
       "3  [[], [(122692.0, 849555.0), (1177096.0, 162302...   \n",
       "4  [[], [(249040.0, 672303.0)], [(2458.0, 80869.0...   \n",
       "\n",
       "                                               Chr03  \\\n",
       "0  [[(1359227.0, 1359616.0)], [(9636.0, 495876.0)...   \n",
       "1  [[(25768.0, 225976.0), (314202.0, 479379.0), (...   \n",
       "2  [[(1618919.0, 1619185.0)], [], [(1952764.0, 21...   \n",
       "3  [[], [(9636.0, 314205.0), (961494.0, 2100832.0...   \n",
       "4  [[], [(954967.0, 1204556.0), (1515668.0, 16559...   \n",
       "\n",
       "                                               Chr04  \\\n",
       "0                     [[], [(7357.0, 710054.0)], []]   \n",
       "1  [[(7357.0, 55178.0), (426130.0, 429067.0), (10...   \n",
       "2  [[(1296926.0, 1297085.0)], [(429748.0, 1042801...   \n",
       "3  [[], [(199523.0, 891848.0), (1673445.0, 178285...   \n",
       "4                   [[], [(708737.0, 708925.0)], []]   \n",
       "\n",
       "                                               Chr05  \\\n",
       "0  [[(970398.0, 970573.0), (1372457.0, 1375196.0)...   \n",
       "1  [[(91969.0, 290551.0), (291356.0, 375692.0), (...   \n",
       "2  [[(224848.0, 224966.0), (1282365.0, 1285688.0)...   \n",
       "3  [[], [(21402.0, 206679.0), (742499.0, 1068613....   \n",
       "4                   [[], [], [(208653.0, 718288.0)]]   \n",
       "\n",
       "                                               Chr06  \\\n",
       "0                    [[], [(9790.0, 1413156.0)], []]   \n",
       "1  [[(9790.0, 37853.0), (41011.0, 47089.0), (5992...   \n",
       "2  [[(703360.0, 703393.0)], [(47283.0, 598951.0)]...   \n",
       "3  [[], [(46723.0, 745833.0), (1087700.0, 1160705...   \n",
       "4  [[], [(1157256.0, 1408584.0)], [(9790.0, 51666...   \n",
       "\n",
       "                                               Chr07  \\\n",
       "0                     [[], [(2180.0, 744569.0)], []]   \n",
       "1  [[(458608.0, 459913.0), (734670.0, 734729.0), ...   \n",
       "2  [[(231816.0, 232696.0)], [(2180.0, 231588.0)],...   \n",
       "3                    [[], [(2180.0, 1339632.0)], []]   \n",
       "4  [[], [(228713.0, 735617.0), (1101035.0, 130904...   \n",
       "\n",
       "                                               Chr08  \\\n",
       "0  [[], [(147299.0, 244361.0), (930347.0, 995967....   \n",
       "1  [[(262283.0, 677836.0), (686352.0, 687333.0), ...   \n",
       "2  [[(272865.0, 272952.0), (694504.0, 694528.0)],...   \n",
       "3  [[], [(65474.0, 146304.0), (681102.0, 1191613....   \n",
       "4  [[], [(1032431.0, 1191613.0)], [(262283.0, 464...   \n",
       "\n",
       "                                               Chr09  \\\n",
       "0                   [[], [(260673.0, 705930.0)], []]   \n",
       "1  [[(414735.0, 417435.0), (473153.0, 706253.0), ...   \n",
       "2  [[(873211.0, 873237.0)], [(920001.0, 1178428.0...   \n",
       "3                       [[], [(153.0, 71378.0)], []]   \n",
       "4  [[], [(1081403.0, 1178428.0)], [(153.0, 44462....   \n",
       "\n",
       "                                               Chr10  \\\n",
       "0  [[(893712.0, 893725.0)], [(5073.0, 370966.0)],...   \n",
       "1  [[(5073.0, 45856.0), (46947.0, 294558.0), (364...   \n",
       "2                   [[(725924.0, 725931.0)], [], []]   \n",
       "3                  [[], [(189541.0, 1076004.0)], []]   \n",
       "4  [[], [(316127.0, 702288.0)], [(5073.0, 49237.0)]]   \n",
       "\n",
       "                                               Chr11  \\\n",
       "0                   [[], [(751568.0, 947885.0)], []]   \n",
       "1  [[(422.0, 233063.0), (291378.0, 438921.0), (45...   \n",
       "2                                       [[], [], []]   \n",
       "3                   [[], [(101253.0, 724731.0)], []]   \n",
       "4  [[], [(608536.0, 702735.0)], [(745699.0, 10174...   \n",
       "\n",
       "                                               Chr12  \\\n",
       "0                   [[], [(210606.0, 904913.0)], []]   \n",
       "1  [[(207071.0, 361894.0), (608447.0, 821412.0), ...   \n",
       "2  [[(36534.0, 62894.0), (312446.0, 312470.0), (7...   \n",
       "3                    [[], [(36534.0, 565719.0)], []]   \n",
       "4                   [[], [(207071.0, 823667.0)], []]   \n",
       "\n",
       "                                               Chr13  \\\n",
       "0                    [[], [(84787.0, 772362.0)], []]   \n",
       "1  [[(10809.0, 25381.0), (25872.0, 81382.0), (856...   \n",
       "2                   [[], [(436866.0, 772362.0)], []]   \n",
       "3  [[], [(10809.0, 64078.0), (208683.0, 208914.0)...   \n",
       "4                     [[], [], [(10809.0, 85010.0)]]   \n",
       "\n",
       "                                               Chr14  \n",
       "0  [[(668080.0, 668927.0)], [(669038.0, 745415.0)...  \n",
       "1  [[(6648.0, 31161.0), (662814.0, 668231.0)], []...  \n",
       "2  [[], [], [(33642.0, 519423.0), (668723.0, 7454...  \n",
       "3                     [[], [(6648.0, 216254.0)], []]  \n",
       "4                   [[], [(674103.0, 745415.0)], []]  "
      ]
     },
     "execution_count": 32,
     "metadata": {},
     "output_type": "execute_result"
    }
   ],
   "source": [
    "widths_df[2]"
   ]
  },
  {
   "cell_type": "markdown",
   "metadata": {},
   "source": [
    "## Analysis of allelic Distortion\n",
    "### Investigating common positions"
   ]
  },
  {
   "cell_type": "code",
   "execution_count": 33,
   "metadata": {
    "collapsed": true
   },
   "outputs": [],
   "source": [
    "allelic_dis_poss = widths_df[2]"
   ]
  },
  {
   "cell_type": "code",
   "execution_count": 34,
   "metadata": {},
   "outputs": [
    {
     "data": {
      "text/plain": [
       "0    [[(1337731.0, 1337833.0)], [(5016.0, 39118.0),...\n",
       "1    [[(38724.0, 135545.0), (499845.0, 764786.0), (...\n",
       "2    [[(1597830.0, 1597969.0), (1896168.0, 1896177....\n",
       "3    [[], [(42336.0, 480737.0), (745866.0, 1450445....\n",
       "4    [[], [(36573.0, 820616.0), (1598374.0, 1598555...\n",
       "Name: Chr01, dtype: object"
      ]
     },
     "execution_count": 34,
     "metadata": {},
     "output_type": "execute_result"
    }
   ],
   "source": [
    "allelic_dis_poss['Chr01']"
   ]
  },
  {
   "cell_type": "markdown",
   "metadata": {
    "collapsed": true
   },
   "source": [
    "# Analysis of allelic Distortion"
   ]
  },
  {
   "cell_type": "markdown",
   "metadata": {},
   "source": [
    "## Make dataframe with allelic distortions (greater than one base)"
   ]
  },
  {
   "cell_type": "code",
   "execution_count": 35,
   "metadata": {},
   "outputs": [
    {
     "data": {
      "text/plain": [
       "Chr01    [[101.0], [34101.0, 647301.0, 301162.0], []]\n",
       "Chr02                  [[], [544522.0, 647438.0], []]\n",
       "Chr03             [[388.0], [486239.0, 588237.0], []]\n",
       "Chr04                            [[], [702696.0], []]\n",
       "Chr05     [[174.0, 2738.0], [129527.0, 131003.0], []]\n",
       "Name: 0, dtype: object"
      ]
     },
     "execution_count": 35,
     "metadata": {},
     "output_type": "execute_result"
    }
   ],
   "source": [
    "allelic_distortion = widths_df[0]\n",
    "allelic_distortion.ix[0,:].head()"
   ]
  },
  {
   "cell_type": "markdown",
   "metadata": {},
   "source": [
    "## Distributions of size of alleic distortion"
   ]
  },
  {
   "cell_type": "code",
   "execution_count": 36,
   "metadata": {
    "collapsed": true
   },
   "outputs": [],
   "source": [
    "allelic_distortion_chrom = []\n",
    "for chrom in chrlist:\n",
    "    allelic_distortion_chrom.append(\n",
    "    np.log10(np.concatenate(list(chain.from_iterable(allelic_distortion[chrom].tolist())))).tolist())"
   ]
  },
  {
   "cell_type": "code",
   "execution_count": 37,
   "metadata": {},
   "outputs": [
    {
     "data": {
      "text/plain": [
       "14"
      ]
     },
     "execution_count": 37,
     "metadata": {},
     "output_type": "execute_result"
    }
   ],
   "source": [
    "len(allelic_distortion_chrom)"
   ]
  },
  {
   "cell_type": "markdown",
   "metadata": {},
   "source": [
    "## Are the distributions of number in LOH per chrom normal?"
   ]
  },
  {
   "cell_type": "code",
   "execution_count": 38,
   "metadata": {},
   "outputs": [
    {
     "name": "stdout",
     "output_type": "stream",
     "text": [
      "Chr03\n",
      "Chr07\n"
     ]
    },
    {
     "name": "stderr",
     "output_type": "stream",
     "text": [
      "/Users/croth/anaconda2/lib/python2.7/site-packages/scipy/stats/mstats_basic.py:2237: UserWarning: kurtosistest only valid for n>=20 ... continuing anyway, n=17\n",
      "  np.min(n))\n",
      "/Users/croth/anaconda2/lib/python2.7/site-packages/scipy/stats/mstats_basic.py:2237: UserWarning: kurtosistest only valid for n>=20 ... continuing anyway, n=19\n",
      "  np.min(n))\n",
      "/Users/croth/anaconda2/lib/python2.7/site-packages/scipy/stats/mstats_basic.py:2237: UserWarning: kurtosistest only valid for n>=20 ... continuing anyway, n=15\n",
      "  np.min(n))\n",
      "/Users/croth/anaconda2/lib/python2.7/site-packages/scipy/stats/mstats_basic.py:2237: UserWarning: kurtosistest only valid for n>=20 ... continuing anyway, n=18\n",
      "  np.min(n))\n",
      "/Users/croth/anaconda2/lib/python2.7/site-packages/scipy/stats/mstats_basic.py:2237: UserWarning: kurtosistest only valid for n>=20 ... continuing anyway, n=14\n",
      "  np.min(n))\n",
      "/Users/croth/anaconda2/lib/python2.7/site-packages/scipy/stats/mstats_basic.py:2237: UserWarning: kurtosistest only valid for n>=20 ... continuing anyway, n=12\n",
      "  np.min(n))\n",
      "/Users/croth/anaconda2/lib/python2.7/site-packages/scipy/stats/mstats_basic.py:2237: UserWarning: kurtosistest only valid for n>=20 ... continuing anyway, n=11\n",
      "  np.min(n))\n",
      "/Users/croth/anaconda2/lib/python2.7/site-packages/scipy/stats/mstats_basic.py:2237: UserWarning: kurtosistest only valid for n>=20 ... continuing anyway, n=9\n",
      "  np.min(n))\n",
      "/Users/croth/anaconda2/lib/python2.7/site-packages/scipy/stats/mstats_basic.py:2237: UserWarning: kurtosistest only valid for n>=20 ... continuing anyway, n=10\n",
      "  np.min(n))\n"
     ]
    }
   ],
   "source": [
    "for i,a in enumerate(allelic_distortion_chrom):\n",
    "    pval = ss.mstats.normaltest([10**b for b in a])[1]\n",
    "    if pval < (0.05/14):\n",
    "        print chrlist[i]"
   ]
  },
  {
   "cell_type": "code",
   "execution_count": 39,
   "metadata": {},
   "outputs": [
    {
     "data": {
      "image/png": "[encoded data removed]",
      "text/plain": [
       "<matplotlib.figure.Figure at 0x1a2aa2ab90>"
      ]
     },
     "metadata": {},
     "output_type": "display_data"
    }
   ],
   "source": [
    "plt.hist([np.var([10**b for b in a],ddof=1) for i,a in enumerate(allelic_distortion_chrom)]);"
   ]
  },
  {
   "cell_type": "code",
   "execution_count": 40,
   "metadata": {},
   "outputs": [
    {
     "data": {
      "image/png": "[encoded data removed]",
      "text/plain": [
       "<matplotlib.figure.Figure at 0x10df83850>"
      ]
     },
     "metadata": {},
     "output_type": "display_data"
    }
   ],
   "source": [
    "plt.plot(clens,[np.var([10**b for b in a],ddof=1) for i,a in enumerate(allelic_distortion_chrom)],'.');"
   ]
  },
  {
   "cell_type": "code",
   "execution_count": 41,
   "metadata": {},
   "outputs": [
    {
     "data": {
      "image/png": "[encoded data removed]",
      "text/plain": [
       "<matplotlib.figure.Figure at 0x10df50810>"
      ]
     },
     "metadata": {},
     "output_type": "display_data"
    }
   ],
   "source": [
    "plt.boxplot([[10**b for b in a ] for a in allelic_distortion_chrom]);\n",
    "plt.title('Allelic Distortions Size Dist.\\n(Basidium = %s)'%len(complete_tetrads),fontsize=14);\n",
    "plt.xlabel('Chromosomes');\n",
    "plt.ylabel('Haplotype Size (bases)',fontsize=12);"
   ]
  },
  {
   "cell_type": "markdown",
   "metadata": {},
   "source": [
    "## Count the number of areas in allelic distortion"
   ]
  },
  {
   "cell_type": "code",
   "execution_count": 42,
   "metadata": {},
   "outputs": [
    {
     "data": {
      "text/plain": [
       "[34101.0, 647301.0, 301162.0]"
      ]
     },
     "execution_count": 42,
     "metadata": {},
     "output_type": "execute_result"
    }
   ],
   "source": [
    "allelic_distortion['Chr01'][0][1]"
   ]
  },
  {
   "cell_type": "code",
   "execution_count": 43,
   "metadata": {
    "collapsed": true
   },
   "outputs": [],
   "source": [
    "N_allelic_distortion = pd.DataFrame(index=allelic_distortion.index.tolist(),columns=chrlist);\n",
    "for chrom in chrlist:\n",
    "    for i in N_allelic_distortion.index.tolist():\n",
    "        N_allelic_distortion[chrom][i] = len(np.concatenate(allelic_distortion[chrom][i]))"
   ]
  },
  {
   "cell_type": "code",
   "execution_count": 44,
   "metadata": {},
   "outputs": [
    {
     "data": {
      "text/html": [
       "<div>\n",
       "<style>\n",
       "    .dataframe thead tr:only-child th {\n",
       "        text-align: right;\n",
       "    }\n",
       "\n",
       "    .dataframe thead th {\n",
       "        text-align: left;\n",
       "    }\n",
       "\n",
       "    .dataframe tbody tr th {\n",
       "        vertical-align: top;\n",
       "    }\n",
       "</style>\n",
       "<table border=\"1\" class=\"dataframe\">\n",
       "  <thead>\n",
       "    <tr style=\"text-align: right;\">\n",
       "      <th></th>\n",
       "      <th>Chr01</th>\n",
       "      <th>Chr02</th>\n",
       "      <th>Chr03</th>\n",
       "      <th>Chr04</th>\n",
       "      <th>Chr05</th>\n",
       "      <th>Chr06</th>\n",
       "      <th>Chr07</th>\n",
       "      <th>Chr08</th>\n",
       "      <th>Chr09</th>\n",
       "      <th>Chr10</th>\n",
       "      <th>Chr11</th>\n",
       "      <th>Chr12</th>\n",
       "      <th>Chr13</th>\n",
       "      <th>Chr14</th>\n",
       "    </tr>\n",
       "  </thead>\n",
       "  <tbody>\n",
       "    <tr>\n",
       "      <th>0</th>\n",
       "      <td>4</td>\n",
       "      <td>2</td>\n",
       "      <td>3</td>\n",
       "      <td>1</td>\n",
       "      <td>4</td>\n",
       "      <td>1</td>\n",
       "      <td>1</td>\n",
       "      <td>2</td>\n",
       "      <td>1</td>\n",
       "      <td>2</td>\n",
       "      <td>1</td>\n",
       "      <td>1</td>\n",
       "      <td>1</td>\n",
       "      <td>2</td>\n",
       "    </tr>\n",
       "    <tr>\n",
       "      <th>1</th>\n",
       "      <td>7</td>\n",
       "      <td>8</td>\n",
       "      <td>7</td>\n",
       "      <td>7</td>\n",
       "      <td>7</td>\n",
       "      <td>5</td>\n",
       "      <td>5</td>\n",
       "      <td>5</td>\n",
       "      <td>6</td>\n",
       "      <td>5</td>\n",
       "      <td>5</td>\n",
       "      <td>4</td>\n",
       "      <td>4</td>\n",
       "      <td>4</td>\n",
       "    </tr>\n",
       "    <tr>\n",
       "      <th>2</th>\n",
       "      <td>4</td>\n",
       "      <td>1</td>\n",
       "      <td>2</td>\n",
       "      <td>3</td>\n",
       "      <td>3</td>\n",
       "      <td>2</td>\n",
       "      <td>2</td>\n",
       "      <td>3</td>\n",
       "      <td>3</td>\n",
       "      <td>1</td>\n",
       "      <td>0</td>\n",
       "      <td>4</td>\n",
       "      <td>1</td>\n",
       "      <td>2</td>\n",
       "    </tr>\n",
       "    <tr>\n",
       "      <th>3</th>\n",
       "      <td>3</td>\n",
       "      <td>2</td>\n",
       "      <td>2</td>\n",
       "      <td>3</td>\n",
       "      <td>3</td>\n",
       "      <td>3</td>\n",
       "      <td>1</td>\n",
       "      <td>2</td>\n",
       "      <td>1</td>\n",
       "      <td>1</td>\n",
       "      <td>1</td>\n",
       "      <td>1</td>\n",
       "      <td>3</td>\n",
       "      <td>1</td>\n",
       "    </tr>\n",
       "    <tr>\n",
       "      <th>4</th>\n",
       "      <td>5</td>\n",
       "      <td>4</td>\n",
       "      <td>5</td>\n",
       "      <td>1</td>\n",
       "      <td>1</td>\n",
       "      <td>3</td>\n",
       "      <td>3</td>\n",
       "      <td>2</td>\n",
       "      <td>3</td>\n",
       "      <td>2</td>\n",
       "      <td>2</td>\n",
       "      <td>1</td>\n",
       "      <td>1</td>\n",
       "      <td>1</td>\n",
       "    </tr>\n",
       "  </tbody>\n",
       "</table>\n",
       "</div>"
      ],
      "text/plain": [
       "  Chr01 Chr02 Chr03 Chr04 Chr05 Chr06 Chr07 Chr08 Chr09 Chr10 Chr11 Chr12  \\\n",
       "0     4     2     3     1     4     1     1     2     1     2     1     1   \n",
       "1     7     8     7     7     7     5     5     5     6     5     5     4   \n",
       "2     4     1     2     3     3     2     2     3     3     1     0     4   \n",
       "3     3     2     2     3     3     3     1     2     1     1     1     1   \n",
       "4     5     4     5     1     1     3     3     2     3     2     2     1   \n",
       "\n",
       "  Chr13 Chr14  \n",
       "0     1     2  \n",
       "1     4     4  \n",
       "2     1     2  \n",
       "3     3     1  \n",
       "4     1     1  "
      ]
     },
     "execution_count": 44,
     "metadata": {},
     "output_type": "execute_result"
    }
   ],
   "source": [
    "N_allelic_distortion"
   ]
  },
  {
   "cell_type": "code",
   "execution_count": 45,
   "metadata": {
    "collapsed": true
   },
   "outputs": [],
   "source": [
    "N_allelic_distortion_0 = pd.DataFrame(index=allelic_distortion.index.tolist(),columns=chrlist);\n",
    "for chrom in chrlist:\n",
    "    for i in N_allelic_distortion_0.index.tolist():\n",
    "        zeros = widths_df[1][chrom][i][1]\n",
    "        if i == 1:\n",
    "            zgc = [gc for gc in widths_df[1][chrom][i][0] if gc < 4]\n",
    "        else:\n",
    "            zgc = [gc for gc in widths_df[1][chrom][i][0] if gc < 2]\n",
    "        N_allelic_distortion_0[chrom][i] = len(zeros)  + len(zgc)"
   ]
  },
  {
   "cell_type": "code",
   "execution_count": 46,
   "metadata": {},
   "outputs": [
    {
     "data": {
      "text/html": [
       "<div>\n",
       "<style>\n",
       "    .dataframe thead tr:only-child th {\n",
       "        text-align: right;\n",
       "    }\n",
       "\n",
       "    .dataframe thead th {\n",
       "        text-align: left;\n",
       "    }\n",
       "\n",
       "    .dataframe tbody tr th {\n",
       "        vertical-align: top;\n",
       "    }\n",
       "</style>\n",
       "<table border=\"1\" class=\"dataframe\">\n",
       "  <thead>\n",
       "    <tr style=\"text-align: right;\">\n",
       "      <th></th>\n",
       "      <th>Chr01</th>\n",
       "      <th>Chr02</th>\n",
       "      <th>Chr03</th>\n",
       "      <th>Chr04</th>\n",
       "      <th>Chr05</th>\n",
       "      <th>Chr06</th>\n",
       "      <th>Chr07</th>\n",
       "      <th>Chr08</th>\n",
       "      <th>Chr09</th>\n",
       "      <th>Chr10</th>\n",
       "      <th>Chr11</th>\n",
       "      <th>Chr12</th>\n",
       "      <th>Chr13</th>\n",
       "      <th>Chr14</th>\n",
       "    </tr>\n",
       "  </thead>\n",
       "  <tbody>\n",
       "    <tr>\n",
       "      <th>0</th>\n",
       "      <td>4</td>\n",
       "      <td>2</td>\n",
       "      <td>2</td>\n",
       "      <td>1</td>\n",
       "      <td>3</td>\n",
       "      <td>1</td>\n",
       "      <td>1</td>\n",
       "      <td>2</td>\n",
       "      <td>1</td>\n",
       "      <td>2</td>\n",
       "      <td>1</td>\n",
       "      <td>1</td>\n",
       "      <td>1</td>\n",
       "      <td>2</td>\n",
       "    </tr>\n",
       "    <tr>\n",
       "      <th>1</th>\n",
       "      <td>4</td>\n",
       "      <td>7</td>\n",
       "      <td>3</td>\n",
       "      <td>4</td>\n",
       "      <td>5</td>\n",
       "      <td>3</td>\n",
       "      <td>2</td>\n",
       "      <td>2</td>\n",
       "      <td>3</td>\n",
       "      <td>1</td>\n",
       "      <td>4</td>\n",
       "      <td>4</td>\n",
       "      <td>2</td>\n",
       "      <td>1</td>\n",
       "    </tr>\n",
       "    <tr>\n",
       "      <th>2</th>\n",
       "      <td>3</td>\n",
       "      <td>1</td>\n",
       "      <td>0</td>\n",
       "      <td>1</td>\n",
       "      <td>1</td>\n",
       "      <td>1</td>\n",
       "      <td>2</td>\n",
       "      <td>0</td>\n",
       "      <td>1</td>\n",
       "      <td>0</td>\n",
       "      <td>0</td>\n",
       "      <td>3</td>\n",
       "      <td>1</td>\n",
       "      <td>0</td>\n",
       "    </tr>\n",
       "    <tr>\n",
       "      <th>3</th>\n",
       "      <td>3</td>\n",
       "      <td>2</td>\n",
       "      <td>2</td>\n",
       "      <td>2</td>\n",
       "      <td>3</td>\n",
       "      <td>3</td>\n",
       "      <td>1</td>\n",
       "      <td>2</td>\n",
       "      <td>1</td>\n",
       "      <td>1</td>\n",
       "      <td>1</td>\n",
       "      <td>1</td>\n",
       "      <td>3</td>\n",
       "      <td>1</td>\n",
       "    </tr>\n",
       "    <tr>\n",
       "      <th>4</th>\n",
       "      <td>2</td>\n",
       "      <td>1</td>\n",
       "      <td>2</td>\n",
       "      <td>1</td>\n",
       "      <td>0</td>\n",
       "      <td>1</td>\n",
       "      <td>2</td>\n",
       "      <td>1</td>\n",
       "      <td>1</td>\n",
       "      <td>1</td>\n",
       "      <td>1</td>\n",
       "      <td>1</td>\n",
       "      <td>0</td>\n",
       "      <td>1</td>\n",
       "    </tr>\n",
       "  </tbody>\n",
       "</table>\n",
       "</div>"
      ],
      "text/plain": [
       "  Chr01 Chr02 Chr03 Chr04 Chr05 Chr06 Chr07 Chr08 Chr09 Chr10 Chr11 Chr12  \\\n",
       "0     4     2     2     1     3     1     1     2     1     2     1     1   \n",
       "1     4     7     3     4     5     3     2     2     3     1     4     4   \n",
       "2     3     1     0     1     1     1     2     0     1     0     0     3   \n",
       "3     3     2     2     2     3     3     1     2     1     1     1     1   \n",
       "4     2     1     2     1     0     1     2     1     1     1     1     1   \n",
       "\n",
       "  Chr13 Chr14  \n",
       "0     1     2  \n",
       "1     2     1  \n",
       "2     1     0  \n",
       "3     3     1  \n",
       "4     0     1  "
      ]
     },
     "execution_count": 46,
     "metadata": {},
     "output_type": "execute_result"
    }
   ],
   "source": [
    "N_allelic_distortion_0"
   ]
  },
  {
   "cell_type": "code",
   "execution_count": 47,
   "metadata": {
    "collapsed": true
   },
   "outputs": [],
   "source": [
    "for chrom in chrlist:\n",
    "    for i in N_allelic_distortion_0.index.tolist():\n",
    "        assert N_allelic_distortion_0[chrom][i] <= N_allelic_distortion[chrom][i]"
   ]
  },
  {
   "cell_type": "code",
   "execution_count": 48,
   "metadata": {
    "collapsed": true
   },
   "outputs": [],
   "source": [
    "precet_0_ad = np.array(N_allelic_distortion_0.sum(axis=0))/np.array(N_allelic_distortion.sum(axis=0))"
   ]
  },
  {
   "cell_type": "code",
   "execution_count": 49,
   "metadata": {},
   "outputs": [
    {
     "data": {
      "image/png": "[encoded data removed]",
      "text/plain": [
       "<matplotlib.figure.Figure at 0x1a15c57410>"
      ]
     },
     "metadata": {},
     "output_type": "display_data"
    }
   ],
   "source": [
    "fig,ax=plt.subplots(1,1);\n",
    "plt.yticks(range(14));\n",
    "ax.set_yticklabels(list(reversed(chrlist)));\n",
    "ax.plot(list(reversed(precet_0_ad)),range(14),'o')\n",
    "ax.set_xlim(0,1);\n",
    "ax.set_title('Allelic Distorion with XL280a allele (%)');\n",
    "ax.vlines(x=.5,ymin=-1,ymax=14,linestyles='--');\n",
    "ax.set_ylim(-.5,13.5);\n",
    "ax.set_xlim(0,1.1);"
   ]
  },
  {
   "cell_type": "markdown",
   "metadata": {},
   "source": [
    "## Count LOH due to possible GC (the first filed)."
   ]
  },
  {
   "cell_type": "code",
   "execution_count": 50,
   "metadata": {},
   "outputs": [
    {
     "data": {
      "text/plain": [
       "[101.0]"
      ]
     },
     "execution_count": 50,
     "metadata": {},
     "output_type": "execute_result"
    }
   ],
   "source": [
    "allelic_distortion['Chr01'][0][0]"
   ]
  },
  {
   "cell_type": "code",
   "execution_count": 51,
   "metadata": {
    "collapsed": true
   },
   "outputs": [],
   "source": [
    "N_loh_gc = pd.DataFrame(index=allelic_distortion.index.tolist(),columns=chrlist);\n",
    "for chrom in chrlist:\n",
    "    for i in N_loh_gc.index.tolist():\n",
    "        N_loh_gc[chrom][i] = len(allelic_distortion[chrom][i][0])"
   ]
  },
  {
   "cell_type": "code",
   "execution_count": 52,
   "metadata": {
    "collapsed": true
   },
   "outputs": [],
   "source": [
    "total_n_gc = N_loh_gc.sum().sum();"
   ]
  },
  {
   "cell_type": "code",
   "execution_count": 53,
   "metadata": {
    "collapsed": true
   },
   "outputs": [],
   "source": [
    "total_n_loh = N_allelic_distortion.sum().sum()"
   ]
  },
  {
   "cell_type": "code",
   "execution_count": 54,
   "metadata": {},
   "outputs": [
    {
     "data": {
      "text/plain": [
       "83.0"
      ]
     },
     "execution_count": 54,
     "metadata": {},
     "output_type": "execute_result"
    }
   ],
   "source": [
    "total_n_gc"
   ]
  },
  {
   "cell_type": "code",
   "execution_count": 55,
   "metadata": {},
   "outputs": [
    {
     "data": {
      "text/plain": [
       "197.0"
      ]
     },
     "execution_count": 55,
     "metadata": {},
     "output_type": "execute_result"
    }
   ],
   "source": [
    "total_n_loh"
   ]
  },
  {
   "cell_type": "code",
   "execution_count": 56,
   "metadata": {},
   "outputs": [
    {
     "name": "stdout",
     "output_type": "stream",
     "text": [
      "0.421319796954\n"
     ]
    }
   ],
   "source": [
    "print total_n_gc/total_n_loh"
   ]
  },
  {
   "cell_type": "markdown",
   "metadata": {},
   "source": [
    "## Display distributions of allelic distortion per chromosome"
   ]
  },
  {
   "cell_type": "code",
   "execution_count": 57,
   "metadata": {},
   "outputs": [
    {
     "data": {
      "image/png": "[encoded data removed]",
      "text/plain": [
       "<matplotlib.figure.Figure at 0x11119cc50>"
      ]
     },
     "metadata": {},
     "output_type": "display_data"
    }
   ],
   "source": [
    "N_allelic_distortion.plot(kind='box');\n",
    "plt.tick_params(axis='x', which='major', labelsize=8);\n",
    "plt.title('Allelic Distortions\\nper Chromosome');\n",
    "plt.ylabel('Number of Regions');\n",
    "plt.xlabel('Chromosomes');plt.tight_layout();\n",
    "plt.savefig('../FIGS/Chrom-Dist-Allelic-Distortion-Feb-2017.jpeg');"
   ]
  },
  {
   "cell_type": "markdown",
   "metadata": {},
   "source": [
    "## Regression analysis of allelic distortion"
   ]
  },
  {
   "cell_type": "markdown",
   "metadata": {},
   "source": [
    "### concatinate dataframe fro allelic distortion size and chromosome length"
   ]
  },
  {
   "cell_type": "code",
   "execution_count": 58,
   "metadata": {},
   "outputs": [
    {
     "data": {
      "text/html": [
       "<div>\n",
       "<style>\n",
       "    .dataframe thead tr:only-child th {\n",
       "        text-align: right;\n",
       "    }\n",
       "\n",
       "    .dataframe thead th {\n",
       "        text-align: left;\n",
       "    }\n",
       "\n",
       "    .dataframe tbody tr th {\n",
       "        vertical-align: top;\n",
       "    }\n",
       "</style>\n",
       "<table border=\"1\" class=\"dataframe\">\n",
       "  <thead>\n",
       "    <tr style=\"text-align: right;\">\n",
       "      <th></th>\n",
       "      <th>Clens</th>\n",
       "      <th>Size</th>\n",
       "    </tr>\n",
       "  </thead>\n",
       "  <tbody>\n",
       "    <tr>\n",
       "      <th>192</th>\n",
       "      <td>762695.0</td>\n",
       "      <td>76691.0</td>\n",
       "    </tr>\n",
       "    <tr>\n",
       "      <th>193</th>\n",
       "      <td>762695.0</td>\n",
       "      <td>485780.0</td>\n",
       "    </tr>\n",
       "    <tr>\n",
       "      <th>194</th>\n",
       "      <td>762695.0</td>\n",
       "      <td>76691.0</td>\n",
       "    </tr>\n",
       "    <tr>\n",
       "      <th>195</th>\n",
       "      <td>762695.0</td>\n",
       "      <td>209605.0</td>\n",
       "    </tr>\n",
       "    <tr>\n",
       "      <th>196</th>\n",
       "      <td>762695.0</td>\n",
       "      <td>71311.0</td>\n",
       "    </tr>\n",
       "  </tbody>\n",
       "</table>\n",
       "</div>"
      ],
      "text/plain": [
       "        Clens      Size\n",
       "192  762695.0   76691.0\n",
       "193  762695.0  485780.0\n",
       "194  762695.0   76691.0\n",
       "195  762695.0  209605.0\n",
       "196  762695.0   71311.0"
      ]
     },
     "execution_count": 58,
     "metadata": {},
     "output_type": "execute_result"
    }
   ],
   "source": [
    "Clens_List = []\n",
    "Chrom_List = []\n",
    "for i,chrom in enumerate(chrlist):\n",
    "    Clens_List.append([float(clens[i]) for j in range(N_allelic_distortion[chrom].sum())])\n",
    "    Chrom_List.append([chrom for j in range(N_allelic_distortion[chrom].sum())])\n",
    "Clens_list = np.concatenate(Clens_List).tolist()\n",
    "#Chrom_list = np.concatenate(Chrom_List).tolist()\n",
    "#Allelic_Distorion_list = np.concatenate(allelic_distortion_chrom).tolist()\n",
    "Allelic_Distorion_list = np.concatenate([[10**b for b in a ] for a in allelic_distortion_chrom]).tolist()\n",
    "allelic_distortion_chrom_df = pd.DataFrame([Clens_list,Allelic_Distorion_list]).T#[Chrom_list,Clens_list,Allelic_Distorion_list]).T\n",
    "#allelic_distortion_chrom_df.columns=['Clens','Log10HS']#['Chrom','Clens','Log10HS']\n",
    "allelic_distortion_chrom_df.columns=['Clens','Size']\n",
    "allelic_distortion_chrom_df.tail()"
   ]
  },
  {
   "cell_type": "code",
   "execution_count": 59,
   "metadata": {},
   "outputs": [
    {
     "data": {
      "image/png": "[encoded data removed]",
      "text/plain": [
       "<matplotlib.figure.Figure at 0x1a16e6c510>"
      ]
     },
     "metadata": {},
     "output_type": "display_data"
    }
   ],
   "source": [
    "plt.plot(allelic_distortion_chrom_df.Clens,allelic_distortion_chrom_df.Size,'.')\n",
    "plt.plot(allelic_distortion_chrom_df.Clens.unique().tolist(),\n",
    "         [np.mean(allelic_distortion_chrom_df.Size[allelic_distortion_chrom_df.Clens==CL].tolist()) \n",
    "         for CL in allelic_distortion_chrom_df.Clens.unique().tolist()],'r.');"
   ]
  },
  {
   "cell_type": "markdown",
   "metadata": {},
   "source": [
    "plt.plot(allelic_distortion_chrom_df.Clens,allelic_distortion_chrom_df.Log10HS,'.')\n",
    "plt.plot(allelic_distortion_chrom_df.Clens.unique().tolist(),\n",
    "         [np.mean(allelic_distortion_chrom_df.Log10HS[allelic_distortion_chrom_df.Clens==CL].tolist()) \n",
    "         for CL in allelic_distortion_chrom_df.Clens.unique().tolist()],'r.');"
   ]
  },
  {
   "cell_type": "markdown",
   "metadata": {},
   "source": [
    "### ANOVA on distortion size and chromosome length"
   ]
  },
  {
   "cell_type": "code",
   "execution_count": 60,
   "metadata": {},
   "outputs": [
    {
     "name": "stderr",
     "output_type": "stream",
     "text": [
      "/Users/croth/anaconda2/lib/python2.7/site-packages/numpy/core/fromnumeric.py:57: FutureWarning: reshape is deprecated and will raise in a subsequent release. Please use .values.reshape(...) instead\n",
      "  return getattr(obj, method)(*args, **kwds)\n"
     ]
    },
    {
     "data": {
      "image/png": "[encoded data removed]",
      "text/plain": [
       "<matplotlib.figure.Figure at 0x1a16e21cd0>"
      ]
     },
     "metadata": {},
     "output_type": "display_data"
    }
   ],
   "source": [
    "allelic_distortion_chrom_df.boxplot('Size',by='Clens');"
   ]
  },
  {
   "cell_type": "code",
   "execution_count": 61,
   "metadata": {},
   "outputs": [
    {
     "name": "stderr",
     "output_type": "stream",
     "text": [
      "/Users/croth/anaconda2/lib/python2.7/site-packages/statsmodels/compat/pandas.py:56: FutureWarning: The pandas.core.datetools module is deprecated and will be removed in a future version. Please use the pandas.tseries module instead.\n",
      "  from pandas.core import datetools\n"
     ]
    },
    {
     "name": "stdout",
     "output_type": "stream",
     "text": [
      "             df        sum_sq       mean_sq         F    PR(>F)\n",
      "Clens       1.0  1.821872e+11  1.821872e+11  2.861057  0.092345\n",
      "Residual  195.0  1.241727e+13  6.367828e+10       NaN       NaN\n"
     ]
    },
    {
     "name": "stderr",
     "output_type": "stream",
     "text": [
      "/Users/croth/anaconda2/lib/python2.7/site-packages/scipy/stats/_distn_infrastructure.py:879: RuntimeWarning: invalid value encountered in greater\n",
      "  return (self.a < x) & (x < self.b)\n",
      "/Users/croth/anaconda2/lib/python2.7/site-packages/scipy/stats/_distn_infrastructure.py:879: RuntimeWarning: invalid value encountered in less\n",
      "  return (self.a < x) & (x < self.b)\n",
      "/Users/croth/anaconda2/lib/python2.7/site-packages/scipy/stats/_distn_infrastructure.py:1818: RuntimeWarning: invalid value encountered in less_equal\n",
      "  cond2 = cond0 & (x <= self.a)\n"
     ]
    }
   ],
   "source": [
    "import statsmodels.api as sm\n",
    "from statsmodels.formula.api import ols\n",
    "\n",
    "mod = ols('Size ~ Clens', data= allelic_distortion_chrom_df).fit()\n",
    "\n",
    "aov_table = sm.stats.anova_lm(mod)\n",
    "print aov_table"
   ]
  },
  {
   "cell_type": "code",
   "execution_count": 62,
   "metadata": {
    "collapsed": true
   },
   "outputs": [],
   "source": [
    "#results = smf.ols(formula='Log10HS ~ Clens',data=allelic_distortion_chrom_df).fit();\n",
    "results = smf.ols(formula='Size~ Clens',data=allelic_distortion_chrom_df).fit();"
   ]
  },
  {
   "cell_type": "code",
   "execution_count": 63,
   "metadata": {},
   "outputs": [
    {
     "name": "stdout",
     "output_type": "stream",
     "text": [
      "                            OLS Regression Results                            \n",
      "==============================================================================\n",
      "Dep. Variable:                   Size   R-squared:                       0.014\n",
      "Model:                            OLS   Adj. R-squared:                  0.009\n",
      "Method:                 Least Squares   F-statistic:                     2.861\n",
      "Date:                Thu, 08 Feb 2018   Prob (F-statistic):             0.0923\n",
      "Time:                        14:47:01   Log-Likelihood:                -2728.9\n",
      "No. Observations:                 197   AIC:                             5462.\n",
      "Df Residuals:                     195   BIC:                             5468.\n",
      "Df Model:                           1                                         \n",
      "Covariance Type:            nonrobust                                         \n",
      "==============================================================================\n",
      "                 coef    std err          t      P>|t|      [0.025      0.975]\n",
      "------------------------------------------------------------------------------\n",
      "Intercept   1.388e+05   5.86e+04      2.367      0.019    2.31e+04    2.54e+05\n",
      "Clens          0.0640      0.038      1.691      0.092      -0.011       0.139\n",
      "==============================================================================\n",
      "Omnibus:                       72.006   Durbin-Watson:                   1.820\n",
      "Prob(Omnibus):                  0.000   Jarque-Bera (JB):              188.251\n",
      "Skew:                           1.605   Prob(JB):                     1.32e-41\n",
      "Kurtosis:                       6.553   Cond. No.                     5.06e+06\n",
      "==============================================================================\n",
      "\n",
      "Warnings:\n",
      "[1] Standard Errors assume that the covariance matrix of the errors is correctly specified.\n",
      "[2] The condition number is large, 5.06e+06. This might indicate that there are\n",
      "strong multicollinearity or other numerical problems.\n"
     ]
    }
   ],
   "source": [
    "print results.summary()"
   ]
  },
  {
   "cell_type": "markdown",
   "metadata": {},
   "source": [
    "#### concatinate dataframe for allelic distortion occurance and chromosome length"
   ]
  },
  {
   "cell_type": "code",
   "execution_count": 64,
   "metadata": {},
   "outputs": [
    {
     "data": {
      "text/plain": [
       "0    2\n",
       "1    4\n",
       "2    2\n",
       "3    1\n",
       "4    1\n",
       "Name: Chr14, dtype: object"
      ]
     },
     "execution_count": 64,
     "metadata": {},
     "output_type": "execute_result"
    }
   ],
   "source": [
    "N_allelic_distortion['Chr14']"
   ]
  },
  {
   "cell_type": "code",
   "execution_count": 65,
   "metadata": {},
   "outputs": [
    {
     "data": {
      "text/html": [
       "<div>\n",
       "<style>\n",
       "    .dataframe thead tr:only-child th {\n",
       "        text-align: right;\n",
       "    }\n",
       "\n",
       "    .dataframe thead th {\n",
       "        text-align: left;\n",
       "    }\n",
       "\n",
       "    .dataframe tbody tr th {\n",
       "        vertical-align: top;\n",
       "    }\n",
       "</style>\n",
       "<table border=\"1\" class=\"dataframe\">\n",
       "  <thead>\n",
       "    <tr style=\"text-align: right;\">\n",
       "      <th></th>\n",
       "      <th>Chrlen</th>\n",
       "      <th>N</th>\n",
       "    </tr>\n",
       "  </thead>\n",
       "  <tbody>\n",
       "    <tr>\n",
       "      <th>0</th>\n",
       "      <td>2300525</td>\n",
       "      <td>4</td>\n",
       "    </tr>\n",
       "    <tr>\n",
       "      <th>1</th>\n",
       "      <td>2300525</td>\n",
       "      <td>7</td>\n",
       "    </tr>\n",
       "    <tr>\n",
       "      <th>2</th>\n",
       "      <td>2300525</td>\n",
       "      <td>4</td>\n",
       "    </tr>\n",
       "    <tr>\n",
       "      <th>3</th>\n",
       "      <td>2300525</td>\n",
       "      <td>3</td>\n",
       "    </tr>\n",
       "    <tr>\n",
       "      <th>4</th>\n",
       "      <td>2300525</td>\n",
       "      <td>5</td>\n",
       "    </tr>\n",
       "  </tbody>\n",
       "</table>\n",
       "</div>"
      ],
      "text/plain": [
       "    Chrlen  N\n",
       "0  2300525  4\n",
       "1  2300525  7\n",
       "2  2300525  4\n",
       "3  2300525  3\n",
       "4  2300525  5"
      ]
     },
     "execution_count": 65,
     "metadata": {},
     "output_type": "execute_result"
    }
   ],
   "source": [
    "clensdf = pd.DataFrame([clens for i in N_allelic_distortion.index.tolist()],columns=chrlist) ## A dataframe with chromlengths\n",
    "clens_lists = np.concatenate([clensdf[chrom].tolist() for chrom in chrlist]);\n",
    "aldis_lists = np.concatenate([N_allelic_distortion[chrom].tolist() for chrom in chrlist]);\n",
    "allel_distor_df = pd.DataFrame([clens_lists,aldis_lists]).T;\n",
    "allel_distor_df.columns=['Chrlen','N'];\n",
    "allel_distor_df.head()"
   ]
  },
  {
   "cell_type": "code",
   "execution_count": 66,
   "metadata": {},
   "outputs": [
    {
     "data": {
      "text/html": [
       "<div>\n",
       "<style>\n",
       "    .dataframe thead tr:only-child th {\n",
       "        text-align: right;\n",
       "    }\n",
       "\n",
       "    .dataframe thead th {\n",
       "        text-align: left;\n",
       "    }\n",
       "\n",
       "    .dataframe tbody tr th {\n",
       "        vertical-align: top;\n",
       "    }\n",
       "</style>\n",
       "<table border=\"1\" class=\"dataframe\">\n",
       "  <thead>\n",
       "    <tr style=\"text-align: right;\">\n",
       "      <th></th>\n",
       "      <th>Chrlen</th>\n",
       "      <th>N</th>\n",
       "    </tr>\n",
       "  </thead>\n",
       "  <tbody>\n",
       "    <tr>\n",
       "      <th>65</th>\n",
       "      <td>762695</td>\n",
       "      <td>2</td>\n",
       "    </tr>\n",
       "    <tr>\n",
       "      <th>66</th>\n",
       "      <td>762695</td>\n",
       "      <td>4</td>\n",
       "    </tr>\n",
       "    <tr>\n",
       "      <th>67</th>\n",
       "      <td>762695</td>\n",
       "      <td>2</td>\n",
       "    </tr>\n",
       "    <tr>\n",
       "      <th>68</th>\n",
       "      <td>762695</td>\n",
       "      <td>1</td>\n",
       "    </tr>\n",
       "    <tr>\n",
       "      <th>69</th>\n",
       "      <td>762695</td>\n",
       "      <td>1</td>\n",
       "    </tr>\n",
       "  </tbody>\n",
       "</table>\n",
       "</div>"
      ],
      "text/plain": [
       "    Chrlen  N\n",
       "65  762695  2\n",
       "66  762695  4\n",
       "67  762695  2\n",
       "68  762695  1\n",
       "69  762695  1"
      ]
     },
     "execution_count": 66,
     "metadata": {},
     "output_type": "execute_result"
    }
   ],
   "source": [
    "allel_distor_df.tail()"
   ]
  },
  {
   "cell_type": "code",
   "execution_count": 67,
   "metadata": {},
   "outputs": [
    {
     "data": {
      "text/plain": [
       "197L"
      ]
     },
     "execution_count": 67,
     "metadata": {},
     "output_type": "execute_result"
    }
   ],
   "source": [
    "allel_distor_df.N.sum()"
   ]
  },
  {
   "cell_type": "code",
   "execution_count": 68,
   "metadata": {
    "collapsed": true
   },
   "outputs": [],
   "source": [
    "log_allele_df = pd.DataFrame(index=range(len(clens)))\n",
    "log_allele_df['Chrom'] = chrlist\n",
    "log_allele_df['Chrlen'] = clens\n",
    "log_allele_df['EN'] = [allel_distor_df.N[allel_distor_df.Chrlen==clen].mean() \n",
    "                       for clen in clens]\n",
    "log_allele_df['LogEN'] = [np.log(allel_distor_df.N[allel_distor_df.Chrlen==clen].mean()) \n",
    "                          for clen in clens]\n",
    "log_allele_df['Var'] = [np.var(allel_distor_df.N[allel_distor_df.Chrlen==clen],ddof=1) \n",
    "                        for clen in clens]\n",
    "log_allele_df['Disp'] = [log_allele_df.EN[i]/log_allele_df.Var[i] for i in range(len(clens))]"
   ]
  },
  {
   "cell_type": "code",
   "execution_count": 69,
   "metadata": {},
   "outputs": [
    {
     "data": {
      "text/html": [
       "<div>\n",
       "<style>\n",
       "    .dataframe thead tr:only-child th {\n",
       "        text-align: right;\n",
       "    }\n",
       "\n",
       "    .dataframe thead th {\n",
       "        text-align: left;\n",
       "    }\n",
       "\n",
       "    .dataframe tbody tr th {\n",
       "        vertical-align: top;\n",
       "    }\n",
       "</style>\n",
       "<table border=\"1\" class=\"dataframe\">\n",
       "  <thead>\n",
       "    <tr style=\"text-align: right;\">\n",
       "      <th></th>\n",
       "      <th>Chrom</th>\n",
       "      <th>Chrlen</th>\n",
       "      <th>EN</th>\n",
       "      <th>LogEN</th>\n",
       "      <th>Var</th>\n",
       "      <th>Disp</th>\n",
       "    </tr>\n",
       "  </thead>\n",
       "  <tbody>\n",
       "    <tr>\n",
       "      <th>0</th>\n",
       "      <td>Chr01</td>\n",
       "      <td>2300525</td>\n",
       "      <td>4.6</td>\n",
       "      <td>1.526056</td>\n",
       "      <td>2.3</td>\n",
       "      <td>2.000000</td>\n",
       "    </tr>\n",
       "    <tr>\n",
       "      <th>1</th>\n",
       "      <td>Chr02</td>\n",
       "      <td>1632286</td>\n",
       "      <td>3.4</td>\n",
       "      <td>1.223775</td>\n",
       "      <td>7.8</td>\n",
       "      <td>0.435897</td>\n",
       "    </tr>\n",
       "    <tr>\n",
       "      <th>2</th>\n",
       "      <td>Chr03</td>\n",
       "      <td>2105722</td>\n",
       "      <td>3.8</td>\n",
       "      <td>1.335001</td>\n",
       "      <td>4.7</td>\n",
       "      <td>0.808511</td>\n",
       "    </tr>\n",
       "    <tr>\n",
       "      <th>3</th>\n",
       "      <td>Chr04</td>\n",
       "      <td>1783051</td>\n",
       "      <td>3.0</td>\n",
       "      <td>1.098612</td>\n",
       "      <td>6.0</td>\n",
       "      <td>0.500000</td>\n",
       "    </tr>\n",
       "    <tr>\n",
       "      <th>4</th>\n",
       "      <td>Chr05</td>\n",
       "      <td>1507536</td>\n",
       "      <td>3.6</td>\n",
       "      <td>1.280934</td>\n",
       "      <td>4.8</td>\n",
       "      <td>0.750000</td>\n",
       "    </tr>\n",
       "    <tr>\n",
       "      <th>5</th>\n",
       "      <td>Chr06</td>\n",
       "      <td>1438940</td>\n",
       "      <td>2.8</td>\n",
       "      <td>1.029619</td>\n",
       "      <td>2.2</td>\n",
       "      <td>1.272727</td>\n",
       "    </tr>\n",
       "    <tr>\n",
       "      <th>6</th>\n",
       "      <td>Chr07</td>\n",
       "      <td>1347778</td>\n",
       "      <td>2.4</td>\n",
       "      <td>0.875469</td>\n",
       "      <td>2.8</td>\n",
       "      <td>0.857143</td>\n",
       "    </tr>\n",
       "    <tr>\n",
       "      <th>7</th>\n",
       "      <td>Chr08</td>\n",
       "      <td>1194303</td>\n",
       "      <td>2.8</td>\n",
       "      <td>1.029619</td>\n",
       "      <td>1.7</td>\n",
       "      <td>1.647059</td>\n",
       "    </tr>\n",
       "    <tr>\n",
       "      <th>8</th>\n",
       "      <td>Chr09</td>\n",
       "      <td>1178642</td>\n",
       "      <td>2.8</td>\n",
       "      <td>1.029619</td>\n",
       "      <td>4.2</td>\n",
       "      <td>0.666667</td>\n",
       "    </tr>\n",
       "    <tr>\n",
       "      <th>9</th>\n",
       "      <td>Chr10</td>\n",
       "      <td>1085711</td>\n",
       "      <td>2.2</td>\n",
       "      <td>0.788457</td>\n",
       "      <td>2.7</td>\n",
       "      <td>0.814815</td>\n",
       "    </tr>\n",
       "    <tr>\n",
       "      <th>10</th>\n",
       "      <td>Chr11</td>\n",
       "      <td>1019830</td>\n",
       "      <td>1.8</td>\n",
       "      <td>0.587787</td>\n",
       "      <td>3.7</td>\n",
       "      <td>0.486486</td>\n",
       "    </tr>\n",
       "    <tr>\n",
       "      <th>11</th>\n",
       "      <td>Chr12</td>\n",
       "      <td>906713</td>\n",
       "      <td>2.2</td>\n",
       "      <td>0.788457</td>\n",
       "      <td>2.7</td>\n",
       "      <td>0.814815</td>\n",
       "    </tr>\n",
       "    <tr>\n",
       "      <th>12</th>\n",
       "      <td>Chr13</td>\n",
       "      <td>787979</td>\n",
       "      <td>2.0</td>\n",
       "      <td>0.693147</td>\n",
       "      <td>2.0</td>\n",
       "      <td>1.000000</td>\n",
       "    </tr>\n",
       "    <tr>\n",
       "      <th>13</th>\n",
       "      <td>Chr14</td>\n",
       "      <td>762695</td>\n",
       "      <td>2.0</td>\n",
       "      <td>0.693147</td>\n",
       "      <td>1.5</td>\n",
       "      <td>1.333333</td>\n",
       "    </tr>\n",
       "  </tbody>\n",
       "</table>\n",
       "</div>"
      ],
      "text/plain": [
       "    Chrom   Chrlen   EN     LogEN  Var      Disp\n",
       "0   Chr01  2300525  4.6  1.526056  2.3  2.000000\n",
       "1   Chr02  1632286  3.4  1.223775  7.8  0.435897\n",
       "2   Chr03  2105722  3.8  1.335001  4.7  0.808511\n",
       "3   Chr04  1783051  3.0  1.098612  6.0  0.500000\n",
       "4   Chr05  1507536  3.6  1.280934  4.8  0.750000\n",
       "5   Chr06  1438940  2.8  1.029619  2.2  1.272727\n",
       "6   Chr07  1347778  2.4  0.875469  2.8  0.857143\n",
       "7   Chr08  1194303  2.8  1.029619  1.7  1.647059\n",
       "8   Chr09  1178642  2.8  1.029619  4.2  0.666667\n",
       "9   Chr10  1085711  2.2  0.788457  2.7  0.814815\n",
       "10  Chr11  1019830  1.8  0.587787  3.7  0.486486\n",
       "11  Chr12   906713  2.2  0.788457  2.7  0.814815\n",
       "12  Chr13   787979  2.0  0.693147  2.0  1.000000\n",
       "13  Chr14   762695  2.0  0.693147  1.5  1.333333"
      ]
     },
     "execution_count": 69,
     "metadata": {},
     "output_type": "execute_result"
    }
   ],
   "source": [
    "log_allele_df"
   ]
  },
  {
   "cell_type": "code",
   "execution_count": 70,
   "metadata": {
    "collapsed": true
   },
   "outputs": [],
   "source": [
    "log_allele_df.to_csv('../FILES/Crypto-09-Log-Allele-Distortion-Sep2017.csv')"
   ]
  },
  {
   "cell_type": "markdown",
   "metadata": {},
   "source": [
    "### fit linear model to investigate relathionship between occurance and chrom length"
   ]
  },
  {
   "cell_type": "code",
   "execution_count": 71,
   "metadata": {},
   "outputs": [
    {
     "name": "stdout",
     "output_type": "stream",
     "text": [
      "                            OLS Regression Results                            \n",
      "==============================================================================\n",
      "Dep. Variable:                      N   R-squared:                       0.150\n",
      "Model:                            OLS   Adj. R-squared:                  0.137\n",
      "Method:                 Least Squares   F-statistic:                     11.97\n",
      "Date:                Thu, 08 Feb 2018   Prob (F-statistic):           0.000938\n",
      "Time:                        14:47:02   Log-Likelihood:                -136.57\n",
      "No. Observations:                  70   AIC:                             277.1\n",
      "Df Residuals:                      68   BIC:                             281.6\n",
      "Df Model:                           1                                         \n",
      "Covariance Type:            nonrobust                                         \n",
      "==============================================================================\n",
      "                 coef    std err          t      P>|t|      [0.025      0.975]\n",
      "------------------------------------------------------------------------------\n",
      "Intercept      0.6649      0.655      1.016      0.313      -0.642       1.971\n",
      "Chrlen      1.579e-06   4.57e-07      3.460      0.001    6.68e-07    2.49e-06\n",
      "==============================================================================\n",
      "Omnibus:                        7.508   Durbin-Watson:                   2.569\n",
      "Prob(Omnibus):                  0.023   Jarque-Bera (JB):                7.771\n",
      "Skew:                           0.814   Prob(JB):                       0.0205\n",
      "Kurtosis:                       2.880   Cond. No.                     4.55e+06\n",
      "==============================================================================\n",
      "\n",
      "Warnings:\n",
      "[1] Standard Errors assume that the covariance matrix of the errors is correctly specified.\n",
      "[2] The condition number is large, 4.55e+06. This might indicate that there are\n",
      "strong multicollinearity or other numerical problems.\n"
     ]
    }
   ],
   "source": [
    "Fitresult = smf.ols(formula = 'N ~ Chrlen ',data=allel_distor_df).fit();print Fitresult.summary();mypvalu1 = Fitresult.pvalues[1]"
   ]
  },
  {
   "cell_type": "code",
   "execution_count": 72,
   "metadata": {},
   "outputs": [
    {
     "data": {
      "text/plain": [
       "0    0.668453\n",
       "1    2.490522\n",
       "Name: Chrlen, dtype: float64"
      ]
     },
     "execution_count": 72,
     "metadata": {},
     "output_type": "execute_result"
    }
   ],
   "source": [
    "Fitresult.conf_int().T.Chrlen * MB"
   ]
  },
  {
   "cell_type": "code",
   "execution_count": 73,
   "metadata": {},
   "outputs": [
    {
     "data": {
      "text/plain": [
       "0.66486136564248088"
      ]
     },
     "execution_count": 73,
     "metadata": {},
     "output_type": "execute_result"
    }
   ],
   "source": [
    "Fitresult.params.Intercept"
   ]
  },
  {
   "cell_type": "code",
   "execution_count": 74,
   "metadata": {},
   "outputs": [
    {
     "data": {
      "text/plain": [
       "1.5794875788849239"
      ]
     },
     "execution_count": 74,
     "metadata": {},
     "output_type": "execute_result"
    }
   ],
   "source": [
    "Fitresult.params.Chrlen * MB"
   ]
  },
  {
   "cell_type": "code",
   "execution_count": 75,
   "metadata": {},
   "outputs": [
    {
     "data": {
      "text/plain": [
       "Intercept    0.313454\n",
       "Chrlen       0.000938\n",
       "dtype: float64"
      ]
     },
     "execution_count": 75,
     "metadata": {},
     "output_type": "execute_result"
    }
   ],
   "source": [
    "Fitresult.pvalues"
   ]
  },
  {
   "cell_type": "markdown",
   "metadata": {},
   "source": [
    "## Fit Log-Linear Model: Log E[ N ] to chromosome length"
   ]
  },
  {
   "cell_type": "code",
   "execution_count": 76,
   "metadata": {},
   "outputs": [
    {
     "data": {
      "text/html": [
       "<div>\n",
       "<style>\n",
       "    .dataframe thead tr:only-child th {\n",
       "        text-align: right;\n",
       "    }\n",
       "\n",
       "    .dataframe thead th {\n",
       "        text-align: left;\n",
       "    }\n",
       "\n",
       "    .dataframe tbody tr th {\n",
       "        vertical-align: top;\n",
       "    }\n",
       "</style>\n",
       "<table border=\"1\" class=\"dataframe\">\n",
       "  <thead>\n",
       "    <tr style=\"text-align: right;\">\n",
       "      <th></th>\n",
       "      <th>Chrom</th>\n",
       "      <th>Chrlen</th>\n",
       "      <th>EN</th>\n",
       "      <th>LogEN</th>\n",
       "      <th>Var</th>\n",
       "      <th>Disp</th>\n",
       "    </tr>\n",
       "  </thead>\n",
       "  <tbody>\n",
       "    <tr>\n",
       "      <th>0</th>\n",
       "      <td>Chr01</td>\n",
       "      <td>2300525</td>\n",
       "      <td>4.6</td>\n",
       "      <td>1.526056</td>\n",
       "      <td>2.3</td>\n",
       "      <td>2.000000</td>\n",
       "    </tr>\n",
       "    <tr>\n",
       "      <th>1</th>\n",
       "      <td>Chr02</td>\n",
       "      <td>1632286</td>\n",
       "      <td>3.4</td>\n",
       "      <td>1.223775</td>\n",
       "      <td>7.8</td>\n",
       "      <td>0.435897</td>\n",
       "    </tr>\n",
       "    <tr>\n",
       "      <th>2</th>\n",
       "      <td>Chr03</td>\n",
       "      <td>2105722</td>\n",
       "      <td>3.8</td>\n",
       "      <td>1.335001</td>\n",
       "      <td>4.7</td>\n",
       "      <td>0.808511</td>\n",
       "    </tr>\n",
       "    <tr>\n",
       "      <th>3</th>\n",
       "      <td>Chr04</td>\n",
       "      <td>1783051</td>\n",
       "      <td>3.0</td>\n",
       "      <td>1.098612</td>\n",
       "      <td>6.0</td>\n",
       "      <td>0.500000</td>\n",
       "    </tr>\n",
       "    <tr>\n",
       "      <th>4</th>\n",
       "      <td>Chr05</td>\n",
       "      <td>1507536</td>\n",
       "      <td>3.6</td>\n",
       "      <td>1.280934</td>\n",
       "      <td>4.8</td>\n",
       "      <td>0.750000</td>\n",
       "    </tr>\n",
       "  </tbody>\n",
       "</table>\n",
       "</div>"
      ],
      "text/plain": [
       "   Chrom   Chrlen   EN     LogEN  Var      Disp\n",
       "0  Chr01  2300525  4.6  1.526056  2.3  2.000000\n",
       "1  Chr02  1632286  3.4  1.223775  7.8  0.435897\n",
       "2  Chr03  2105722  3.8  1.335001  4.7  0.808511\n",
       "3  Chr04  1783051  3.0  1.098612  6.0  0.500000\n",
       "4  Chr05  1507536  3.6  1.280934  4.8  0.750000"
      ]
     },
     "execution_count": 76,
     "metadata": {},
     "output_type": "execute_result"
    }
   ],
   "source": [
    "log_allele_df.head()"
   ]
  },
  {
   "cell_type": "code",
   "execution_count": 77,
   "metadata": {},
   "outputs": [
    {
     "name": "stdout",
     "output_type": "stream",
     "text": [
      "                            OLS Regression Results                            \n",
      "==============================================================================\n",
      "Dep. Variable:                  LogEN   R-squared:                       0.829\n",
      "Model:                            OLS   Adj. R-squared:                  0.814\n",
      "Method:                 Least Squares   F-statistic:                     58.05\n",
      "Date:                Thu, 08 Feb 2018   Prob (F-statistic):           6.18e-06\n",
      "Time:                        14:47:02   Log-Likelihood:                 11.003\n",
      "No. Observations:                  14   AIC:                            -18.01\n",
      "Df Residuals:                      12   BIC:                            -16.73\n",
      "Df Model:                           1                                         \n",
      "Covariance Type:            nonrobust                                         \n",
      "==============================================================================\n",
      "                 coef    std err          t      P>|t|      [0.025      0.975]\n",
      "------------------------------------------------------------------------------\n",
      "Intercept      0.2687      0.101      2.662      0.021       0.049       0.489\n",
      "Chrlen      5.363e-07   7.04e-08      7.619      0.000    3.83e-07     6.9e-07\n",
      "==============================================================================\n",
      "Omnibus:                        0.162   Durbin-Watson:                   2.250\n",
      "Prob(Omnibus):                  0.922   Jarque-Bera (JB):                0.146\n",
      "Skew:                          -0.161   Prob(JB):                        0.929\n",
      "Kurtosis:                       2.616   Cond. No.                     4.55e+06\n",
      "==============================================================================\n",
      "\n",
      "Warnings:\n",
      "[1] Standard Errors assume that the covariance matrix of the errors is correctly specified.\n",
      "[2] The condition number is large, 4.55e+06. This might indicate that there are\n",
      "strong multicollinearity or other numerical problems.\n",
      "6.17520872865e-06\n"
     ]
    },
    {
     "name": "stderr",
     "output_type": "stream",
     "text": [
      "/Users/croth/anaconda2/lib/python2.7/site-packages/scipy/stats/stats.py:1334: UserWarning: kurtosistest only valid for n>=20 ... continuing anyway, n=14\n",
      "  \"anyway, n=%i\" % int(n))\n"
     ]
    }
   ],
   "source": [
    "Fitresult_log = smf.ols(formula = 'LogEN ~ Chrlen ',data=log_allele_df).fit();\n",
    "print Fitresult_log.summary();mypvalu2 = Fitresult_log.pvalues[1];print mypvalu2"
   ]
  },
  {
   "cell_type": "code",
   "execution_count": 78,
   "metadata": {},
   "outputs": [
    {
     "data": {
      "text/plain": [
       "Intercept    0.020696\n",
       "Chrlen       0.000006\n",
       "dtype: float64"
      ]
     },
     "execution_count": 78,
     "metadata": {},
     "output_type": "execute_result"
    }
   ],
   "source": [
    "Fitresult_log.pvalues"
   ]
  },
  {
   "cell_type": "markdown",
   "metadata": {},
   "source": [
    "### Make regression line"
   ]
  },
  {
   "cell_type": "code",
   "execution_count": 79,
   "metadata": {
    "collapsed": true
   },
   "outputs": [],
   "source": [
    "x_range = range(0,max(clens)+MB/2,MB/2)\n",
    "Reg = [Fitresult.params[1]*x + Fitresult.params[0] for x in x_range]"
   ]
  },
  {
   "cell_type": "markdown",
   "metadata": {},
   "source": [
    "## Plot results & save"
   ]
  },
  {
   "cell_type": "code",
   "execution_count": 80,
   "metadata": {},
   "outputs": [
    {
     "data": {
      "text/plain": [
       "[2300525,\n",
       " 1632286,\n",
       " 2105722,\n",
       " 1783051,\n",
       " 1507536,\n",
       " 1438940,\n",
       " 1347778,\n",
       " 1194303,\n",
       " 1178642,\n",
       " 1085711,\n",
       " 1019830,\n",
       " 906713,\n",
       " 787979,\n",
       " 762695]"
      ]
     },
     "execution_count": 80,
     "metadata": {},
     "output_type": "execute_result"
    }
   ],
   "source": [
    "clens"
   ]
  },
  {
   "cell_type": "code",
   "execution_count": 81,
   "metadata": {},
   "outputs": [
    {
     "data": {
      "text/plain": [
       "11L"
      ]
     },
     "execution_count": 81,
     "metadata": {},
     "output_type": "execute_result"
    }
   ],
   "source": [
    "allel_distor_df.N[allel_distor_df['Chrlen']==clens[11]].sum()"
   ]
  },
  {
   "cell_type": "code",
   "execution_count": 82,
   "metadata": {
    "collapsed": true
   },
   "outputs": [],
   "source": [
    "from matplotlib import gridspec"
   ]
  },
  {
   "cell_type": "code",
   "execution_count": 83,
   "metadata": {},
   "outputs": [
    {
     "data": {
      "text/plain": [
       "array([ 0.69565217,  0.76470588,  0.47368421,  0.6       ,  0.66666667,\n",
       "        0.64285714,  0.66666667,  0.5       ,  0.5       ,  0.45454545,\n",
       "        0.77777778,  0.90909091,  0.7       ,  0.5       ])"
      ]
     },
     "execution_count": 83,
     "metadata": {},
     "output_type": "execute_result"
    }
   ],
   "source": [
    "precet_0_ad"
   ]
  },
  {
   "cell_type": "code",
   "execution_count": 84,
   "metadata": {},
   "outputs": [
    {
     "data": {
      "text/plain": [
       "14"
      ]
     },
     "execution_count": 84,
     "metadata": {},
     "output_type": "execute_result"
    }
   ],
   "source": [
    "len(allelic_distortion_chrom)"
   ]
  },
  {
   "cell_type": "code",
   "execution_count": 85,
   "metadata": {},
   "outputs": [
    {
     "data": {
      "text/plain": [
       "11"
      ]
     },
     "execution_count": 85,
     "metadata": {},
     "output_type": "execute_result"
    }
   ],
   "source": [
    "len(allelic_distortion_chrom[11])"
   ]
  },
  {
   "cell_type": "code",
   "execution_count": 86,
   "metadata": {},
   "outputs": [
    {
     "data": {
      "text/plain": [
       "11"
      ]
     },
     "execution_count": 86,
     "metadata": {},
     "output_type": "execute_result"
    }
   ],
   "source": [
    "len(allelic_distortion_chrom_df[allelic_distortion_chrom_df.Clens==clens[11]])"
   ]
  },
  {
   "cell_type": "code",
   "execution_count": 87,
   "metadata": {},
   "outputs": [
    {
     "data": {
      "text/plain": [
       "0.9090909090909091"
      ]
     },
     "execution_count": 87,
     "metadata": {},
     "output_type": "execute_result"
    }
   ],
   "source": [
    "10/11.0"
   ]
  },
  {
   "cell_type": "code",
   "execution_count": 88,
   "metadata": {
    "collapsed": true
   },
   "outputs": [],
   "source": [
    "allelic_distortion_chrom_df['Chrom'] = [ chrlist[clens.index(clen)] for clen in allelic_distortion_chrom_df.Clens.tolist()]\n",
    "allelic_distortion_chrom_df['Chromn'] = [ clens.index(clen)+1 for clen in allelic_distortion_chrom_df.Clens.tolist()]\n",
    "allelic_distortion_chrom_df['log10'] = np.log10(allelic_distortion_chrom_df['Size'].values)"
   ]
  },
  {
   "cell_type": "code",
   "execution_count": 89,
   "metadata": {
    "collapsed": true
   },
   "outputs": [],
   "source": [
    "import seaborn as sns\n",
    "sns.set()"
   ]
  },
  {
   "cell_type": "code",
   "execution_count": 90,
   "metadata": {},
   "outputs": [
    {
     "data": {
      "image/png": "[encoded data removed]",
      "text/plain": [
       "<matplotlib.figure.Figure at 0x1a2aa4c790>"
      ]
     },
     "metadata": {},
     "output_type": "display_data"
    }
   ],
   "source": [
    "fig, ax = plt.subplots(1,2,figsize=(15,5));\n",
    "sns.set(font_scale=2.0)\n",
    "plt.sca(ax.ravel()[0]);\n",
    "sns.boxplot(x='Chromn',y='log10',data=allelic_distortion_chrom_df,color='orange',saturation=0.9);\n",
    "plt.ylim(0,7);plt.xlabel('Chromosomes',fontsize=16);\n",
    "plt.ylabel(\"$\\log10$ [ Region Size (bp) ]\",fontsize=16);\n",
    "plt.sca(ax.ravel()[1]);plt.ylim(0,1);plt.xticks(np.arange(1,15,1));\n",
    "plt.xlabel('Chromosomes',fontsize=16);\n",
    "plt.ylabel('%  XL280a  Allele',fontsize=16);\n",
    "plt.yticks([0,0.25,0.50,0.75,1.0],fontsize=16)\n",
    "plt.plot(np.arange(1,15,1),precet_0_ad,'o',color='orange',alpha=.9);\n",
    "plt.hlines(y=.5,xmin=.5,xmax=14.5,linestyles='--',alpha=.5);\n",
    "plt.xlim(.5,14.5)\n",
    "plt.subplots_adjust(hspace=0.40);\n",
    "##fig.savefig('../FIGS/Crypto-LOH-Allelic-Distor-Jan2018.png',dpi=900);\n",
    "#fig.savefig('../FIGS/Crypto-09-LOH-Allelic-Distor-Feb2018.pdf',dpi=1200);"
   ]
  },
  {
   "cell_type": "markdown",
   "metadata": {},
   "source": [
    "fig, ax = plt.subplots(1,2,figsize=(10,4))\n",
    "#gs = gridspec.GridSpec(1,2, width_ratios=[2,1]);\n",
    "plt.sca(ax.ravel()[0])\n",
    "plt.gca().spines[\"top\"].set_visible(False)\n",
    "plt.gca().spines[\"right\"].set_visible(False)\n",
    "plt.gca().spines[\"bottom\"].set_visible(False)\n",
    "plt.boxplot(allelic_distortion_chrom,positions=np.arange(1,15,1))#,\n",
    "                   # capprops={'color':'None'},\n",
    "                    #medianprops={'color':'orange','alpha':.9}); \n",
    "plt.tick_params(axis='x', which='major', labelsize=8);\n",
    "plt.xlabel('Chromosomes',fontsize=12);\n",
    "plt.ylabel('$\\log_{10}\\,$ Haplotype Size (bases)',fontsize=12);\n",
    "plt.ylim(0,7);plt.tight_layout();\n",
    "\n",
    "plt.sca(ax.ravel()[1])\n",
    "plt.gca().spines[\"left\"].set_visible(False)\n",
    "plt.gca().spines[\"top\"].set_visible(False)\n",
    "plt.gca().spines[\"right\"].set_visible(False)\n",
    "#plt.gca().set_xticklabels([0,.5,1],fontsize=10)\n",
    "#plt.gca().set_xticklabels(np.arange(1,15,1),fontsize=12);\n",
    "plt.plot(np.arange(1,15,1),list(reversed(precet_0_ad)),'o',color='orange',alpha=.9);\n",
    "#plt.hlines(y=.5,xmin=-1,xmax=14,linestyles='--',alpha=.5)\n",
    "plt.subplots_adjust(hspace=0.30)\n",
    "plt.gca().set_xticklabels(np.arange(1,15,1),fontsize=10)\n",
    "plt.ylabel('% XL280a Allele',fontsize=12);\n",
    "plt.xlabel('Chromosomes');\n",
    "#fig.savefig('../FIGS/Crypto-LOH-Allelic-Distor-Aug2017.png',dpi=900);"
   ]
  },
  {
   "cell_type": "code",
   "execution_count": 91,
   "metadata": {},
   "outputs": [
    {
     "data": {
      "text/plain": [
       "14"
      ]
     },
     "execution_count": 91,
     "metadata": {},
     "output_type": "execute_result"
    }
   ],
   "source": [
    "len(precet_0_ad)"
   ]
  },
  {
   "cell_type": "code",
   "execution_count": 92,
   "metadata": {},
   "outputs": [
    {
     "data": {
      "text/plain": [
       "array([ 1,  2,  3,  4,  5,  6,  7,  8,  9, 10, 11, 12, 13, 14])"
      ]
     },
     "execution_count": 92,
     "metadata": {},
     "output_type": "execute_result"
    }
   ],
   "source": [
    "np.arange(1,15,1)"
   ]
  },
  {
   "cell_type": "code",
   "execution_count": 93,
   "metadata": {},
   "outputs": [
    {
     "data": {
      "image/png": "[encoded data removed]",
      "text/plain": [
       "<matplotlib.figure.Figure at 0x10f9da3d0>"
      ]
     },
     "metadata": {},
     "output_type": "display_data"
    }
   ],
   "source": [
    "plt.plot(clens,[np.mean(allel_distor_df['N'][allel_distor_df['Chrlen']==clen]) for clen in clens],\n",
    "         'o',color='orange');\n",
    "for clen in clens:\n",
    "    Y = allel_distor_df['N'][allel_distor_df['Chrlen']==clen];\n",
    "    plt.vlines(x = clen,\n",
    "           ymin = np.mean(Y) - ss.sem(Y),\n",
    "           ymax = np.mean(Y) + ss.sem(Y),linestyle='--',alpha=.25);\n",
    "plt.plot(x_range,Reg,'--',color='grey');plt.xlim(0,);\n",
    "plt.tick_params(axis='x', which='major', labelsize=8);\n",
    "plt.xlabel('Chromosome Length',fontsize=14);#plt.xlabel('Bases');\n",
    "for ch,clen in enumerate(clens):\n",
    "    I = -0.25\n",
    "    if ch % 2 == 1:\n",
    "        I = -I\n",
    "    plt.annotate(ch+1,(clen,np.mean(allel_distor_df['N'][allel_distor_df['Chrlen']==clen])+I),horizontalalignment='center',verticalalignment='center');\n",
    "#plt.ylim(0,5);\n",
    "plt.ylabel('Average Number of Haplotypes',fontsize=14);\n",
    "plt.title('Genome-wide Loss of Heterozygosity',fontsize=18);\n",
    "plt.tight_layout();\n",
    "#plt.savefig('../FIGS/Crypto-GW-LOH-Aug2017.png',dpi=600);"
   ]
  },
  {
   "cell_type": "code",
   "execution_count": 94,
   "metadata": {},
   "outputs": [
    {
     "name": "stdout",
     "output_type": "stream",
     "text": [
      "2.3\n",
      "7.8\n",
      "4.7\n",
      "6.0\n",
      "4.8\n",
      "2.2\n",
      "2.8\n",
      "1.7\n",
      "4.2\n",
      "2.7\n",
      "3.7\n",
      "2.7\n",
      "2.0\n",
      "1.5\n"
     ]
    }
   ],
   "source": [
    "for i,clen in enumerate(clens):\n",
    "    print np.var(allel_distor_df['N'][allel_distor_df['Chrlen']==clen],ddof=1)"
   ]
  },
  {
   "cell_type": "code",
   "execution_count": 95,
   "metadata": {
    "collapsed": true
   },
   "outputs": [],
   "source": [
    "log_allele_df['Chrlen_t'] = log_allele_df['Chrlen'].values/(1000**2)"
   ]
  },
  {
   "cell_type": "code",
   "execution_count": 96,
   "metadata": {},
   "outputs": [
    {
     "data": {
      "image/png": "[encoded data removed]",
      "text/plain": [
       "<matplotlib.figure.Figure at 0x1a164bbcd0>"
      ]
     },
     "metadata": {},
     "output_type": "display_data"
    }
   ],
   "source": [
    "fig, ax = plt.subplots(1,1,figsize=(5,4));\n",
    "sns.set(font_scale=1.2)\n",
    "rp = sns.regplot(x=\"Chrlen\",y=\"LogEN\",data=log_allele_df,color='orange');#rp.axes.set_ylim(0,)#rp.axes.set_xlim(0,)\n",
    "labels = [item.get_text() for item in ax.get_xticklabels()]\n",
    "labels = [0,0.8,1.0,1.2,1.4,1.6,1.9,2.0,2.2];\n",
    "ax.set_xticklabels(labels);\n",
    "##plt.ylabel(\"$\\log$ $E$ [ # of Haplotypes ]\",fontsize=16);\n",
    "plt.ylabel(\"$\\log$ (Mean # of Regions )\",fontsize=16);\n",
    "plt.xlabel('Chromosome Length (Mb)',fontsize=16);\n",
    "for ch,clen in enumerate(clens):\n",
    "    if ch in [0,1,4,8,11,13]:#ch % 2 == 0:\n",
    "        I = 0.09\n",
    "        rp.annotate(str(ch+1),\n",
    "                       (clen,\n",
    "                        float(log_allele_df.LogEN[\n",
    "                                              (log_allele_df.Chrom==chrlist[ch])]) + I),\n",
    "                     horizontalalignment='center',verticalalignment='center');\n",
    "    else:\n",
    "        I = -0.09\n",
    "        rp.annotate(str(ch+1),\n",
    "                       (clen,\n",
    "                        float(log_allele_df.LogEN[\n",
    "                                              (log_allele_df.Chrom==chrlist[ch])]) + I),\n",
    "                     horizontalalignment='center',verticalalignment='center');\n",
    "plt.tight_layout();\n",
    "plt.savefig('../FIGS/Crypto-09-GW-LOH-Feb2018.png',dpi=1200);"
   ]
  },
  {
   "cell_type": "code",
   "execution_count": null,
   "metadata": {
    "collapsed": true
   },
   "outputs": [],
   "source": []
  }
 ],
 "metadata": {
  "anaconda-cloud": {},
  "kernelspec": {
   "display_name": "Python 2",
   "language": "python",
   "name": "python2"
  },
  "language_info": {
   "codemirror_mode": {
    "name": "ipython",
    "version": 2
   },
   "file_extension": ".py",
   "mimetype": "text/x-python",
   "name": "python",
   "nbconvert_exporter": "python",
   "pygments_lexer": "ipython2",
   "version": "2.7.14"
  }
 },
 "nbformat": 4,
 "nbformat_minor": 1
}

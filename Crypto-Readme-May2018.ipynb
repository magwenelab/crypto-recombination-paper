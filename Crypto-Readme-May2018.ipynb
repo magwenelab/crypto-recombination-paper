{
 "cells": [
  {
   "cell_type": "markdown",
   "metadata": {},
   "source": [
    "# Python scripts, Jupyter Ntoebooks, and R Markdown used in [Roth et al. 2018.](http://www.genetics.org/content/early/2018/04/06/genetics.118.300996)"
   ]
  },
  {
   "cell_type": "markdown",
   "metadata": {},
   "source": [
    "# List and description of files. \n",
    "Files should be ran in order of appearance here to recapitulate analysis and figures from Roth et al. 2018"
   ]
  },
  {
   "cell_type": "markdown",
   "metadata": {},
   "source": [
    "Crypto_Cross_August15.vcf.gz – Variant call file, zipped, with genetic variants called across progeny between 431alpha, XL280a, and XL280alphaSS.\n",
    "\n",
    "cryptofxns.py – python library built by Cullen Roth and Paul Magwene (PhD)\n",
    "\n",
    "Crypto-0A-VCFtoGeno-Apr2016.py – python script that converts the variant call file, “Crypto_Cross_August15.vcf” to pandas dataframe with genotype calls. \n",
    "\n",
    "Crypto-0B-GenoFilterMatLocus-Apr2016.py – python script for filtering variant calls between the three parental strains (431alpha, Xl280a, and Xl280alphaSS) at the Mating Type Locus (MAT). \n",
    "\n",
    "Crypto-0C-Geno-to-IMI-Breakpts-Haplotypes-Jun2017.ipynb – Jupyter Notebook, converts called variant genotypes into haplotypes for segregants from the unisexual and bisexual crosses between 431alpha x Xl280alpha and 431alpha x XL280a, respectively. \n",
    "\n",
    "Crypto-01-Haplotype-To-GTC-Jun2017.ipynb – From haplotype information, calculates crossover counts. \n",
    "\n",
    "Crypto-02-GTC-To-Genome-Wide-CO-Frequency-Jun2017.ipynb – Estimates genome wide crossover frequencies. \n",
    "\n",
    "Crypto-03-Filtered-Genotype-To-New-GenoDF-Jun2017.ipynb – Utilized haplotype size thresholding to generate filtered variant calls and genotype pandas dataframe. \n",
    "\n",
    "Crypto-04-New-GenoDF-To-IMIxCO-Hot-Spots-Feb2018.ipynb – Examines crossovers per inter-marker interval and identifies hot-spots, regions of increased CO activity. \n",
    "\n",
    "Crypto-05-Hotspots-To-Sequence-Analysis-Nov2017.ipynb – Retrieves from the XL280 Illumina reference genome, DNA sequences from given crossover hot (and cold) spot locations and prepares for analysis with [MEME](http://meme-suite.org).\n",
    "\n",
    "Crypto-06-Haplotype-To-Woodfloor-Plot-Feb2018.ipynb – Generates visualizations of calculated haplotypes. \n",
    "\n",
    "Crypto-07-Haplotype-Filter-Effect-Jul2017.ipynb – Examines the effect of filtering haplotypes of a given size on crossover frequency estimation. \n",
    "\n",
    "Crypto-08-New-GenoDF-To-Uni&Bi-Allele-Bias-Aug2017.ipynb – Explores allele bias and allele segregation patterns in progeny from the unisexual and bisexual crosses. \n",
    "\n",
    "Crypto-09-GTC-Progeny-BiSexX-LOH-Feb2018.ipynb – Examines genotype changes, allelic bias, and loss of heterozygosity in progeny from the bisexual crosses between 431alpha and XL280a. \n",
    "\n",
    "Crypto-10-SunVsRoth-Chr04-Jun2017.ipynb – Investigates differences in rates of recombination seen in the current study and Sun et al. 2014. \n",
    "\n",
    "Crypto-11-New-GenoDF-To-GTC-Feb2018.ipynb – Calculates genotype changes (crossover counts) from genotype data that has been haplotype filtered. \n",
    "\n",
    "Crypto-12-Crossover-Analysis-Feb2018.Rmd – R markdown used to analyze and visualize genome-wide crossover frequencies. "
   ]
  },
  {
   "cell_type": "code",
   "execution_count": null,
   "metadata": {
    "collapsed": true
   },
   "outputs": [],
   "source": []
  }
 ],
 "metadata": {
  "kernelspec": {
   "display_name": "Python 2",
   "language": "python",
   "name": "python2"
  },
  "language_info": {
   "codemirror_mode": {
    "name": "ipython",
    "version": 2
   },
   "file_extension": ".py",
   "mimetype": "text/x-python",
   "name": "python",
   "nbconvert_exporter": "python",
   "pygments_lexer": "ipython2",
   "version": "2.7.14"
  }
 },
 "nbformat": 4,
 "nbformat_minor": 2
}

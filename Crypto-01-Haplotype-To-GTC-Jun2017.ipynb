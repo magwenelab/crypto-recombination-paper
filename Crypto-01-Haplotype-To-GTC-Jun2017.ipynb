{
 "cells": [
  {
   "cell_type": "markdown",
   "metadata": {},
   "source": [
    "# Transform Haplotype to Genotype Changes"
   ]
  },
  {
   "cell_type": "markdown",
   "metadata": {},
   "source": [
    "## Count from haplotype files the number of Genotype changes (GTC). "
   ]
  },
  {
   "cell_type": "markdown",
   "metadata": {},
   "source": [
    "### List needed modules"
   ]
  },
  {
   "cell_type": "code",
   "execution_count": 1,
   "metadata": {
    "collapsed": true
   },
   "outputs": [],
   "source": [
    "import numpy as np\n",
    "import pandas as pd\n",
    "import cryptofxns\n",
    "import os"
   ]
  },
  {
   "cell_type": "markdown",
   "metadata": {},
   "source": [
    "### Load the genotype file"
   ]
  },
  {
   "cell_type": "code",
   "execution_count": 2,
   "metadata": {},
   "outputs": [
    {
     "data": {
      "text/plain": [
       "(96337, 112)"
      ]
     },
     "execution_count": 2,
     "metadata": {},
     "output_type": "execute_result"
    }
   ],
   "source": [
    "#genodf = cryptofxns.geno_df;genodf.shape"
   ]
  },
  {
   "cell_type": "markdown",
   "metadata": {},
   "source": [
    "### The column where the genotype info starts"
   ]
  },
  {
   "cell_type": "code",
   "execution_count": 3,
   "metadata": {
    "collapsed": true
   },
   "outputs": [],
   "source": [
    "tc = cryptofxns.thecol"
   ]
  },
  {
   "cell_type": "markdown",
   "metadata": {},
   "source": [
    "### Get the chromosomes and segregant names"
   ]
  },
  {
   "cell_type": "code",
   "execution_count": 4,
   "metadata": {},
   "outputs": [],
   "source": [
    "chrlist = np.unique(genodf.Chrom).tolist()\n",
    "segs_parents = genodf.columns.tolist()[tc:];\n",
    "segs = [s for s in segs_parents if s not in ['SS-A837','XL280','XL280a']]"
   ]
  },
  {
   "cell_type": "markdown",
   "metadata": {},
   "source": [
    "### Load the chromosome lengths, directory paths, and make paths for haplotype files."
   ]
  },
  {
   "cell_type": "code",
   "execution_count": 5,
   "metadata": {},
   "outputs": [],
   "source": [
    "clens = cryptofxns.chromosome_lengths\n",
    "\n",
    "folders = ['IMI/','BPS/','HAP/','FGT/','FIG/']\n",
    "\n",
    "CHRPATHS = ['../FILES/CHR' + str(i) +'/' for i in range(1,len(clens)+1)];CHRPATHS[0]\n",
    "\n",
    "FILECHRPATHS = [ [chp + f for f in folders] for chp in CHRPATHS];"
   ]
  },
  {
   "cell_type": "markdown",
   "metadata": {},
   "source": [
    "#### Chekc work and file paths"
   ]
  },
  {
   "cell_type": "code",
   "execution_count": 6,
   "metadata": {},
   "outputs": [
    {
     "data": {
      "text/plain": [
       "['../FILES/CHR1/HAP/', '../FILES/CHR2/HAP/']"
      ]
     },
     "execution_count": 6,
     "metadata": {},
     "output_type": "execute_result"
    }
   ],
   "source": [
    "HAPFILES = [f[2] for f in FILECHRPATHS];HAPFILES[:2]"
   ]
  },
  {
   "cell_type": "code",
   "execution_count": 7,
   "metadata": {},
   "outputs": [
    {
     "data": {
      "text/plain": [
       "'../FILES/CHR1/HAP/'"
      ]
     },
     "execution_count": 7,
     "metadata": {},
     "output_type": "execute_result"
    }
   ],
   "source": [
    "HAPFILES[0]"
   ]
  },
  {
   "cell_type": "markdown",
   "metadata": {},
   "source": [
    "### Define haplotype file and make segregant paths"
   ]
  },
  {
   "cell_type": "code",
   "execution_count": 8,
   "metadata": {
    "collapsed": true
   },
   "outputs": [],
   "source": [
    "endfile = '-min-haplotype-k6000.csv'"
   ]
  },
  {
   "cell_type": "code",
   "execution_count": 9,
   "metadata": {},
   "outputs": [],
   "source": [
    "seg_filenames = [a + '/' +a + endfile for a in segs]"
   ]
  },
  {
   "cell_type": "code",
   "execution_count": 10,
   "metadata": {},
   "outputs": [
    {
     "data": {
      "text/plain": [
       "'SS-C291/SS-C291-min-haplotype-k6000.csv'"
      ]
     },
     "execution_count": 10,
     "metadata": {},
     "output_type": "execute_result"
    }
   ],
   "source": [
    "seg_filenames[-1]"
   ]
  },
  {
   "cell_type": "markdown",
   "metadata": {},
   "source": [
    "## Write function to count number of genotype changes per segregant"
   ]
  },
  {
   "cell_type": "code",
   "execution_count": 11,
   "metadata": {},
   "outputs": [],
   "source": [
    "def segregant_count_gtc(chrompath,segpaths):\n",
    "    recs = []\n",
    "    for segpath in segpaths:\n",
    "        newsegpath = chrompath+segpath\n",
    "        if os.path.exists(newsegpath):\n",
    "            recs.append(len(pd.read_csv(newsegpath))-1);\n",
    "        else:\n",
    "            recs.append(np.nan);\n",
    "    return recs"
   ]
  },
  {
   "cell_type": "markdown",
   "metadata": {},
   "source": [
    "## Count the number of GTC per segregant"
   ]
  },
  {
   "cell_type": "code",
   "execution_count": 12,
   "metadata": {},
   "outputs": [],
   "source": [
    "CO_seg_df = pd.DataFrame(columns=chrlist,index=segs,);\n",
    "for ch, chrom in enumerate(chrlist):\n",
    "     CO_seg_df[chrom]= segregant_count_gtc(HAPFILES[ch],seg_filenames)"
   ]
  },
  {
   "cell_type": "markdown",
   "metadata": {},
   "source": [
    "### Check work"
   ]
  },
  {
   "cell_type": "code",
   "execution_count": 13,
   "metadata": {},
   "outputs": [
    {
     "data": {
      "text/html": [
       "<div>\n",
       "<table border=\"1\" class=\"dataframe\">\n",
       "  <thead>\n",
       "    <tr style=\"text-align: right;\">\n",
       "      <th></th>\n",
       "      <th>SS-B307</th>\n",
       "      <th>SS-B308</th>\n",
       "      <th>SS-B310</th>\n",
       "      <th>SS-B311</th>\n",
       "      <th>SS-B312</th>\n",
       "      <th>SS-B313</th>\n",
       "      <th>SS-B314</th>\n",
       "      <th>SS-B315</th>\n",
       "      <th>SS-B316</th>\n",
       "      <th>SS-B317</th>\n",
       "      <th>...</th>\n",
       "      <th>SS-C031_cor</th>\n",
       "      <th>SS-C033</th>\n",
       "      <th>SS-C036</th>\n",
       "      <th>SS-C039</th>\n",
       "      <th>SS-C242</th>\n",
       "      <th>SS-C271</th>\n",
       "      <th>SS-C272</th>\n",
       "      <th>SS-C273</th>\n",
       "      <th>SS-C290</th>\n",
       "      <th>SS-C291</th>\n",
       "    </tr>\n",
       "  </thead>\n",
       "  <tbody>\n",
       "    <tr>\n",
       "      <th>Chr01</th>\n",
       "      <td>1.0</td>\n",
       "      <td>2.0</td>\n",
       "      <td>1.0</td>\n",
       "      <td>3.0</td>\n",
       "      <td>4.0</td>\n",
       "      <td>3.0</td>\n",
       "      <td>4.0</td>\n",
       "      <td>5.0</td>\n",
       "      <td>3.0</td>\n",
       "      <td>3.0</td>\n",
       "      <td>...</td>\n",
       "      <td>3.0</td>\n",
       "      <td>5.0</td>\n",
       "      <td>7.0</td>\n",
       "      <td>6.0</td>\n",
       "      <td>4.0</td>\n",
       "      <td>1.0</td>\n",
       "      <td>2.0</td>\n",
       "      <td>NaN</td>\n",
       "      <td>6.0</td>\n",
       "      <td>5.0</td>\n",
       "    </tr>\n",
       "    <tr>\n",
       "      <th>Chr02</th>\n",
       "      <td>1.0</td>\n",
       "      <td>3.0</td>\n",
       "      <td>5.0</td>\n",
       "      <td>4.0</td>\n",
       "      <td>6.0</td>\n",
       "      <td>4.0</td>\n",
       "      <td>1.0</td>\n",
       "      <td>1.0</td>\n",
       "      <td>2.0</td>\n",
       "      <td>6.0</td>\n",
       "      <td>...</td>\n",
       "      <td>0.0</td>\n",
       "      <td>5.0</td>\n",
       "      <td>6.0</td>\n",
       "      <td>5.0</td>\n",
       "      <td>3.0</td>\n",
       "      <td>6.0</td>\n",
       "      <td>6.0</td>\n",
       "      <td>NaN</td>\n",
       "      <td>4.0</td>\n",
       "      <td>4.0</td>\n",
       "    </tr>\n",
       "    <tr>\n",
       "      <th>Chr03</th>\n",
       "      <td>2.0</td>\n",
       "      <td>0.0</td>\n",
       "      <td>6.0</td>\n",
       "      <td>2.0</td>\n",
       "      <td>3.0</td>\n",
       "      <td>4.0</td>\n",
       "      <td>4.0</td>\n",
       "      <td>4.0</td>\n",
       "      <td>4.0</td>\n",
       "      <td>4.0</td>\n",
       "      <td>...</td>\n",
       "      <td>2.0</td>\n",
       "      <td>5.0</td>\n",
       "      <td>4.0</td>\n",
       "      <td>4.0</td>\n",
       "      <td>5.0</td>\n",
       "      <td>2.0</td>\n",
       "      <td>7.0</td>\n",
       "      <td>NaN</td>\n",
       "      <td>4.0</td>\n",
       "      <td>3.0</td>\n",
       "    </tr>\n",
       "    <tr>\n",
       "      <th>Chr04</th>\n",
       "      <td>1.0</td>\n",
       "      <td>3.0</td>\n",
       "      <td>1.0</td>\n",
       "      <td>2.0</td>\n",
       "      <td>5.0</td>\n",
       "      <td>3.0</td>\n",
       "      <td>5.0</td>\n",
       "      <td>2.0</td>\n",
       "      <td>3.0</td>\n",
       "      <td>6.0</td>\n",
       "      <td>...</td>\n",
       "      <td>3.0</td>\n",
       "      <td>6.0</td>\n",
       "      <td>7.0</td>\n",
       "      <td>3.0</td>\n",
       "      <td>6.0</td>\n",
       "      <td>8.0</td>\n",
       "      <td>5.0</td>\n",
       "      <td>NaN</td>\n",
       "      <td>4.0</td>\n",
       "      <td>5.0</td>\n",
       "    </tr>\n",
       "    <tr>\n",
       "      <th>Chr05</th>\n",
       "      <td>4.0</td>\n",
       "      <td>2.0</td>\n",
       "      <td>2.0</td>\n",
       "      <td>3.0</td>\n",
       "      <td>3.0</td>\n",
       "      <td>1.0</td>\n",
       "      <td>2.0</td>\n",
       "      <td>2.0</td>\n",
       "      <td>1.0</td>\n",
       "      <td>2.0</td>\n",
       "      <td>...</td>\n",
       "      <td>4.0</td>\n",
       "      <td>5.0</td>\n",
       "      <td>5.0</td>\n",
       "      <td>4.0</td>\n",
       "      <td>3.0</td>\n",
       "      <td>2.0</td>\n",
       "      <td>1.0</td>\n",
       "      <td>NaN</td>\n",
       "      <td>3.0</td>\n",
       "      <td>3.0</td>\n",
       "    </tr>\n",
       "  </tbody>\n",
       "</table>\n",
       "<p>5 rows × 105 columns</p>\n",
       "</div>"
      ],
      "text/plain": [
       "       SS-B307  SS-B308  SS-B310  SS-B311  SS-B312  SS-B313  SS-B314  SS-B315  \\\n",
       "Chr01      1.0      2.0      1.0      3.0      4.0      3.0      4.0      5.0   \n",
       "Chr02      1.0      3.0      5.0      4.0      6.0      4.0      1.0      1.0   \n",
       "Chr03      2.0      0.0      6.0      2.0      3.0      4.0      4.0      4.0   \n",
       "Chr04      1.0      3.0      1.0      2.0      5.0      3.0      5.0      2.0   \n",
       "Chr05      4.0      2.0      2.0      3.0      3.0      1.0      2.0      2.0   \n",
       "\n",
       "       SS-B316  SS-B317   ...     SS-C031_cor  SS-C033  SS-C036  SS-C039  \\\n",
       "Chr01      3.0      3.0   ...             3.0      5.0      7.0      6.0   \n",
       "Chr02      2.0      6.0   ...             0.0      5.0      6.0      5.0   \n",
       "Chr03      4.0      4.0   ...             2.0      5.0      4.0      4.0   \n",
       "Chr04      3.0      6.0   ...             3.0      6.0      7.0      3.0   \n",
       "Chr05      1.0      2.0   ...             4.0      5.0      5.0      4.0   \n",
       "\n",
       "       SS-C242  SS-C271  SS-C272  SS-C273  SS-C290  SS-C291  \n",
       "Chr01      4.0      1.0      2.0      NaN      6.0      5.0  \n",
       "Chr02      3.0      6.0      6.0      NaN      4.0      4.0  \n",
       "Chr03      5.0      2.0      7.0      NaN      4.0      3.0  \n",
       "Chr04      6.0      8.0      5.0      NaN      4.0      5.0  \n",
       "Chr05      3.0      2.0      1.0      NaN      3.0      3.0  \n",
       "\n",
       "[5 rows x 105 columns]"
      ]
     },
     "execution_count": 13,
     "metadata": {},
     "output_type": "execute_result"
    }
   ],
   "source": [
    "CO_seg_df.T.head()"
   ]
  },
  {
   "cell_type": "markdown",
   "metadata": {},
   "source": [
    "## Save the GTC dataframe"
   ]
  },
  {
   "cell_type": "code",
   "execution_count": 14,
   "metadata": {},
   "outputs": [
    {
     "data": {
      "text/plain": [
       "'-min-haplotype-k6000.csv'"
      ]
     },
     "execution_count": 14,
     "metadata": {},
     "output_type": "execute_result"
    }
   ],
   "source": [
    "endfile"
   ]
  },
  {
   "cell_type": "code",
   "execution_count": 15,
   "metadata": {
    "collapsed": true
   },
   "outputs": [],
   "source": [
    "CO_seg_df.to_csv('../FILES/Crypto-GTC-counts'+endfile);"
   ]
  },
  {
   "cell_type": "markdown",
   "metadata": {},
   "source": [
    "## List of segregatns we are removing. "
   ]
  },
  {
   "cell_type": "code",
   "execution_count": 16,
   "metadata": {},
   "outputs": [],
   "source": [
    "seg_out = [ \"SS-B377\", # nearly identical to SS-B312\n",
    "            \"SS-B385\", # nearly identical to SS-B317\n",
    "            \"SS-B410\", # nearly identical to SS-B314\n",
    "            \"SS-B560\", # nearly identical to SS-B308\n",
    "            \"SS-B395\", # Disomy of Chr01 and nearly identical to SS-B395\n",
    "            \"SS-B411\", # Disomy of Chr01 and nearly identical to SS-B411\n",
    "            \"SS-B594\", # Disomy of Chr01\n",
    "            \"SS-C273\", # Disomy of Chr07\n",
    "            \"SS-B879\", # Disomy of Chr10 \n",
    "            \"SS-B885\", # Disomy of Chr10\n",
    "            \"SS-B593\", # Non-recombinant All chrom from XL280 except Chr07\n",
    "            \"SS-B358\" , # Next Lowest amount of recombination N = 20\n",
    "            \"SS-B874_cor\", # Next Lowest amount of recombination N = 20\n",
    "]"
   ]
  },
  {
   "cell_type": "code",
   "execution_count": null,
   "metadata": {
    "collapsed": true
   },
   "outputs": [],
   "source": []
  }
 ],
 "metadata": {
  "anaconda-cloud": {},
  "kernelspec": {
   "display_name": "Python 2",
   "language": "python",
   "name": "python2"
  },
  "language_info": {
   "codemirror_mode": {
    "name": "ipython",
    "version": 2
   },
   "file_extension": ".py",
   "mimetype": "text/x-python",
   "name": "python",
   "nbconvert_exporter": "python",
   "pygments_lexer": "ipython2",
   "version": "2.7.14"
  }
 },
 "nbformat": 4,
 "nbformat_minor": 1
}

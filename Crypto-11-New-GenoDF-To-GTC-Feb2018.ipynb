{
 "cells": [
  {
   "cell_type": "code",
   "execution_count": 1,
   "metadata": {
    "collapsed": true
   },
   "outputs": [],
   "source": [
    "import numpy as np\n",
    "import pandas as pd\n",
    "import scipy.stats as ss\n",
    "import cryptofxns as crypto\n",
    "from matplotlib import pyplot as plt\n",
    "%matplotlib inline"
   ]
  },
  {
   "cell_type": "markdown",
   "metadata": {},
   "source": [
    "## Bring in genotype data"
   ]
  },
  {
   "cell_type": "code",
   "execution_count": 2,
   "metadata": {
    "collapsed": true
   },
   "outputs": [],
   "source": [
    "file_end = 'min-Geno-k6000.csv'\n",
    "geno = pd.read_csv('../FILES/FiltGenotoHapFiltGeno-%s'%file_end)"
   ]
  },
  {
   "cell_type": "code",
   "execution_count": 3,
   "metadata": {},
   "outputs": [
    {
     "data": {
      "text/html": [
       "<div>\n",
       "<style>\n",
       "    .dataframe thead tr:only-child th {\n",
       "        text-align: right;\n",
       "    }\n",
       "\n",
       "    .dataframe thead th {\n",
       "        text-align: left;\n",
       "    }\n",
       "\n",
       "    .dataframe tbody tr th {\n",
       "        vertical-align: top;\n",
       "    }\n",
       "</style>\n",
       "<table border=\"1\" class=\"dataframe\">\n",
       "  <thead>\n",
       "    <tr style=\"text-align: right;\">\n",
       "      <th></th>\n",
       "      <th>Alt</th>\n",
       "      <th>Chrom</th>\n",
       "      <th>Pos</th>\n",
       "      <th>Ref</th>\n",
       "      <th>SS-B307</th>\n",
       "      <th>SS-B308</th>\n",
       "      <th>SS-B310</th>\n",
       "      <th>SS-B311</th>\n",
       "      <th>SS-B312</th>\n",
       "      <th>SS-B313</th>\n",
       "      <th>...</th>\n",
       "      <th>SS-C029_Correction</th>\n",
       "      <th>SS-C031_Correction</th>\n",
       "      <th>SS-C033</th>\n",
       "      <th>SS-C036</th>\n",
       "      <th>SS-C039</th>\n",
       "      <th>SS-C242</th>\n",
       "      <th>SS-C271</th>\n",
       "      <th>SS-C272</th>\n",
       "      <th>SS-C290</th>\n",
       "      <th>SS-C291</th>\n",
       "    </tr>\n",
       "  </thead>\n",
       "  <tbody>\n",
       "    <tr>\n",
       "      <th>0</th>\n",
       "      <td>A</td>\n",
       "      <td>Chr01</td>\n",
       "      <td>5016.0</td>\n",
       "      <td>C</td>\n",
       "      <td>1</td>\n",
       "      <td>1</td>\n",
       "      <td>1</td>\n",
       "      <td>1</td>\n",
       "      <td>0</td>\n",
       "      <td>0</td>\n",
       "      <td>...</td>\n",
       "      <td>0</td>\n",
       "      <td>0</td>\n",
       "      <td>1</td>\n",
       "      <td>0</td>\n",
       "      <td>1</td>\n",
       "      <td>0</td>\n",
       "      <td>0</td>\n",
       "      <td>0</td>\n",
       "      <td>1</td>\n",
       "      <td>0</td>\n",
       "    </tr>\n",
       "    <tr>\n",
       "      <th>1</th>\n",
       "      <td>C</td>\n",
       "      <td>Chr01</td>\n",
       "      <td>5299.0</td>\n",
       "      <td>T</td>\n",
       "      <td>1</td>\n",
       "      <td>1</td>\n",
       "      <td>1</td>\n",
       "      <td>1</td>\n",
       "      <td>0</td>\n",
       "      <td>0</td>\n",
       "      <td>...</td>\n",
       "      <td>0</td>\n",
       "      <td>0</td>\n",
       "      <td>1</td>\n",
       "      <td>0</td>\n",
       "      <td>1</td>\n",
       "      <td>0</td>\n",
       "      <td>0</td>\n",
       "      <td>0</td>\n",
       "      <td>1</td>\n",
       "      <td>0</td>\n",
       "    </tr>\n",
       "    <tr>\n",
       "      <th>2</th>\n",
       "      <td>C</td>\n",
       "      <td>Chr01</td>\n",
       "      <td>5464.0</td>\n",
       "      <td>T</td>\n",
       "      <td>1</td>\n",
       "      <td>1</td>\n",
       "      <td>1</td>\n",
       "      <td>1</td>\n",
       "      <td>0</td>\n",
       "      <td>0</td>\n",
       "      <td>...</td>\n",
       "      <td>0</td>\n",
       "      <td>0</td>\n",
       "      <td>1</td>\n",
       "      <td>0</td>\n",
       "      <td>1</td>\n",
       "      <td>0</td>\n",
       "      <td>0</td>\n",
       "      <td>0</td>\n",
       "      <td>1</td>\n",
       "      <td>0</td>\n",
       "    </tr>\n",
       "    <tr>\n",
       "      <th>3</th>\n",
       "      <td>C</td>\n",
       "      <td>Chr01</td>\n",
       "      <td>6120.0</td>\n",
       "      <td>T</td>\n",
       "      <td>1</td>\n",
       "      <td>1</td>\n",
       "      <td>1</td>\n",
       "      <td>1</td>\n",
       "      <td>0</td>\n",
       "      <td>0</td>\n",
       "      <td>...</td>\n",
       "      <td>0</td>\n",
       "      <td>0</td>\n",
       "      <td>1</td>\n",
       "      <td>0</td>\n",
       "      <td>1</td>\n",
       "      <td>0</td>\n",
       "      <td>0</td>\n",
       "      <td>0</td>\n",
       "      <td>1</td>\n",
       "      <td>0</td>\n",
       "    </tr>\n",
       "    <tr>\n",
       "      <th>4</th>\n",
       "      <td>A</td>\n",
       "      <td>Chr01</td>\n",
       "      <td>6166.0</td>\n",
       "      <td>G</td>\n",
       "      <td>1</td>\n",
       "      <td>1</td>\n",
       "      <td>1</td>\n",
       "      <td>1</td>\n",
       "      <td>0</td>\n",
       "      <td>0</td>\n",
       "      <td>...</td>\n",
       "      <td>0</td>\n",
       "      <td>0</td>\n",
       "      <td>1</td>\n",
       "      <td>0</td>\n",
       "      <td>1</td>\n",
       "      <td>0</td>\n",
       "      <td>0</td>\n",
       "      <td>0</td>\n",
       "      <td>1</td>\n",
       "      <td>0</td>\n",
       "    </tr>\n",
       "  </tbody>\n",
       "</table>\n",
       "<p>5 rows × 98 columns</p>\n",
       "</div>"
      ],
      "text/plain": [
       "  Alt  Chrom     Pos Ref  SS-B307  SS-B308  SS-B310  SS-B311  SS-B312  \\\n",
       "0   A  Chr01  5016.0   C        1        1        1        1        0   \n",
       "1   C  Chr01  5299.0   T        1        1        1        1        0   \n",
       "2   C  Chr01  5464.0   T        1        1        1        1        0   \n",
       "3   C  Chr01  6120.0   T        1        1        1        1        0   \n",
       "4   A  Chr01  6166.0   G        1        1        1        1        0   \n",
       "\n",
       "   SS-B313   ...     SS-C029_Correction  SS-C031_Correction  SS-C033  SS-C036  \\\n",
       "0        0   ...                      0                   0        1        0   \n",
       "1        0   ...                      0                   0        1        0   \n",
       "2        0   ...                      0                   0        1        0   \n",
       "3        0   ...                      0                   0        1        0   \n",
       "4        0   ...                      0                   0        1        0   \n",
       "\n",
       "   SS-C039  SS-C242  SS-C271  SS-C272  SS-C290  SS-C291  \n",
       "0        1        0        0        0        1        0  \n",
       "1        1        0        0        0        1        0  \n",
       "2        1        0        0        0        1        0  \n",
       "3        1        0        0        0        1        0  \n",
       "4        1        0        0        0        1        0  \n",
       "\n",
       "[5 rows x 98 columns]"
      ]
     },
     "execution_count": 3,
     "metadata": {},
     "output_type": "execute_result"
    }
   ],
   "source": [
    "geno.head()"
   ]
  },
  {
   "cell_type": "markdown",
   "metadata": {},
   "source": [
    "## Bring in old dataframe"
   ]
  },
  {
   "cell_type": "code",
   "execution_count": 4,
   "metadata": {
    "collapsed": true
   },
   "outputs": [],
   "source": [
    "old_CO_df = pd.read_csv(\"~/Desktop/CRYPTO_RECOMB/FILES/Crypto-GTC-co-anova-df-min-haplotype-k6000.csv\")\n",
    "new_CO_df = old_CO_df.copy()"
   ]
  },
  {
   "cell_type": "code",
   "execution_count": 65,
   "metadata": {},
   "outputs": [
    {
     "data": {
      "text/plain": [
       "3297.0"
      ]
     },
     "execution_count": 65,
     "metadata": {},
     "output_type": "execute_result"
    }
   ],
   "source": [
    "old_CO_df.N.sum()"
   ]
  },
  {
   "cell_type": "markdown",
   "metadata": {},
   "source": [
    "## Double check that the crossover total old counts and totals from new counting methods match."
   ]
  },
  {
   "cell_type": "code",
   "execution_count": 5,
   "metadata": {},
   "outputs": [
    {
     "name": "stdout",
     "output_type": "stream",
     "text": [
      "[368.0, 301.0, 330.0, 292.0, 257.0, 217.0, 240.0, 287.0, 192.0, 185.0, 186.0, 139.0, 156.0, 147.0]\n"
     ]
    }
   ],
   "source": [
    "chrom_N = [old_CO_df[old_CO_df.Chrom==chrom].N.sum() for chrom in old_CO_df.Chrom.unique()];print chrom_N"
   ]
  },
  {
   "cell_type": "code",
   "execution_count": 6,
   "metadata": {},
   "outputs": [
    {
     "name": "stdout",
     "output_type": "stream",
     "text": [
      "[368.0, 301.0, 330.0, 292.0, 257.0, 217.0, 240.0, 287.0, 192.0, 185.0, 186.0, 139.0, 156.0, 147.0]\n"
     ]
    }
   ],
   "source": [
    "co_imi = crypto.IMIandCON(geno);\n",
    "co_imi_chrom_N = [co_imi[co_imi.Chrom==chrom].XO.sum() for chrom in co_imi.Chrom.unique()];print co_imi_chrom_N"
   ]
  },
  {
   "cell_type": "markdown",
   "metadata": {},
   "source": [
    "#### We have convergence in our crossover methods as seen above. We can check numerically. "
   ]
  },
  {
   "cell_type": "code",
   "execution_count": 7,
   "metadata": {
    "collapsed": true
   },
   "outputs": [],
   "source": [
    "assert sum(np.array(co_imi_chrom_N) - np.array(chrom_N)) == 0"
   ]
  },
  {
   "cell_type": "code",
   "execution_count": 8,
   "metadata": {},
   "outputs": [
    {
     "name": "stdout",
     "output_type": "stream",
     "text": [
      "55\n",
      "39\n"
     ]
    }
   ],
   "source": [
    "reload(crypto);\n",
    "tetrads = crypto.axalp\n",
    "uni = [seg for seg in geno.columns.tolist()[4:] if seg not in np.concatenate(tetrads)];print len(uni)\n",
    "bi = [seg for seg in geno.columns.tolist()[4:] if seg not in uni];print len(bi)\n",
    "assert len(uni) + len(bi) == len(geno.T) - 4"
   ]
  },
  {
   "cell_type": "markdown",
   "metadata": {},
   "source": [
    "## Recount for chromosome 7, the number of crossovers given the region around URA5"
   ]
  },
  {
   "cell_type": "code",
   "execution_count": 9,
   "metadata": {
    "collapsed": true
   },
   "outputs": [],
   "source": [
    "chr7_geno = geno[geno.Chrom=='Chr07'].copy()\n",
    "co_imi_seg = [crypto.IMIandCON(chr7_geno[chr7_geno.columns.tolist()[:4]+[seg]]) for seg in chr7_geno.columns.tolist()[4:]]"
   ]
  },
  {
   "cell_type": "code",
   "execution_count": 10,
   "metadata": {},
   "outputs": [
    {
     "data": {
      "text/plain": [
       "94"
      ]
     },
     "execution_count": 10,
     "metadata": {},
     "output_type": "execute_result"
    }
   ],
   "source": [
    "len(co_imi_seg)"
   ]
  },
  {
   "cell_type": "code",
   "execution_count": 11,
   "metadata": {
    "collapsed": true
   },
   "outputs": [],
   "source": [
    "len_chr07_imi = [len(a) for a in co_imi_seg]"
   ]
  },
  {
   "cell_type": "code",
   "execution_count": 12,
   "metadata": {},
   "outputs": [
    {
     "name": "stdout",
     "output_type": "stream",
     "text": [
      "[6135]\n"
     ]
    }
   ],
   "source": [
    "print np.unique(len_chr07_imi)\n",
    "assert len(np.unique(len_chr07_imi)) == 1"
   ]
  },
  {
   "cell_type": "markdown",
   "metadata": {},
   "source": [
    "## Set window around ura5 locus"
   ]
  },
  {
   "cell_type": "code",
   "execution_count": 13,
   "metadata": {
    "collapsed": true
   },
   "outputs": [],
   "source": [
    "Ws = 5000\n",
    "A =  crypto.ura5_start - Ws\n",
    "B =  crypto.ura5_end + Ws"
   ]
  },
  {
   "cell_type": "markdown",
   "metadata": {},
   "source": [
    "## Get index to that region in imi dataframes.\n",
    "#### Here we assume all the imi dataframes have the same index. This was checked above"
   ]
  },
  {
   "cell_type": "code",
   "execution_count": 14,
   "metadata": {
    "collapsed": true
   },
   "outputs": [],
   "source": [
    "temp = co_imi_seg[0]\n",
    "NAT_regionchr07 = temp[(temp.V > A) & (temp.W < B)].index.tolist()"
   ]
  },
  {
   "cell_type": "code",
   "execution_count": 15,
   "metadata": {},
   "outputs": [
    {
     "data": {
      "text/plain": [
       "9"
      ]
     },
     "execution_count": 15,
     "metadata": {},
     "output_type": "execute_result"
    }
   ],
   "source": [
    "len(NAT_regionchr07)"
   ]
  },
  {
   "cell_type": "code",
   "execution_count": 16,
   "metadata": {
    "collapsed": true
   },
   "outputs": [],
   "source": [
    "for a in co_imi_seg:\n",
    "    a.drop(NAT_regionchr07,inplace=True)"
   ]
  },
  {
   "cell_type": "code",
   "execution_count": 17,
   "metadata": {},
   "outputs": [
    {
     "name": "stdout",
     "output_type": "stream",
     "text": [
      "[6126]\n"
     ]
    }
   ],
   "source": [
    "print np.unique([len(a) for a in co_imi_seg])"
   ]
  },
  {
   "cell_type": "markdown",
   "metadata": {},
   "source": [
    "## Check our length of imi dataframe from dorpped and previous length match"
   ]
  },
  {
   "cell_type": "code",
   "execution_count": 18,
   "metadata": {},
   "outputs": [
    {
     "data": {
      "text/plain": [
       "array([6135])"
      ]
     },
     "execution_count": 18,
     "metadata": {},
     "output_type": "execute_result"
    }
   ],
   "source": [
    "np.unique([len(a) for a in co_imi_seg]) + len(NAT_regionchr07)"
   ]
  },
  {
   "cell_type": "code",
   "execution_count": 19,
   "metadata": {
    "collapsed": true
   },
   "outputs": [],
   "source": [
    "new_chr7_co = [a.XO.sum() for a in co_imi_seg]"
   ]
  },
  {
   "cell_type": "code",
   "execution_count": 20,
   "metadata": {
    "collapsed": true
   },
   "outputs": [],
   "source": [
    "tempdf = pd.DataFrame([[seg for seg in chr7_geno.columns.tolist()[4:]],new_chr7_co]).T\n",
    "tempdf.columns = ['Seg','N']"
   ]
  },
  {
   "cell_type": "code",
   "execution_count": 21,
   "metadata": {},
   "outputs": [
    {
     "data": {
      "text/plain": [
       "94"
      ]
     },
     "execution_count": 21,
     "metadata": {},
     "output_type": "execute_result"
    }
   ],
   "source": [
    "len(old_CO_df[old_CO_df.Chrom=='Chr07'].sort_values(['Seg']))"
   ]
  },
  {
   "cell_type": "code",
   "execution_count": 22,
   "metadata": {
    "collapsed": true
   },
   "outputs": [],
   "source": [
    "segs = old_CO_df[old_CO_df.Chrom=='Chr07'].sort_values(['Seg'])['Seg'].tolist()"
   ]
  },
  {
   "cell_type": "code",
   "execution_count": 23,
   "metadata": {
    "collapsed": true
   },
   "outputs": [],
   "source": [
    "short_segs = [seg.split('_')[0] for seg in segs]"
   ]
  },
  {
   "cell_type": "code",
   "execution_count": 24,
   "metadata": {},
   "outputs": [
    {
     "name": "stdout",
     "output_type": "stream",
     "text": [
      "94\n",
      "94\n"
     ]
    }
   ],
   "source": [
    "print len(short_segs)\n",
    "print len(np.unique(short_segs))"
   ]
  },
  {
   "cell_type": "code",
   "execution_count": 25,
   "metadata": {
    "collapsed": true
   },
   "outputs": [],
   "source": [
    "for i, seg in enumerate(chr7_geno.columns.tolist()[4:]):\n",
    "    assert seg.split('_')[0] == short_segs[i]"
   ]
  },
  {
   "cell_type": "code",
   "execution_count": 26,
   "metadata": {},
   "outputs": [
    {
     "data": {
      "image/png": "[encoded data removed]",
      "text/plain": [
       "<matplotlib.figure.Figure at 0x1a078de490>"
      ]
     },
     "metadata": {},
     "output_type": "display_data"
    }
   ],
   "source": [
    "fig,ax = plt.subplots(1,1,figsize=(7,3))\n",
    "tempdf.N.plot(marker='o',linestyle=' ');\n",
    "old_CO_df[old_CO_df.Chrom=='Chr07'].sort_values(['Seg']).reset_index(drop=True).N.plot(marker='*',linestyle=' ')\n",
    "plt.xlim(-1,94);"
   ]
  },
  {
   "cell_type": "markdown",
   "metadata": {},
   "source": [
    "Above, all blue dots (new counts) should be below old counts (gold stars)"
   ]
  },
  {
   "cell_type": "code",
   "execution_count": 27,
   "metadata": {
    "collapsed": true
   },
   "outputs": [],
   "source": [
    "oldcount = old_CO_df[old_CO_df.Chrom=='Chr07'].sort_values(['Seg']).reset_index(drop=True).N.values\n",
    "newcount = tempdf.N.values"
   ]
  },
  {
   "cell_type": "code",
   "execution_count": 28,
   "metadata": {
    "collapsed": true
   },
   "outputs": [],
   "source": [
    "changedsegs = []\n",
    "for i, j in enumerate(oldcount):\n",
    "    if j - newcount[i] > 0:\n",
    "        changedsegs.append((short_segs[i],newcount[i]))"
   ]
  },
  {
   "cell_type": "markdown",
   "metadata": {},
   "source": [
    "## Number of segregants with changed values for chr 7"
   ]
  },
  {
   "cell_type": "code",
   "execution_count": 29,
   "metadata": {},
   "outputs": [
    {
     "data": {
      "text/plain": [
       "57"
      ]
     },
     "execution_count": 29,
     "metadata": {},
     "output_type": "execute_result"
    }
   ],
   "source": [
    "len(changedsegs)"
   ]
  },
  {
   "cell_type": "code",
   "execution_count": 30,
   "metadata": {},
   "outputs": [
    {
     "name": "stdout",
     "output_type": "stream",
     "text": [
      "[('SS-B307', 1.0), ('SS-B308', 0.0), ('SS-B310', 1.0), ('SS-B311', 2.0), ('SS-B312', 3.0), ('SS-B313', 2.0), ('SS-B314', 0.0), ('SS-B315', 3.0), ('SS-B316', 1.0), ('SS-B317', 3.0), ('SS-B350', 4.0), ('SS-B354', 1.0), ('SS-B356', 1.0), ('SS-B357', 1.0), ('SS-B358', 2.0), ('SS-B360', 3.0), ('SS-B364', 2.0), ('SS-B366', 4.0), ('SS-B368', 0.0), ('SS-B369', 3.0), ('SS-B373', 2.0), ('SS-B374', 1.0), ('SS-B378', 3.0), ('SS-B379', 2.0), ('SS-B382', 2.0), ('SS-B383', 4.0), ('SS-B387', 2.0), ('SS-B396', 1.0), ('SS-B397', 3.0), ('SS-B399', 3.0), ('SS-B407', 0.0), ('SS-B553', 1.0), ('SS-B563', 2.0), ('SS-B564', 3.0), ('SS-B569', 3.0), ('SS-B570', 3.0), ('SS-B574', 1.0), ('SS-B575', 3.0), ('SS-B579', 0.0), ('SS-B580', 0.0), ('SS-B584', 2.0), ('SS-B585', 1.0), ('SS-B586', 2.0), ('SS-B587', 1.0), ('SS-B588', 1.0), ('SS-B598', 1.0), ('SS-B599', 2.0), ('SS-B605', 3.0), ('SS-B606', 0.0), ('SS-B611', 1.0), ('SS-B621', 1.0), ('SS-B886', 5.0), ('SS-B908', 0.0), ('SS-B956', 3.0), ('SS-B961', 3.0), ('SS-C033', 2.0), ('SS-C039', 3.0)]\n"
     ]
    }
   ],
   "source": [
    "print changedsegs"
   ]
  },
  {
   "cell_type": "markdown",
   "metadata": {},
   "source": [
    "## Change name of segregatns in new df to new short names"
   ]
  },
  {
   "cell_type": "code",
   "execution_count": 31,
   "metadata": {
    "collapsed": true
   },
   "outputs": [],
   "source": [
    "new_old_segs = new_CO_df['Seg'].tolist()\n",
    "new_short_segs = [seg.split('_')[0] for seg in new_old_segs]"
   ]
  },
  {
   "cell_type": "code",
   "execution_count": 32,
   "metadata": {
    "collapsed": true
   },
   "outputs": [],
   "source": [
    "new_CO_df['Seg'] = new_short_segs"
   ]
  },
  {
   "cell_type": "markdown",
   "metadata": {},
   "source": [
    "## Make df with new values "
   ]
  },
  {
   "cell_type": "code",
   "execution_count": 33,
   "metadata": {
    "collapsed": true
   },
   "outputs": [],
   "source": [
    "old_chroms = old_CO_df.drop(old_CO_df[old_CO_df.Chrom=='Chr07'].index,axis=0)"
   ]
  },
  {
   "cell_type": "code",
   "execution_count": 34,
   "metadata": {},
   "outputs": [
    {
     "data": {
      "text/plain": [
       "array(['Chr01', 'Chr02', 'Chr03', 'Chr04', 'Chr05', 'Chr06', 'Chr08',\n",
       "       'Chr09', 'Chr10', 'Chr11', 'Chr12', 'Chr13', 'Chr14'], dtype=object)"
      ]
     },
     "execution_count": 34,
     "metadata": {},
     "output_type": "execute_result"
    }
   ],
   "source": [
    "old_chroms.Chrom.unique()"
   ]
  },
  {
   "cell_type": "code",
   "execution_count": 62,
   "metadata": {},
   "outputs": [
    {
     "data": {
      "text/plain": [
       "3297.0"
      ]
     },
     "execution_count": 62,
     "metadata": {},
     "output_type": "execute_result"
    }
   ],
   "source": [
    "old_CO_df.N.sum()"
   ]
  },
  {
   "cell_type": "code",
   "execution_count": null,
   "metadata": {
    "collapsed": true
   },
   "outputs": [],
   "source": []
  },
  {
   "cell_type": "code",
   "execution_count": 35,
   "metadata": {},
   "outputs": [
    {
     "data": {
      "text/html": [
       "<div>\n",
       "<style>\n",
       "    .dataframe thead tr:only-child th {\n",
       "        text-align: right;\n",
       "    }\n",
       "\n",
       "    .dataframe thead th {\n",
       "        text-align: left;\n",
       "    }\n",
       "\n",
       "    .dataframe tbody tr th {\n",
       "        vertical-align: top;\n",
       "    }\n",
       "</style>\n",
       "<table border=\"1\" class=\"dataframe\">\n",
       "  <thead>\n",
       "    <tr style=\"text-align: right;\">\n",
       "      <th></th>\n",
       "      <th>Chrom</th>\n",
       "      <th>Chrlen</th>\n",
       "      <th>Cross</th>\n",
       "      <th>N</th>\n",
       "      <th>Seg</th>\n",
       "    </tr>\n",
       "  </thead>\n",
       "  <tbody>\n",
       "    <tr>\n",
       "      <th>0</th>\n",
       "      <td>Chr01</td>\n",
       "      <td>2300525</td>\n",
       "      <td>1</td>\n",
       "      <td>1.0</td>\n",
       "      <td>SS-B307</td>\n",
       "    </tr>\n",
       "    <tr>\n",
       "      <th>1</th>\n",
       "      <td>Chr01</td>\n",
       "      <td>2300525</td>\n",
       "      <td>1</td>\n",
       "      <td>2.0</td>\n",
       "      <td>SS-B308</td>\n",
       "    </tr>\n",
       "    <tr>\n",
       "      <th>2</th>\n",
       "      <td>Chr01</td>\n",
       "      <td>2300525</td>\n",
       "      <td>1</td>\n",
       "      <td>1.0</td>\n",
       "      <td>SS-B310</td>\n",
       "    </tr>\n",
       "    <tr>\n",
       "      <th>3</th>\n",
       "      <td>Chr01</td>\n",
       "      <td>2300525</td>\n",
       "      <td>1</td>\n",
       "      <td>3.0</td>\n",
       "      <td>SS-B311</td>\n",
       "    </tr>\n",
       "    <tr>\n",
       "      <th>4</th>\n",
       "      <td>Chr01</td>\n",
       "      <td>2300525</td>\n",
       "      <td>1</td>\n",
       "      <td>4.0</td>\n",
       "      <td>SS-B312</td>\n",
       "    </tr>\n",
       "  </tbody>\n",
       "</table>\n",
       "</div>"
      ],
      "text/plain": [
       "   Chrom   Chrlen  Cross    N      Seg\n",
       "0  Chr01  2300525      1  1.0  SS-B307\n",
       "1  Chr01  2300525      1  2.0  SS-B308\n",
       "2  Chr01  2300525      1  1.0  SS-B310\n",
       "3  Chr01  2300525      1  3.0  SS-B311\n",
       "4  Chr01  2300525      1  4.0  SS-B312"
      ]
     },
     "execution_count": 35,
     "metadata": {},
     "output_type": "execute_result"
    }
   ],
   "source": [
    "old_chroms.head()"
   ]
  },
  {
   "cell_type": "code",
   "execution_count": 36,
   "metadata": {
    "collapsed": true
   },
   "outputs": [],
   "source": [
    "old_chroms['Seg'] = [a.split('_')[0] for a in old_chroms['Seg'].values]"
   ]
  },
  {
   "cell_type": "code",
   "execution_count": 37,
   "metadata": {
    "collapsed": true
   },
   "outputs": [],
   "source": [
    "old_CO_df['Seg'] = [a.split('_')[0] for a in old_CO_df['Seg'].values]"
   ]
  },
  {
   "cell_type": "code",
   "execution_count": 38,
   "metadata": {
    "collapsed": true
   },
   "outputs": [],
   "source": [
    "tempdf['Seg'] = [a.split('_')[0] for a in tempdf['Seg'].values]\n",
    "tempdf['Chrom'] = ['Chr07' for a in newcount]\n",
    "tempdf['Chrlen'] = old_CO_df[old_CO_df.Chrom=='Chr07']['Chrlen'].values\n",
    "tempdf['Cross'] = [old_CO_df[(old_CO_df['Chrom']=='Chr07')&(old_CO_df['Seg']==seg)]['Cross'].tolist()[0] for seg in tempdf.Seg]"
   ]
  },
  {
   "cell_type": "code",
   "execution_count": 39,
   "metadata": {
    "collapsed": true
   },
   "outputs": [],
   "source": [
    "tempdf = tempdf[old_CO_df.columns]"
   ]
  },
  {
   "cell_type": "code",
   "execution_count": 40,
   "metadata": {
    "collapsed": true
   },
   "outputs": [],
   "source": [
    "new_CO_df = pd.concat([old_chroms,tempdf])"
   ]
  },
  {
   "cell_type": "code",
   "execution_count": 41,
   "metadata": {
    "collapsed": true
   },
   "outputs": [],
   "source": [
    "new_CO_df.sort_values(['Chrom','Seg'],inplace=True)"
   ]
  },
  {
   "cell_type": "code",
   "execution_count": 42,
   "metadata": {},
   "outputs": [
    {
     "data": {
      "text/html": [
       "<div>\n",
       "<style>\n",
       "    .dataframe thead tr:only-child th {\n",
       "        text-align: right;\n",
       "    }\n",
       "\n",
       "    .dataframe thead th {\n",
       "        text-align: left;\n",
       "    }\n",
       "\n",
       "    .dataframe tbody tr th {\n",
       "        vertical-align: top;\n",
       "    }\n",
       "</style>\n",
       "<table border=\"1\" class=\"dataframe\">\n",
       "  <thead>\n",
       "    <tr style=\"text-align: right;\">\n",
       "      <th></th>\n",
       "      <th>Chrom</th>\n",
       "      <th>Chrlen</th>\n",
       "      <th>Cross</th>\n",
       "      <th>N</th>\n",
       "      <th>Seg</th>\n",
       "    </tr>\n",
       "  </thead>\n",
       "  <tbody>\n",
       "    <tr>\n",
       "      <th>0</th>\n",
       "      <td>Chr01</td>\n",
       "      <td>2300525</td>\n",
       "      <td>1</td>\n",
       "      <td>1</td>\n",
       "      <td>SS-B307</td>\n",
       "    </tr>\n",
       "    <tr>\n",
       "      <th>1</th>\n",
       "      <td>Chr01</td>\n",
       "      <td>2300525</td>\n",
       "      <td>1</td>\n",
       "      <td>2</td>\n",
       "      <td>SS-B308</td>\n",
       "    </tr>\n",
       "    <tr>\n",
       "      <th>2</th>\n",
       "      <td>Chr01</td>\n",
       "      <td>2300525</td>\n",
       "      <td>1</td>\n",
       "      <td>1</td>\n",
       "      <td>SS-B310</td>\n",
       "    </tr>\n",
       "    <tr>\n",
       "      <th>3</th>\n",
       "      <td>Chr01</td>\n",
       "      <td>2300525</td>\n",
       "      <td>1</td>\n",
       "      <td>3</td>\n",
       "      <td>SS-B311</td>\n",
       "    </tr>\n",
       "    <tr>\n",
       "      <th>4</th>\n",
       "      <td>Chr01</td>\n",
       "      <td>2300525</td>\n",
       "      <td>1</td>\n",
       "      <td>4</td>\n",
       "      <td>SS-B312</td>\n",
       "    </tr>\n",
       "  </tbody>\n",
       "</table>\n",
       "</div>"
      ],
      "text/plain": [
       "   Chrom   Chrlen  Cross  N      Seg\n",
       "0  Chr01  2300525      1  1  SS-B307\n",
       "1  Chr01  2300525      1  2  SS-B308\n",
       "2  Chr01  2300525      1  1  SS-B310\n",
       "3  Chr01  2300525      1  3  SS-B311\n",
       "4  Chr01  2300525      1  4  SS-B312"
      ]
     },
     "execution_count": 42,
     "metadata": {},
     "output_type": "execute_result"
    }
   ],
   "source": [
    "new_CO_df.head()"
   ]
  },
  {
   "cell_type": "code",
   "execution_count": 63,
   "metadata": {},
   "outputs": [
    {
     "data": {
      "text/plain": [
       "3240.0"
      ]
     },
     "execution_count": 63,
     "metadata": {},
     "output_type": "execute_result"
    }
   ],
   "source": [
    "new_CO_df.N.sum()"
   ]
  },
  {
   "cell_type": "code",
   "execution_count": 43,
   "metadata": {},
   "outputs": [
    {
     "data": {
      "text/html": [
       "<div>\n",
       "<style>\n",
       "    .dataframe thead tr:only-child th {\n",
       "        text-align: right;\n",
       "    }\n",
       "\n",
       "    .dataframe thead th {\n",
       "        text-align: left;\n",
       "    }\n",
       "\n",
       "    .dataframe tbody tr th {\n",
       "        vertical-align: top;\n",
       "    }\n",
       "</style>\n",
       "<table border=\"1\" class=\"dataframe\">\n",
       "  <thead>\n",
       "    <tr style=\"text-align: right;\">\n",
       "      <th></th>\n",
       "      <th>Chrom</th>\n",
       "      <th>Chrlen</th>\n",
       "      <th>Cross</th>\n",
       "      <th>N</th>\n",
       "      <th>Seg</th>\n",
       "    </tr>\n",
       "  </thead>\n",
       "  <tbody>\n",
       "    <tr>\n",
       "      <th>1311</th>\n",
       "      <td>Chr14</td>\n",
       "      <td>762695</td>\n",
       "      <td>2</td>\n",
       "      <td>3</td>\n",
       "      <td>SS-C242</td>\n",
       "    </tr>\n",
       "    <tr>\n",
       "      <th>1312</th>\n",
       "      <td>Chr14</td>\n",
       "      <td>762695</td>\n",
       "      <td>2</td>\n",
       "      <td>4</td>\n",
       "      <td>SS-C271</td>\n",
       "    </tr>\n",
       "    <tr>\n",
       "      <th>1313</th>\n",
       "      <td>Chr14</td>\n",
       "      <td>762695</td>\n",
       "      <td>2</td>\n",
       "      <td>1</td>\n",
       "      <td>SS-C272</td>\n",
       "    </tr>\n",
       "    <tr>\n",
       "      <th>1314</th>\n",
       "      <td>Chr14</td>\n",
       "      <td>762695</td>\n",
       "      <td>2</td>\n",
       "      <td>4</td>\n",
       "      <td>SS-C290</td>\n",
       "    </tr>\n",
       "    <tr>\n",
       "      <th>1315</th>\n",
       "      <td>Chr14</td>\n",
       "      <td>762695</td>\n",
       "      <td>2</td>\n",
       "      <td>2</td>\n",
       "      <td>SS-C291</td>\n",
       "    </tr>\n",
       "  </tbody>\n",
       "</table>\n",
       "</div>"
      ],
      "text/plain": [
       "      Chrom  Chrlen  Cross  N      Seg\n",
       "1311  Chr14  762695      2  3  SS-C242\n",
       "1312  Chr14  762695      2  4  SS-C271\n",
       "1313  Chr14  762695      2  1  SS-C272\n",
       "1314  Chr14  762695      2  4  SS-C290\n",
       "1315  Chr14  762695      2  2  SS-C291"
      ]
     },
     "execution_count": 43,
     "metadata": {},
     "output_type": "execute_result"
    }
   ],
   "source": [
    "new_CO_df.tail()"
   ]
  },
  {
   "cell_type": "code",
   "execution_count": 44,
   "metadata": {},
   "outputs": [
    {
     "data": {
      "text/plain": [
       "94"
      ]
     },
     "execution_count": 44,
     "metadata": {},
     "output_type": "execute_result"
    }
   ],
   "source": [
    "len(new_CO_df.Seg.unique())"
   ]
  },
  {
   "cell_type": "code",
   "execution_count": 45,
   "metadata": {},
   "outputs": [
    {
     "data": {
      "text/plain": [
       "14"
      ]
     },
     "execution_count": 45,
     "metadata": {},
     "output_type": "execute_result"
    }
   ],
   "source": [
    "len(new_CO_df.Chrom.unique())"
   ]
  },
  {
   "cell_type": "code",
   "execution_count": 46,
   "metadata": {
    "collapsed": true
   },
   "outputs": [],
   "source": [
    "for chrom in new_CO_df.Chrom.unique():\n",
    "    temp = new_CO_df[new_CO_df.Chrom==chrom]\n",
    "    assert len(temp) == 94\n",
    "    for seg in temp.Seg:\n",
    "        oC = old_CO_df[(old_CO_df.Chrom==chrom)&(old_CO_df.Seg==seg)]['Cross'].tolist()[0]\n",
    "        nC = temp[temp.Seg==seg]['Cross'].tolist()[0]\n",
    "        assert oC == nC"
   ]
  },
  {
   "cell_type": "code",
   "execution_count": 47,
   "metadata": {},
   "outputs": [
    {
     "name": "stdout",
     "output_type": "stream",
     "text": [
      "[368.0, 301.0, 330.0, 292.0, 257.0, 217.0, 240.0, 287.0, 192.0, 185.0, 186.0, 139.0, 156.0, 147.0]\n"
     ]
    }
   ],
   "source": [
    "print chrom_N"
   ]
  },
  {
   "cell_type": "code",
   "execution_count": 48,
   "metadata": {},
   "outputs": [
    {
     "name": "stdout",
     "output_type": "stream",
     "text": [
      "[368.0, 301.0, 330.0, 292.0, 257.0, 217.0, 183.0, 287.0, 192.0, 185.0, 186.0, 139.0, 156.0, 147.0]\n"
     ]
    }
   ],
   "source": [
    "print [new_CO_df[new_CO_df.Chrom==chrom]['N'].sum() for chrom in new_CO_df.Chrom.unique()]"
   ]
  },
  {
   "cell_type": "code",
   "execution_count": 49,
   "metadata": {},
   "outputs": [
    {
     "data": {
      "text/plain": [
       "57.0"
      ]
     },
     "execution_count": 49,
     "metadata": {},
     "output_type": "execute_result"
    }
   ],
   "source": [
    "chrom_N[6] - [new_CO_df[new_CO_df.Chrom==chrom]['N'].sum() for chrom in new_CO_df.Chrom.unique()][6]"
   ]
  },
  {
   "cell_type": "markdown",
   "metadata": {},
   "source": [
    "## Visually check work"
   ]
  },
  {
   "cell_type": "code",
   "execution_count": 50,
   "metadata": {},
   "outputs": [
    {
     "data": {
      "image/png": "[encoded data removed]",
      "text/plain": [
       "<matplotlib.figure.Figure at 0x1a0addcb90>"
      ]
     },
     "metadata": {},
     "output_type": "display_data"
    }
   ],
   "source": [
    "fig,ax = plt.subplots(1,1,figsize=(7,3))\n",
    "new_CO_df[new_CO_df.Chrom=='Chr07'].sort_values(['Seg']).reset_index(drop=True).N.plot(marker='o',linestyle=' ')\n",
    "old_CO_df[old_CO_df.Chrom=='Chr07'].sort_values(['Seg']).reset_index(drop=True).N.plot(marker='*',linestyle=' ')\n",
    "plt.xlim(-1,94);"
   ]
  },
  {
   "cell_type": "markdown",
   "metadata": {},
   "source": [
    "Should make the same figure as above"
   ]
  },
  {
   "cell_type": "markdown",
   "metadata": {},
   "source": [
    "## Save new dataframe"
   ]
  },
  {
   "cell_type": "code",
   "execution_count": 64,
   "metadata": {},
   "outputs": [
    {
     "data": {
      "text/plain": [
       "3240.0"
      ]
     },
     "execution_count": 64,
     "metadata": {},
     "output_type": "execute_result"
    }
   ],
   "source": [
    "new_CO_df.N.sum()"
   ]
  },
  {
   "cell_type": "code",
   "execution_count": 51,
   "metadata": {
    "collapsed": true
   },
   "outputs": [],
   "source": [
    "new_CO_df.to_csv(\"~/Desktop/CRYPTO_RECOMB/FILES/Crypto-GTC-co-anova-df-min-haplotype-k6000-Feb2018.csv\")"
   ]
  },
  {
   "cell_type": "markdown",
   "metadata": {},
   "source": [
    "# Crossover analysis per chromosome and facte plot (on chromosome)"
   ]
  },
  {
   "cell_type": "code",
   "execution_count": 52,
   "metadata": {
    "collapsed": true
   },
   "outputs": [],
   "source": [
    "CO_u = new_CO_df[(new_CO_df.Cross==1)][['Chrom','N']]\n",
    "CO_b = new_CO_df[(new_CO_df.Cross==2)][['Chrom','N']]"
   ]
  },
  {
   "cell_type": "code",
   "execution_count": 53,
   "metadata": {
    "collapsed": true
   },
   "outputs": [],
   "source": [
    "chrlist = new_CO_df.Chrom.unique()"
   ]
  },
  {
   "cell_type": "code",
   "execution_count": 54,
   "metadata": {
    "collapsed": true
   },
   "outputs": [],
   "source": [
    "mannxchrom = [ss.mannwhitneyu(CO_u[CO_u.Chrom==chrom]['N'].values,\n",
    "                             CO_b[CO_b.Chrom==chrom]['N'].values) for chrom in chrlist]"
   ]
  },
  {
   "cell_type": "code",
   "execution_count": 55,
   "metadata": {
    "collapsed": true
   },
   "outputs": [],
   "source": [
    "from statsmodels.sandbox.stats.multicomp import multipletests as mltptest"
   ]
  },
  {
   "cell_type": "code",
   "execution_count": 56,
   "metadata": {
    "collapsed": true
   },
   "outputs": [],
   "source": [
    "mann_fdr_step_down_res = mltptest([mannxchrom[i][1] for i in range(len(chrlist))],method='hs',alpha=0.05)"
   ]
  },
  {
   "cell_type": "code",
   "execution_count": 57,
   "metadata": {},
   "outputs": [
    {
     "data": {
      "text/plain": [
       "['Chr01', 'Chr02', 'Chr03', 'Chr04', 'Chr05', 'Chr08', 'Chr09']"
      ]
     },
     "execution_count": 57,
     "metadata": {},
     "output_type": "execute_result"
    }
   ],
   "source": [
    "[chrom for i, chrom in enumerate(chrlist) if mann_fdr_step_down_res[0][i] == True]"
   ]
  },
  {
   "cell_type": "code",
   "execution_count": 58,
   "metadata": {
    "collapsed": true
   },
   "outputs": [],
   "source": [
    "import seaborn as sns\n",
    "sns.set()\n",
    "new_chrom_label = [str(int(chrom[3:])) for chrom in chrlist]\n",
    "CO_anova_df = new_CO_df"
   ]
  },
  {
   "cell_type": "code",
   "execution_count": 59,
   "metadata": {},
   "outputs": [
    {
     "name": "stdout",
     "output_type": "stream",
     "text": [
      "Chr01 1.06573426573\n",
      "Chr02 1.18834498834\n",
      "Chr03 1.05547785548\n",
      "Chr04 1.30815850816\n",
      "Chr05 1.46247086247\n",
      "Chr08 1.2675990676\n",
      "Chr09 0.935198135198\n"
     ]
    }
   ],
   "source": [
    "for i,chrom in enumerate([chrom for i, chrom in enumerate(chrlist) if mann_fdr_step_down_res[0][i] == True]): ## For each chromsome ... \n",
    "    x1 = CO_anova_df[(CO_anova_df.Chrom==chrom)&(CO_anova_df.Cross==1)]['N'].tolist(); ## Get data for segs from unisexual reproduction\n",
    "    x2 = CO_anova_df[(CO_anova_df.Chrom==chrom)&(CO_anova_df.Cross==2)]['N'].tolist(); \n",
    "    print chrom, abs(np.mean(x1) - np.mean(x2))"
   ]
  },
  {
   "cell_type": "code",
   "execution_count": 60,
   "metadata": {},
   "outputs": [
    {
     "data": {
      "image/png": "[encoded data removed]",
      "text/plain": [
       "<matplotlib.figure.Figure at 0x1a0b91f450>"
      ]
     },
     "metadata": {},
     "output_type": "display_data"
    }
   ],
   "source": [
    "fig,ax = plt.subplots(4,4,figsize=(8,8),sharey=True); ## Call figure\n",
    "bins = np.arange(-0.5,CO_anova_df.N.max()+1.5); ## Center bins on each integer from 0 to 10\n",
    "tall = .6 ## Set variable for how tall the vertical lines representing the means shall be. \n",
    "uni_label = ' '\n",
    "bi_label = ' '\n",
    "for i,chrom in enumerate(chrlist): ## For each chromsome ... \n",
    "    plt.sca(ax.ravel()[i]); ## Get axis \n",
    "    x1 = CO_anova_df[(CO_anova_df.Chrom==chrom)&(CO_anova_df.Cross==1)]['N'].tolist(); ## Get data for segs from unisexual reproduction\n",
    "    x2 = CO_anova_df[(CO_anova_df.Chrom==chrom)&(CO_anova_df.Cross==2)]['N'].tolist(); ## \"\" bisexual reproduction\n",
    "    plt.hist(x1,bins=bins,color='r',alpha=.5,normed=True,label=uni_label); ## plot dist for segs from uni cross\n",
    "    plt.hist(x2,bins=bins,color='k',alpha=.4,normed=True,label=bi_label); ## \" \" from bi cross \n",
    "    if mann_fdr_step_down_res[0][i] == True:\n",
    "        chrom_label = new_chrom_label[i] + ' *';\n",
    "    else:\n",
    "        chrom_label = new_chrom_label[i]\n",
    "    plt.text(0.9, 0.9,chrom_label, horizontalalignment='center', ## Label each subplot with the chromosome\n",
    "                 verticalalignment='center', ## Align text centered vertically\n",
    "                 transform = plt.gca().transAxes,fontsize=14); ## Turn axis to ratio\n",
    "    plt.vlines(np.mean(x1),0,tall,'red',linestyles='--',linewidth=0.5,alpha=.5);\n",
    "    plt.vlines(np.mean(x2),0,tall,'k',linestyles='--',linewidth=0.5,alpha=.5);\n",
    "    for a in ['top','bottom','left','right']:\n",
    "        plt.gca().spines[a].set_visible(False);\n",
    "    plt.yticks([0,0.1,0.2,0.3,0.4,0.5],fontsize=14);\n",
    "    plt.xticks([0,2,4,6,8,10],fontsize=14); ## Set x and y ticks \n",
    "    plt.xlim(-.5,np.max(bins));#plt.ylim(0,25); ## Set x and y lims\n",
    "    plt.tight_layout(); ## force a tight layout\n",
    "    if i < 10: ## Turn off x axis for subplots not on bottom. \n",
    "        plt.gca().grid(True); ## Keep the grid in the background of these first plots\n",
    "        plt.gca().set_xticklabels([]); ## Set their x ticks to none\n",
    "for i in [14,15]: ## Turn off the two empty subplots\n",
    "    plt.sca(ax.ravel()[i]); ## Get the axis\n",
    "    plt.axis('off'); ## Turn it off. \n",
    "plt.subplots_adjust(wspace=0.15,hspace=0.15); ## Adjust space between subplots\n",
    "plt.gcf().subplots_adjust(bottom=0.1);plt.gcf().subplots_adjust(left=0.1);\n",
    "fig.text(0.55, 0.025, 'Number of Crossovers', ha='center',fontsize=18);\n",
    "fig.text(0.01,0.55,'Percent of Meiotic Progeny',va='center', rotation='vertical',fontsize=18);\n",
    "plt.ylim(0,0.5)\n",
    "plt.sca(ax.ravel()[13])\n",
    "##plt.legend(bbox_to_anchor=(2.0, 0.5));\n",
    "plt.savefig('../FIGS/Crypto-11-GTC-Distributions.png',dpi=1200,bbox_inches='tight');"
   ]
  },
  {
   "cell_type": "code",
   "execution_count": null,
   "metadata": {
    "collapsed": true
   },
   "outputs": [],
   "source": []
  }
 ],
 "metadata": {
  "kernelspec": {
   "display_name": "Python 2",
   "language": "python",
   "name": "python2"
  },
  "language_info": {
   "codemirror_mode": {
    "name": "ipython",
    "version": 2
   },
   "file_extension": ".py",
   "mimetype": "text/x-python",
   "name": "python",
   "nbconvert_exporter": "python",
   "pygments_lexer": "ipython2",
   "version": "2.7.14"
  }
 },
 "nbformat": 4,
 "nbformat_minor": 2
}

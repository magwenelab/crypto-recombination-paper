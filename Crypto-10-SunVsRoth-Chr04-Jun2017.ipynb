{
 "cells": [
  {
   "cell_type": "code",
   "execution_count": 1,
   "metadata": {
    "collapsed": true
   },
   "outputs": [],
   "source": [
    "import numpy as np\n",
    "import pandas as pd\n",
    "import scipy.stats as ss\n",
    "import cryptofxns\n",
    "from matplotlib import pyplot as plt\n",
    "%matplotlib inline"
   ]
  },
  {
   "cell_type": "markdown",
   "metadata": {},
   "source": [
    "<img src=\"../FIGS/Crypto-SunetalvRothetal-Mar2017.jpeg\">"
   ]
  },
  {
   "cell_type": "code",
   "execution_count": 2,
   "metadata": {
    "collapsed": true
   },
   "outputs": [],
   "source": [
    "#geno = pd.read_csv('../FILES/FiltGenotoHapFiltGeno2017-02-22.csv',index_col=0);# JUN 15th\n",
    "file_end = 'min-Geno-k6000.csv'## JUN 15th\n",
    "geno = pd.read_csv('../FILES/FiltGenotoHapFiltGeno-%s'%file_end)"
   ]
  },
  {
   "cell_type": "code",
   "execution_count": 3,
   "metadata": {},
   "outputs": [
    {
     "data": {
      "text/html": [
       "<div>\n",
       "<style>\n",
       "    .dataframe thead tr:only-child th {\n",
       "        text-align: right;\n",
       "    }\n",
       "\n",
       "    .dataframe thead th {\n",
       "        text-align: left;\n",
       "    }\n",
       "\n",
       "    .dataframe tbody tr th {\n",
       "        vertical-align: top;\n",
       "    }\n",
       "</style>\n",
       "<table border=\"1\" class=\"dataframe\">\n",
       "  <thead>\n",
       "    <tr style=\"text-align: right;\">\n",
       "      <th></th>\n",
       "      <th>Alt</th>\n",
       "      <th>Chrom</th>\n",
       "      <th>Pos</th>\n",
       "      <th>Ref</th>\n",
       "      <th>SS-B307</th>\n",
       "      <th>SS-B308</th>\n",
       "      <th>SS-B310</th>\n",
       "      <th>SS-B311</th>\n",
       "      <th>SS-B312</th>\n",
       "      <th>SS-B313</th>\n",
       "      <th>...</th>\n",
       "      <th>SS-C029_Correction</th>\n",
       "      <th>SS-C031_Correction</th>\n",
       "      <th>SS-C033</th>\n",
       "      <th>SS-C036</th>\n",
       "      <th>SS-C039</th>\n",
       "      <th>SS-C242</th>\n",
       "      <th>SS-C271</th>\n",
       "      <th>SS-C272</th>\n",
       "      <th>SS-C290</th>\n",
       "      <th>SS-C291</th>\n",
       "    </tr>\n",
       "  </thead>\n",
       "  <tbody>\n",
       "    <tr>\n",
       "      <th>0</th>\n",
       "      <td>A</td>\n",
       "      <td>Chr01</td>\n",
       "      <td>5016.0</td>\n",
       "      <td>C</td>\n",
       "      <td>1</td>\n",
       "      <td>1</td>\n",
       "      <td>1</td>\n",
       "      <td>1</td>\n",
       "      <td>0</td>\n",
       "      <td>0</td>\n",
       "      <td>...</td>\n",
       "      <td>0</td>\n",
       "      <td>0</td>\n",
       "      <td>1</td>\n",
       "      <td>0</td>\n",
       "      <td>1</td>\n",
       "      <td>0</td>\n",
       "      <td>0</td>\n",
       "      <td>0</td>\n",
       "      <td>1</td>\n",
       "      <td>0</td>\n",
       "    </tr>\n",
       "    <tr>\n",
       "      <th>1</th>\n",
       "      <td>C</td>\n",
       "      <td>Chr01</td>\n",
       "      <td>5299.0</td>\n",
       "      <td>T</td>\n",
       "      <td>1</td>\n",
       "      <td>1</td>\n",
       "      <td>1</td>\n",
       "      <td>1</td>\n",
       "      <td>0</td>\n",
       "      <td>0</td>\n",
       "      <td>...</td>\n",
       "      <td>0</td>\n",
       "      <td>0</td>\n",
       "      <td>1</td>\n",
       "      <td>0</td>\n",
       "      <td>1</td>\n",
       "      <td>0</td>\n",
       "      <td>0</td>\n",
       "      <td>0</td>\n",
       "      <td>1</td>\n",
       "      <td>0</td>\n",
       "    </tr>\n",
       "    <tr>\n",
       "      <th>2</th>\n",
       "      <td>C</td>\n",
       "      <td>Chr01</td>\n",
       "      <td>5464.0</td>\n",
       "      <td>T</td>\n",
       "      <td>1</td>\n",
       "      <td>1</td>\n",
       "      <td>1</td>\n",
       "      <td>1</td>\n",
       "      <td>0</td>\n",
       "      <td>0</td>\n",
       "      <td>...</td>\n",
       "      <td>0</td>\n",
       "      <td>0</td>\n",
       "      <td>1</td>\n",
       "      <td>0</td>\n",
       "      <td>1</td>\n",
       "      <td>0</td>\n",
       "      <td>0</td>\n",
       "      <td>0</td>\n",
       "      <td>1</td>\n",
       "      <td>0</td>\n",
       "    </tr>\n",
       "    <tr>\n",
       "      <th>3</th>\n",
       "      <td>C</td>\n",
       "      <td>Chr01</td>\n",
       "      <td>6120.0</td>\n",
       "      <td>T</td>\n",
       "      <td>1</td>\n",
       "      <td>1</td>\n",
       "      <td>1</td>\n",
       "      <td>1</td>\n",
       "      <td>0</td>\n",
       "      <td>0</td>\n",
       "      <td>...</td>\n",
       "      <td>0</td>\n",
       "      <td>0</td>\n",
       "      <td>1</td>\n",
       "      <td>0</td>\n",
       "      <td>1</td>\n",
       "      <td>0</td>\n",
       "      <td>0</td>\n",
       "      <td>0</td>\n",
       "      <td>1</td>\n",
       "      <td>0</td>\n",
       "    </tr>\n",
       "    <tr>\n",
       "      <th>4</th>\n",
       "      <td>A</td>\n",
       "      <td>Chr01</td>\n",
       "      <td>6166.0</td>\n",
       "      <td>G</td>\n",
       "      <td>1</td>\n",
       "      <td>1</td>\n",
       "      <td>1</td>\n",
       "      <td>1</td>\n",
       "      <td>0</td>\n",
       "      <td>0</td>\n",
       "      <td>...</td>\n",
       "      <td>0</td>\n",
       "      <td>0</td>\n",
       "      <td>1</td>\n",
       "      <td>0</td>\n",
       "      <td>1</td>\n",
       "      <td>0</td>\n",
       "      <td>0</td>\n",
       "      <td>0</td>\n",
       "      <td>1</td>\n",
       "      <td>0</td>\n",
       "    </tr>\n",
       "  </tbody>\n",
       "</table>\n",
       "<p>5 rows × 98 columns</p>\n",
       "</div>"
      ],
      "text/plain": [
       "  Alt  Chrom     Pos Ref  SS-B307  SS-B308  SS-B310  SS-B311  SS-B312  \\\n",
       "0   A  Chr01  5016.0   C        1        1        1        1        0   \n",
       "1   C  Chr01  5299.0   T        1        1        1        1        0   \n",
       "2   C  Chr01  5464.0   T        1        1        1        1        0   \n",
       "3   C  Chr01  6120.0   T        1        1        1        1        0   \n",
       "4   A  Chr01  6166.0   G        1        1        1        1        0   \n",
       "\n",
       "   SS-B313   ...     SS-C029_Correction  SS-C031_Correction  SS-C033  SS-C036  \\\n",
       "0        0   ...                      0                   0        1        0   \n",
       "1        0   ...                      0                   0        1        0   \n",
       "2        0   ...                      0                   0        1        0   \n",
       "3        0   ...                      0                   0        1        0   \n",
       "4        0   ...                      0                   0        1        0   \n",
       "\n",
       "   SS-C039  SS-C242  SS-C271  SS-C272  SS-C290  SS-C291  \n",
       "0        1        0        0        0        1        0  \n",
       "1        1        0        0        0        1        0  \n",
       "2        1        0        0        0        1        0  \n",
       "3        1        0        0        0        1        0  \n",
       "4        1        0        0        0        1        0  \n",
       "\n",
       "[5 rows x 98 columns]"
      ]
     },
     "execution_count": 3,
     "metadata": {},
     "output_type": "execute_result"
    }
   ],
   "source": [
    "geno.head()"
   ]
  },
  {
   "cell_type": "code",
   "execution_count": 4,
   "metadata": {
    "collapsed": true
   },
   "outputs": [],
   "source": [
    "chrlist = np.unique(geno.Chrom.tolist());assert len(chrlist) == 14"
   ]
  },
  {
   "cell_type": "code",
   "execution_count": 5,
   "metadata": {
    "collapsed": true
   },
   "outputs": [],
   "source": [
    "clens = cryptofxns.chromosome_lengths;assert len(clens) == len(chrlist)"
   ]
  },
  {
   "cell_type": "code",
   "execution_count": 6,
   "metadata": {},
   "outputs": [
    {
     "data": {
      "text/plain": [
       "(86767, 98)"
      ]
     },
     "execution_count": 6,
     "metadata": {},
     "output_type": "execute_result"
    }
   ],
   "source": [
    "geno.shape"
   ]
  },
  {
   "cell_type": "code",
   "execution_count": 7,
   "metadata": {},
   "outputs": [
    {
     "data": {
      "text/plain": [
       "(8611, 98)"
      ]
     },
     "execution_count": 7,
     "metadata": {},
     "output_type": "execute_result"
    }
   ],
   "source": [
    "chr04 = geno[geno.Chrom == 'Chr04'].dropna(axis=0,how='any').reset_index(drop=True);chr04.shape"
   ]
  },
  {
   "cell_type": "code",
   "execution_count": 8,
   "metadata": {
    "collapsed": true
   },
   "outputs": [],
   "source": [
    "unim = np.arange(1,39).tolist() + [np.nan, 39, np.nan, 40, 41, 42]\n",
    "bim = [np.nan,np.nan,np.nan,1,np.nan] + np.arange(2,7).tolist() + [np.nan,\n",
    "            np.nan,np.nan,7,np.nan,np.nan,np.nan,np.nan,np.nan,np.nan,8,\n",
    "np.nan,np.nan,9,np.nan,np.nan,np.nan,np.nan,10,11,12,np.nan,np.nan,np.nan,np.nan,np.nan,\n",
    "                    np.nan] +['13al','13a'] + np.arange(14,18).tolist() + [np.nan]\n",
    "                     "
   ]
  },
  {
   "cell_type": "code",
   "execution_count": 9,
   "metadata": {
    "collapsed": true
   },
   "outputs": [],
   "source": [
    "suns = [20927, 96186, 120603, 147672, 173409, 220450 , 280450 , \n",
    " 331643 , 362686 , 416408 , 468458 , 623225 , 662365 , 704101 , 784987 ,\n",
    " 830051 , 854912 , 878777 , 944503 , 1096841 , 1129340 , 1203443 , 1307202 , 1365745,  1372992,\n",
    " 1407510 , 1447724 , 1469659 , 1480737 , 1514191 , 1529240 , 1546466 , 1571084 , 1575936 , 1577047, \n",
    " 1584015, 1602717, 1637942, np.nan ,1661861 ,1665521 ,1693348 ,1742645 , 1779649];"
   ]
  },
  {
   "cell_type": "code",
   "execution_count": 10,
   "metadata": {},
   "outputs": [
    {
     "data": {
      "text/plain": [
       "44"
      ]
     },
     "execution_count": 10,
     "metadata": {},
     "output_type": "execute_result"
    }
   ],
   "source": [
    "len(suns)"
   ]
  },
  {
   "cell_type": "code",
   "execution_count": 11,
   "metadata": {
    "collapsed": true
   },
   "outputs": [],
   "source": [
    "sunmarkers = pd.DataFrame([suns,unim,bim]).T;sunmarkers.columns = ['Pos','Uni','Bi']\n",
    "sunmarkers = sunmarkers.drop(38)\n",
    "sunmarkers.to_csv('../FILES/Crypto-Sun-etal-Marker-Location-May2017.csv',index=False)"
   ]
  },
  {
   "cell_type": "code",
   "execution_count": 12,
   "metadata": {},
   "outputs": [
    {
     "name": "stderr",
     "output_type": "stream",
     "text": [
      "/Users/croth/anaconda2/lib/python2.7/site-packages/ipykernel_launcher.py:1: DeprecationWarning: \n",
      ".ix is deprecated. Please use\n",
      ".loc for label based indexing or\n",
      ".iloc for positional indexing\n",
      "\n",
      "See the documentation here:\n",
      "http://pandas.pydata.org/pandas-docs/stable/indexing.html#ix-indexer-is-deprecated\n",
      "  \"\"\"Entry point for launching an IPython kernel.\n"
     ]
    },
    {
     "data": {
      "text/plain": [
       "3          147672\n",
       "5          220450\n",
       "6          280450\n",
       "7          331643\n",
       "8          362686\n",
       "9          416408\n",
       "13         704101\n",
       "20        1129340\n",
       "23        1365745\n",
       "28        1480737\n",
       "29        1514191\n",
       "30        1529240\n",
       "37        1637942\n",
       "39        1661861\n",
       "40    1.66552e+06\n",
       "41        1693348\n",
       "42        1742645\n",
       "Name: Pos, dtype: object"
      ]
     },
     "execution_count": 12,
     "metadata": {},
     "output_type": "execute_result"
    }
   ],
   "source": [
    "sunmarkers['Pos'].ix[sunmarkers['Bi'].dropna().index.tolist()]"
   ]
  },
  {
   "cell_type": "code",
   "execution_count": 13,
   "metadata": {},
   "outputs": [
    {
     "data": {
      "text/html": [
       "<div>\n",
       "<style>\n",
       "    .dataframe thead tr:only-child th {\n",
       "        text-align: right;\n",
       "    }\n",
       "\n",
       "    .dataframe thead th {\n",
       "        text-align: left;\n",
       "    }\n",
       "\n",
       "    .dataframe tbody tr th {\n",
       "        vertical-align: top;\n",
       "    }\n",
       "</style>\n",
       "<table border=\"1\" class=\"dataframe\">\n",
       "  <thead>\n",
       "    <tr style=\"text-align: right;\">\n",
       "      <th></th>\n",
       "      <th>Pos</th>\n",
       "      <th>Uni</th>\n",
       "      <th>Bi</th>\n",
       "    </tr>\n",
       "  </thead>\n",
       "  <tbody>\n",
       "    <tr>\n",
       "      <th>0</th>\n",
       "      <td>20927</td>\n",
       "      <td>1</td>\n",
       "      <td>NaN</td>\n",
       "    </tr>\n",
       "    <tr>\n",
       "      <th>1</th>\n",
       "      <td>96186</td>\n",
       "      <td>2</td>\n",
       "      <td>NaN</td>\n",
       "    </tr>\n",
       "    <tr>\n",
       "      <th>2</th>\n",
       "      <td>120603</td>\n",
       "      <td>3</td>\n",
       "      <td>NaN</td>\n",
       "    </tr>\n",
       "    <tr>\n",
       "      <th>3</th>\n",
       "      <td>147672</td>\n",
       "      <td>4</td>\n",
       "      <td>1</td>\n",
       "    </tr>\n",
       "    <tr>\n",
       "      <th>4</th>\n",
       "      <td>173409</td>\n",
       "      <td>5</td>\n",
       "      <td>NaN</td>\n",
       "    </tr>\n",
       "    <tr>\n",
       "      <th>5</th>\n",
       "      <td>220450</td>\n",
       "      <td>6</td>\n",
       "      <td>2</td>\n",
       "    </tr>\n",
       "    <tr>\n",
       "      <th>6</th>\n",
       "      <td>280450</td>\n",
       "      <td>7</td>\n",
       "      <td>3</td>\n",
       "    </tr>\n",
       "    <tr>\n",
       "      <th>7</th>\n",
       "      <td>331643</td>\n",
       "      <td>8</td>\n",
       "      <td>4</td>\n",
       "    </tr>\n",
       "    <tr>\n",
       "      <th>8</th>\n",
       "      <td>362686</td>\n",
       "      <td>9</td>\n",
       "      <td>5</td>\n",
       "    </tr>\n",
       "    <tr>\n",
       "      <th>9</th>\n",
       "      <td>416408</td>\n",
       "      <td>10</td>\n",
       "      <td>6</td>\n",
       "    </tr>\n",
       "    <tr>\n",
       "      <th>10</th>\n",
       "      <td>468458</td>\n",
       "      <td>11</td>\n",
       "      <td>NaN</td>\n",
       "    </tr>\n",
       "    <tr>\n",
       "      <th>11</th>\n",
       "      <td>623225</td>\n",
       "      <td>12</td>\n",
       "      <td>NaN</td>\n",
       "    </tr>\n",
       "    <tr>\n",
       "      <th>12</th>\n",
       "      <td>662365</td>\n",
       "      <td>13</td>\n",
       "      <td>NaN</td>\n",
       "    </tr>\n",
       "    <tr>\n",
       "      <th>13</th>\n",
       "      <td>704101</td>\n",
       "      <td>14</td>\n",
       "      <td>7</td>\n",
       "    </tr>\n",
       "    <tr>\n",
       "      <th>14</th>\n",
       "      <td>784987</td>\n",
       "      <td>15</td>\n",
       "      <td>NaN</td>\n",
       "    </tr>\n",
       "    <tr>\n",
       "      <th>15</th>\n",
       "      <td>830051</td>\n",
       "      <td>16</td>\n",
       "      <td>NaN</td>\n",
       "    </tr>\n",
       "    <tr>\n",
       "      <th>16</th>\n",
       "      <td>854912</td>\n",
       "      <td>17</td>\n",
       "      <td>NaN</td>\n",
       "    </tr>\n",
       "    <tr>\n",
       "      <th>17</th>\n",
       "      <td>878777</td>\n",
       "      <td>18</td>\n",
       "      <td>NaN</td>\n",
       "    </tr>\n",
       "    <tr>\n",
       "      <th>18</th>\n",
       "      <td>944503</td>\n",
       "      <td>19</td>\n",
       "      <td>NaN</td>\n",
       "    </tr>\n",
       "    <tr>\n",
       "      <th>19</th>\n",
       "      <td>1.09684e+06</td>\n",
       "      <td>20</td>\n",
       "      <td>NaN</td>\n",
       "    </tr>\n",
       "    <tr>\n",
       "      <th>20</th>\n",
       "      <td>1129340</td>\n",
       "      <td>21</td>\n",
       "      <td>8</td>\n",
       "    </tr>\n",
       "    <tr>\n",
       "      <th>21</th>\n",
       "      <td>1.20344e+06</td>\n",
       "      <td>22</td>\n",
       "      <td>NaN</td>\n",
       "    </tr>\n",
       "    <tr>\n",
       "      <th>22</th>\n",
       "      <td>1.3072e+06</td>\n",
       "      <td>23</td>\n",
       "      <td>NaN</td>\n",
       "    </tr>\n",
       "    <tr>\n",
       "      <th>23</th>\n",
       "      <td>1365745</td>\n",
       "      <td>24</td>\n",
       "      <td>9</td>\n",
       "    </tr>\n",
       "    <tr>\n",
       "      <th>24</th>\n",
       "      <td>1.37299e+06</td>\n",
       "      <td>25</td>\n",
       "      <td>NaN</td>\n",
       "    </tr>\n",
       "    <tr>\n",
       "      <th>25</th>\n",
       "      <td>1.40751e+06</td>\n",
       "      <td>26</td>\n",
       "      <td>NaN</td>\n",
       "    </tr>\n",
       "    <tr>\n",
       "      <th>26</th>\n",
       "      <td>1.44772e+06</td>\n",
       "      <td>27</td>\n",
       "      <td>NaN</td>\n",
       "    </tr>\n",
       "    <tr>\n",
       "      <th>27</th>\n",
       "      <td>1.46966e+06</td>\n",
       "      <td>28</td>\n",
       "      <td>NaN</td>\n",
       "    </tr>\n",
       "    <tr>\n",
       "      <th>28</th>\n",
       "      <td>1480737</td>\n",
       "      <td>29</td>\n",
       "      <td>10</td>\n",
       "    </tr>\n",
       "    <tr>\n",
       "      <th>29</th>\n",
       "      <td>1514191</td>\n",
       "      <td>30</td>\n",
       "      <td>11</td>\n",
       "    </tr>\n",
       "    <tr>\n",
       "      <th>30</th>\n",
       "      <td>1529240</td>\n",
       "      <td>31</td>\n",
       "      <td>12</td>\n",
       "    </tr>\n",
       "    <tr>\n",
       "      <th>31</th>\n",
       "      <td>1.54647e+06</td>\n",
       "      <td>32</td>\n",
       "      <td>NaN</td>\n",
       "    </tr>\n",
       "    <tr>\n",
       "      <th>32</th>\n",
       "      <td>1.57108e+06</td>\n",
       "      <td>33</td>\n",
       "      <td>NaN</td>\n",
       "    </tr>\n",
       "    <tr>\n",
       "      <th>33</th>\n",
       "      <td>1.57594e+06</td>\n",
       "      <td>34</td>\n",
       "      <td>NaN</td>\n",
       "    </tr>\n",
       "    <tr>\n",
       "      <th>34</th>\n",
       "      <td>1.57705e+06</td>\n",
       "      <td>35</td>\n",
       "      <td>NaN</td>\n",
       "    </tr>\n",
       "    <tr>\n",
       "      <th>35</th>\n",
       "      <td>1.58402e+06</td>\n",
       "      <td>36</td>\n",
       "      <td>NaN</td>\n",
       "    </tr>\n",
       "    <tr>\n",
       "      <th>36</th>\n",
       "      <td>1.60272e+06</td>\n",
       "      <td>37</td>\n",
       "      <td>NaN</td>\n",
       "    </tr>\n",
       "    <tr>\n",
       "      <th>37</th>\n",
       "      <td>1637942</td>\n",
       "      <td>38</td>\n",
       "      <td>13al</td>\n",
       "    </tr>\n",
       "    <tr>\n",
       "      <th>39</th>\n",
       "      <td>1661861</td>\n",
       "      <td>39</td>\n",
       "      <td>14</td>\n",
       "    </tr>\n",
       "    <tr>\n",
       "      <th>40</th>\n",
       "      <td>1.66552e+06</td>\n",
       "      <td>NaN</td>\n",
       "      <td>15</td>\n",
       "    </tr>\n",
       "    <tr>\n",
       "      <th>41</th>\n",
       "      <td>1693348</td>\n",
       "      <td>40</td>\n",
       "      <td>16</td>\n",
       "    </tr>\n",
       "    <tr>\n",
       "      <th>42</th>\n",
       "      <td>1742645</td>\n",
       "      <td>41</td>\n",
       "      <td>17</td>\n",
       "    </tr>\n",
       "    <tr>\n",
       "      <th>43</th>\n",
       "      <td>1.77965e+06</td>\n",
       "      <td>42</td>\n",
       "      <td>NaN</td>\n",
       "    </tr>\n",
       "  </tbody>\n",
       "</table>\n",
       "</div>"
      ],
      "text/plain": [
       "            Pos  Uni    Bi\n",
       "0         20927    1   NaN\n",
       "1         96186    2   NaN\n",
       "2        120603    3   NaN\n",
       "3        147672    4     1\n",
       "4        173409    5   NaN\n",
       "5        220450    6     2\n",
       "6        280450    7     3\n",
       "7        331643    8     4\n",
       "8        362686    9     5\n",
       "9        416408   10     6\n",
       "10       468458   11   NaN\n",
       "11       623225   12   NaN\n",
       "12       662365   13   NaN\n",
       "13       704101   14     7\n",
       "14       784987   15   NaN\n",
       "15       830051   16   NaN\n",
       "16       854912   17   NaN\n",
       "17       878777   18   NaN\n",
       "18       944503   19   NaN\n",
       "19  1.09684e+06   20   NaN\n",
       "20      1129340   21     8\n",
       "21  1.20344e+06   22   NaN\n",
       "22   1.3072e+06   23   NaN\n",
       "23      1365745   24     9\n",
       "24  1.37299e+06   25   NaN\n",
       "25  1.40751e+06   26   NaN\n",
       "26  1.44772e+06   27   NaN\n",
       "27  1.46966e+06   28   NaN\n",
       "28      1480737   29    10\n",
       "29      1514191   30    11\n",
       "30      1529240   31    12\n",
       "31  1.54647e+06   32   NaN\n",
       "32  1.57108e+06   33   NaN\n",
       "33  1.57594e+06   34   NaN\n",
       "34  1.57705e+06   35   NaN\n",
       "35  1.58402e+06   36   NaN\n",
       "36  1.60272e+06   37   NaN\n",
       "37      1637942   38  13al\n",
       "39      1661861   39    14\n",
       "40  1.66552e+06  NaN    15\n",
       "41      1693348   40    16\n",
       "42      1742645   41    17\n",
       "43  1.77965e+06   42   NaN"
      ]
     },
     "execution_count": 13,
     "metadata": {},
     "output_type": "execute_result"
    }
   ],
   "source": [
    "sunmarkers ## From Sun et al 2014"
   ]
  },
  {
   "cell_type": "code",
   "execution_count": 14,
   "metadata": {},
   "outputs": [
    {
     "data": {
      "image/png": "[encoded data removed]",
      "text/plain": [
       "<matplotlib.figure.Figure at 0x1a10863a10>"
      ]
     },
     "metadata": {},
     "output_type": "display_data"
    }
   ],
   "source": [
    "plt.plot(chr04.Pos.tolist(),np.ones(len(chr04.Pos.tolist())),'k.');\n",
    "plt.plot(sunmarkers.Pos[sunmarkers.Uni.dropna().index],\n",
    "         np.ones(len(sunmarkers.Pos[sunmarkers.Uni.dropna().index]))+.2,'r.');\n",
    "plt.plot(sunmarkers.Pos[sunmarkers.Bi.dropna().index],\n",
    "         np.ones(len(sunmarkers.Pos[sunmarkers.Bi.dropna().index]))+.1,'b.');"
   ]
  },
  {
   "cell_type": "code",
   "execution_count": 15,
   "metadata": {},
   "outputs": [
    {
     "data": {
      "text/plain": [
       "34518.0"
      ]
     },
     "execution_count": 15,
     "metadata": {},
     "output_type": "execute_result"
    }
   ],
   "source": [
    "unim1 = sunmarkers.Pos[sunmarkers.Uni.dropna().index].dropna().tolist();\n",
    "uniIMI = np.array(unim1[1:]) - np.array(unim1[:-1]);\n",
    "np.median(uniIMI)"
   ]
  },
  {
   "cell_type": "code",
   "execution_count": 16,
   "metadata": {},
   "outputs": [
    {
     "data": {
      "text/plain": [
       "52457.5"
      ]
     },
     "execution_count": 16,
     "metadata": {},
     "output_type": "execute_result"
    }
   ],
   "source": [
    "bim1 = np.array(sunmarkers.Pos[sunmarkers.Bi.dropna().index].dropna().tolist())\n",
    "biIMI = np.array(bim1[1:]) - np.array(bim1[:-1]);\n",
    "np.median(biIMI)"
   ]
  },
  {
   "cell_type": "code",
   "execution_count": 17,
   "metadata": {},
   "outputs": [
    {
     "data": {
      "text/plain": [
       "73.0"
      ]
     },
     "execution_count": 17,
     "metadata": {},
     "output_type": "execute_result"
    }
   ],
   "source": [
    "ch4IMI = np.array(chr04.Pos.tolist()[1:]) - np.array(chr04.Pos.tolist()[:-1]);\n",
    "np.median(ch4IMI)"
   ]
  },
  {
   "cell_type": "code",
   "execution_count": 18,
   "metadata": {
    "collapsed": true
   },
   "outputs": [],
   "source": [
    "intoin = []\n",
    "for pos in sunmarkers.Pos.dropna().tolist():\n",
    "    Poss = [];ep = 0\n",
    "    while len(Poss) == 0:\n",
    "        ep = ep + 1000\n",
    "        Poss = chr04.Pos[(chr04.Pos < pos + ep) & (chr04.Pos > pos - ep)].tolist()\n",
    "    intoin.append(min(abs(np.array(Poss) - pos)))"
   ]
  },
  {
   "cell_type": "code",
   "execution_count": 19,
   "metadata": {},
   "outputs": [
    {
     "data": {
      "text/plain": [
       "43"
      ]
     },
     "execution_count": 19,
     "metadata": {},
     "output_type": "execute_result"
    }
   ],
   "source": [
    "len(intoin)"
   ]
  },
  {
   "cell_type": "code",
   "execution_count": 20,
   "metadata": {
    "collapsed": true
   },
   "outputs": [],
   "source": [
    "newpos = []\n",
    "for i,pos in enumerate(sunmarkers.Pos.dropna().tolist()):\n",
    "    if pos + intoin[i] in chr04.Pos.tolist():\n",
    "        newpos.append(chr04[chr04.Pos == pos + intoin[i]].index.tolist())\n",
    "    elif pos - intoin[i] in chr04.Pos.tolist():\n",
    "        newpos.append(chr04[chr04.Pos == pos - intoin[i]].index.tolist())\n",
    "    else:\n",
    "        print \"Not Good!\"\n",
    "newpos = np.concatenate(newpos);\n",
    "assert len(newpos) == len(sunmarkers.Pos.dropna().tolist())"
   ]
  },
  {
   "cell_type": "code",
   "execution_count": 21,
   "metadata": {},
   "outputs": [
    {
     "data": {
      "text/plain": [
       "array([  10,  494,  898, 1097, 1373, 1738, 1774, 2058, 2282, 2585, 2728,\n",
       "       2792, 2896, 3098, 3503, 3751, 3916, 4100, 4553, 5318, 5332, 5807,\n",
       "       6357, 6700, 6780, 7028, 7266, 7368, 7411, 7623, 7687, 7692, 7693,\n",
       "       7694, 7694, 7694, 7713, 7725, 7761, 7767, 7924, 8292, 8568])"
      ]
     },
     "execution_count": 21,
     "metadata": {},
     "output_type": "execute_result"
    }
   ],
   "source": [
    "newpos"
   ]
  },
  {
   "cell_type": "code",
   "execution_count": 22,
   "metadata": {},
   "outputs": [
    {
     "name": "stderr",
     "output_type": "stream",
     "text": [
      "/Users/croth/anaconda2/lib/python2.7/site-packages/ipykernel_launcher.py:1: DeprecationWarning: \n",
      ".ix is deprecated. Please use\n",
      ".loc for label based indexing or\n",
      ".iloc for positional indexing\n",
      "\n",
      "See the documentation here:\n",
      "http://pandas.pydata.org/pandas-docs/stable/indexing.html#ix-indexer-is-deprecated\n",
      "  \"\"\"Entry point for launching an IPython kernel.\n"
     ]
    }
   ],
   "source": [
    "newchr04 = chr04.ix[newpos,:].reset_index(drop=True)"
   ]
  },
  {
   "cell_type": "code",
   "execution_count": 23,
   "metadata": {},
   "outputs": [
    {
     "data": {
      "text/html": [
       "<div>\n",
       "<style>\n",
       "    .dataframe thead tr:only-child th {\n",
       "        text-align: right;\n",
       "    }\n",
       "\n",
       "    .dataframe thead th {\n",
       "        text-align: left;\n",
       "    }\n",
       "\n",
       "    .dataframe tbody tr th {\n",
       "        vertical-align: top;\n",
       "    }\n",
       "</style>\n",
       "<table border=\"1\" class=\"dataframe\">\n",
       "  <thead>\n",
       "    <tr style=\"text-align: right;\">\n",
       "      <th></th>\n",
       "      <th>Alt</th>\n",
       "      <th>Chrom</th>\n",
       "      <th>Pos</th>\n",
       "      <th>Ref</th>\n",
       "      <th>SS-B307</th>\n",
       "      <th>SS-B308</th>\n",
       "      <th>SS-B310</th>\n",
       "      <th>SS-B311</th>\n",
       "      <th>SS-B312</th>\n",
       "      <th>SS-B313</th>\n",
       "      <th>...</th>\n",
       "      <th>SS-C029_Correction</th>\n",
       "      <th>SS-C031_Correction</th>\n",
       "      <th>SS-C033</th>\n",
       "      <th>SS-C036</th>\n",
       "      <th>SS-C039</th>\n",
       "      <th>SS-C242</th>\n",
       "      <th>SS-C271</th>\n",
       "      <th>SS-C272</th>\n",
       "      <th>SS-C290</th>\n",
       "      <th>SS-C291</th>\n",
       "    </tr>\n",
       "  </thead>\n",
       "  <tbody>\n",
       "    <tr>\n",
       "      <th>0</th>\n",
       "      <td>G</td>\n",
       "      <td>Chr04</td>\n",
       "      <td>20879.0</td>\n",
       "      <td>A</td>\n",
       "      <td>0</td>\n",
       "      <td>0</td>\n",
       "      <td>1</td>\n",
       "      <td>0</td>\n",
       "      <td>1</td>\n",
       "      <td>0</td>\n",
       "      <td>...</td>\n",
       "      <td>0</td>\n",
       "      <td>0</td>\n",
       "      <td>1</td>\n",
       "      <td>1</td>\n",
       "      <td>0</td>\n",
       "      <td>1</td>\n",
       "      <td>0</td>\n",
       "      <td>1</td>\n",
       "      <td>0</td>\n",
       "      <td>1</td>\n",
       "    </tr>\n",
       "    <tr>\n",
       "      <th>1</th>\n",
       "      <td>T</td>\n",
       "      <td>Chr04</td>\n",
       "      <td>96219.0</td>\n",
       "      <td>C</td>\n",
       "      <td>0</td>\n",
       "      <td>0</td>\n",
       "      <td>1</td>\n",
       "      <td>0</td>\n",
       "      <td>0</td>\n",
       "      <td>0</td>\n",
       "      <td>...</td>\n",
       "      <td>0</td>\n",
       "      <td>0</td>\n",
       "      <td>1</td>\n",
       "      <td>1</td>\n",
       "      <td>0</td>\n",
       "      <td>1</td>\n",
       "      <td>0</td>\n",
       "      <td>1</td>\n",
       "      <td>1</td>\n",
       "      <td>1</td>\n",
       "    </tr>\n",
       "    <tr>\n",
       "      <th>2</th>\n",
       "      <td>G</td>\n",
       "      <td>Chr04</td>\n",
       "      <td>120631.0</td>\n",
       "      <td>A</td>\n",
       "      <td>0</td>\n",
       "      <td>0</td>\n",
       "      <td>1</td>\n",
       "      <td>0</td>\n",
       "      <td>0</td>\n",
       "      <td>0</td>\n",
       "      <td>...</td>\n",
       "      <td>0</td>\n",
       "      <td>0</td>\n",
       "      <td>1</td>\n",
       "      <td>1</td>\n",
       "      <td>0</td>\n",
       "      <td>1</td>\n",
       "      <td>0</td>\n",
       "      <td>1</td>\n",
       "      <td>1</td>\n",
       "      <td>1</td>\n",
       "    </tr>\n",
       "    <tr>\n",
       "      <th>3</th>\n",
       "      <td>G</td>\n",
       "      <td>Chr04</td>\n",
       "      <td>147457.0</td>\n",
       "      <td>A</td>\n",
       "      <td>0</td>\n",
       "      <td>0</td>\n",
       "      <td>1</td>\n",
       "      <td>0</td>\n",
       "      <td>0</td>\n",
       "      <td>0</td>\n",
       "      <td>...</td>\n",
       "      <td>0</td>\n",
       "      <td>0</td>\n",
       "      <td>1</td>\n",
       "      <td>1</td>\n",
       "      <td>0</td>\n",
       "      <td>1</td>\n",
       "      <td>0</td>\n",
       "      <td>1</td>\n",
       "      <td>1</td>\n",
       "      <td>1</td>\n",
       "    </tr>\n",
       "    <tr>\n",
       "      <th>4</th>\n",
       "      <td>T</td>\n",
       "      <td>Chr04</td>\n",
       "      <td>173410.0</td>\n",
       "      <td>G</td>\n",
       "      <td>0</td>\n",
       "      <td>0</td>\n",
       "      <td>1</td>\n",
       "      <td>0</td>\n",
       "      <td>0</td>\n",
       "      <td>0</td>\n",
       "      <td>...</td>\n",
       "      <td>0</td>\n",
       "      <td>0</td>\n",
       "      <td>1</td>\n",
       "      <td>1</td>\n",
       "      <td>0</td>\n",
       "      <td>0</td>\n",
       "      <td>0</td>\n",
       "      <td>1</td>\n",
       "      <td>1</td>\n",
       "      <td>1</td>\n",
       "    </tr>\n",
       "    <tr>\n",
       "      <th>5</th>\n",
       "      <td>C</td>\n",
       "      <td>Chr04</td>\n",
       "      <td>219537.0</td>\n",
       "      <td>T</td>\n",
       "      <td>0</td>\n",
       "      <td>0</td>\n",
       "      <td>1</td>\n",
       "      <td>0</td>\n",
       "      <td>0</td>\n",
       "      <td>0</td>\n",
       "      <td>...</td>\n",
       "      <td>0</td>\n",
       "      <td>0</td>\n",
       "      <td>1</td>\n",
       "      <td>0</td>\n",
       "      <td>0</td>\n",
       "      <td>0</td>\n",
       "      <td>1</td>\n",
       "      <td>1</td>\n",
       "      <td>1</td>\n",
       "      <td>1</td>\n",
       "    </tr>\n",
       "    <tr>\n",
       "      <th>6</th>\n",
       "      <td>T</td>\n",
       "      <td>Chr04</td>\n",
       "      <td>280310.0</td>\n",
       "      <td>A</td>\n",
       "      <td>0</td>\n",
       "      <td>0</td>\n",
       "      <td>1</td>\n",
       "      <td>0</td>\n",
       "      <td>0</td>\n",
       "      <td>0</td>\n",
       "      <td>...</td>\n",
       "      <td>0</td>\n",
       "      <td>0</td>\n",
       "      <td>1</td>\n",
       "      <td>0</td>\n",
       "      <td>0</td>\n",
       "      <td>0</td>\n",
       "      <td>1</td>\n",
       "      <td>1</td>\n",
       "      <td>1</td>\n",
       "      <td>1</td>\n",
       "    </tr>\n",
       "    <tr>\n",
       "      <th>7</th>\n",
       "      <td>T</td>\n",
       "      <td>Chr04</td>\n",
       "      <td>331499.0</td>\n",
       "      <td>C</td>\n",
       "      <td>0</td>\n",
       "      <td>0</td>\n",
       "      <td>1</td>\n",
       "      <td>0</td>\n",
       "      <td>1</td>\n",
       "      <td>1</td>\n",
       "      <td>...</td>\n",
       "      <td>0</td>\n",
       "      <td>0</td>\n",
       "      <td>1</td>\n",
       "      <td>0</td>\n",
       "      <td>0</td>\n",
       "      <td>0</td>\n",
       "      <td>1</td>\n",
       "      <td>1</td>\n",
       "      <td>0</td>\n",
       "      <td>0</td>\n",
       "    </tr>\n",
       "    <tr>\n",
       "      <th>8</th>\n",
       "      <td>A</td>\n",
       "      <td>Chr04</td>\n",
       "      <td>362721.0</td>\n",
       "      <td>G</td>\n",
       "      <td>0</td>\n",
       "      <td>0</td>\n",
       "      <td>1</td>\n",
       "      <td>0</td>\n",
       "      <td>1</td>\n",
       "      <td>1</td>\n",
       "      <td>...</td>\n",
       "      <td>0</td>\n",
       "      <td>0</td>\n",
       "      <td>1</td>\n",
       "      <td>0</td>\n",
       "      <td>0</td>\n",
       "      <td>0</td>\n",
       "      <td>1</td>\n",
       "      <td>1</td>\n",
       "      <td>0</td>\n",
       "      <td>0</td>\n",
       "    </tr>\n",
       "    <tr>\n",
       "      <th>9</th>\n",
       "      <td>T</td>\n",
       "      <td>Chr04</td>\n",
       "      <td>416387.0</td>\n",
       "      <td>C</td>\n",
       "      <td>0</td>\n",
       "      <td>0</td>\n",
       "      <td>1</td>\n",
       "      <td>0</td>\n",
       "      <td>1</td>\n",
       "      <td>1</td>\n",
       "      <td>...</td>\n",
       "      <td>0</td>\n",
       "      <td>0</td>\n",
       "      <td>1</td>\n",
       "      <td>0</td>\n",
       "      <td>0</td>\n",
       "      <td>1</td>\n",
       "      <td>0</td>\n",
       "      <td>0</td>\n",
       "      <td>0</td>\n",
       "      <td>0</td>\n",
       "    </tr>\n",
       "    <tr>\n",
       "      <th>10</th>\n",
       "      <td>A</td>\n",
       "      <td>Chr04</td>\n",
       "      <td>468461.0</td>\n",
       "      <td>T</td>\n",
       "      <td>0</td>\n",
       "      <td>0</td>\n",
       "      <td>1</td>\n",
       "      <td>0</td>\n",
       "      <td>1</td>\n",
       "      <td>1</td>\n",
       "      <td>...</td>\n",
       "      <td>0</td>\n",
       "      <td>0</td>\n",
       "      <td>1</td>\n",
       "      <td>0</td>\n",
       "      <td>0</td>\n",
       "      <td>1</td>\n",
       "      <td>1</td>\n",
       "      <td>0</td>\n",
       "      <td>0</td>\n",
       "      <td>0</td>\n",
       "    </tr>\n",
       "    <tr>\n",
       "      <th>11</th>\n",
       "      <td>G</td>\n",
       "      <td>Chr04</td>\n",
       "      <td>623185.0</td>\n",
       "      <td>A</td>\n",
       "      <td>0</td>\n",
       "      <td>1</td>\n",
       "      <td>1</td>\n",
       "      <td>0</td>\n",
       "      <td>1</td>\n",
       "      <td>1</td>\n",
       "      <td>...</td>\n",
       "      <td>0</td>\n",
       "      <td>0</td>\n",
       "      <td>0</td>\n",
       "      <td>1</td>\n",
       "      <td>1</td>\n",
       "      <td>1</td>\n",
       "      <td>0</td>\n",
       "      <td>1</td>\n",
       "      <td>0</td>\n",
       "      <td>0</td>\n",
       "    </tr>\n",
       "    <tr>\n",
       "      <th>12</th>\n",
       "      <td>A</td>\n",
       "      <td>Chr04</td>\n",
       "      <td>662378.0</td>\n",
       "      <td>G</td>\n",
       "      <td>0</td>\n",
       "      <td>1</td>\n",
       "      <td>1</td>\n",
       "      <td>0</td>\n",
       "      <td>1</td>\n",
       "      <td>1</td>\n",
       "      <td>...</td>\n",
       "      <td>0</td>\n",
       "      <td>0</td>\n",
       "      <td>0</td>\n",
       "      <td>1</td>\n",
       "      <td>1</td>\n",
       "      <td>1</td>\n",
       "      <td>0</td>\n",
       "      <td>1</td>\n",
       "      <td>0</td>\n",
       "      <td>0</td>\n",
       "    </tr>\n",
       "    <tr>\n",
       "      <th>13</th>\n",
       "      <td>T</td>\n",
       "      <td>Chr04</td>\n",
       "      <td>704068.0</td>\n",
       "      <td>G</td>\n",
       "      <td>0</td>\n",
       "      <td>1</td>\n",
       "      <td>1</td>\n",
       "      <td>0</td>\n",
       "      <td>1</td>\n",
       "      <td>1</td>\n",
       "      <td>...</td>\n",
       "      <td>0</td>\n",
       "      <td>0</td>\n",
       "      <td>0</td>\n",
       "      <td>1</td>\n",
       "      <td>1</td>\n",
       "      <td>1</td>\n",
       "      <td>0</td>\n",
       "      <td>1</td>\n",
       "      <td>0</td>\n",
       "      <td>0</td>\n",
       "    </tr>\n",
       "    <tr>\n",
       "      <th>14</th>\n",
       "      <td>A</td>\n",
       "      <td>Chr04</td>\n",
       "      <td>784927.0</td>\n",
       "      <td>C</td>\n",
       "      <td>0</td>\n",
       "      <td>1</td>\n",
       "      <td>0</td>\n",
       "      <td>1</td>\n",
       "      <td>0</td>\n",
       "      <td>1</td>\n",
       "      <td>...</td>\n",
       "      <td>0</td>\n",
       "      <td>0</td>\n",
       "      <td>1</td>\n",
       "      <td>0</td>\n",
       "      <td>0</td>\n",
       "      <td>0</td>\n",
       "      <td>0</td>\n",
       "      <td>1</td>\n",
       "      <td>0</td>\n",
       "      <td>0</td>\n",
       "    </tr>\n",
       "    <tr>\n",
       "      <th>15</th>\n",
       "      <td>A</td>\n",
       "      <td>Chr04</td>\n",
       "      <td>830012.0</td>\n",
       "      <td>C</td>\n",
       "      <td>0</td>\n",
       "      <td>1</td>\n",
       "      <td>0</td>\n",
       "      <td>1</td>\n",
       "      <td>0</td>\n",
       "      <td>1</td>\n",
       "      <td>...</td>\n",
       "      <td>1</td>\n",
       "      <td>0</td>\n",
       "      <td>1</td>\n",
       "      <td>0</td>\n",
       "      <td>0</td>\n",
       "      <td>0</td>\n",
       "      <td>0</td>\n",
       "      <td>1</td>\n",
       "      <td>0</td>\n",
       "      <td>0</td>\n",
       "    </tr>\n",
       "    <tr>\n",
       "      <th>16</th>\n",
       "      <td>A</td>\n",
       "      <td>Chr04</td>\n",
       "      <td>854937.0</td>\n",
       "      <td>T</td>\n",
       "      <td>0</td>\n",
       "      <td>1</td>\n",
       "      <td>0</td>\n",
       "      <td>1</td>\n",
       "      <td>0</td>\n",
       "      <td>1</td>\n",
       "      <td>...</td>\n",
       "      <td>1</td>\n",
       "      <td>0</td>\n",
       "      <td>1</td>\n",
       "      <td>0</td>\n",
       "      <td>0</td>\n",
       "      <td>0</td>\n",
       "      <td>0</td>\n",
       "      <td>1</td>\n",
       "      <td>0</td>\n",
       "      <td>0</td>\n",
       "    </tr>\n",
       "    <tr>\n",
       "      <th>17</th>\n",
       "      <td>C</td>\n",
       "      <td>Chr04</td>\n",
       "      <td>878964.0</td>\n",
       "      <td>G</td>\n",
       "      <td>0</td>\n",
       "      <td>1</td>\n",
       "      <td>0</td>\n",
       "      <td>1</td>\n",
       "      <td>0</td>\n",
       "      <td>1</td>\n",
       "      <td>...</td>\n",
       "      <td>1</td>\n",
       "      <td>0</td>\n",
       "      <td>1</td>\n",
       "      <td>0</td>\n",
       "      <td>0</td>\n",
       "      <td>0</td>\n",
       "      <td>0</td>\n",
       "      <td>1</td>\n",
       "      <td>0</td>\n",
       "      <td>0</td>\n",
       "    </tr>\n",
       "    <tr>\n",
       "      <th>18</th>\n",
       "      <td>G</td>\n",
       "      <td>Chr04</td>\n",
       "      <td>944478.0</td>\n",
       "      <td>A</td>\n",
       "      <td>0</td>\n",
       "      <td>1</td>\n",
       "      <td>0</td>\n",
       "      <td>0</td>\n",
       "      <td>0</td>\n",
       "      <td>1</td>\n",
       "      <td>...</td>\n",
       "      <td>1</td>\n",
       "      <td>0</td>\n",
       "      <td>1</td>\n",
       "      <td>0</td>\n",
       "      <td>0</td>\n",
       "      <td>1</td>\n",
       "      <td>0</td>\n",
       "      <td>1</td>\n",
       "      <td>0</td>\n",
       "      <td>1</td>\n",
       "    </tr>\n",
       "    <tr>\n",
       "      <th>19</th>\n",
       "      <td>T</td>\n",
       "      <td>Chr04</td>\n",
       "      <td>1096886.0</td>\n",
       "      <td>C</td>\n",
       "      <td>1</td>\n",
       "      <td>0</td>\n",
       "      <td>0</td>\n",
       "      <td>0</td>\n",
       "      <td>0</td>\n",
       "      <td>1</td>\n",
       "      <td>...</td>\n",
       "      <td>0</td>\n",
       "      <td>1</td>\n",
       "      <td>1</td>\n",
       "      <td>0</td>\n",
       "      <td>1</td>\n",
       "      <td>1</td>\n",
       "      <td>1</td>\n",
       "      <td>1</td>\n",
       "      <td>1</td>\n",
       "      <td>1</td>\n",
       "    </tr>\n",
       "    <tr>\n",
       "      <th>20</th>\n",
       "      <td>G</td>\n",
       "      <td>Chr04</td>\n",
       "      <td>1129096.0</td>\n",
       "      <td>A</td>\n",
       "      <td>1</td>\n",
       "      <td>0</td>\n",
       "      <td>0</td>\n",
       "      <td>0</td>\n",
       "      <td>0</td>\n",
       "      <td>1</td>\n",
       "      <td>...</td>\n",
       "      <td>0</td>\n",
       "      <td>1</td>\n",
       "      <td>1</td>\n",
       "      <td>0</td>\n",
       "      <td>1</td>\n",
       "      <td>1</td>\n",
       "      <td>1</td>\n",
       "      <td>1</td>\n",
       "      <td>1</td>\n",
       "      <td>1</td>\n",
       "    </tr>\n",
       "    <tr>\n",
       "      <th>21</th>\n",
       "      <td>T</td>\n",
       "      <td>Chr04</td>\n",
       "      <td>1203588.0</td>\n",
       "      <td>C</td>\n",
       "      <td>1</td>\n",
       "      <td>0</td>\n",
       "      <td>0</td>\n",
       "      <td>0</td>\n",
       "      <td>0</td>\n",
       "      <td>0</td>\n",
       "      <td>...</td>\n",
       "      <td>0</td>\n",
       "      <td>1</td>\n",
       "      <td>1</td>\n",
       "      <td>0</td>\n",
       "      <td>1</td>\n",
       "      <td>1</td>\n",
       "      <td>1</td>\n",
       "      <td>1</td>\n",
       "      <td>1</td>\n",
       "      <td>1</td>\n",
       "    </tr>\n",
       "    <tr>\n",
       "      <th>22</th>\n",
       "      <td>T</td>\n",
       "      <td>Chr04</td>\n",
       "      <td>1307262.0</td>\n",
       "      <td>C</td>\n",
       "      <td>1</td>\n",
       "      <td>0</td>\n",
       "      <td>0</td>\n",
       "      <td>0</td>\n",
       "      <td>1</td>\n",
       "      <td>0</td>\n",
       "      <td>...</td>\n",
       "      <td>0</td>\n",
       "      <td>1</td>\n",
       "      <td>0</td>\n",
       "      <td>1</td>\n",
       "      <td>1</td>\n",
       "      <td>0</td>\n",
       "      <td>1</td>\n",
       "      <td>1</td>\n",
       "      <td>1</td>\n",
       "      <td>1</td>\n",
       "    </tr>\n",
       "    <tr>\n",
       "      <th>23</th>\n",
       "      <td>C</td>\n",
       "      <td>Chr04</td>\n",
       "      <td>1365796.0</td>\n",
       "      <td>G</td>\n",
       "      <td>1</td>\n",
       "      <td>0</td>\n",
       "      <td>0</td>\n",
       "      <td>0</td>\n",
       "      <td>1</td>\n",
       "      <td>1</td>\n",
       "      <td>...</td>\n",
       "      <td>1</td>\n",
       "      <td>1</td>\n",
       "      <td>0</td>\n",
       "      <td>1</td>\n",
       "      <td>1</td>\n",
       "      <td>0</td>\n",
       "      <td>1</td>\n",
       "      <td>1</td>\n",
       "      <td>1</td>\n",
       "      <td>1</td>\n",
       "    </tr>\n",
       "    <tr>\n",
       "      <th>24</th>\n",
       "      <td>A</td>\n",
       "      <td>Chr04</td>\n",
       "      <td>1372964.0</td>\n",
       "      <td>T</td>\n",
       "      <td>1</td>\n",
       "      <td>0</td>\n",
       "      <td>0</td>\n",
       "      <td>0</td>\n",
       "      <td>1</td>\n",
       "      <td>1</td>\n",
       "      <td>...</td>\n",
       "      <td>1</td>\n",
       "      <td>1</td>\n",
       "      <td>0</td>\n",
       "      <td>1</td>\n",
       "      <td>1</td>\n",
       "      <td>0</td>\n",
       "      <td>1</td>\n",
       "      <td>1</td>\n",
       "      <td>1</td>\n",
       "      <td>1</td>\n",
       "    </tr>\n",
       "    <tr>\n",
       "      <th>25</th>\n",
       "      <td>T</td>\n",
       "      <td>Chr04</td>\n",
       "      <td>1407425.0</td>\n",
       "      <td>C</td>\n",
       "      <td>1</td>\n",
       "      <td>0</td>\n",
       "      <td>0</td>\n",
       "      <td>0</td>\n",
       "      <td>1</td>\n",
       "      <td>1</td>\n",
       "      <td>...</td>\n",
       "      <td>1</td>\n",
       "      <td>1</td>\n",
       "      <td>0</td>\n",
       "      <td>1</td>\n",
       "      <td>1</td>\n",
       "      <td>0</td>\n",
       "      <td>0</td>\n",
       "      <td>0</td>\n",
       "      <td>1</td>\n",
       "      <td>1</td>\n",
       "    </tr>\n",
       "    <tr>\n",
       "      <th>26</th>\n",
       "      <td>C</td>\n",
       "      <td>Chr04</td>\n",
       "      <td>1447606.0</td>\n",
       "      <td>T</td>\n",
       "      <td>1</td>\n",
       "      <td>0</td>\n",
       "      <td>0</td>\n",
       "      <td>0</td>\n",
       "      <td>1</td>\n",
       "      <td>1</td>\n",
       "      <td>...</td>\n",
       "      <td>1</td>\n",
       "      <td>1</td>\n",
       "      <td>0</td>\n",
       "      <td>1</td>\n",
       "      <td>1</td>\n",
       "      <td>0</td>\n",
       "      <td>0</td>\n",
       "      <td>1</td>\n",
       "      <td>1</td>\n",
       "      <td>1</td>\n",
       "    </tr>\n",
       "    <tr>\n",
       "      <th>27</th>\n",
       "      <td>A</td>\n",
       "      <td>Chr04</td>\n",
       "      <td>1469676.0</td>\n",
       "      <td>T</td>\n",
       "      <td>1</td>\n",
       "      <td>0</td>\n",
       "      <td>0</td>\n",
       "      <td>0</td>\n",
       "      <td>1</td>\n",
       "      <td>1</td>\n",
       "      <td>...</td>\n",
       "      <td>1</td>\n",
       "      <td>1</td>\n",
       "      <td>0</td>\n",
       "      <td>1</td>\n",
       "      <td>1</td>\n",
       "      <td>0</td>\n",
       "      <td>0</td>\n",
       "      <td>1</td>\n",
       "      <td>1</td>\n",
       "      <td>1</td>\n",
       "    </tr>\n",
       "    <tr>\n",
       "      <th>28</th>\n",
       "      <td>C</td>\n",
       "      <td>Chr04</td>\n",
       "      <td>1480834.0</td>\n",
       "      <td>G</td>\n",
       "      <td>1</td>\n",
       "      <td>0</td>\n",
       "      <td>0</td>\n",
       "      <td>0</td>\n",
       "      <td>1</td>\n",
       "      <td>1</td>\n",
       "      <td>...</td>\n",
       "      <td>1</td>\n",
       "      <td>1</td>\n",
       "      <td>0</td>\n",
       "      <td>1</td>\n",
       "      <td>1</td>\n",
       "      <td>0</td>\n",
       "      <td>0</td>\n",
       "      <td>1</td>\n",
       "      <td>1</td>\n",
       "      <td>1</td>\n",
       "    </tr>\n",
       "    <tr>\n",
       "      <th>29</th>\n",
       "      <td>C</td>\n",
       "      <td>Chr04</td>\n",
       "      <td>1514203.0</td>\n",
       "      <td>T</td>\n",
       "      <td>1</td>\n",
       "      <td>0</td>\n",
       "      <td>0</td>\n",
       "      <td>0</td>\n",
       "      <td>1</td>\n",
       "      <td>1</td>\n",
       "      <td>...</td>\n",
       "      <td>0</td>\n",
       "      <td>1</td>\n",
       "      <td>0</td>\n",
       "      <td>1</td>\n",
       "      <td>1</td>\n",
       "      <td>0</td>\n",
       "      <td>0</td>\n",
       "      <td>1</td>\n",
       "      <td>1</td>\n",
       "      <td>1</td>\n",
       "    </tr>\n",
       "    <tr>\n",
       "      <th>30</th>\n",
       "      <td>G</td>\n",
       "      <td>Chr04</td>\n",
       "      <td>1529321.0</td>\n",
       "      <td>T</td>\n",
       "      <td>1</td>\n",
       "      <td>1</td>\n",
       "      <td>0</td>\n",
       "      <td>0</td>\n",
       "      <td>0</td>\n",
       "      <td>1</td>\n",
       "      <td>...</td>\n",
       "      <td>0</td>\n",
       "      <td>1</td>\n",
       "      <td>0</td>\n",
       "      <td>1</td>\n",
       "      <td>1</td>\n",
       "      <td>0</td>\n",
       "      <td>1</td>\n",
       "      <td>0</td>\n",
       "      <td>0</td>\n",
       "      <td>1</td>\n",
       "    </tr>\n",
       "    <tr>\n",
       "      <th>31</th>\n",
       "      <td>C</td>\n",
       "      <td>Chr04</td>\n",
       "      <td>1533589.0</td>\n",
       "      <td>T</td>\n",
       "      <td>1</td>\n",
       "      <td>1</td>\n",
       "      <td>0</td>\n",
       "      <td>0</td>\n",
       "      <td>0</td>\n",
       "      <td>1</td>\n",
       "      <td>...</td>\n",
       "      <td>0</td>\n",
       "      <td>1</td>\n",
       "      <td>0</td>\n",
       "      <td>1</td>\n",
       "      <td>1</td>\n",
       "      <td>0</td>\n",
       "      <td>1</td>\n",
       "      <td>0</td>\n",
       "      <td>0</td>\n",
       "      <td>1</td>\n",
       "    </tr>\n",
       "    <tr>\n",
       "      <th>32</th>\n",
       "      <td>G</td>\n",
       "      <td>Chr04</td>\n",
       "      <td>1563674.0</td>\n",
       "      <td>A</td>\n",
       "      <td>1</td>\n",
       "      <td>1</td>\n",
       "      <td>0</td>\n",
       "      <td>0</td>\n",
       "      <td>0</td>\n",
       "      <td>1</td>\n",
       "      <td>...</td>\n",
       "      <td>0</td>\n",
       "      <td>1</td>\n",
       "      <td>0</td>\n",
       "      <td>1</td>\n",
       "      <td>1</td>\n",
       "      <td>0</td>\n",
       "      <td>1</td>\n",
       "      <td>0</td>\n",
       "      <td>0</td>\n",
       "      <td>1</td>\n",
       "    </tr>\n",
       "    <tr>\n",
       "      <th>33</th>\n",
       "      <td>G</td>\n",
       "      <td>Chr04</td>\n",
       "      <td>1585190.0</td>\n",
       "      <td>A</td>\n",
       "      <td>1</td>\n",
       "      <td>1</td>\n",
       "      <td>0</td>\n",
       "      <td>0</td>\n",
       "      <td>0</td>\n",
       "      <td>1</td>\n",
       "      <td>...</td>\n",
       "      <td>0</td>\n",
       "      <td>1</td>\n",
       "      <td>0</td>\n",
       "      <td>1</td>\n",
       "      <td>1</td>\n",
       "      <td>0</td>\n",
       "      <td>1</td>\n",
       "      <td>0</td>\n",
       "      <td>0</td>\n",
       "      <td>1</td>\n",
       "    </tr>\n",
       "    <tr>\n",
       "      <th>34</th>\n",
       "      <td>G</td>\n",
       "      <td>Chr04</td>\n",
       "      <td>1585190.0</td>\n",
       "      <td>A</td>\n",
       "      <td>1</td>\n",
       "      <td>1</td>\n",
       "      <td>0</td>\n",
       "      <td>0</td>\n",
       "      <td>0</td>\n",
       "      <td>1</td>\n",
       "      <td>...</td>\n",
       "      <td>0</td>\n",
       "      <td>1</td>\n",
       "      <td>0</td>\n",
       "      <td>1</td>\n",
       "      <td>1</td>\n",
       "      <td>0</td>\n",
       "      <td>1</td>\n",
       "      <td>0</td>\n",
       "      <td>0</td>\n",
       "      <td>1</td>\n",
       "    </tr>\n",
       "    <tr>\n",
       "      <th>35</th>\n",
       "      <td>G</td>\n",
       "      <td>Chr04</td>\n",
       "      <td>1585190.0</td>\n",
       "      <td>A</td>\n",
       "      <td>1</td>\n",
       "      <td>1</td>\n",
       "      <td>0</td>\n",
       "      <td>0</td>\n",
       "      <td>0</td>\n",
       "      <td>1</td>\n",
       "      <td>...</td>\n",
       "      <td>0</td>\n",
       "      <td>1</td>\n",
       "      <td>0</td>\n",
       "      <td>1</td>\n",
       "      <td>1</td>\n",
       "      <td>0</td>\n",
       "      <td>1</td>\n",
       "      <td>0</td>\n",
       "      <td>0</td>\n",
       "      <td>1</td>\n",
       "    </tr>\n",
       "    <tr>\n",
       "      <th>36</th>\n",
       "      <td>G</td>\n",
       "      <td>Chr04</td>\n",
       "      <td>1601910.0</td>\n",
       "      <td>A</td>\n",
       "      <td>1</td>\n",
       "      <td>1</td>\n",
       "      <td>0</td>\n",
       "      <td>0</td>\n",
       "      <td>0</td>\n",
       "      <td>1</td>\n",
       "      <td>...</td>\n",
       "      <td>0</td>\n",
       "      <td>1</td>\n",
       "      <td>0</td>\n",
       "      <td>1</td>\n",
       "      <td>1</td>\n",
       "      <td>0</td>\n",
       "      <td>1</td>\n",
       "      <td>0</td>\n",
       "      <td>0</td>\n",
       "      <td>1</td>\n",
       "    </tr>\n",
       "    <tr>\n",
       "      <th>37</th>\n",
       "      <td>A</td>\n",
       "      <td>Chr04</td>\n",
       "      <td>1639663.0</td>\n",
       "      <td>G</td>\n",
       "      <td>1</td>\n",
       "      <td>1</td>\n",
       "      <td>0</td>\n",
       "      <td>0</td>\n",
       "      <td>0</td>\n",
       "      <td>1</td>\n",
       "      <td>...</td>\n",
       "      <td>0</td>\n",
       "      <td>1</td>\n",
       "      <td>0</td>\n",
       "      <td>1</td>\n",
       "      <td>1</td>\n",
       "      <td>0</td>\n",
       "      <td>1</td>\n",
       "      <td>0</td>\n",
       "      <td>0</td>\n",
       "      <td>1</td>\n",
       "    </tr>\n",
       "    <tr>\n",
       "      <th>38</th>\n",
       "      <td>A</td>\n",
       "      <td>Chr04</td>\n",
       "      <td>1661664.0</td>\n",
       "      <td>G</td>\n",
       "      <td>1</td>\n",
       "      <td>1</td>\n",
       "      <td>0</td>\n",
       "      <td>0</td>\n",
       "      <td>0</td>\n",
       "      <td>1</td>\n",
       "      <td>...</td>\n",
       "      <td>0</td>\n",
       "      <td>1</td>\n",
       "      <td>0</td>\n",
       "      <td>1</td>\n",
       "      <td>1</td>\n",
       "      <td>0</td>\n",
       "      <td>1</td>\n",
       "      <td>0</td>\n",
       "      <td>0</td>\n",
       "      <td>1</td>\n",
       "    </tr>\n",
       "    <tr>\n",
       "      <th>39</th>\n",
       "      <td>T</td>\n",
       "      <td>Chr04</td>\n",
       "      <td>1666222.0</td>\n",
       "      <td>G</td>\n",
       "      <td>1</td>\n",
       "      <td>1</td>\n",
       "      <td>0</td>\n",
       "      <td>0</td>\n",
       "      <td>0</td>\n",
       "      <td>1</td>\n",
       "      <td>...</td>\n",
       "      <td>0</td>\n",
       "      <td>1</td>\n",
       "      <td>0</td>\n",
       "      <td>1</td>\n",
       "      <td>1</td>\n",
       "      <td>0</td>\n",
       "      <td>1</td>\n",
       "      <td>0</td>\n",
       "      <td>0</td>\n",
       "      <td>1</td>\n",
       "    </tr>\n",
       "    <tr>\n",
       "      <th>40</th>\n",
       "      <td>T</td>\n",
       "      <td>Chr04</td>\n",
       "      <td>1693340.0</td>\n",
       "      <td>C</td>\n",
       "      <td>1</td>\n",
       "      <td>1</td>\n",
       "      <td>0</td>\n",
       "      <td>0</td>\n",
       "      <td>0</td>\n",
       "      <td>1</td>\n",
       "      <td>...</td>\n",
       "      <td>0</td>\n",
       "      <td>1</td>\n",
       "      <td>1</td>\n",
       "      <td>0</td>\n",
       "      <td>1</td>\n",
       "      <td>1</td>\n",
       "      <td>0</td>\n",
       "      <td>0</td>\n",
       "      <td>0</td>\n",
       "      <td>1</td>\n",
       "    </tr>\n",
       "    <tr>\n",
       "      <th>41</th>\n",
       "      <td>G</td>\n",
       "      <td>Chr04</td>\n",
       "      <td>1742640.0</td>\n",
       "      <td>T</td>\n",
       "      <td>1</td>\n",
       "      <td>1</td>\n",
       "      <td>0</td>\n",
       "      <td>0</td>\n",
       "      <td>0</td>\n",
       "      <td>1</td>\n",
       "      <td>...</td>\n",
       "      <td>0</td>\n",
       "      <td>1</td>\n",
       "      <td>1</td>\n",
       "      <td>0</td>\n",
       "      <td>1</td>\n",
       "      <td>1</td>\n",
       "      <td>0</td>\n",
       "      <td>0</td>\n",
       "      <td>0</td>\n",
       "      <td>1</td>\n",
       "    </tr>\n",
       "    <tr>\n",
       "      <th>42</th>\n",
       "      <td>A</td>\n",
       "      <td>Chr04</td>\n",
       "      <td>1779690.0</td>\n",
       "      <td>G</td>\n",
       "      <td>1</td>\n",
       "      <td>1</td>\n",
       "      <td>0</td>\n",
       "      <td>0</td>\n",
       "      <td>0</td>\n",
       "      <td>1</td>\n",
       "      <td>...</td>\n",
       "      <td>0</td>\n",
       "      <td>1</td>\n",
       "      <td>1</td>\n",
       "      <td>0</td>\n",
       "      <td>1</td>\n",
       "      <td>1</td>\n",
       "      <td>0</td>\n",
       "      <td>0</td>\n",
       "      <td>0</td>\n",
       "      <td>0</td>\n",
       "    </tr>\n",
       "  </tbody>\n",
       "</table>\n",
       "<p>43 rows × 98 columns</p>\n",
       "</div>"
      ],
      "text/plain": [
       "   Alt  Chrom        Pos Ref  SS-B307  SS-B308  SS-B310  SS-B311  SS-B312  \\\n",
       "0    G  Chr04    20879.0   A        0        0        1        0        1   \n",
       "1    T  Chr04    96219.0   C        0        0        1        0        0   \n",
       "2    G  Chr04   120631.0   A        0        0        1        0        0   \n",
       "3    G  Chr04   147457.0   A        0        0        1        0        0   \n",
       "4    T  Chr04   173410.0   G        0        0        1        0        0   \n",
       "5    C  Chr04   219537.0   T        0        0        1        0        0   \n",
       "6    T  Chr04   280310.0   A        0        0        1        0        0   \n",
       "7    T  Chr04   331499.0   C        0        0        1        0        1   \n",
       "8    A  Chr04   362721.0   G        0        0        1        0        1   \n",
       "9    T  Chr04   416387.0   C        0        0        1        0        1   \n",
       "10   A  Chr04   468461.0   T        0        0        1        0        1   \n",
       "11   G  Chr04   623185.0   A        0        1        1        0        1   \n",
       "12   A  Chr04   662378.0   G        0        1        1        0        1   \n",
       "13   T  Chr04   704068.0   G        0        1        1        0        1   \n",
       "14   A  Chr04   784927.0   C        0        1        0        1        0   \n",
       "15   A  Chr04   830012.0   C        0        1        0        1        0   \n",
       "16   A  Chr04   854937.0   T        0        1        0        1        0   \n",
       "17   C  Chr04   878964.0   G        0        1        0        1        0   \n",
       "18   G  Chr04   944478.0   A        0        1        0        0        0   \n",
       "19   T  Chr04  1096886.0   C        1        0        0        0        0   \n",
       "20   G  Chr04  1129096.0   A        1        0        0        0        0   \n",
       "21   T  Chr04  1203588.0   C        1        0        0        0        0   \n",
       "22   T  Chr04  1307262.0   C        1        0        0        0        1   \n",
       "23   C  Chr04  1365796.0   G        1        0        0        0        1   \n",
       "24   A  Chr04  1372964.0   T        1        0        0        0        1   \n",
       "25   T  Chr04  1407425.0   C        1        0        0        0        1   \n",
       "26   C  Chr04  1447606.0   T        1        0        0        0        1   \n",
       "27   A  Chr04  1469676.0   T        1        0        0        0        1   \n",
       "28   C  Chr04  1480834.0   G        1        0        0        0        1   \n",
       "29   C  Chr04  1514203.0   T        1        0        0        0        1   \n",
       "30   G  Chr04  1529321.0   T        1        1        0        0        0   \n",
       "31   C  Chr04  1533589.0   T        1        1        0        0        0   \n",
       "32   G  Chr04  1563674.0   A        1        1        0        0        0   \n",
       "33   G  Chr04  1585190.0   A        1        1        0        0        0   \n",
       "34   G  Chr04  1585190.0   A        1        1        0        0        0   \n",
       "35   G  Chr04  1585190.0   A        1        1        0        0        0   \n",
       "36   G  Chr04  1601910.0   A        1        1        0        0        0   \n",
       "37   A  Chr04  1639663.0   G        1        1        0        0        0   \n",
       "38   A  Chr04  1661664.0   G        1        1        0        0        0   \n",
       "39   T  Chr04  1666222.0   G        1        1        0        0        0   \n",
       "40   T  Chr04  1693340.0   C        1        1        0        0        0   \n",
       "41   G  Chr04  1742640.0   T        1        1        0        0        0   \n",
       "42   A  Chr04  1779690.0   G        1        1        0        0        0   \n",
       "\n",
       "    SS-B313   ...     SS-C029_Correction  SS-C031_Correction  SS-C033  \\\n",
       "0         0   ...                      0                   0        1   \n",
       "1         0   ...                      0                   0        1   \n",
       "2         0   ...                      0                   0        1   \n",
       "3         0   ...                      0                   0        1   \n",
       "4         0   ...                      0                   0        1   \n",
       "5         0   ...                      0                   0        1   \n",
       "6         0   ...                      0                   0        1   \n",
       "7         1   ...                      0                   0        1   \n",
       "8         1   ...                      0                   0        1   \n",
       "9         1   ...                      0                   0        1   \n",
       "10        1   ...                      0                   0        1   \n",
       "11        1   ...                      0                   0        0   \n",
       "12        1   ...                      0                   0        0   \n",
       "13        1   ...                      0                   0        0   \n",
       "14        1   ...                      0                   0        1   \n",
       "15        1   ...                      1                   0        1   \n",
       "16        1   ...                      1                   0        1   \n",
       "17        1   ...                      1                   0        1   \n",
       "18        1   ...                      1                   0        1   \n",
       "19        1   ...                      0                   1        1   \n",
       "20        1   ...                      0                   1        1   \n",
       "21        0   ...                      0                   1        1   \n",
       "22        0   ...                      0                   1        0   \n",
       "23        1   ...                      1                   1        0   \n",
       "24        1   ...                      1                   1        0   \n",
       "25        1   ...                      1                   1        0   \n",
       "26        1   ...                      1                   1        0   \n",
       "27        1   ...                      1                   1        0   \n",
       "28        1   ...                      1                   1        0   \n",
       "29        1   ...                      0                   1        0   \n",
       "30        1   ...                      0                   1        0   \n",
       "31        1   ...                      0                   1        0   \n",
       "32        1   ...                      0                   1        0   \n",
       "33        1   ...                      0                   1        0   \n",
       "34        1   ...                      0                   1        0   \n",
       "35        1   ...                      0                   1        0   \n",
       "36        1   ...                      0                   1        0   \n",
       "37        1   ...                      0                   1        0   \n",
       "38        1   ...                      0                   1        0   \n",
       "39        1   ...                      0                   1        0   \n",
       "40        1   ...                      0                   1        1   \n",
       "41        1   ...                      0                   1        1   \n",
       "42        1   ...                      0                   1        1   \n",
       "\n",
       "    SS-C036  SS-C039  SS-C242  SS-C271  SS-C272  SS-C290  SS-C291  \n",
       "0         1        0        1        0        1        0        1  \n",
       "1         1        0        1        0        1        1        1  \n",
       "2         1        0        1        0        1        1        1  \n",
       "3         1        0        1        0        1        1        1  \n",
       "4         1        0        0        0        1        1        1  \n",
       "5         0        0        0        1        1        1        1  \n",
       "6         0        0        0        1        1        1        1  \n",
       "7         0        0        0        1        1        0        0  \n",
       "8         0        0        0        1        1        0        0  \n",
       "9         0        0        1        0        0        0        0  \n",
       "10        0        0        1        1        0        0        0  \n",
       "11        1        1        1        0        1        0        0  \n",
       "12        1        1        1        0        1        0        0  \n",
       "13        1        1        1        0        1        0        0  \n",
       "14        0        0        0        0        1        0        0  \n",
       "15        0        0        0        0        1        0        0  \n",
       "16        0        0        0        0        1        0        0  \n",
       "17        0        0        0        0        1        0        0  \n",
       "18        0        0        1        0        1        0        1  \n",
       "19        0        1        1        1        1        1        1  \n",
       "20        0        1        1        1        1        1        1  \n",
       "21        0        1        1        1        1        1        1  \n",
       "22        1        1        0        1        1        1        1  \n",
       "23        1        1        0        1        1        1        1  \n",
       "24        1        1        0        1        1        1        1  \n",
       "25        1        1        0        0        0        1        1  \n",
       "26        1        1        0        0        1        1        1  \n",
       "27        1        1        0        0        1        1        1  \n",
       "28        1        1        0        0        1        1        1  \n",
       "29        1        1        0        0        1        1        1  \n",
       "30        1        1        0        1        0        0        1  \n",
       "31        1        1        0        1        0        0        1  \n",
       "32        1        1        0        1        0        0        1  \n",
       "33        1        1        0        1        0        0        1  \n",
       "34        1        1        0        1        0        0        1  \n",
       "35        1        1        0        1        0        0        1  \n",
       "36        1        1        0        1        0        0        1  \n",
       "37        1        1        0        1        0        0        1  \n",
       "38        1        1        0        1        0        0        1  \n",
       "39        1        1        0        1        0        0        1  \n",
       "40        0        1        1        0        0        0        1  \n",
       "41        0        1        1        0        0        0        1  \n",
       "42        0        1        1        0        0        0        0  \n",
       "\n",
       "[43 rows x 98 columns]"
      ]
     },
     "execution_count": 23,
     "metadata": {},
     "output_type": "execute_result"
    }
   ],
   "source": [
    "newchr04"
   ]
  },
  {
   "cell_type": "markdown",
   "metadata": {},
   "source": [
    "## Count the number of corss overs"
   ]
  },
  {
   "cell_type": "code",
   "execution_count": 24,
   "metadata": {
    "collapsed": true
   },
   "outputs": [],
   "source": [
    "biindex = sunmarkers.Bi.dropna().index.tolist()"
   ]
  },
  {
   "cell_type": "code",
   "execution_count": 25,
   "metadata": {},
   "outputs": [
    {
     "name": "stdout",
     "output_type": "stream",
     "text": [
      "17\n",
      "[3, 5, 6, 7, 8, 9, 13, 20, 23, 28, 29, 30, 37, 39, 40, 41, 42]\n"
     ]
    }
   ],
   "source": [
    "print len(biindex);print biindex"
   ]
  },
  {
   "cell_type": "code",
   "execution_count": 26,
   "metadata": {},
   "outputs": [
    {
     "name": "stdout",
     "output_type": "stream",
     "text": [
      "42\n",
      "[0, 1, 2, 3, 4, 5, 6, 7, 8, 9, 10, 11, 12, 13, 14, 15, 16, 17, 18, 19, 20, 21, 22, 23, 24, 25, 26, 27, 28, 29, 30, 31, 32, 33, 34, 35, 36, 37, 39, 41, 42, 43]\n"
     ]
    }
   ],
   "source": [
    "unindex = sunmarkers.Uni.dropna().index.tolist()\n",
    "print len(unindex);print unindex"
   ]
  },
  {
   "cell_type": "code",
   "execution_count": 27,
   "metadata": {
    "collapsed": true
   },
   "outputs": [],
   "source": [
    "temp = newchr04['SS-B308']"
   ]
  },
  {
   "cell_type": "code",
   "execution_count": 28,
   "metadata": {
    "collapsed": true
   },
   "outputs": [],
   "source": [
    "tempco = sum(abs(np.array(temp.tolist()[1:]) - np.array(temp.tolist()[:-1])))"
   ]
  },
  {
   "cell_type": "code",
   "execution_count": 29,
   "metadata": {
    "collapsed": true
   },
   "outputs": [],
   "source": [
    "segs_bi = list(np.concatenate(cryptofxns.axalp))"
   ]
  },
  {
   "cell_type": "code",
   "execution_count": 30,
   "metadata": {
    "collapsed": true
   },
   "outputs": [],
   "source": [
    "seg_out = [ \"SS-B377\", # nearly identical to SS-B312\n",
    "            \"SS-B385\", # nearly identical to SS-B317\n",
    "            \"SS-B410\", # nearly identical to SS-B314\n",
    "            \"SS-B560\", # nearly identical to SS-B308\n",
    "            \"SS-B395\", # Disomy of Chr01 and nearly identical to SS-B395\n",
    "            \"SS-B411\", # Disomy of Chr01 and nearly identical to SS-B411\n",
    "            \"SS-B594\", # Disomy of Chr01\n",
    "            \"SS-C273\", # Disomy of Chr07\n",
    "            \"SS-B879\", # Disomy of Chr10 \n",
    "            \"SS-B885\", # Disomy of Chr10\n",
    "            \"SS-B593\", # Non-recombinant All chrom from XL280 except Chr07\n",
    "            #\"SS-B358\" , # Next Lowest amount of recombination N = 20\n",
    "            #\"SS-B874_cor\", # Next Lowest amount of recombination N = 20\n",
    "]"
   ]
  },
  {
   "cell_type": "code",
   "execution_count": 31,
   "metadata": {
    "collapsed": true
   },
   "outputs": [],
   "source": [
    "segstemp = newchr04.columns.tolist()[4:]"
   ]
  },
  {
   "cell_type": "code",
   "execution_count": 32,
   "metadata": {
    "collapsed": true
   },
   "outputs": [],
   "source": [
    "segs = [seg for seg in segstemp if seg not in seg_out]"
   ]
  },
  {
   "cell_type": "code",
   "execution_count": 33,
   "metadata": {
    "collapsed": true
   },
   "outputs": [],
   "source": [
    "un = [];bi = [];seg_out = []\n",
    "for seg in segs:\n",
    "    if seg not in segs_bi:\n",
    "        un.append(seg)\n",
    "    elif seg in segs_bi:\n",
    "        bi.append(seg)\n",
    "    else:\n",
    "        seg_out.append(seg)"
   ]
  },
  {
   "cell_type": "code",
   "execution_count": 34,
   "metadata": {},
   "outputs": [
    {
     "data": {
      "text/plain": [
       "0"
      ]
     },
     "execution_count": 34,
     "metadata": {},
     "output_type": "execute_result"
    }
   ],
   "source": [
    "len(seg_out)"
   ]
  },
  {
   "cell_type": "code",
   "execution_count": 35,
   "metadata": {},
   "outputs": [
    {
     "data": {
      "text/plain": [
       "55"
      ]
     },
     "execution_count": 35,
     "metadata": {},
     "output_type": "execute_result"
    }
   ],
   "source": [
    "len(un)"
   ]
  },
  {
   "cell_type": "code",
   "execution_count": 36,
   "metadata": {},
   "outputs": [
    {
     "data": {
      "text/plain": [
       "39"
      ]
     },
     "execution_count": 36,
     "metadata": {},
     "output_type": "execute_result"
    }
   ],
   "source": [
    "len(bi)"
   ]
  },
  {
   "cell_type": "code",
   "execution_count": 37,
   "metadata": {
    "collapsed": true
   },
   "outputs": [],
   "source": [
    "def countX(df,segs,markers):\n",
    "    COs = []\n",
    "    sub = df.ix[markers,:]\n",
    "    assert len(sub) == len(markers)\n",
    "    for seg in segs:\n",
    "        temp = sub[seg].dropna().tolist();\n",
    "        tempco = sum(abs(np.array(temp[1:]) - np.array(temp[:-1])))\n",
    "        COs.append(tempco)\n",
    "    return COs"
   ]
  },
  {
   "cell_type": "code",
   "execution_count": 38,
   "metadata": {},
   "outputs": [
    {
     "name": "stderr",
     "output_type": "stream",
     "text": [
      "/Users/croth/anaconda2/lib/python2.7/site-packages/ipykernel_launcher.py:3: DeprecationWarning: \n",
      ".ix is deprecated. Please use\n",
      ".loc for label based indexing or\n",
      ".iloc for positional indexing\n",
      "\n",
      "See the documentation here:\n",
      "http://pandas.pydata.org/pandas-docs/stable/indexing.html#ix-indexer-is-deprecated\n",
      "  This is separate from the ipykernel package so we can avoid doing imports until\n"
     ]
    }
   ],
   "source": [
    "unCO = countX(newchr04,un,unindex)\n",
    "biCO = countX(newchr04,bi,biindex)\n",
    "myunCO = countX(chr04,un,chr04.index.tolist())\n",
    "mybiCO = countX(chr04,bi,chr04.index.tolist())"
   ]
  },
  {
   "cell_type": "code",
   "execution_count": 39,
   "metadata": {},
   "outputs": [
    {
     "data": {
      "image/png": "[encoded data removed]",
      "text/plain": [
       "<matplotlib.figure.Figure at 0x1a11497fd0>"
      ]
     },
     "metadata": {},
     "output_type": "display_data"
    }
   ],
   "source": [
    "fig, (ax1,ax2,ax3) = plt.subplots(1,3,figsize=(12,4),sharex=True,sharey=True);\n",
    "mybins = np.arange(0-0.5, 8+1.5)\n",
    "past = 'Sun et al 2014';pres = 'This Study';\n",
    "ax1.hist(biCO,bins=mybins,alpha=.5,label=past);\n",
    "ax1.hist(mybiCO,bins=mybins,alpha=.5,label=pres);\n",
    "ax1.set_xlabel('Number of Crossovers');\n",
    "ax1.set_ylabel('Number of Segregants');\n",
    "ax1.legend();\n",
    "ax2.hist(unCO,bins=mybins,alpha=.5,label=past);\n",
    "ax2.hist(myunCO,bins=mybins,alpha=.5,label=pres);ax2.legend();\n",
    "ax3.hist(unCO,bins=mybins,alpha=.5,label='Alpha x Alpha');\n",
    "ax3.hist(biCO,bins=mybins,alpha=.5,label='Alpha x A');ax3.legend();\n",
    "ax1.set_title('Genotype Changes for Segregants \\nfrom bisexual reproduction');\n",
    "ax2.set_title('Genotype Changes for Segregants \\nfrom unisexual reproduction');\n",
    "ax3.set_title('Genotype Changes Markers from Sun et al 2014\\nunisexual v bisexual reproduction');\n",
    "plt.tight_layout();\n",
    "fig.savefig('../FIGS/Crypto-Roth-v-Sun-Distribution-Chr04-Apr2017.png')"
   ]
  },
  {
   "cell_type": "code",
   "execution_count": 40,
   "metadata": {},
   "outputs": [
    {
     "data": {
      "text/plain": [
       "2.5636363636363635"
      ]
     },
     "execution_count": 40,
     "metadata": {},
     "output_type": "execute_result"
    }
   ],
   "source": [
    "np.mean(unCO)"
   ]
  },
  {
   "cell_type": "code",
   "execution_count": 41,
   "metadata": {},
   "outputs": [
    {
     "data": {
      "text/plain": [
       "2.9487179487179489"
      ]
     },
     "execution_count": 41,
     "metadata": {},
     "output_type": "execute_result"
    }
   ],
   "source": [
    "np.mean(biCO)"
   ]
  },
  {
   "cell_type": "code",
   "execution_count": 42,
   "metadata": {},
   "outputs": [
    {
     "data": {
      "text/plain": [
       "Ks_2sampResult(statistic=0.15011655011655006, pvalue=0.64643397470359909)"
      ]
     },
     "execution_count": 42,
     "metadata": {},
     "output_type": "execute_result"
    }
   ],
   "source": [
    "ss.ks_2samp(unCO,biCO)"
   ]
  },
  {
   "cell_type": "code",
   "execution_count": 43,
   "metadata": {},
   "outputs": [
    {
     "data": {
      "text/plain": [
       "Ks_2sampResult(statistic=0.37156177156177161, pvalue=0.0025023033401473378)"
      ]
     },
     "execution_count": 43,
     "metadata": {},
     "output_type": "execute_result"
    }
   ],
   "source": [
    "ss.ks_2samp(myunCO,mybiCO)"
   ]
  },
  {
   "cell_type": "code",
   "execution_count": 44,
   "metadata": {
    "collapsed": true
   },
   "outputs": [],
   "source": [
    "changed_segsin = []\n",
    "for i,diff in enumerate(np.array(mybiCO) - np.array(biCO)):\n",
    "    if diff > 0:\n",
    "        changed_segsin.append(i)"
   ]
  },
  {
   "cell_type": "code",
   "execution_count": 45,
   "metadata": {},
   "outputs": [
    {
     "data": {
      "text/plain": [
       "[15, 16, 19, 21, 22, 25, 26, 28, 29, 30, 31, 32, 33, 34, 35, 36, 37, 38]"
      ]
     },
     "execution_count": 45,
     "metadata": {},
     "output_type": "execute_result"
    }
   ],
   "source": [
    "changed_segsin"
   ]
  },
  {
   "cell_type": "code",
   "execution_count": 46,
   "metadata": {},
   "outputs": [
    {
     "data": {
      "text/plain": [
       "18"
      ]
     },
     "execution_count": 46,
     "metadata": {},
     "output_type": "execute_result"
    }
   ],
   "source": [
    "len(changed_segsin)"
   ]
  },
  {
   "cell_type": "code",
   "execution_count": 47,
   "metadata": {
    "collapsed": true
   },
   "outputs": [],
   "source": [
    "changed_segs = [bi[a] for a in changed_segsin]"
   ]
  },
  {
   "cell_type": "code",
   "execution_count": 48,
   "metadata": {},
   "outputs": [
    {
     "data": {
      "text/plain": [
       "['SS-B908_Correction',\n",
       " 'SS-B926',\n",
       " 'SS-B930',\n",
       " 'SS-B956',\n",
       " 'SS-B960_Correction',\n",
       " 'SS-B997',\n",
       " 'SS-B998',\n",
       " 'SS-C026_Correction',\n",
       " 'SS-C029_Correction',\n",
       " 'SS-C031_Correction',\n",
       " 'SS-C033',\n",
       " 'SS-C036',\n",
       " 'SS-C039',\n",
       " 'SS-C242',\n",
       " 'SS-C271',\n",
       " 'SS-C272',\n",
       " 'SS-C290',\n",
       " 'SS-C291']"
      ]
     },
     "execution_count": 48,
     "metadata": {},
     "output_type": "execute_result"
    }
   ],
   "source": [
    "changed_segs"
   ]
  },
  {
   "cell_type": "markdown",
   "metadata": {},
   "source": [
    "## I've changed the segs name in the \"correction\""
   ]
  },
  {
   "cell_type": "code",
   "execution_count": 49,
   "metadata": {},
   "outputs": [
    {
     "data": {
      "text/plain": [
       "'SS-B908_Correction'"
      ]
     },
     "execution_count": 49,
     "metadata": {},
     "output_type": "execute_result"
    }
   ],
   "source": [
    "changed_segs[0]"
   ]
  },
  {
   "cell_type": "code",
   "execution_count": 50,
   "metadata": {},
   "outputs": [
    {
     "name": "stderr",
     "output_type": "stream",
     "text": [
      "/Users/croth/anaconda2/lib/python2.7/site-packages/ipykernel_launcher.py:3: DeprecationWarning: \n",
      ".ix is deprecated. Please use\n",
      ".loc for label based indexing or\n",
      ".iloc for positional indexing\n",
      "\n",
      "See the documentation here:\n",
      "http://pandas.pydata.org/pandas-docs/stable/indexing.html#ix-indexer-is-deprecated\n",
      "  This is separate from the ipykernel package so we can avoid doing imports until\n",
      "/Users/croth/anaconda2/lib/python2.7/site-packages/ipykernel_launcher.py:7: DeprecationWarning: \n",
      ".ix is deprecated. Please use\n",
      ".loc for label based indexing or\n",
      ".iloc for positional indexing\n",
      "\n",
      "See the documentation here:\n",
      "http://pandas.pydata.org/pandas-docs/stable/indexing.html#ix-indexer-is-deprecated\n",
      "  import sys\n"
     ]
    },
    {
     "data": {
      "image/png": "[encoded data removed]",
      "text/plain": [
       "<matplotlib.figure.Figure at 0x1a13e30490>"
      ]
     },
     "metadata": {},
     "output_type": "display_data"
    }
   ],
   "source": [
    "fig, (ax1,ax2) = plt.subplots(1,2,figsize=(12,4),sharex=True,sharey=True);\n",
    "pos1 = chr04.Pos.tolist();\n",
    "pos2 = newchr04.Pos.ix[biindex].tolist();\n",
    "for i,seg in enumerate(changed_segs):\n",
    "    temp1 = np.array(chr04[seg].tolist()) + (2*i + 2);\n",
    "    ax1.plot(pos1,temp1,'.');\n",
    "    temp2 = np.array(newchr04[seg].ix[biindex].tolist()) + (2*i + 2);\n",
    "    ax2.plot(pos2,temp2,'.');\n",
    "#fig.savefig(\"../FIGS/Crypto-Markers-Sheng-Mar2017.png\",dpi=600)"
   ]
  },
  {
   "cell_type": "markdown",
   "metadata": {},
   "source": [
    "## Make haplotypes for the set of Sheng's markers"
   ]
  },
  {
   "cell_type": "code",
   "execution_count": 51,
   "metadata": {
    "collapsed": true
   },
   "outputs": [],
   "source": [
    "hap_filter_size = 6000\n",
    "HAPFILTINT = int(hap_filter_size/1000.0)\n",
    "Method = '-min'\n",
    "fileendname = Method +'-haplotype-k' + str(int(hap_filter_size)) + '.csv'"
   ]
  },
  {
   "cell_type": "code",
   "execution_count": 52,
   "metadata": {},
   "outputs": [
    {
     "name": "stderr",
     "output_type": "stream",
     "text": [
      "/Users/croth/anaconda2/lib/python2.7/site-packages/ipykernel_launcher.py:3: DeprecationWarning: \n",
      ".ix is deprecated. Please use\n",
      ".loc for label based indexing or\n",
      ".iloc for positional indexing\n",
      "\n",
      "See the documentation here:\n",
      "http://pandas.pydata.org/pandas-docs/stable/indexing.html#ix-indexer-is-deprecated\n",
      "  This is separate from the ipykernel package so we can avoid doing imports until\n"
     ]
    }
   ],
   "source": [
    "old_hapdfs = []\n",
    "for s,seg in enumerate(changed_segs):\n",
    "    sub = newchr04[['Pos',seg]].ix[biindex]\n",
    "    #sub = geno_ch[['Pos',seg]].dropna(axis=0,how='any').reset_index(drop=True); ## Drop empty markers\n",
    "    subpos = sub.Pos.tolist();\n",
    "    subgt = sub[seg].tolist();\n",
    "    if len(subgt) == 0:\n",
    "        continue\n",
    "    ## make IMI dataframe \n",
    "    subimi = pd.DataFrame();\n",
    "    subimi['v'] = subpos[:-1];\n",
    "    subimi['w'] = subpos[1:];\n",
    "    subimi['X'] = abs(np.array(subgt[:-1]) - np.array(subgt[1:]));\n",
    "    subimi['M'] = [np.mean((subimi.w[i],subimi.v[i])) for i in subimi.index.tolist()]; ## Midpoint Method\n",
    "    #subimi.to_csv(FILECHRPATHS[ch][0] + seg + '-IMI' + '.csv',\n",
    "    #                  index=False);\n",
    "    ## Find break pts dataframe. \n",
    "    bp = subimi[subimi.X != 0].dropna(axis=0,how='any');\n",
    "    #bp.to_csv(FILECHRPATHS[ch][1] + seg  + '-breakpt' + '.csv',\n",
    "    #          index=False);\n",
    "    ## Make haplotype dataframe. \n",
    "    hapdf = cryptofxns.haplotypes(subimi,clens[3],method=Method);\n",
    "    hapdf['genotype'] = [ss.mode(sub[seg][(sub.Pos >= hapdf.v[i]) & \n",
    "                                              (sub.Pos <= hapdf.w[i])])[0].tolist()[0] \n",
    "                             for i in hapdf.index.tolist()]\n",
    "    old_hapdfs.append(hapdf)\n",
    "    #hapdf.to_csv(FILECHRPATHS[ch][2] + seg +'-'+ Method +'-haplotype' '.csv',\n",
    "     #                index=False);\n",
    "        "
   ]
  },
  {
   "cell_type": "code",
   "execution_count": 53,
   "metadata": {},
   "outputs": [
    {
     "data": {
      "text/html": [
       "<div>\n",
       "<style>\n",
       "    .dataframe thead tr:only-child th {\n",
       "        text-align: right;\n",
       "    }\n",
       "\n",
       "    .dataframe thead th {\n",
       "        text-align: left;\n",
       "    }\n",
       "\n",
       "    .dataframe tbody tr th {\n",
       "        vertical-align: top;\n",
       "    }\n",
       "</style>\n",
       "<table border=\"1\" class=\"dataframe\">\n",
       "  <thead>\n",
       "    <tr style=\"text-align: right;\">\n",
       "      <th></th>\n",
       "      <th>v</th>\n",
       "      <th>w</th>\n",
       "      <th>X</th>\n",
       "      <th>M</th>\n",
       "    </tr>\n",
       "  </thead>\n",
       "  <tbody>\n",
       "    <tr>\n",
       "      <th>0</th>\n",
       "      <td>147457.0</td>\n",
       "      <td>219537.0</td>\n",
       "      <td>0</td>\n",
       "      <td>183497.0</td>\n",
       "    </tr>\n",
       "    <tr>\n",
       "      <th>1</th>\n",
       "      <td>219537.0</td>\n",
       "      <td>280310.0</td>\n",
       "      <td>0</td>\n",
       "      <td>249923.5</td>\n",
       "    </tr>\n",
       "    <tr>\n",
       "      <th>2</th>\n",
       "      <td>280310.0</td>\n",
       "      <td>331499.0</td>\n",
       "      <td>1</td>\n",
       "      <td>305904.5</td>\n",
       "    </tr>\n",
       "    <tr>\n",
       "      <th>3</th>\n",
       "      <td>331499.0</td>\n",
       "      <td>362721.0</td>\n",
       "      <td>0</td>\n",
       "      <td>347110.0</td>\n",
       "    </tr>\n",
       "    <tr>\n",
       "      <th>4</th>\n",
       "      <td>362721.0</td>\n",
       "      <td>416387.0</td>\n",
       "      <td>0</td>\n",
       "      <td>389554.0</td>\n",
       "    </tr>\n",
       "  </tbody>\n",
       "</table>\n",
       "</div>"
      ],
      "text/plain": [
       "          v         w  X         M\n",
       "0  147457.0  219537.0  0  183497.0\n",
       "1  219537.0  280310.0  0  249923.5\n",
       "2  280310.0  331499.0  1  305904.5\n",
       "3  331499.0  362721.0  0  347110.0\n",
       "4  362721.0  416387.0  0  389554.0"
      ]
     },
     "execution_count": 53,
     "metadata": {},
     "output_type": "execute_result"
    }
   ],
   "source": [
    "subimi.head()"
   ]
  },
  {
   "cell_type": "code",
   "execution_count": 54,
   "metadata": {
    "collapsed": true
   },
   "outputs": [],
   "source": [
    "ch04IMIs = [cryptofxns.IMI(subimi.v[i],subimi.w[i]) for i in subimi.index.tolist()]"
   ]
  },
  {
   "cell_type": "code",
   "execution_count": 55,
   "metadata": {
    "collapsed": true
   },
   "outputs": [],
   "source": [
    "chromNsnps = [];ws = 10e3;chromNwins = [];\n",
    "for ch,chrom in enumerate(chrlist):\n",
    "    sub = geno[geno.Chrom == chrom];Nsnps = [];\n",
    "    windows = range(0,int(clens[ch]+ws),int(ws));\n",
    "    for i in range(len(windows)-1):\n",
    "        Nsnps.append(len(sub.Pos[(sub.Pos >= windows[i])&(sub.Pos <= windows[i+1])]));\n",
    "    chromNsnps.append(Nsnps);chromNwins.append(windows);"
   ]
  },
  {
   "cell_type": "code",
   "execution_count": 56,
   "metadata": {
    "collapsed": true
   },
   "outputs": [],
   "source": [
    "FILECHRPATHS = cryptofxns.FILECHRPATHS;\n",
    "HAPFILES = [f[2] for f in FILECHRPATHS];"
   ]
  },
  {
   "cell_type": "code",
   "execution_count": 57,
   "metadata": {},
   "outputs": [],
   "source": [
    "old_changed_segs = []\n",
    "for seg in changed_segs:\n",
    "    if len(seg.split('_')) > 1:\n",
    "        old_changed_segs.append(seg.split('_')[0]+'_cor')\n",
    "    else:\n",
    "        old_changed_segs.append(seg)"
   ]
  },
  {
   "cell_type": "code",
   "execution_count": 58,
   "metadata": {
    "collapsed": true
   },
   "outputs": [],
   "source": [
    "import os\n",
    "from os import listdir\n",
    "hapdfs = [];\n",
    "for ch, chrom in enumerate(chrlist):\n",
    "    dfs = []\n",
    "    for seg in old_changed_segs:\n",
    "        path = HAPFILES[ch] + seg + '/' + seg + fileendname\n",
    "        if os.path.exists(path):\n",
    "            dfs.append(pd.read_csv(path))\n",
    "    hapdfs.append(dfs)"
   ]
  },
  {
   "cell_type": "code",
   "execution_count": 59,
   "metadata": {},
   "outputs": [
    {
     "data": {
      "text/plain": [
       "18"
      ]
     },
     "execution_count": 59,
     "metadata": {},
     "output_type": "execute_result"
    }
   ],
   "source": [
    "len(hapdfs[3])"
   ]
  },
  {
   "cell_type": "code",
   "execution_count": 60,
   "metadata": {},
   "outputs": [
    {
     "data": {
      "text/plain": [
       "18"
      ]
     },
     "execution_count": 60,
     "metadata": {},
     "output_type": "execute_result"
    }
   ],
   "source": [
    "len(old_hapdfs)"
   ]
  },
  {
   "cell_type": "code",
   "execution_count": 61,
   "metadata": {
    "collapsed": true
   },
   "outputs": [],
   "source": [
    "chr4hapdf = hapdfs[3]\n",
    "chr4Nwins = chromNwins[3]\n",
    "chr4Nsnps = chromNsnps[3]"
   ]
  },
  {
   "cell_type": "code",
   "execution_count": 62,
   "metadata": {
    "collapsed": true
   },
   "outputs": [],
   "source": [
    "centromere = cryptofxns.load_centrom_locs()\n",
    "clens = cryptofxns.chromosome_lengths"
   ]
  },
  {
   "cell_type": "code",
   "execution_count": 63,
   "metadata": {},
   "outputs": [
    {
     "name": "stderr",
     "output_type": "stream",
     "text": [
      "/Users/croth/anaconda2/lib/python2.7/site-packages/ipykernel_launcher.py:1: DeprecationWarning: \n",
      ".ix is deprecated. Please use\n",
      ".loc for label based indexing or\n",
      ".iloc for positional indexing\n",
      "\n",
      "See the documentation here:\n",
      "http://pandas.pydata.org/pandas-docs/stable/indexing.html#ix-indexer-is-deprecated\n",
      "  \"\"\"Entry point for launching an IPython kernel.\n"
     ]
    }
   ],
   "source": [
    "chr4cent = centromere.ix['Chr04']\n",
    "chr4lens = clens[3]"
   ]
  },
  {
   "cell_type": "code",
   "execution_count": 64,
   "metadata": {
    "collapsed": true
   },
   "outputs": [],
   "source": [
    "def set_colors(gt,cl = ['lightblue','orange']):\n",
    "    colors = []\n",
    "    for i in gt:\n",
    "        if i == 0:\n",
    "            colors.append(cl[0]);\n",
    "        else:\n",
    "            colors.append(cl[1]);\n",
    "    return colors"
   ]
  },
  {
   "cell_type": "code",
   "execution_count": 65,
   "metadata": {
    "collapsed": true
   },
   "outputs": [],
   "source": [
    "from matplotlib import gridspec"
   ]
  },
  {
   "cell_type": "code",
   "execution_count": 66,
   "metadata": {
    "collapsed": true
   },
   "outputs": [],
   "source": [
    "import math\n",
    "def my_round(N,myadd=0,myden=100.0):\n",
    "    return math.ceil((N + myadd)/myden) * myden"
   ]
  },
  {
   "cell_type": "markdown",
   "metadata": {},
   "source": [
    "## Make wood floor plots for the shared segregants that have changed COs"
   ]
  },
  {
   "cell_type": "code",
   "execution_count": 168,
   "metadata": {
    "collapsed": true
   },
   "outputs": [],
   "source": [
    "mats = cryptofxns.mats#mats = 1529240\n",
    "matst = cryptofxns.matst#matst = 1661861"
   ]
  },
  {
   "cell_type": "code",
   "execution_count": 273,
   "metadata": {},
   "outputs": [
    {
     "data": {
      "image/png": "[encoded data removed]",
      "text/plain": [
       "<matplotlib.figure.Figure at 0x1a2a61ee50>"
      ]
     },
     "metadata": {},
     "output_type": "display_data"
    }
   ],
   "source": [
    "fig = plt.figure(figsize=(16,8));\n",
    "chrom = 'Chr04';ws=10e3\n",
    "past = 'From Sun et al 2014'\n",
    "pres = 'Current Study'\n",
    "gs = gridspec.GridSpec(2,2,width_ratios=[1,1], height_ratios=[1,4]);\n",
    "ax0 = fig.add_subplot(gs[1]) ## SNP density\n",
    "ax1 = fig.add_subplot(gs[0]) ## Blank\n",
    "ax2 = fig.add_subplot(gs[3]) ## Haplotypes\n",
    "ax3 = fig.add_subplot(gs[2]) ## Histograms\n",
    "ax3.hist(biCO,bins=mybins,alpha=.4,label=past,color='blue');\n",
    "ax3.hist(mybiCO,bins=mybins,alpha=.5,label=pres,color='red');\n",
    "ax3.set_xlabel('Number of Crossovers',fontsize=16);\n",
    "ax3.set_ylabel('Number of Meiotic Progeny',fontsize=16);\n",
    "ax3.set_xticks(np.arange(9))\n",
    "ax3.set_xticklabels(np.arange(9),fontsize=16)\n",
    "ax3.set_yticks(np.arange(0,15,2))\n",
    "ax3.set_yticklabels(np.arange(0,15,2),fontsize=16)\n",
    "ax3.legend(fontsize=14,bbox_to_anchor=(0.8, 1.2));\n",
    "ax3.set_ylim(0,14);\n",
    "ax3.set\n",
    "## SNP DENSITY (the SNP data)\n",
    "ax0.bar(chromNwins[3][:-1],chromNsnps[3],width=ws,alpha=.5,color='olive');\n",
    "ax0.set_ylabel('Marker Locations\\nand Number of\\nSNPs / %skb'%int(ws/1e3),fontsize=16);\n",
    "ax0.spines['left'].set_position(('data', 0))\n",
    "ax0.set_yticks(np.arange(0,350,100))\n",
    "ax0.set_yticklabels(np.arange(0,350,100),fontsize=16)\n",
    "SNP_max = my_round(max(chromNsnps[3]));\n",
    "assert SNP_max > max(chromNsnps[3])\n",
    "ax0.set_ylim(-1,SNP_max);\n",
    "## The marker positions form Sun et al 2014\n",
    "for pos in newchr04['Pos'].ix[biindex].tolist():\n",
    "    #ax1.vlines(x=pos,ymin=0,ymax=.5,linewidth=.5);\n",
    "    ax0.vlines(x=pos,ymin=0,ymax=500,linewidth=.6);\n",
    "HY1 = 0\n",
    "HY2 = 3\n",
    "dy = HY2\n",
    "d = HY2*2 + dy\n",
    "distan = np.arange(0,d*len(chr4hapdf)+d,d)\n",
    "for s, seg in enumerate(chr4hapdf):\n",
    "    seg2 = old_hapdfs[s]\n",
    "    x1 = zip(seg.v.tolist(),[nbs - 1 for nbs in seg.nb.tolist()]);\n",
    "    x2 = zip(seg2.v.tolist(),[nbs - 1 for nbs in seg2.nb.tolist()]);\n",
    "    fcolors1 = set_colors(seg.genotype.tolist());\n",
    "    fcolors2 = set_colors(seg2.genotype.tolist());\n",
    "    segname = 'SS'+old_changed_segs[s].split('-')[1]\n",
    "    ax2.broken_barh(x1,[HY1+distan[s],dy],facecolors=fcolors1,alpha=.8);\n",
    "    ax2.broken_barh(x2,[HY2+distan[s],dy],facecolors=fcolors2,alpha=.8);\n",
    "    ax2.hlines(y=HY2+distan[s]+.25,xmin=-1000,xmax=clens[3],linestyles='--',color='black',linewidth=.8)\n",
    "    ax2.annotate(segname.split('_')[0],(clens[3]+40000,HY2+distan[s]-1.75),fontsize=14) ## The Names of each segregant\n",
    "ax2.broken_barh([(mats,matst-mats)],(distan[-1]-HY2,dy),facecolors='g',alpha =.8);\n",
    "ax2.broken_barh([(centromere[0][chrom],centromere[1][chrom]-centromere[0][chrom])],\n",
    "                    (distan[-1]-HY2,dy),facecolors='k',alpha =.9);\n",
    "## Turn off axis \n",
    "ax2.spines[\"left\"].set_visible(False)\n",
    "ax2.yaxis.set_visible(False)\n",
    "ax2.spines[\"top\"].set_visible(False)\n",
    "ax2.spines[\"right\"].set_visible(False)\n",
    "ax2.spines['bottom'].set_position(('data', 0))\n",
    "ax2.set_frame_on(False)\n",
    "ax3.set_frame_on(False)\n",
    "## Turn off axis \n",
    "#ax3.spines[\"left\"].set_visible(False)\n",
    "ax3.spines[\"top\"].set_visible(False)\n",
    "ax3.spines[\"right\"].set_visible(False)\n",
    "ax3.spines[\"bottom\"].set_visible(True)\n",
    "## Turn off axis \n",
    "ax0.spines[\"top\"].set_visible(False)\n",
    "ax0.spines[\"right\"].set_visible(False)\n",
    "ax0.spines[\"bottom\"].set_visible(False)\n",
    "ax0.tick_params(axis='x',which='both',bottom='off',top='off',labelbottom='off')\n",
    "## Turn off axis\n",
    "ax1.spines[\"top\"].set_visible(False)\n",
    "ax1.spines[\"right\"].set_visible(False)\n",
    "ax1.spines[\"left\"].set_visible(False)\n",
    "ax1.spines[\"bottom\"].set_visible(False)\n",
    "ax1.axis('off')\n",
    "ax0.set_xlim(0,clens[3]+370050);\n",
    "ax1.set_xlim(0,clens[3]+370050);\n",
    "ax2.set_xlim(0,clens[3]+370050);\n",
    "ax2.set_xticks(np.arange(0,clens[3],500000))\n",
    "ax2.set_xticklabels(np.arange(0,2,.5),fontsize=16)\n",
    "ax2.set_xlabel('Chromosome Coordinates (Mb)',fontsize=16);\n",
    "ax2.spines['bottom'].set_bounds(0,clens[3])\n",
    "plt.sca(ax1)\n",
    "ax1.text(-0.15, 1.75,'A', horizontalalignment='center',\n",
    "                 verticalalignment='center',\n",
    "                 transform = plt.gca().transAxes,fontsize=19,fontweight='bold')\n",
    "plt.sca(ax0)\n",
    "plt.text(-0.3, 1.75,'B', horizontalalignment='center',\n",
    "                 verticalalignment='center',\n",
    "                 transform = plt.gca().transAxes,fontsize=19,fontweight='bold')\n",
    "gs.update(wspace=0.3,hspace=0.001);\n",
    "fig.savefig('../FIGS/Crypto-10-Roth-v-Sun-Feb2018.png',dpi=1200,bbox_inches='tight')"
   ]
  },
  {
   "cell_type": "code",
   "execution_count": null,
   "metadata": {
    "collapsed": true
   },
   "outputs": [],
   "source": []
  },
  {
   "cell_type": "code",
   "execution_count": null,
   "metadata": {
    "collapsed": true
   },
   "outputs": [],
   "source": []
  },
  {
   "cell_type": "code",
   "execution_count": null,
   "metadata": {},
   "outputs": [],
   "source": [
    "chrom = 'Chr04';ws=10e3\n",
    "fig = plt.figure(figsize=(6,10));\n",
    "gs = gridspec.GridSpec(4,1,width_ratios=[1], height_ratios=[1,.3,.35,2]);\n",
    "ax0 = fig.add_subplot(gs[2])#(gs[0]);\n",
    "ax1 = fig.add_subplot(gs[1]);\n",
    "ax2 = fig.add_subplot(gs[3]);\n",
    "ax3 = fig.add_subplot(gs[0]);#(gs[3])\n",
    "past = 'From Sun et al 2014'\n",
    "pres = 'Current Study'\n",
    "ax3.hist(biCO,bins=mybins,alpha=.4,label=past,color='blue');\n",
    "ax3.hist(mybiCO,bins=mybins,alpha=.4,label=pres,color='Maroon');\n",
    "ax3.set_xlabel('Number of Crossovers',fontsize=16);\n",
    "ax3.set_ylabel('Number of Segregants',fontsize=16);\n",
    "ax3.set_xticks(np.arange(9))\n",
    "ax3.set_xticklabels(np.arange(9),fontsize=16)\n",
    "ax3.set_yticks(np.arange(0,15,2))\n",
    "ax3.set_yticklabels(np.arange(0,15,2),fontsize=16)\n",
    "ax3.legend(fontsize=12,bbox_to_anchor=(0.5, 0.9));\n",
    "ax3.set_ylim(0,14);\n",
    "## SNP DENSITY (the SNP data)\n",
    "ax0.bar(chromNwins[3][:-1],chromNsnps[3],width=ws,alpha=.5,color='olive');\n",
    "ax0.set_ylabel('Marker\\nLocations\\nand\\nNumber\\nof SNPs\\n/ %skb'%int(ws/1e3),fontsize=13);\n",
    "ax0.spines['left'].set_position(('data', 0))\n",
    "ax0.set_yticks(np.arange(0,350,100))\n",
    "ax0.set_yticklabels(np.arange(0,350,100),fontsize=12)\n",
    "#ax1.set_ylabel('Marker Locations\\nSun et al.',fontsize=7);\n",
    "SNP_max = my_round(max(chromNsnps[3]));\n",
    "assert SNP_max > max(chromNsnps[3])\n",
    "ax0.set_ylim(-1,SNP_max);\n",
    "## The marker positions form Sun et al 2014\n",
    "for pos in newchr04['Pos'].ix[biindex].tolist():\n",
    "    #ax1.vlines(x=pos,ymin=0,ymax=.5,linewidth=.5);\n",
    "    ax0.vlines(x=pos,ymin=0,ymax=500,linewidth=.6);\n",
    "ax1.set_ylim(0,100)\n",
    "#ax1.set_ylim(0,1);\n",
    "#ax1.set_title('Marker\\nLocations');\n",
    "#ax1.yaxis.set_label_position(\"left\")\n",
    "mod = 1;\n",
    "for s, seg in enumerate(chr4hapdf):\n",
    "    x = zip(seg.v.tolist(),[nbs - 1 for nbs in seg.nb.tolist()]);\n",
    "    fcolors = set_colors(seg.genotype.tolist());\n",
    "    ax2.broken_barh(x,[s+mod,1],facecolors=fcolors,alpha=.8);\n",
    "    segname = 'SS'+old_changed_segs[s].split('-')[1]\n",
    "    ax2.annotate(segname.split('_')[0],(-300000,s+mod+.5),fontsize=12) ## The Names of each segregant\n",
    "    ax2.hlines(y=s+mod+1.2,xmin=-1000,xmax=clens[3],linestyles='--',color='black',linewidth=.8)\n",
    "    seg = old_hapdfs[s]\n",
    "    x = zip(seg.v.tolist(),[nbs - 1 for nbs in seg.nb.tolist()]);\n",
    "    fcolors = set_colors(seg.genotype.tolist());\n",
    "    ax2.broken_barh(x,[s+mod+1.2,1],facecolors=fcolors,alpha=.8);\n",
    "    mod = mod +2;\n",
    "ax2.broken_barh([(mats,matst-mats)],(s+mod,1),facecolors='g',alpha =.6);\n",
    "ax2.broken_barh([(centromere[0][chrom],centromere[1][chrom]-centromere[0][chrom])],\n",
    "                    (s+mod,1),facecolors='k',alpha =.6);\n",
    "## Turn off axis \n",
    "ax2.spines[\"left\"].set_visible(False)\n",
    "ax2.yaxis.set_visible(False)\n",
    "ax2.spines[\"top\"].set_visible(False)\n",
    "ax2.spines[\"right\"].set_visible(False)\n",
    "ax2.set_frame_on(False)\n",
    "## Turn off axis \n",
    "#ax3.spines[\"left\"].set_visible(False)\n",
    "ax3.spines[\"top\"].set_visible(False)\n",
    "ax3.spines[\"right\"].set_visible(False)\n",
    "## Turn off axis \n",
    "ax0.spines[\"top\"].set_visible(False)\n",
    "ax0.spines[\"right\"].set_visible(False)\n",
    "ax0.spines[\"bottom\"].set_visible(False)\n",
    "ax0.tick_params(axis='x',which='both',bottom='off',top='off',labelbottom='off')\n",
    "## Turn off axis\n",
    "ax1.spines[\"top\"].set_visible(False)\n",
    "ax1.spines[\"right\"].set_visible(False)\n",
    "ax1.spines[\"left\"].set_visible(False)\n",
    "ax1.spines[\"bottom\"].set_visible(False)\n",
    "#ax1.set_yticklabels([])\n",
    "ax1.axis('off')\n",
    "#ax1.annotate('Marker\\nLocations',(-150000,.35),rotation=90,fontsize=7)\n",
    "gs.update(wspace=0.01,hspace=0.01);\n",
    "ax0.set_xlim(-370050,clens[3]);\n",
    "ax1.set_xlim(-370050,clens[3]);\n",
    "ax2.set_xlim(-370050,clens[3]);\n",
    "#ax3.set_xlim(-370050,clens[3]);\n",
    "#fig.savefig('../FIGS/Crypto-Roth-v-Sun-Apr2017.png',dpi=1200)"
   ]
  },
  {
   "cell_type": "code",
   "execution_count": null,
   "metadata": {},
   "outputs": [],
   "source": [
    "35/219.0"
   ]
  },
  {
   "cell_type": "code",
   "execution_count": null,
   "metadata": {},
   "outputs": [],
   "source": [
    "140.0/219"
   ]
  },
  {
   "cell_type": "code",
   "execution_count": null,
   "metadata": {},
   "outputs": [],
   "source": [
    "len(chr04)"
   ]
  },
  {
   "cell_type": "code",
   "execution_count": null,
   "metadata": {},
   "outputs": [],
   "source": [
    "mats"
   ]
  },
  {
   "cell_type": "code",
   "execution_count": null,
   "metadata": {},
   "outputs": [],
   "source": [
    "matst"
   ]
  },
  {
   "cell_type": "code",
   "execution_count": null,
   "metadata": {
    "collapsed": true
   },
   "outputs": [],
   "source": [
    "matlocus = chr04[(chr04.Pos >= mats)&(chr04.Pos <= matst)]"
   ]
  },
  {
   "cell_type": "code",
   "execution_count": null,
   "metadata": {
    "collapsed": true
   },
   "outputs": [],
   "source": [
    "bis =np.concatenate(cryptofxns.axalp)"
   ]
  },
  {
   "cell_type": "code",
   "execution_count": null,
   "metadata": {},
   "outputs": [],
   "source": [
    "bis"
   ]
  },
  {
   "cell_type": "code",
   "execution_count": null,
   "metadata": {},
   "outputs": [],
   "source": [
    "mybisegs = []\n",
    "mybisegs_mt = []\n",
    "for seg in matlocus.columns.tolist()[4:]:\n",
    "    if seg in bis:\n",
    "        matcode = np.median(matlocus[seg].values)\n",
    "        if matcode == 0:\n",
    "            mattype = 'alpha'\n",
    "        elif matcode == 1:\n",
    "            mattype = 'a'\n",
    "        else:\n",
    "            print \"Error\"\n",
    "        print seg,mattype\n",
    "        mybisegs.append(seg)\n",
    "        mybisegs_mt.append(matcode)\n",
    "    else:\n",
    "        pass"
   ]
  },
  {
   "cell_type": "code",
   "execution_count": null,
   "metadata": {},
   "outputs": [],
   "source": [
    "chr04['SS-C273']"
   ]
  },
  {
   "cell_type": "code",
   "execution_count": null,
   "metadata": {
    "collapsed": true
   },
   "outputs": [],
   "source": []
  }
 ],
 "metadata": {
  "kernelspec": {
   "display_name": "Python 2",
   "language": "python",
   "name": "python2"
  },
  "language_info": {
   "codemirror_mode": {
    "name": "ipython",
    "version": 2
   },
   "file_extension": ".py",
   "mimetype": "text/x-python",
   "name": "python",
   "nbconvert_exporter": "python",
   "pygments_lexer": "ipython2",
   "version": "2.7.14"
  }
 },
 "nbformat": 4,
 "nbformat_minor": 2
}
